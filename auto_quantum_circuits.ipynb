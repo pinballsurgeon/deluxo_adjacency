{
  "nbformat": 4,
  "nbformat_minor": 0,
  "metadata": {
    "colab": {
      "name": "auto_quantum_circuits.ipynb",
      "provenance": [],
      "collapsed_sections": [],
      "authorship_tag": "ABX9TyO+4PrO1JVVUjp0jVcP6YJR",
      "include_colab_link": true
    },
    "kernelspec": {
      "name": "python3",
      "display_name": "Python 3"
    },
    "language_info": {
      "name": "python"
    }
  },
  "cells": [
    {
      "cell_type": "markdown",
      "metadata": {
        "id": "view-in-github",
        "colab_type": "text"
      },
      "source": [
        "<a href=\"https://colab.research.google.com/github/pinballsurgeon/deluxo_adjacency/blob/main/auto_quantum_circuits.ipynb\" target=\"_parent\"><img src=\"https://colab.research.google.com/assets/colab-badge.svg\" alt=\"Open In Colab\"/></a>"
      ]
    },
    {
      "cell_type": "markdown",
      "source": [
        "# Auto Quantum Circuits\n",
        "#### dehls - pinballsurgeon@gmail.com"
      ],
      "metadata": {
        "id": "dhwB9OhHwgvh"
      }
    },
    {
      "cell_type": "code",
      "execution_count": 140,
      "metadata": {
        "id": "kL3NaosJFyiz"
      },
      "outputs": [],
      "source": [
        "!pip install --quiet tensorflow_quantum"
      ]
    },
    {
      "cell_type": "markdown",
      "source": [
        ""
      ],
      "metadata": {
        "id": "EgOLMHAQwd-S"
      }
    },
    {
      "cell_type": "code",
      "source": [
        "import cirq\n",
        "import sympy\n",
        "import tensorflow\n",
        "import numpy\n",
        "import gc\n",
        "\n",
        "%matplotlib inline\n",
        "from matplotlib import pyplot\n",
        "\n",
        "from cirq.contrib.svg import SVGCircuit\n",
        "\n",
        "import tensorflow_quantum"
      ],
      "metadata": {
        "id": "DUlhaeoeGPop"
      },
      "execution_count": 141,
      "outputs": []
    },
    {
      "cell_type": "markdown",
      "source": [
        "Helper Functions"
      ],
      "metadata": {
        "id": "TJlbByAk3buT"
      }
    },
    {
      "cell_type": "code",
      "source": [
        "# given a data and out qubit structure, build dynamic circuit\n",
        "class circuit_struct():\n",
        "    def __init__(self, data_qubits, readout):\n",
        "        self.data_qubits = data_qubits\n",
        "        self.readout = readout\n",
        "    \n",
        "    def add_layer(self, circuit, gate, prefix):\n",
        "        for i, qubit in enumerate(self.data_qubits):\n",
        "            symbol = sympy.Symbol(prefix + '-' + str(i))\n",
        "            circuit.append(gate(qubit, self.readout)**symbol)"
      ],
      "metadata": {
        "id": "nvcBT4RIGP3Y"
      },
      "execution_count": 142,
      "outputs": []
    },
    {
      "cell_type": "code",
      "source": [
        "# given a combination of qubit grid size and gate population, build \n",
        "def create_quantum_model(gridSize, hyperGates):\n",
        "\n",
        "    # cirq\n",
        "    data_qubits = cirq.GridQubit.rect(gridSize, gridSize)\n",
        "    readout = cirq.GridQubit(-1, -1)         \n",
        "    circuit = cirq.Circuit()\n",
        "    \n",
        "    # prepare the readout qubit\n",
        "    circuit.append(cirq.X(readout))\n",
        "    circuit.append(cirq.H(readout))\n",
        "    \n",
        "    # create qubit\n",
        "    builder = circuit_struct(\n",
        "        data_qubits = data_qubits,\n",
        "        readout=readout)\n",
        "\n",
        "    # buid layers\n",
        "    for gate in hyperGates:\n",
        "\n",
        "      builder.add_layer(circuit, gate, \"zz1\")\n",
        "   \n",
        "    # prepare the readout qubit\n",
        "    circuit.append(cirq.H(readout))\n",
        "\n",
        "    return circuit, cirq.Z(readout)"
      ],
      "metadata": {
        "id": "c_eitDLdGQE5"
      },
      "execution_count": 143,
      "outputs": []
    },
    {
      "cell_type": "code",
      "source": [
        "### pixel to qubit\n",
        "def convert_to_circuit(image):\n",
        "\n",
        "    values = numpy.ndarray.flatten(image)\n",
        "    qubits = cirq.GridQubit.rect(4, 4)\n",
        "    circuit = cirq.Circuit()\n",
        "    for i, value in enumerate(values):\n",
        "        if value:\n",
        "            circuit.append(cirq.X(qubits[i]))\n",
        "    return circuit"
      ],
      "metadata": {
        "id": "ISAOn5Aa-CXb"
      },
      "execution_count": 144,
      "outputs": []
    },
    {
      "cell_type": "code",
      "source": [
        "(x_train, y_train), (x_test, y_test) = tensorflow.keras.datasets.mnist.load_data()\n",
        "\n",
        "# Rescale the images from [0,255] to the [0.0,1.0] range.\n",
        "x_train, x_test = x_train[..., numpy.newaxis]/255.0, x_test[..., numpy.newaxis]/255.0"
      ],
      "metadata": {
        "id": "vHHqySURQyHH"
      },
      "execution_count": 145,
      "outputs": []
    },
    {
      "cell_type": "code",
      "source": [
        "def filter_36(x, y):\n",
        "    keep = (y == 3) | (y == 6)\n",
        "    x, y = x[keep], y[keep]\n",
        "    y = y == 3\n",
        "    return x,y"
      ],
      "metadata": {
        "id": "9xwbMDuyQ1-3"
      },
      "execution_count": 146,
      "outputs": []
    },
    {
      "cell_type": "code",
      "source": [
        "x_train, y_train = filter_36(x_train, y_train)\n",
        "x_test, y_test = filter_36(x_test, y_test)"
      ],
      "metadata": {
        "id": "j_4RnsIcRAEy"
      },
      "execution_count": 147,
      "outputs": []
    },
    {
      "cell_type": "code",
      "source": [
        "x_train_small = tensorflow.image.resize(x_train, (4,4)).numpy()\n",
        "x_test_small = tensorflow.image.resize(x_test, (4,4)).numpy()"
      ],
      "metadata": {
        "id": "uI8h9oL_RASH"
      },
      "execution_count": 148,
      "outputs": []
    },
    {
      "cell_type": "code",
      "source": [
        "# x_train_nocon, y_train_nocon = x_train_small[:100], y_train[:100]\n",
        "x_train_nocon, y_train_nocon = x_train_small, y_train"
      ],
      "metadata": {
        "id": "FgX1VGpkRAcN"
      },
      "execution_count": 149,
      "outputs": []
    },
    {
      "cell_type": "code",
      "source": [
        "x_train_circ = [convert_to_circuit(x) for x in x_train_nocon]\n",
        "x_test_circ = [convert_to_circuit(x) for x in x_test_small]"
      ],
      "metadata": {
        "id": "76AtlTfERWMs"
      },
      "execution_count": 150,
      "outputs": []
    },
    {
      "cell_type": "code",
      "source": [
        "x_train_tfcirc = tensorflow_quantum.convert_to_tensor(x_train_circ)\n",
        "x_test_tfcirc = tensorflow_quantum.convert_to_tensor(x_test_circ)"
      ],
      "metadata": {
        "id": "TtA0FZ5WRWZe"
      },
      "execution_count": 151,
      "outputs": []
    },
    {
      "cell_type": "code",
      "source": [
        "EPOCHS = 25\n",
        "BATCH_SIZE = 25\n",
        "\n",
        "NUM_EXAMPLES = len(x_train_tfcirc)"
      ],
      "metadata": {
        "id": "sGUGGqDdRsDv"
      },
      "execution_count": 152,
      "outputs": []
    },
    {
      "cell_type": "code",
      "source": [
        "x_train_tfcirc_sub = x_train_tfcirc[:NUM_EXAMPLES]\n",
        "y_train_hinge_sub = y_train_nocon[:NUM_EXAMPLES]"
      ],
      "metadata": {
        "id": "uUvyxpKqRsLJ"
      },
      "execution_count": 153,
      "outputs": []
    },
    {
      "cell_type": "code",
      "source": [
        "class mem_release(tensorflow.keras.callbacks.Callback):\n",
        "    def on_epoch_end(self, epoch, logs=None):\n",
        "        gc.collect()"
      ],
      "metadata": {
        "id": "UsvRncZpRsSN"
      },
      "execution_count": 154,
      "outputs": []
    },
    {
      "cell_type": "code",
      "source": [
        "experiment_count = 0\n",
        "experiment_log = {}\n",
        "for gates in [[cirq.CNOT, cirq.XX], [cirq.XX, cirq.ISWAP], [cirq.SWAP, cirq.XX], [cirq.CZ, cirq.ZZ], [cirq.ZZ, cirq.YY]]:\n",
        "  for gridSize_int in [2, 3]:\n",
        "\n",
        "    model_circuit, model_readout = create_quantum_model(gridSize_int, gates)\n",
        "    \n",
        "    # Build the Keras model.\n",
        "    model = tensorflow.keras.Sequential([\n",
        "        # The input is the data-circuit, encoded as a tf.string\n",
        "        tensorflow.keras.layers.Input(shape=(), dtype=tensorflow.string),\n",
        "        # tensorflow.keras.layers.Dense(64, activation='relu'),\n",
        "        # The PQC layer returns the expected value of the readout gate, range [-1,1].\n",
        "        tensorflow_quantum.layers.PQC(model_circuit, model_readout),])\n",
        "\n",
        "    model.compile(\n",
        "      loss=tensorflow.keras.losses.mse,\n",
        "      optimizer=tensorflow.keras.optimizers.Adam(),\n",
        "      metrics=[tensorflow.keras.metrics.Accuracy()]\n",
        "      )\n",
        "    \n",
        "    print(model.summary())\n",
        "\n",
        "    qnn_history = model.fit(\n",
        "        x_train_tfcirc_sub, y_train_hinge_sub,\n",
        "        batch_size=BATCH_SIZE,\n",
        "        epochs=EPOCHS,\n",
        "        verbose=1,\n",
        "        callbacks=[mem_release()],\n",
        "        validation_data=(x_test_tfcirc, y_test)\n",
        "        )\n",
        "\n",
        "    qnn_results = model.evaluate(x_test_tfcirc, y_test)\n",
        "\n",
        "    experiment_count += 1\n",
        "    experiment_log[experiment_count] = {'circuit' : model_circuit\n",
        "                                       ,'gates'   : gates\n",
        "                                       ,'history' : qnn_history}\n",
        "    "
      ],
      "metadata": {
        "colab": {
          "base_uri": "https://localhost:8080/"
        },
        "id": "dPcJoEuGGgoN",
        "outputId": "dc93a8e7-c85d-438b-b318-7c37ac10a5da"
      },
      "execution_count": null,
      "outputs": [
        {
          "output_type": "stream",
          "name": "stdout",
          "text": [
            "Model: \"sequential_108\"\n",
            "_________________________________________________________________\n",
            " Layer (type)                Output Shape              Param #   \n",
            "=================================================================\n",
            " pqc_108 (PQC)               (None, 1)                 4         \n",
            "                                                                 \n",
            "=================================================================\n",
            "Total params: 4\n",
            "Trainable params: 4\n",
            "Non-trainable params: 0\n",
            "_________________________________________________________________\n",
            "None\n",
            "Epoch 1/25\n",
            "482/482 [==============================] - 22s 44ms/step - loss: 1.5585 - accuracy: 0.0646 - val_loss: 1.5478 - val_accuracy: 0.0630\n",
            "Epoch 2/25\n",
            "482/482 [==============================] - 17s 35ms/step - loss: 1.5634 - accuracy: 0.0560 - val_loss: 1.5478 - val_accuracy: 0.0091\n",
            "Epoch 3/25\n",
            "482/482 [==============================] - 16s 33ms/step - loss: 1.5611 - accuracy: 0.0595 - val_loss: 1.5478 - val_accuracy: 0.0000e+00\n",
            "Epoch 4/25\n",
            "482/482 [==============================] - 16s 33ms/step - loss: 1.5449 - accuracy: 0.0578 - val_loss: 1.5478 - val_accuracy: 0.0447\n",
            "Epoch 5/25\n",
            "482/482 [==============================] - 16s 33ms/step - loss: 1.5585 - accuracy: 0.0461 - val_loss: 1.5478 - val_accuracy: 0.0300\n",
            "Epoch 6/25\n",
            "482/482 [==============================] - 16s 33ms/step - loss: 1.5638 - accuracy: 0.0446 - val_loss: 1.5478 - val_accuracy: 0.0025\n",
            "Epoch 7/25\n",
            "482/482 [==============================] - 16s 32ms/step - loss: 1.5342 - accuracy: 0.0492 - val_loss: 1.5478 - val_accuracy: 0.0452\n",
            "Epoch 8/25\n",
            "482/482 [==============================] - 15s 31ms/step - loss: 1.5542 - accuracy: 0.0476 - val_loss: 1.5478 - val_accuracy: 0.0503\n",
            "Epoch 9/25\n",
            "482/482 [==============================] - 17s 35ms/step - loss: 1.5731 - accuracy: 0.0448 - val_loss: 1.5478 - val_accuracy: 0.0798\n",
            "Epoch 10/25\n",
            "482/482 [==============================] - 16s 34ms/step - loss: 1.5747 - accuracy: 0.0429 - val_loss: 1.5478 - val_accuracy: 0.0595\n",
            "Epoch 11/25\n",
            "482/482 [==============================] - 15s 32ms/step - loss: 1.5651 - accuracy: 0.0525 - val_loss: 1.5478 - val_accuracy: 0.0020\n",
            "Epoch 12/25\n",
            "482/482 [==============================] - 15s 31ms/step - loss: 1.5462 - accuracy: 0.0598 - val_loss: 1.5478 - val_accuracy: 0.0000e+00\n",
            "Epoch 13/25\n",
            "482/482 [==============================] - 15s 32ms/step - loss: 1.5502 - accuracy: 0.0497 - val_loss: 1.5478 - val_accuracy: 0.0020\n",
            "Epoch 14/25\n",
            "482/482 [==============================] - 15s 31ms/step - loss: 1.5648 - accuracy: 0.0460 - val_loss: 1.5478 - val_accuracy: 0.0544\n",
            "Epoch 15/25\n",
            "482/482 [==============================] - 15s 32ms/step - loss: 1.5744 - accuracy: 0.0427 - val_loss: 1.5478 - val_accuracy: 0.0000e+00\n",
            "Epoch 16/25\n",
            "482/482 [==============================] - 15s 31ms/step - loss: 1.5591 - accuracy: 0.0466 - val_loss: 1.5478 - val_accuracy: 0.0000e+00\n",
            "Epoch 17/25\n",
            "482/482 [==============================] - 16s 33ms/step - loss: 1.5542 - accuracy: 0.0457 - val_loss: 1.5478 - val_accuracy: 0.0412\n",
            "Epoch 18/25\n",
            "482/482 [==============================] - 15s 31ms/step - loss: 1.5701 - accuracy: 0.0381 - val_loss: 1.5478 - val_accuracy: 0.0025\n",
            "Epoch 19/25\n",
            "482/482 [==============================] - 15s 32ms/step - loss: 1.5581 - accuracy: 0.0303 - val_loss: 1.5478 - val_accuracy: 0.0869\n",
            "Epoch 20/25\n",
            "482/482 [==============================] - 16s 33ms/step - loss: 1.5751 - accuracy: 0.0290 - val_loss: 1.5478 - val_accuracy: 0.0722\n",
            "Epoch 21/25\n",
            "482/482 [==============================] - 15s 31ms/step - loss: 1.5694 - accuracy: 0.0250 - val_loss: 1.5478 - val_accuracy: 0.0000e+00\n",
            "Epoch 22/25\n",
            "482/482 [==============================] - 15s 30ms/step - loss: 1.5684 - accuracy: 0.0405 - val_loss: 1.5478 - val_accuracy: 0.0000e+00\n",
            "Epoch 23/25\n",
            "482/482 [==============================] - 15s 32ms/step - loss: 1.5571 - accuracy: 0.0493 - val_loss: 1.5478 - val_accuracy: 0.0010\n",
            "Epoch 24/25\n",
            "482/482 [==============================] - 15s 30ms/step - loss: 1.5349 - accuracy: 0.0534 - val_loss: 1.5478 - val_accuracy: 0.0000e+00\n",
            "Epoch 25/25\n",
            "482/482 [==============================] - 15s 31ms/step - loss: 1.5638 - accuracy: 0.0318 - val_loss: 1.5478 - val_accuracy: 5.0813e-04\n",
            "62/62 [==============================] - 1s 23ms/step - loss: 1.7937 - accuracy: 0.0000e+00\n",
            "Model: \"sequential_109\"\n",
            "_________________________________________________________________\n",
            " Layer (type)                Output Shape              Param #   \n",
            "=================================================================\n",
            " pqc_109 (PQC)               (None, 1)                 9         \n",
            "                                                                 \n",
            "=================================================================\n",
            "Total params: 9\n",
            "Trainable params: 9\n",
            "Non-trainable params: 0\n",
            "_________________________________________________________________\n",
            "None\n",
            "Epoch 1/25\n",
            "482/482 [==============================] - 29s 58ms/step - loss: 1.8596 - accuracy: 0.0289 - val_loss: 1.8730 - val_accuracy: 5.0813e-04\n",
            "Epoch 2/25\n",
            "482/482 [==============================] - 24s 49ms/step - loss: 1.8606 - accuracy: 0.0306 - val_loss: 1.8730 - val_accuracy: 0.0274\n",
            "Epoch 3/25\n",
            "482/482 [==============================] - 24s 49ms/step - loss: 1.8636 - accuracy: 0.0286 - val_loss: 1.8730 - val_accuracy: 0.0091\n",
            "Epoch 4/25\n",
            "482/482 [==============================] - 24s 49ms/step - loss: 1.8563 - accuracy: 0.0287 - val_loss: 1.8730 - val_accuracy: 0.0488\n",
            "Epoch 5/25\n",
            "482/482 [==============================] - 24s 51ms/step - loss: 1.8828 - accuracy: 0.0241 - val_loss: 1.8730 - val_accuracy: 0.0279\n",
            "Epoch 6/25\n",
            "482/482 [==============================] - 26s 53ms/step - loss: 1.8606 - accuracy: 0.0294 - val_loss: 1.8730 - val_accuracy: 0.0122\n",
            "Epoch 7/25\n",
            "482/482 [==============================] - 24s 49ms/step - loss: 1.8725 - accuracy: 0.0266 - val_loss: 1.8730 - val_accuracy: 0.0152\n",
            "Epoch 8/25\n",
            "482/482 [==============================] - 24s 49ms/step - loss: 1.8659 - accuracy: 0.0283 - val_loss: 1.8730 - val_accuracy: 0.0264\n",
            "Epoch 9/25\n",
            "482/482 [==============================] - 23s 48ms/step - loss: 1.8838 - accuracy: 0.0278 - val_loss: 1.8730 - val_accuracy: 0.0071\n",
            "Epoch 10/25\n",
            "482/482 [==============================] - 24s 49ms/step - loss: 1.8755 - accuracy: 0.0293 - val_loss: 1.8730 - val_accuracy: 0.0173\n",
            "Epoch 11/25\n",
            "482/482 [==============================] - 24s 49ms/step - loss: 1.8685 - accuracy: 0.0273 - val_loss: 1.8730 - val_accuracy: 0.0259\n",
            "Epoch 12/25\n",
            "482/482 [==============================] - 24s 49ms/step - loss: 1.8825 - accuracy: 0.0283 - val_loss: 1.8730 - val_accuracy: 0.0244\n",
            "Epoch 13/25\n",
            "482/482 [==============================] - 24s 49ms/step - loss: 1.8719 - accuracy: 0.0223 - val_loss: 1.8730 - val_accuracy: 0.0041\n",
            "Epoch 14/25\n",
            "482/482 [==============================] - 24s 49ms/step - loss: 1.8390 - accuracy: 0.0196 - val_loss: 1.8730 - val_accuracy: 0.0066\n",
            "Epoch 15/25\n",
            "482/482 [==============================] - 24s 49ms/step - loss: 1.8616 - accuracy: 0.0239 - val_loss: 1.8730 - val_accuracy: 0.0279\n",
            "Epoch 16/25\n",
            "482/482 [==============================] - 23s 48ms/step - loss: 1.8639 - accuracy: 0.0213 - val_loss: 1.8730 - val_accuracy: 0.0188\n",
            "Epoch 17/25\n",
            "482/482 [==============================] - 23s 48ms/step - loss: 1.8798 - accuracy: 0.0217 - val_loss: 1.8730 - val_accuracy: 0.0122\n",
            "Epoch 18/25\n",
            "482/482 [==============================] - 23s 49ms/step - loss: 1.8719 - accuracy: 0.0206 - val_loss: 1.8730 - val_accuracy: 0.0208\n",
            "Epoch 19/25\n",
            "482/482 [==============================] - 24s 50ms/step - loss: 1.8496 - accuracy: 0.0174 - val_loss: 1.8730 - val_accuracy: 0.0589\n",
            "Epoch 20/25\n",
            "482/482 [==============================] - 24s 51ms/step - loss: 1.8523 - accuracy: 0.0222 - val_loss: 1.8730 - val_accuracy: 0.0036\n",
            "Epoch 21/25\n",
            "482/482 [==============================] - 23s 48ms/step - loss: 1.8831 - accuracy: 0.0212 - val_loss: 1.8730 - val_accuracy: 0.0483\n",
            "Epoch 22/25\n",
            "482/482 [==============================] - 23s 48ms/step - loss: 1.8566 - accuracy: 0.0255 - val_loss: 1.8730 - val_accuracy: 0.0076\n",
            "Epoch 23/25\n",
            "482/482 [==============================] - 23s 47ms/step - loss: 1.8536 - accuracy: 0.0255 - val_loss: 1.8730 - val_accuracy: 0.0071\n",
            "Epoch 24/25\n",
            "482/482 [==============================] - 23s 48ms/step - loss: 1.8689 - accuracy: 0.0251 - val_loss: 1.8730 - val_accuracy: 0.0015\n",
            "Epoch 25/25\n",
            "482/482 [==============================] - 23s 48ms/step - loss: 1.8699 - accuracy: 0.0260 - val_loss: 1.8730 - val_accuracy: 0.0041\n",
            "62/62 [==============================] - 1s 24ms/step - loss: 2.1372 - accuracy: 0.0041\n",
            "Model: \"sequential_110\"\n",
            "_________________________________________________________________\n",
            " Layer (type)                Output Shape              Param #   \n",
            "=================================================================\n",
            " pqc_110 (PQC)               (None, 1)                 4         \n",
            "                                                                 \n",
            "=================================================================\n",
            "Total params: 4\n",
            "Trainable params: 4\n",
            "Non-trainable params: 0\n",
            "_________________________________________________________________\n",
            "None\n",
            "Epoch 1/25\n",
            "482/482 [==============================] - 10s 19ms/step - loss: 0.3687 - accuracy: 0.0442 - val_loss: 0.3669 - val_accuracy: 0.1519\n",
            "Epoch 2/25\n",
            "482/482 [==============================] - 9s 20ms/step - loss: 0.3526 - accuracy: 0.0422 - val_loss: 0.3620 - val_accuracy: 5.0813e-04\n",
            "Epoch 3/25\n",
            "482/482 [==============================] - 9s 19ms/step - loss: 0.3571 - accuracy: 0.0411 - val_loss: 0.3604 - val_accuracy: 5.0813e-04\n",
            "Epoch 4/25\n",
            "482/482 [==============================] - 9s 20ms/step - loss: 0.3537 - accuracy: 0.0437 - val_loss: 0.3602 - val_accuracy: 0.0000e+00\n",
            "Epoch 5/25\n",
            "482/482 [==============================] - 9s 20ms/step - loss: 0.3535 - accuracy: 0.0389 - val_loss: 0.3597 - val_accuracy: 0.1916\n",
            "Epoch 6/25\n",
            "482/482 [==============================] - 9s 18ms/step - loss: 0.3543 - accuracy: 0.0353 - val_loss: 0.3597 - val_accuracy: 0.0041\n",
            "Epoch 7/25\n",
            "482/482 [==============================] - 10s 20ms/step - loss: 0.3527 - accuracy: 0.0399 - val_loss: 0.3600 - val_accuracy: 0.1565\n",
            "Epoch 8/25\n",
            "482/482 [==============================] - 9s 20ms/step - loss: 0.3567 - accuracy: 0.0371 - val_loss: 0.3595 - val_accuracy: 5.0813e-04\n",
            "Epoch 9/25\n",
            "482/482 [==============================] - 9s 18ms/step - loss: 0.3518 - accuracy: 0.0418 - val_loss: 0.3599 - val_accuracy: 0.1148\n",
            "Epoch 10/25\n",
            "482/482 [==============================] - 9s 18ms/step - loss: 0.3522 - accuracy: 0.0467 - val_loss: 0.3594 - val_accuracy: 0.0102\n",
            "Epoch 11/25\n",
            "482/482 [==============================] - 9s 19ms/step - loss: 0.3550 - accuracy: 0.0348 - val_loss: 0.3601 - val_accuracy: 0.0000e+00\n",
            "Epoch 12/25\n",
            "482/482 [==============================] - 9s 19ms/step - loss: 0.3535 - accuracy: 0.0276 - val_loss: 0.3593 - val_accuracy: 5.0813e-04\n",
            "Epoch 13/25\n",
            "482/482 [==============================] - 9s 18ms/step - loss: 0.3543 - accuracy: 0.0320 - val_loss: 0.3607 - val_accuracy: 0.0000e+00\n",
            "Epoch 14/25\n",
            "482/482 [==============================] - 9s 19ms/step - loss: 0.3523 - accuracy: 0.0291 - val_loss: 0.3594 - val_accuracy: 0.0234\n",
            "Epoch 15/25\n",
            "482/482 [==============================] - 9s 19ms/step - loss: 0.3556 - accuracy: 0.0315 - val_loss: 0.3596 - val_accuracy: 0.0254\n",
            "Epoch 16/25\n",
            "482/482 [==============================] - 9s 18ms/step - loss: 0.3547 - accuracy: 0.0280 - val_loss: 0.3592 - val_accuracy: 0.0000e+00\n",
            "Epoch 17/25\n",
            "482/482 [==============================] - 9s 18ms/step - loss: 0.3518 - accuracy: 0.0343 - val_loss: 0.3601 - val_accuracy: 0.1255\n",
            "Epoch 18/25\n",
            "482/482 [==============================] - 9s 19ms/step - loss: 0.3482 - accuracy: 0.0319 - val_loss: 0.3600 - val_accuracy: 0.0000e+00\n",
            "Epoch 19/25\n",
            "482/482 [==============================] - 9s 18ms/step - loss: 0.3510 - accuracy: 0.0296 - val_loss: 0.3592 - val_accuracy: 0.0366\n",
            "Epoch 20/25\n",
            "482/482 [==============================] - 9s 18ms/step - loss: 0.3491 - accuracy: 0.0244 - val_loss: 0.3594 - val_accuracy: 0.0000e+00\n",
            "Epoch 21/25\n",
            "482/482 [==============================] - 9s 18ms/step - loss: 0.3505 - accuracy: 0.0262 - val_loss: 0.3595 - val_accuracy: 0.0000e+00\n",
            "Epoch 22/25\n",
            "482/482 [==============================] - 9s 18ms/step - loss: 0.3518 - accuracy: 0.0323 - val_loss: 0.3592 - val_accuracy: 0.0000e+00\n",
            "Epoch 23/25\n",
            "482/482 [==============================] - 9s 18ms/step - loss: 0.3535 - accuracy: 0.0288 - val_loss: 0.3592 - val_accuracy: 0.0152\n",
            "Epoch 24/25\n",
            "482/482 [==============================] - 9s 18ms/step - loss: 0.3507 - accuracy: 0.0388 - val_loss: 0.3600 - val_accuracy: 0.2165\n",
            "Epoch 25/25\n",
            "482/482 [==============================] - 9s 18ms/step - loss: 0.3572 - accuracy: 0.0306 - val_loss: 0.3591 - val_accuracy: 0.0407\n",
            "62/62 [==============================] - 1s 12ms/step - loss: 0.3207 - accuracy: 0.0310\n",
            "Model: \"sequential_111\"\n",
            "_________________________________________________________________\n",
            " Layer (type)                Output Shape              Param #   \n",
            "=================================================================\n",
            " pqc_111 (PQC)               (None, 1)                 9         \n",
            "                                                                 \n",
            "=================================================================\n",
            "Total params: 9\n",
            "Trainable params: 9\n",
            "Non-trainable params: 0\n",
            "_________________________________________________________________\n",
            "None\n",
            "Epoch 1/25\n",
            "482/482 [==============================] - 24s 49ms/step - loss: 0.5289 - accuracy: 0.0374 - val_loss: 0.4272 - val_accuracy: 0.0000e+00\n",
            "Epoch 2/25\n",
            "482/482 [==============================] - 24s 50ms/step - loss: 0.3975 - accuracy: 0.0421 - val_loss: 0.3807 - val_accuracy: 5.0813e-04\n",
            "Epoch 3/25\n",
            "482/482 [==============================] - 24s 50ms/step - loss: 0.3850 - accuracy: 0.0391 - val_loss: 0.3774 - val_accuracy: 0.0010\n",
            "Epoch 4/25\n",
            "482/482 [==============================] - 24s 50ms/step - loss: 0.3849 - accuracy: 0.0430 - val_loss: 0.3773 - val_accuracy: 0.0259\n",
            "Epoch 5/25\n",
            "482/482 [==============================] - 24s 50ms/step - loss: 0.3924 - accuracy: 0.0463 - val_loss: 0.3776 - val_accuracy: 0.0493\n",
            "Epoch 6/25\n",
            "482/482 [==============================] - 24s 49ms/step - loss: 0.3737 - accuracy: 0.0494 - val_loss: 0.3773 - val_accuracy: 0.0234\n",
            "Epoch 7/25\n",
            "482/482 [==============================] - 23s 48ms/step - loss: 0.3813 - accuracy: 0.0479 - val_loss: 0.3774 - val_accuracy: 0.0000e+00\n",
            "Epoch 8/25\n",
            "482/482 [==============================] - 24s 49ms/step - loss: 0.3804 - accuracy: 0.0459 - val_loss: 0.3773 - val_accuracy: 0.0508\n",
            "Epoch 9/25\n",
            "482/482 [==============================] - 24s 50ms/step - loss: 0.3768 - accuracy: 0.0452 - val_loss: 0.3774 - val_accuracy: 0.1408\n",
            "Epoch 10/25\n",
            "482/482 [==============================] - 24s 50ms/step - loss: 0.3732 - accuracy: 0.0436 - val_loss: 0.3777 - val_accuracy: 5.0813e-04\n",
            "Epoch 11/25\n",
            "482/482 [==============================] - 25s 51ms/step - loss: 0.3801 - accuracy: 0.0505 - val_loss: 0.3772 - val_accuracy: 0.0056\n",
            "Epoch 12/25\n",
            "482/482 [==============================] - 25s 51ms/step - loss: 0.3867 - accuracy: 0.0501 - val_loss: 0.3781 - val_accuracy: 0.0920\n",
            "Epoch 13/25\n",
            "482/482 [==============================] - 24s 51ms/step - loss: 0.3792 - accuracy: 0.0418 - val_loss: 0.3772 - val_accuracy: 0.0051\n",
            "Epoch 14/25\n",
            "482/482 [==============================] - 24s 51ms/step - loss: 0.3862 - accuracy: 0.0537 - val_loss: 0.3774 - val_accuracy: 0.0081\n",
            "Epoch 15/25\n",
            "482/482 [==============================] - 24s 50ms/step - loss: 0.3796 - accuracy: 0.0462 - val_loss: 0.3772 - val_accuracy: 0.0000e+00\n",
            "Epoch 16/25\n",
            "482/482 [==============================] - 24s 50ms/step - loss: 0.3818 - accuracy: 0.0348 - val_loss: 0.3773 - val_accuracy: 0.0478\n",
            "Epoch 17/25\n",
            "482/482 [==============================] - 24s 50ms/step - loss: 0.3788 - accuracy: 0.0466 - val_loss: 0.3774 - val_accuracy: 0.0356\n",
            "Epoch 18/25\n",
            "482/482 [==============================] - 25s 52ms/step - loss: 0.3830 - accuracy: 0.0490 - val_loss: 0.3772 - val_accuracy: 0.0000e+00\n",
            "Epoch 19/25\n",
            "482/482 [==============================] - 25s 52ms/step - loss: 0.3845 - accuracy: 0.0461 - val_loss: 0.3774 - val_accuracy: 0.0020\n",
            "Epoch 20/25\n",
            "482/482 [==============================] - 25s 52ms/step - loss: 0.3857 - accuracy: 0.0530 - val_loss: 0.3772 - val_accuracy: 0.0264\n",
            "Epoch 21/25\n",
            "482/482 [==============================] - 25s 51ms/step - loss: 0.3841 - accuracy: 0.0388 - val_loss: 0.3773 - val_accuracy: 0.1245\n",
            "Epoch 22/25\n",
            "482/482 [==============================] - 25s 51ms/step - loss: 0.3850 - accuracy: 0.0498 - val_loss: 0.3772 - val_accuracy: 0.0046\n",
            "Epoch 23/25\n",
            "482/482 [==============================] - 25s 51ms/step - loss: 0.3773 - accuracy: 0.0432 - val_loss: 0.3773 - val_accuracy: 0.0274\n",
            "Epoch 24/25\n",
            "482/482 [==============================] - 26s 53ms/step - loss: 0.3888 - accuracy: 0.0466 - val_loss: 0.3773 - val_accuracy: 0.0000e+00\n",
            "Epoch 25/25\n",
            "482/482 [==============================] - 25s 51ms/step - loss: 0.3824 - accuracy: 0.0443 - val_loss: 0.3775 - val_accuracy: 0.0645\n",
            "62/62 [==============================] - 2s 26ms/step - loss: 0.3453 - accuracy: 0.0391\n",
            "Model: \"sequential_112\"\n",
            "_________________________________________________________________\n",
            " Layer (type)                Output Shape              Param #   \n",
            "=================================================================\n",
            " pqc_112 (PQC)               (None, 1)                 4         \n",
            "                                                                 \n",
            "=================================================================\n",
            "Total params: 4\n",
            "Trainable params: 4\n",
            "Non-trainable params: 0\n",
            "_________________________________________________________________\n",
            "None\n",
            "Epoch 1/25\n",
            "482/482 [==============================] - 10s 21ms/step - loss: 0.4832 - accuracy: 0.0598 - val_loss: 0.4668 - val_accuracy: 0.0000e+00\n",
            "Epoch 2/25\n",
            "482/482 [==============================] - 10s 20ms/step - loss: 0.4108 - accuracy: 0.0606 - val_loss: 0.4057 - val_accuracy: 0.0000e+00\n",
            "Epoch 3/25\n",
            "482/482 [==============================] - 10s 21ms/step - loss: 0.3904 - accuracy: 0.0586 - val_loss: 0.4027 - val_accuracy: 0.0030\n",
            "Epoch 4/25\n",
            "482/482 [==============================] - 10s 20ms/step - loss: 0.3869 - accuracy: 0.0516 - val_loss: 0.4028 - val_accuracy: 0.0000e+00\n",
            "Epoch 5/25\n",
            "482/482 [==============================] - 9s 19ms/step - loss: 0.3887 - accuracy: 0.0485 - val_loss: 0.4026 - val_accuracy: 0.0544\n",
            "Epoch 6/25\n",
            "482/482 [==============================] - 9s 20ms/step - loss: 0.3909 - accuracy: 0.0486 - val_loss: 0.4028 - val_accuracy: 0.0010\n",
            "Epoch 7/25\n",
            "482/482 [==============================] - 9s 19ms/step - loss: 0.3877 - accuracy: 0.0492 - val_loss: 0.4028 - val_accuracy: 0.0000e+00\n",
            "Epoch 8/25\n",
            "482/482 [==============================] - 9s 19ms/step - loss: 0.3895 - accuracy: 0.0490 - val_loss: 0.4026 - val_accuracy: 0.0625\n",
            "Epoch 9/25\n",
            "482/482 [==============================] - 10s 21ms/step - loss: 0.3896 - accuracy: 0.0483 - val_loss: 0.4027 - val_accuracy: 0.0158\n",
            "Epoch 10/25\n",
            "482/482 [==============================] - 10s 20ms/step - loss: 0.3829 - accuracy: 0.0569 - val_loss: 0.4026 - val_accuracy: 0.0000e+00\n",
            "Epoch 11/25\n",
            "482/482 [==============================] - 9s 20ms/step - loss: 0.3866 - accuracy: 0.0523 - val_loss: 0.4027 - val_accuracy: 0.0000e+00\n",
            "Epoch 12/25\n",
            "482/482 [==============================] - 9s 19ms/step - loss: 0.3955 - accuracy: 0.0486 - val_loss: 0.4026 - val_accuracy: 0.0000e+00\n",
            "Epoch 13/25\n",
            "482/482 [==============================] - 10s 20ms/step - loss: 0.3906 - accuracy: 0.0619 - val_loss: 0.4027 - val_accuracy: 0.0000e+00\n",
            "Epoch 14/25\n",
            "482/482 [==============================] - 9s 19ms/step - loss: 0.3819 - accuracy: 0.0514 - val_loss: 0.4027 - val_accuracy: 0.0000e+00\n",
            "Epoch 15/25\n",
            "482/482 [==============================] - 10s 20ms/step - loss: 0.3857 - accuracy: 0.0539 - val_loss: 0.4027 - val_accuracy: 0.0000e+00\n",
            "Epoch 16/25\n",
            "482/482 [==============================] - 9s 19ms/step - loss: 0.3834 - accuracy: 0.0490 - val_loss: 0.4026 - val_accuracy: 0.1763\n",
            "Epoch 17/25\n",
            "482/482 [==============================] - 10s 20ms/step - loss: 0.3866 - accuracy: 0.0492 - val_loss: 0.4027 - val_accuracy: 0.0000e+00\n",
            "Epoch 18/25\n",
            "482/482 [==============================] - 9s 19ms/step - loss: 0.3805 - accuracy: 0.0559 - val_loss: 0.4027 - val_accuracy: 0.0000e+00\n",
            "Epoch 19/25\n",
            "482/482 [==============================] - 10s 20ms/step - loss: 0.3869 - accuracy: 0.0525 - val_loss: 0.4026 - val_accuracy: 0.0000e+00\n",
            "Epoch 20/25\n",
            "482/482 [==============================] - 9s 19ms/step - loss: 0.3879 - accuracy: 0.0491 - val_loss: 0.4027 - val_accuracy: 0.2241\n",
            "Epoch 21/25\n",
            "482/482 [==============================] - 9s 18ms/step - loss: 0.3862 - accuracy: 0.0468 - val_loss: 0.4027 - val_accuracy: 0.2434\n",
            "Epoch 22/25\n",
            "482/482 [==============================] - 9s 19ms/step - loss: 0.3817 - accuracy: 0.0498 - val_loss: 0.4026 - val_accuracy: 0.1931\n",
            "Epoch 23/25\n",
            "482/482 [==============================] - 9s 19ms/step - loss: 0.3843 - accuracy: 0.0490 - val_loss: 0.4029 - val_accuracy: 0.0783\n",
            "Epoch 24/25\n",
            "482/482 [==============================] - 9s 19ms/step - loss: 0.3871 - accuracy: 0.0486 - val_loss: 0.4027 - val_accuracy: 0.0061\n",
            "Epoch 25/25\n",
            "482/482 [==============================] - 9s 19ms/step - loss: 0.3898 - accuracy: 0.0579 - val_loss: 0.4027 - val_accuracy: 0.1850\n",
            "62/62 [==============================] - 1s 12ms/step - loss: 0.3734 - accuracy: 0.1408\n",
            "Model: \"sequential_113\"\n",
            "_________________________________________________________________\n",
            " Layer (type)                Output Shape              Param #   \n",
            "=================================================================\n",
            " pqc_113 (PQC)               (None, 1)                 9         \n",
            "                                                                 \n",
            "=================================================================\n",
            "Total params: 9\n",
            "Trainable params: 9\n",
            "Non-trainable params: 0\n",
            "_________________________________________________________________\n",
            "None\n",
            "Epoch 1/25\n",
            "482/482 [==============================] - 25s 52ms/step - loss: 0.5763 - accuracy: 0.0334 - val_loss: 0.5389 - val_accuracy: 0.0158\n",
            "Epoch 2/25\n",
            "482/482 [==============================] - 24s 51ms/step - loss: 0.4061 - accuracy: 0.0271 - val_loss: 0.3529 - val_accuracy: 0.0010\n",
            "Epoch 3/25\n",
            "482/482 [==============================] - 24s 51ms/step - loss: 0.3663 - accuracy: 0.0331 - val_loss: 0.3523 - val_accuracy: 0.0000e+00\n",
            "Epoch 4/25\n",
            "482/482 [==============================] - 25s 52ms/step - loss: 0.3617 - accuracy: 0.0313 - val_loss: 0.3532 - val_accuracy: 0.0290\n",
            "Epoch 5/25\n",
            "482/482 [==============================] - 25s 51ms/step - loss: 0.3618 - accuracy: 0.0310 - val_loss: 0.3525 - val_accuracy: 0.0000e+00\n",
            "Epoch 6/25\n",
            "482/482 [==============================] - 25s 51ms/step - loss: 0.3628 - accuracy: 0.0292 - val_loss: 0.3528 - val_accuracy: 0.1113\n",
            "Epoch 7/25\n",
            "482/482 [==============================] - 25s 51ms/step - loss: 0.3610 - accuracy: 0.0257 - val_loss: 0.3525 - val_accuracy: 0.0000e+00\n",
            "Epoch 8/25\n",
            "482/482 [==============================] - 25s 51ms/step - loss: 0.3635 - accuracy: 0.0286 - val_loss: 0.3526 - val_accuracy: 0.0183\n",
            "Epoch 9/25\n",
            "482/482 [==============================] - 25s 51ms/step - loss: 0.3573 - accuracy: 0.0282 - val_loss: 0.3527 - val_accuracy: 0.0046\n",
            "Epoch 10/25\n",
            "482/482 [==============================] - 25s 52ms/step - loss: 0.3610 - accuracy: 0.0300 - val_loss: 0.3527 - val_accuracy: 0.0208\n",
            "Epoch 11/25\n",
            "482/482 [==============================] - 25s 51ms/step - loss: 0.3619 - accuracy: 0.0288 - val_loss: 0.3525 - val_accuracy: 0.0142\n",
            "Epoch 12/25\n",
            "482/482 [==============================] - 25s 52ms/step - loss: 0.3651 - accuracy: 0.0297 - val_loss: 0.3523 - val_accuracy: 0.0351\n",
            "Epoch 13/25\n",
            "482/482 [==============================] - 25s 52ms/step - loss: 0.3607 - accuracy: 0.0291 - val_loss: 0.3527 - val_accuracy: 0.0102\n",
            "Epoch 14/25\n",
            "482/482 [==============================] - 25s 53ms/step - loss: 0.3623 - accuracy: 0.0290 - val_loss: 0.3526 - val_accuracy: 0.0091\n",
            "Epoch 15/25\n",
            "482/482 [==============================] - 26s 53ms/step - loss: 0.3623 - accuracy: 0.0269 - val_loss: 0.3525 - val_accuracy: 0.0107\n",
            "Epoch 16/25\n",
            "482/482 [==============================] - 26s 54ms/step - loss: 0.3612 - accuracy: 0.0286 - val_loss: 0.3525 - val_accuracy: 0.0000e+00\n",
            "Epoch 17/25\n",
            "482/482 [==============================] - 25s 52ms/step - loss: 0.3544 - accuracy: 0.0308 - val_loss: 0.3526 - val_accuracy: 0.0030\n",
            "Epoch 18/25\n",
            "482/482 [==============================] - 25s 53ms/step - loss: 0.3600 - accuracy: 0.0299 - val_loss: 0.3526 - val_accuracy: 0.0442\n",
            "Epoch 19/25\n",
            "482/482 [==============================] - 25s 53ms/step - loss: 0.3658 - accuracy: 0.0276 - val_loss: 0.3523 - val_accuracy: 0.0569\n",
            "Epoch 20/25\n",
            "482/482 [==============================] - 26s 54ms/step - loss: 0.3655 - accuracy: 0.0295 - val_loss: 0.3526 - val_accuracy: 0.0000e+00\n",
            "Epoch 21/25\n",
            "482/482 [==============================] - 26s 54ms/step - loss: 0.3618 - accuracy: 0.0272 - val_loss: 0.3525 - val_accuracy: 0.0346\n",
            "Epoch 22/25\n",
            "482/482 [==============================] - 26s 53ms/step - loss: 0.3645 - accuracy: 0.0316 - val_loss: 0.3525 - val_accuracy: 0.0473\n",
            "Epoch 23/25\n",
            "482/482 [==============================] - 25s 52ms/step - loss: 0.3653 - accuracy: 0.0298 - val_loss: 0.3528 - val_accuracy: 0.0569\n",
            "Epoch 24/25\n",
            "482/482 [==============================] - 25s 52ms/step - loss: 0.3621 - accuracy: 0.0292 - val_loss: 0.3526 - val_accuracy: 0.0025\n",
            "Epoch 25/25\n",
            "482/482 [==============================] - 25s 52ms/step - loss: 0.3674 - accuracy: 0.0345 - val_loss: 0.3524 - val_accuracy: 0.0117\n",
            "62/62 [==============================] - 2s 24ms/step - loss: 0.3089 - accuracy: 0.0046\n",
            "Model: \"sequential_114\"\n",
            "_________________________________________________________________\n",
            " Layer (type)                Output Shape              Param #   \n",
            "=================================================================\n",
            " pqc_114 (PQC)               (None, 1)                 4         \n",
            "                                                                 \n",
            "=================================================================\n",
            "Total params: 4\n",
            "Trainable params: 4\n",
            "Non-trainable params: 0\n",
            "_________________________________________________________________\n",
            "None\n",
            "Epoch 1/25\n",
            "482/482 [==============================] - 10s 20ms/step - loss: 0.3747 - accuracy: 0.0865 - val_loss: 0.3539 - val_accuracy: 0.0036\n",
            "Epoch 2/25\n",
            "482/482 [==============================] - 9s 19ms/step - loss: 0.3380 - accuracy: 0.0953 - val_loss: 0.3469 - val_accuracy: 0.0183\n",
            "Epoch 3/25\n",
            "482/482 [==============================] - 10s 21ms/step - loss: 0.3407 - accuracy: 0.0700 - val_loss: 0.3461 - val_accuracy: 0.0386\n",
            "Epoch 4/25\n",
            "482/482 [==============================] - 10s 20ms/step - loss: 0.3386 - accuracy: 0.0608 - val_loss: 0.3454 - val_accuracy: 0.0737\n",
            "Epoch 5/25\n",
            "482/482 [==============================] - 9s 19ms/step - loss: 0.3409 - accuracy: 0.0642 - val_loss: 0.3447 - val_accuracy: 0.0508\n",
            "Epoch 6/25\n",
            "482/482 [==============================] - 15s 30ms/step - loss: 0.3413 - accuracy: 0.0803 - val_loss: 0.3447 - val_accuracy: 0.0168\n",
            "Epoch 7/25\n",
            "482/482 [==============================] - 9s 19ms/step - loss: 0.3373 - accuracy: 0.0820 - val_loss: 0.3438 - val_accuracy: 0.0310\n",
            "Epoch 8/25\n",
            "144/482 [=======>......................] - ETA: 5s - loss: 0.3465 - accuracy: 0.0667"
          ]
        }
      ]
    },
    {
      "cell_type": "code",
      "source": [
        "experiment = 7\n",
        "\n",
        "print(experiment_log[experiment]['history'])\n",
        "print(experiment_log[experiment]['gates'])\n",
        "\n",
        "pyplot.plot(experiment_log[experiment]['history'].history['loss'])\n",
        "pyplot.plot(experiment_log[experiment]['history'].history['val_loss'])\n",
        "\n",
        "SVGCircuit(experiment_log[experiment]['circuit'])"
      ],
      "metadata": {
        "id": "dNW57F88Gg0T"
      },
      "execution_count": null,
      "outputs": []
    },
    {
      "cell_type": "code",
      "source": [
        ""
      ],
      "metadata": {
        "id": "CB3Cy5ZXGg-X"
      },
      "execution_count": null,
      "outputs": []
    },
    {
      "cell_type": "code",
      "source": [
        ""
      ],
      "metadata": {
        "id": "w2gvtX_YGhJU"
      },
      "execution_count": null,
      "outputs": []
    },
    {
      "cell_type": "code",
      "source": [
        ""
      ],
      "metadata": {
        "id": "O7TQaBshMhcJ"
      },
      "execution_count": null,
      "outputs": []
    },
    {
      "cell_type": "code",
      "source": [
        ""
      ],
      "metadata": {
        "id": "DlxrKE3qMhoQ"
      },
      "execution_count": null,
      "outputs": []
    },
    {
      "cell_type": "code",
      "source": [
        ""
      ],
      "metadata": {
        "id": "hCi_lvWpMhz1"
      },
      "execution_count": null,
      "outputs": []
    },
    {
      "cell_type": "code",
      "source": [
        ""
      ],
      "metadata": {
        "id": "ZRmxzLEALiNr"
      },
      "execution_count": null,
      "outputs": []
    },
    {
      "cell_type": "code",
      "source": [
        ""
      ],
      "metadata": {
        "id": "IMdrzvqvGQo4"
      },
      "execution_count": null,
      "outputs": []
    }
  ]
}
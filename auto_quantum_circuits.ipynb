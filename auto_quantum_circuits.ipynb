{
  "nbformat": 4,
  "nbformat_minor": 0,
  "metadata": {
    "colab": {
      "name": "auto_quantum_circuits.ipynb",
      "provenance": [],
      "collapsed_sections": [],
      "authorship_tag": "ABX9TyO85FT+iidQ510URQaqG3N/",
      "include_colab_link": true
    },
    "kernelspec": {
      "name": "python3",
      "display_name": "Python 3"
    },
    "language_info": {
      "name": "python"
    }
  },
  "cells": [
    {
      "cell_type": "markdown",
      "metadata": {
        "id": "view-in-github",
        "colab_type": "text"
      },
      "source": [
        "<a href=\"https://colab.research.google.com/github/pinballsurgeon/deluxo_adjacency/blob/main/auto_quantum_circuits.ipynb\" target=\"_parent\"><img src=\"https://colab.research.google.com/assets/colab-badge.svg\" alt=\"Open In Colab\"/></a>"
      ]
    },
    {
      "cell_type": "markdown",
      "source": [
        "# Auto Quantum Circuits\n",
        "#### dehls - pinballsurgeon@gmail.com"
      ],
      "metadata": {
        "id": "dhwB9OhHwgvh"
      }
    },
    {
      "cell_type": "code",
      "execution_count": 1,
      "metadata": {
        "id": "kL3NaosJFyiz"
      },
      "outputs": [],
      "source": [
        "!pip install --quiet tensorflow_quantum"
      ]
    },
    {
      "cell_type": "markdown",
      "source": [
        ""
      ],
      "metadata": {
        "id": "EgOLMHAQwd-S"
      }
    },
    {
      "cell_type": "code",
      "source": [
        "import cirq\n",
        "import sympy\n",
        "import tensorflow\n",
        "import numpy\n",
        "import gc\n",
        "\n",
        "%matplotlib inline\n",
        "from matplotlib import pyplot\n",
        "\n",
        "from cirq.contrib.svg import SVGCircuit\n",
        "\n",
        "import tensorflow_quantum"
      ],
      "metadata": {
        "id": "DUlhaeoeGPop"
      },
      "execution_count": 36,
      "outputs": []
    },
    {
      "cell_type": "markdown",
      "source": [
        "Helper Functions"
      ],
      "metadata": {
        "id": "TJlbByAk3buT"
      }
    },
    {
      "cell_type": "code",
      "source": [
        "# given a data and out qubit structure, build dynamic circuit\n",
        "class circuit_struct():\n",
        "    def __init__(self, data_qubits, readout):\n",
        "        self.data_qubits = data_qubits\n",
        "        self.readout = readout\n",
        "    \n",
        "    def add_layer(self, circuit, gate, prefix):\n",
        "        for i, qubit in enumerate(self.data_qubits):\n",
        "            symbol = sympy.Symbol(prefix + '-' + str(i))\n",
        "            circuit.append(gate(qubit, self.readout)**symbol)"
      ],
      "metadata": {
        "id": "nvcBT4RIGP3Y"
      },
      "execution_count": 3,
      "outputs": []
    },
    {
      "cell_type": "code",
      "source": [
        "# given a combination of qubit grid size and gate population, build \n",
        "def create_quantum_model(gridSize, hyperGates):\n",
        "\n",
        "    # cirq\n",
        "    data_qubits = cirq.GridQubit.rect(gridSize, gridSize)\n",
        "    readout = cirq.GridQubit(-1, -1)         \n",
        "    circuit = cirq.Circuit()\n",
        "    \n",
        "    # prepare the readout qubit\n",
        "    circuit.append(cirq.X(readout))\n",
        "    circuit.append(cirq.H(readout))\n",
        "    \n",
        "    # create qubit\n",
        "    builder = circuit_struct(\n",
        "        data_qubits = data_qubits,\n",
        "        readout=readout)\n",
        "\n",
        "    # buid layers\n",
        "    for gate in hyperGates:\n",
        "\n",
        "      # builder.add_layer(circuit, cirq.XX, \"xx1\")\n",
        "      builder.add_layer(circuit, gate, \"zz1\")\n",
        "   \n",
        "    # prepare the readout qubit\n",
        "    circuit.append(cirq.H(readout))\n",
        "\n",
        "    return circuit, cirq.Z(readout)"
      ],
      "metadata": {
        "id": "c_eitDLdGQE5"
      },
      "execution_count": 4,
      "outputs": []
    },
    {
      "cell_type": "code",
      "source": [
        "### pixel to qubit\n",
        "def convert_to_circuit(image):\n",
        "\n",
        "    values = numpy.ndarray.flatten(image)\n",
        "    qubits = cirq.GridQubit.rect(4, 4)\n",
        "    circuit = cirq.Circuit()\n",
        "    for i, value in enumerate(values):\n",
        "        if value:\n",
        "            circuit.append(cirq.X(qubits[i]))\n",
        "    return circuit"
      ],
      "metadata": {
        "id": "ISAOn5Aa-CXb"
      },
      "execution_count": null,
      "outputs": []
    },
    {
      "cell_type": "code",
      "source": [
        "(x_train, y_train), (x_test, y_test) = tensorflow.keras.datasets.mnist.load_data()\n",
        "\n",
        "# Rescale the images from [0,255] to the [0.0,1.0] range.\n",
        "x_train, x_test = x_train[..., numpy.newaxis]/255.0, x_test[..., numpy.newaxis]/255.0"
      ],
      "metadata": {
        "id": "vHHqySURQyHH"
      },
      "execution_count": 5,
      "outputs": []
    },
    {
      "cell_type": "code",
      "source": [
        "def filter_36(x, y):\n",
        "    keep = (y == 3) | (y == 6)\n",
        "    x, y = x[keep], y[keep]\n",
        "    y = y == 3\n",
        "    return x,y"
      ],
      "metadata": {
        "id": "9xwbMDuyQ1-3"
      },
      "execution_count": 6,
      "outputs": []
    },
    {
      "cell_type": "code",
      "source": [
        "x_train, y_train = filter_36(x_train, y_train)\n",
        "x_test, y_test = filter_36(x_test, y_test)"
      ],
      "metadata": {
        "id": "j_4RnsIcRAEy"
      },
      "execution_count": 7,
      "outputs": []
    },
    {
      "cell_type": "code",
      "source": [
        "x_train_small = tensorflow.image.resize(x_train, (4,4)).numpy()\n",
        "x_test_small = tensorflow.image.resize(x_test, (4,4)).numpy()"
      ],
      "metadata": {
        "id": "uI8h9oL_RASH"
      },
      "execution_count": 8,
      "outputs": []
    },
    {
      "cell_type": "code",
      "source": [
        "x_train_nocon, y_train_nocon = x_train_small[:100], y_train[:100]"
      ],
      "metadata": {
        "id": "FgX1VGpkRAcN"
      },
      "execution_count": 9,
      "outputs": []
    },
    {
      "cell_type": "code",
      "source": [
        "x_train_circ = [convert_to_circuit(x) for x in x_train_nocon]\n",
        "x_test_circ = [convert_to_circuit(x) for x in x_test_small]"
      ],
      "metadata": {
        "id": "76AtlTfERWMs"
      },
      "execution_count": 11,
      "outputs": []
    },
    {
      "cell_type": "code",
      "source": [
        "x_train_tfcirc = tensorflow_quantum.convert_to_tensor(x_train_circ)\n",
        "x_test_tfcirc = tensorflow_quantum.convert_to_tensor(x_test_circ)"
      ],
      "metadata": {
        "id": "TtA0FZ5WRWZe"
      },
      "execution_count": 12,
      "outputs": []
    },
    {
      "cell_type": "code",
      "source": [
        "EPOCHS = 4\n",
        "BATCH_SIZE = 32\n",
        "\n",
        "NUM_EXAMPLES = len(x_train_tfcirc)"
      ],
      "metadata": {
        "id": "sGUGGqDdRsDv"
      },
      "execution_count": 13,
      "outputs": []
    },
    {
      "cell_type": "code",
      "source": [
        "x_train_tfcirc_sub = x_train_tfcirc[:NUM_EXAMPLES]\n",
        "y_train_hinge_sub = y_train_nocon[:NUM_EXAMPLES]"
      ],
      "metadata": {
        "id": "uUvyxpKqRsLJ"
      },
      "execution_count": 14,
      "outputs": []
    },
    {
      "cell_type": "code",
      "source": [
        "class mem_release(tensorflow.keras.callbacks.Callback):\n",
        "    def on_epoch_end(self, epoch, logs=None):\n",
        "        gc.collect()"
      ],
      "metadata": {
        "id": "UsvRncZpRsSN"
      },
      "execution_count": 18,
      "outputs": []
    },
    {
      "cell_type": "code",
      "source": [
        "experiment_count = 0\n",
        "experiment_log = {}\n",
        "for gates in [[cirq.XX, cirq.ZZ], [cirq.CZ, cirq.ZZ]]:\n",
        "  for gridSize_int in [1, 2, 3]:\n",
        "\n",
        "    model_circuit, model_readout = create_quantum_model(gridSize_int, gates)\n",
        "    \n",
        "    # Build the Keras model.\n",
        "    model = tensorflow.keras.Sequential([\n",
        "        # The input is the data-circuit, encoded as a tf.string\n",
        "        tensorflow.keras.layers.Input(shape=(), dtype=tensorflow.string),\n",
        "        # tensorflow.keras.layers.Dense(64, activation='relu'),\n",
        "        # The PQC layer returns the expected value of the readout gate, range [-1,1].\n",
        "        tensorflow_quantum.layers.PQC(model_circuit, model_readout),])\n",
        "\n",
        "    model.compile(\n",
        "      loss=tensorflow.keras.losses.mse,\n",
        "      optimizer=tensorflow.keras.optimizers.Adam(),\n",
        "      metrics=[tensorflow.keras.metrics.BinaryAccuracy()]\n",
        "      )\n",
        "    \n",
        "    print(model.summary())\n",
        "\n",
        "    qnn_history = model.fit(\n",
        "        x_train_tfcirc_sub, y_train_hinge_sub,\n",
        "        batch_size=32,\n",
        "        epochs=EPOCHS,\n",
        "        verbose=1,\n",
        "        callbacks=[mem_release()],\n",
        "        validation_data=(x_test_tfcirc, y_test)\n",
        "        )\n",
        "\n",
        "    qnn_results = model.evaluate(x_test_tfcirc, y_test)\n",
        "\n",
        "    experiment_count += 1\n",
        "    experiment_log[experiment_count] = {'circuit' : model_circuit\n",
        "                                       ,'history' : qnn_history}\n",
        "    "
      ],
      "metadata": {
        "colab": {
          "base_uri": "https://localhost:8080/"
        },
        "id": "dPcJoEuGGgoN",
        "outputId": "65c31a6b-b166-4f79-f82e-f2a56bdfb51f"
      },
      "execution_count": 43,
      "outputs": [
        {
          "output_type": "stream",
          "name": "stdout",
          "text": [
            "Model: \"sequential_31\"\n",
            "_________________________________________________________________\n",
            " Layer (type)                Output Shape              Param #   \n",
            "=================================================================\n",
            " pqc_31 (PQC)                (None, 1)                 1         \n",
            "                                                                 \n",
            "=================================================================\n",
            "Total params: 1\n",
            "Trainable params: 1\n",
            "Non-trainable params: 0\n",
            "_________________________________________________________________\n",
            "None\n",
            "Epoch 1/3\n",
            "4/4 [==============================] - 4s 873ms/step - loss: 0.4506 - binary_accuracy: 0.5200 - val_loss: 0.4567 - val_binary_accuracy: 0.5132\n",
            "Epoch 2/3\n",
            "4/4 [==============================] - 1s 471ms/step - loss: 0.4426 - binary_accuracy: 0.5200 - val_loss: 0.4544 - val_binary_accuracy: 0.5132\n",
            "Epoch 3/3\n",
            "4/4 [==============================] - 2s 521ms/step - loss: 0.4467 - binary_accuracy: 0.5200 - val_loss: 0.4520 - val_binary_accuracy: 0.5132\n",
            "62/62 [==============================] - 1s 19ms/step - loss: 0.4520 - binary_accuracy: 0.5132\n",
            "Model: \"sequential_32\"\n",
            "_________________________________________________________________\n",
            " Layer (type)                Output Shape              Param #   \n",
            "=================================================================\n",
            " pqc_32 (PQC)                (None, 1)                 4         \n",
            "                                                                 \n",
            "=================================================================\n",
            "Total params: 4\n",
            "Trainable params: 4\n",
            "Non-trainable params: 0\n",
            "_________________________________________________________________\n",
            "None\n",
            "Epoch 1/3\n",
            "4/4 [==============================] - 4s 1s/step - loss: 0.4308 - binary_accuracy: 0.5700 - val_loss: 0.4960 - val_binary_accuracy: 0.5041\n",
            "Epoch 2/3\n",
            "4/4 [==============================] - 4s 1s/step - loss: 0.4399 - binary_accuracy: 0.5600 - val_loss: 0.4953 - val_binary_accuracy: 0.5041\n",
            "Epoch 3/3\n",
            "4/4 [==============================] - 3s 888ms/step - loss: 0.4292 - binary_accuracy: 0.5700 - val_loss: 0.4945 - val_binary_accuracy: 0.5041\n",
            "62/62 [==============================] - 2s 40ms/step - loss: 0.4945 - binary_accuracy: 0.5041\n",
            "Model: \"sequential_33\"\n",
            "_________________________________________________________________\n",
            " Layer (type)                Output Shape              Param #   \n",
            "=================================================================\n",
            " pqc_33 (PQC)                (None, 1)                 9         \n",
            "                                                                 \n",
            "=================================================================\n",
            "Total params: 9\n",
            "Trainable params: 9\n",
            "Non-trainable params: 0\n",
            "_________________________________________________________________\n",
            "None\n",
            "Epoch 1/3\n",
            "4/4 [==============================] - 7s 2s/step - loss: 0.5299 - binary_accuracy: 0.4700 - val_loss: 0.5656 - val_binary_accuracy: 0.4345\n",
            "Epoch 2/3\n",
            "4/4 [==============================] - 5s 1s/step - loss: 0.5599 - binary_accuracy: 0.4400 - val_loss: 0.5656 - val_binary_accuracy: 0.4345\n",
            "Epoch 3/3\n",
            "4/4 [==============================] - 5s 1s/step - loss: 0.6097 - binary_accuracy: 0.3900 - val_loss: 0.5656 - val_binary_accuracy: 0.4345\n",
            "62/62 [==============================] - 5s 82ms/step - loss: 0.5656 - binary_accuracy: 0.4345\n",
            "Model: \"sequential_34\"\n",
            "_________________________________________________________________\n",
            " Layer (type)                Output Shape              Param #   \n",
            "=================================================================\n",
            " pqc_34 (PQC)                (None, 1)                 1         \n",
            "                                                                 \n",
            "=================================================================\n",
            "Total params: 1\n",
            "Trainable params: 1\n",
            "Non-trainable params: 0\n",
            "_________________________________________________________________\n",
            "None\n",
            "Epoch 1/3\n",
            "4/4 [==============================] - 4s 767ms/step - loss: 0.4571 - binary_accuracy: 0.6300 - val_loss: 0.5201 - val_binary_accuracy: 0.5645\n",
            "Epoch 2/3\n",
            "4/4 [==============================] - 1s 450ms/step - loss: 0.4198 - binary_accuracy: 0.6500 - val_loss: 0.5114 - val_binary_accuracy: 0.5645\n",
            "Epoch 3/3\n",
            "4/4 [==============================] - 2s 608ms/step - loss: 0.4152 - binary_accuracy: 0.6400 - val_loss: 0.5033 - val_binary_accuracy: 0.5645\n",
            "62/62 [==============================] - 1s 21ms/step - loss: 0.5033 - binary_accuracy: 0.5645\n",
            "Model: \"sequential_35\"\n",
            "_________________________________________________________________\n",
            " Layer (type)                Output Shape              Param #   \n",
            "=================================================================\n",
            " pqc_35 (PQC)                (None, 1)                 4         \n",
            "                                                                 \n",
            "=================================================================\n",
            "Total params: 4\n",
            "Trainable params: 4\n",
            "Non-trainable params: 0\n",
            "_________________________________________________________________\n",
            "None\n",
            "Epoch 1/3\n",
            "4/4 [==============================] - 4s 987ms/step - loss: 0.8526 - binary_accuracy: 0.5200 - val_loss: 0.7836 - val_binary_accuracy: 0.5041\n",
            "Epoch 2/3\n",
            "4/4 [==============================] - 3s 879ms/step - loss: 0.7839 - binary_accuracy: 0.5200 - val_loss: 0.7544 - val_binary_accuracy: 0.5041\n",
            "Epoch 3/3\n",
            "4/4 [==============================] - 3s 905ms/step - loss: 0.6720 - binary_accuracy: 0.5500 - val_loss: 0.7270 - val_binary_accuracy: 0.5041\n",
            "62/62 [==============================] - 2s 37ms/step - loss: 0.7270 - binary_accuracy: 0.5041\n",
            "Model: \"sequential_36\"\n",
            "_________________________________________________________________\n",
            " Layer (type)                Output Shape              Param #   \n",
            "=================================================================\n",
            " pqc_36 (PQC)                (None, 1)                 9         \n",
            "                                                                 \n",
            "=================================================================\n",
            "Total params: 9\n",
            "Trainable params: 9\n",
            "Non-trainable params: 0\n",
            "_________________________________________________________________\n",
            "None\n",
            "Epoch 1/3\n",
            "4/4 [==============================] - 8s 2s/step - loss: 0.8796 - binary_accuracy: 0.3800 - val_loss: 0.8783 - val_binary_accuracy: 0.4502\n",
            "Epoch 2/3\n",
            "4/4 [==============================] - 5s 1s/step - loss: 0.8395 - binary_accuracy: 0.4700 - val_loss: 0.8603 - val_binary_accuracy: 0.4466\n",
            "Epoch 3/3\n",
            "4/4 [==============================] - 4s 1s/step - loss: 0.8012 - binary_accuracy: 0.4100 - val_loss: 0.8444 - val_binary_accuracy: 0.4405\n",
            "62/62 [==============================] - 5s 73ms/step - loss: 0.8444 - binary_accuracy: 0.4405\n"
          ]
        }
      ]
    },
    {
      "cell_type": "code",
      "source": [
        "SVGCircuit(experiment_log[3]['circuit'])\n",
        "print(experiment_log[3]['history'])\n",
        "# SVGCircuit(model_circuit)\n",
        "\n",
        "# pyplot.plot(experiment_log[5]['history'].history['binary_accuracy'])\n",
        "# pyplot.plot(experiment_log[5]['history'].history['val_binary_accuracy'])\n",
        "\n",
        "pyplot.plot(experiment_log[6]['history'].history['loss'])\n",
        "pyplot.plot(experiment_log[6]['history'].history['val_loss'])"
      ],
      "metadata": {
        "colab": {
          "base_uri": "https://localhost:8080/",
          "height": 300
        },
        "id": "dNW57F88Gg0T",
        "outputId": "e3b555df-aaf0-4ac4-8f9c-935c912f44e8"
      },
      "execution_count": 47,
      "outputs": [
        {
          "output_type": "stream",
          "name": "stdout",
          "text": [
            "<keras.callbacks.History object at 0x7f3cb0d4e6d0>\n"
          ]
        },
        {
          "output_type": "execute_result",
          "data": {
            "text/plain": [
              "[<matplotlib.lines.Line2D at 0x7f3cad3fb550>]"
            ]
          },
          "metadata": {},
          "execution_count": 47
        },
        {
          "output_type": "display_data",
          "data": {
            "text/plain": [
              "<Figure size 432x288 with 1 Axes>"
            ],
            "image/png": "[encoded data removed]"
          },
          "metadata": {
            "needs_background": "light"
          }
        }
      ]
    },
    {
      "cell_type": "code",
      "source": [
        ""
      ],
      "metadata": {
        "id": "CB3Cy5ZXGg-X"
      },
      "execution_count": 17,
      "outputs": []
    },
    {
      "cell_type": "code",
      "source": [
        ""
      ],
      "metadata": {
        "id": "w2gvtX_YGhJU"
      },
      "execution_count": 17,
      "outputs": []
    },
    {
      "cell_type": "code",
      "source": [
        ""
      ],
      "metadata": {
        "id": "O7TQaBshMhcJ"
      },
      "execution_count": 17,
      "outputs": []
    },
    {
      "cell_type": "code",
      "source": [
        ""
      ],
      "metadata": {
        "id": "DlxrKE3qMhoQ"
      },
      "execution_count": 17,
      "outputs": []
    },
    {
      "cell_type": "code",
      "source": [
        ""
      ],
      "metadata": {
        "id": "hCi_lvWpMhz1"
      },
      "execution_count": 17,
      "outputs": []
    },
    {
      "cell_type": "code",
      "source": [
        ""
      ],
      "metadata": {
        "id": "ZRmxzLEALiNr"
      },
      "execution_count": 17,
      "outputs": []
    },
    {
      "cell_type": "code",
      "source": [
        ""
      ],
      "metadata": {
        "id": "IMdrzvqvGQo4"
      },
      "execution_count": 17,
      "outputs": []
    }
  ]
}
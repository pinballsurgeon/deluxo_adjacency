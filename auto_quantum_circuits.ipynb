{
  "nbformat": 4,
  "nbformat_minor": 0,
  "metadata": {
    "colab": {
      "name": "auto_quantum_circuits.ipynb",
      "provenance": [],
      "collapsed_sections": [],
      "authorship_tag": "ABX9TyN84WNe4DjZVmyjPBzyLs//",
      "include_colab_link": true
    },
    "kernelspec": {
      "name": "python3",
      "display_name": "Python 3"
    },
    "language_info": {
      "name": "python"
    }
  },
  "cells": [
    {
      "cell_type": "markdown",
      "metadata": {
        "id": "view-in-github",
        "colab_type": "text"
      },
      "source": [
        "<a href=\"https://colab.research.google.com/github/pinballsurgeon/deluxo_adjacency/blob/main/auto_quantum_circuits.ipynb\" target=\"_parent\"><img src=\"https://colab.research.google.com/assets/colab-badge.svg\" alt=\"Open In Colab\"/></a>"
      ]
    },
    {
      "cell_type": "markdown",
      "source": [
        "# Auto Quantum Circuits\n",
        "#### dehls - pinballsurgeon@gmail.com"
      ],
      "metadata": {
        "id": "dhwB9OhHwgvh"
      }
    },
    {
      "cell_type": "code",
      "execution_count": 1,
      "metadata": {
        "id": "kL3NaosJFyiz"
      },
      "outputs": [],
      "source": [
        "!pip install --quiet tensorflow_quantum"
      ]
    },
    {
      "cell_type": "markdown",
      "source": [
        ""
      ],
      "metadata": {
        "id": "EgOLMHAQwd-S"
      }
    },
    {
      "cell_type": "code",
      "source": [
        "import cirq\n",
        "import sympy\n",
        "import tensorflow\n",
        "import numpy\n",
        "import gc\n",
        "\n",
        "%matplotlib inline\n",
        "import matplotlib.pyplot\n",
        "\n",
        "from cirq.contrib.svg import SVGCircuit\n",
        "\n",
        "import tensorflow_quantum"
      ],
      "metadata": {
        "id": "DUlhaeoeGPop"
      },
      "execution_count": 2,
      "outputs": []
    },
    {
      "cell_type": "markdown",
      "source": [
        "Helper Functions"
      ],
      "metadata": {
        "id": "TJlbByAk3buT"
      }
    },
    {
      "cell_type": "code",
      "source": [
        "# given a data and out qubit structure, build dynamic circuit\n",
        "class circuit_struct():\n",
        "    def __init__(self, data_qubits, readout):\n",
        "        self.data_qubits = data_qubits\n",
        "        self.readout = readout\n",
        "    \n",
        "    def add_layer(self, circuit, gate, prefix):\n",
        "        for i, qubit in enumerate(self.data_qubits):\n",
        "            symbol = sympy.Symbol(prefix + '-' + str(i))\n",
        "            circuit.append(gate(qubit, self.readout)**symbol)"
      ],
      "metadata": {
        "id": "nvcBT4RIGP3Y"
      },
      "execution_count": 3,
      "outputs": []
    },
    {
      "cell_type": "code",
      "source": [
        "# given a combination of qubit grid size and gate population, build \n",
        "def create_quantum_model(gridSize, hyperGates):\n",
        "\n",
        "    # cirq\n",
        "    data_qubits = cirq.GridQubit.rect(gridSize, gridSize)\n",
        "    readout = cirq.GridQubit(-1, -1)         \n",
        "    circuit = cirq.Circuit()\n",
        "    \n",
        "    # prepare the readout qubit\n",
        "    circuit.append(cirq.X(readout))\n",
        "    circuit.append(cirq.H(readout))\n",
        "    \n",
        "    # create qubit\n",
        "    builder = circuit_struct(\n",
        "        data_qubits = data_qubits,\n",
        "        readout=readout)\n",
        "\n",
        "    # buid layers\n",
        "    for gate in hyperGates:\n",
        "\n",
        "      # builder.add_layer(circuit, cirq.XX, \"xx1\")\n",
        "      builder.add_layer(circuit, gate, \"zz1\")\n",
        "   \n",
        "    # prepare the readout qubit\n",
        "    circuit.append(cirq.H(readout))\n",
        "\n",
        "    return circuit, cirq.Z(readout)"
      ],
      "metadata": {
        "id": "c_eitDLdGQE5"
      },
      "execution_count": 4,
      "outputs": []
    },
    {
      "cell_type": "code",
      "source": [
        "### pixel to qubit\n",
        "def convert_to_circuit(image):\n",
        "\n",
        "    values = numpy.ndarray.flatten(image)\n",
        "    qubits = cirq.GridQubit.rect(4, 4)\n",
        "    circuit = cirq.Circuit()\n",
        "    for i, value in enumerate(values):\n",
        "        if value:\n",
        "            circuit.append(cirq.X(qubits[i]))\n",
        "    return circuit"
      ],
      "metadata": {
        "id": "ISAOn5Aa-CXb"
      },
      "execution_count": null,
      "outputs": []
    },
    {
      "cell_type": "code",
      "source": [
        "(x_train, y_train), (x_test, y_test) = tensorflow.keras.datasets.mnist.load_data()\n",
        "\n",
        "# Rescale the images from [0,255] to the [0.0,1.0] range.\n",
        "x_train, x_test = x_train[..., numpy.newaxis]/255.0, x_test[..., numpy.newaxis]/255.0"
      ],
      "metadata": {
        "id": "vHHqySURQyHH"
      },
      "execution_count": 5,
      "outputs": []
    },
    {
      "cell_type": "code",
      "source": [
        "def filter_36(x, y):\n",
        "    keep = (y == 3) | (y == 6)\n",
        "    x, y = x[keep], y[keep]\n",
        "    y = y == 3\n",
        "    return x,y"
      ],
      "metadata": {
        "id": "9xwbMDuyQ1-3"
      },
      "execution_count": 6,
      "outputs": []
    },
    {
      "cell_type": "code",
      "source": [
        "x_train, y_train = filter_36(x_train, y_train)\n",
        "x_test, y_test = filter_36(x_test, y_test)"
      ],
      "metadata": {
        "id": "j_4RnsIcRAEy"
      },
      "execution_count": 7,
      "outputs": []
    },
    {
      "cell_type": "code",
      "source": [
        "x_train_small = tensorflow.image.resize(x_train, (4,4)).numpy()\n",
        "x_test_small = tensorflow.image.resize(x_test, (4,4)).numpy()"
      ],
      "metadata": {
        "id": "uI8h9oL_RASH"
      },
      "execution_count": 8,
      "outputs": []
    },
    {
      "cell_type": "code",
      "source": [
        "x_train_nocon, y_train_nocon = x_train_small[:100], y_train[:100]"
      ],
      "metadata": {
        "id": "FgX1VGpkRAcN"
      },
      "execution_count": 9,
      "outputs": []
    },
    {
      "cell_type": "code",
      "source": [
        "x_train_circ = [convert_to_circuit(x) for x in x_train_nocon]\n",
        "x_test_circ = [convert_to_circuit(x) for x in x_test_small]"
      ],
      "metadata": {
        "id": "76AtlTfERWMs"
      },
      "execution_count": 11,
      "outputs": []
    },
    {
      "cell_type": "code",
      "source": [
        "x_train_tfcirc = tensorflow_quantum.convert_to_tensor(x_train_circ)\n",
        "x_test_tfcirc = tensorflow_quantum.convert_to_tensor(x_test_circ)"
      ],
      "metadata": {
        "id": "TtA0FZ5WRWZe"
      },
      "execution_count": 12,
      "outputs": []
    },
    {
      "cell_type": "code",
      "source": [
        "EPOCHS = 3\n",
        "BATCH_SIZE = 32\n",
        "\n",
        "NUM_EXAMPLES = len(x_train_tfcirc)"
      ],
      "metadata": {
        "id": "sGUGGqDdRsDv"
      },
      "execution_count": 13,
      "outputs": []
    },
    {
      "cell_type": "code",
      "source": [
        "x_train_tfcirc_sub = x_train_tfcirc[:NUM_EXAMPLES]\n",
        "y_train_hinge_sub = y_train_nocon[:NUM_EXAMPLES]"
      ],
      "metadata": {
        "id": "uUvyxpKqRsLJ"
      },
      "execution_count": 14,
      "outputs": []
    },
    {
      "cell_type": "code",
      "source": [
        "class mem_release(tensorflow.keras.callbacks.Callback):\n",
        "    def on_epoch_end(self, epoch, logs=None):\n",
        "        gc.collect()"
      ],
      "metadata": {
        "id": "UsvRncZpRsSN"
      },
      "execution_count": 18,
      "outputs": []
    },
    {
      "cell_type": "code",
      "source": [
        "experiment_count = 0\n",
        "experiment_log = {}\n",
        "for gates in [[cirq.XX, cirq.ZZ], [cirq.CZ, cirq.ZZ]]:\n",
        "  for gridSize_int in [1, 2, 3]:\n",
        "\n",
        "    model_circuit, model_readout = create_quantum_model(gridSize_int, gates)\n",
        "    \n",
        "    # Build the Keras model.\n",
        "    model = tensorflow.keras.Sequential([\n",
        "        # The input is the data-circuit, encoded as a tf.string\n",
        "        tensorflow.keras.layers.Input(shape=(), dtype=tensorflow.string),\n",
        "        # tensorflow.keras.layers.Dense(64, activation='relu'),\n",
        "        # The PQC layer returns the expected value of the readout gate, range [-1,1].\n",
        "        tensorflow_quantum.layers.PQC(model_circuit, model_readout),])\n",
        "\n",
        "    model.compile(\n",
        "      loss=tensorflow.keras.losses.mse,\n",
        "      optimizer=tensorflow.keras.optimizers.Adam(),\n",
        "      metrics=[tensorflow.keras.metrics.BinaryAccuracy()]\n",
        "      )\n",
        "    \n",
        "    print(model.summary())\n",
        "\n",
        "    qnn_history = model.fit(\n",
        "        x_train_tfcirc_sub, y_train_hinge_sub,\n",
        "        batch_size=32,\n",
        "        epochs=EPOCHS,\n",
        "        verbose=1,\n",
        "        callbacks=[mem_release()]\n",
        "        )\n",
        "\n",
        "    qnn_results = model.evaluate(x_test_tfcirc, y_test)\n",
        "\n",
        "    experiment_count += 1\n",
        "    experiment_log[experiment_count] = {'circuit' : model_circuit\n",
        "                                       ,'history' : qnn_history}\n",
        "    "
      ],
      "metadata": {
        "colab": {
          "base_uri": "https://localhost:8080/"
        },
        "id": "dPcJoEuGGgoN",
        "outputId": "44058fea-9d22-4c93-d362-cea996b5df8c"
      },
      "execution_count": 32,
      "outputs": [
        {
          "output_type": "stream",
          "name": "stdout",
          "text": [
            "Model: \"sequential_24\"\n",
            "_________________________________________________________________\n",
            " Layer (type)                Output Shape              Param #   \n",
            "=================================================================\n",
            " pqc_24 (PQC)                (None, 1)                 1         \n",
            "                                                                 \n",
            "=================================================================\n",
            "Total params: 1\n",
            "Trainable params: 1\n",
            "Non-trainable params: 0\n",
            "_________________________________________________________________\n",
            "None\n",
            "Epoch 1/3\n",
            "4/4 [==============================] - 3s 295ms/step - loss: 1.0134 - binary_accuracy: 0.5500\n",
            "Epoch 2/3\n",
            "4/4 [==============================] - 1s 220ms/step - loss: 0.8462 - binary_accuracy: 0.6000\n",
            "Epoch 3/3\n",
            "4/4 [==============================] - 1s 234ms/step - loss: 0.9393 - binary_accuracy: 0.5700\n",
            "62/62 [==============================] - 2s 17ms/step - loss: 0.9145 - binary_accuracy: 0.5645\n",
            "Model: \"sequential_25\"\n",
            "_________________________________________________________________\n",
            " Layer (type)                Output Shape              Param #   \n",
            "=================================================================\n",
            " pqc_25 (PQC)                (None, 1)                 4         \n",
            "                                                                 \n",
            "=================================================================\n",
            "Total params: 4\n",
            "Trainable params: 4\n",
            "Non-trainable params: 0\n",
            "_________________________________________________________________\n",
            "None\n",
            "Epoch 1/3\n",
            "4/4 [==============================] - 2s 218ms/step - loss: 0.5108 - binary_accuracy: 0.4800\n",
            "Epoch 2/3\n",
            "4/4 [==============================] - 1s 180ms/step - loss: 0.3794 - binary_accuracy: 0.6100\n",
            "Epoch 3/3\n",
            "4/4 [==============================] - 1s 172ms/step - loss: 0.3698 - binary_accuracy: 0.6200\n",
            "62/62 [==============================] - 3s 39ms/step - loss: 0.4807 - binary_accuracy: 0.5041\n",
            "Model: \"sequential_26\"\n",
            "_________________________________________________________________\n",
            " Layer (type)                Output Shape              Param #   \n",
            "=================================================================\n",
            " pqc_26 (PQC)                (None, 1)                 9         \n",
            "                                                                 \n",
            "=================================================================\n",
            "Total params: 9\n",
            "Trainable params: 9\n",
            "Non-trainable params: 0\n",
            "_________________________________________________________________\n",
            "None\n",
            "Epoch 1/3\n",
            "4/4 [==============================] - 3s 315ms/step - loss: 0.5938 - binary_accuracy: 0.4000\n",
            "Epoch 2/3\n",
            "4/4 [==============================] - 1s 263ms/step - loss: 0.4924 - binary_accuracy: 0.5000\n",
            "Epoch 3/3\n",
            "4/4 [==============================] - 1s 323ms/step - loss: 0.5988 - binary_accuracy: 0.3900\n",
            "62/62 [==============================] - 5s 64ms/step - loss: 0.5506 - binary_accuracy: 0.4345\n",
            "Model: \"sequential_27\"\n",
            "_________________________________________________________________\n",
            " Layer (type)                Output Shape              Param #   \n",
            "=================================================================\n",
            " pqc_27 (PQC)                (None, 1)                 1         \n",
            "                                                                 \n",
            "=================================================================\n",
            "Total params: 1\n",
            "Trainable params: 1\n",
            "Non-trainable params: 0\n",
            "_________________________________________________________________\n",
            "None\n",
            "Epoch 1/3\n",
            "4/4 [==============================] - 2s 161ms/step - loss: 1.0712 - binary_accuracy: 0.6400\n",
            "Epoch 2/3\n",
            "4/4 [==============================] - 1s 224ms/step - loss: 1.1211 - binary_accuracy: 0.6200\n",
            "Epoch 3/3\n",
            "4/4 [==============================] - 1s 172ms/step - loss: 1.1651 - binary_accuracy: 0.6100\n",
            "62/62 [==============================] - 1s 18ms/step - loss: 1.1991 - binary_accuracy: 0.5645\n",
            "Model: \"sequential_28\"\n",
            "_________________________________________________________________\n",
            " Layer (type)                Output Shape              Param #   \n",
            "=================================================================\n",
            " pqc_28 (PQC)                (None, 1)                 4         \n",
            "                                                                 \n",
            "=================================================================\n",
            "Total params: 4\n",
            "Trainable params: 4\n",
            "Non-trainable params: 0\n",
            "_________________________________________________________________\n",
            "None\n",
            "Epoch 1/3\n",
            "4/4 [==============================] - 2s 226ms/step - loss: 0.7234 - binary_accuracy: 0.5400\n",
            "Epoch 2/3\n",
            "4/4 [==============================] - 1s 275ms/step - loss: 0.6133 - binary_accuracy: 0.5600\n",
            "Epoch 3/3\n",
            "4/4 [==============================] - 1s 233ms/step - loss: 0.6357 - binary_accuracy: 0.5500\n",
            "62/62 [==============================] - 2s 27ms/step - loss: 0.6681 - binary_accuracy: 0.6540\n",
            "Model: \"sequential_29\"\n",
            "_________________________________________________________________\n",
            " Layer (type)                Output Shape              Param #   \n",
            "=================================================================\n",
            " pqc_29 (PQC)                (None, 1)                 9         \n",
            "                                                                 \n",
            "=================================================================\n",
            "Total params: 9\n",
            "Trainable params: 9\n",
            "Non-trainable params: 0\n",
            "_________________________________________________________________\n",
            "None\n",
            "Epoch 1/3\n",
            "4/4 [==============================] - 2s 267ms/step - loss: 0.6261 - binary_accuracy: 0.6700\n",
            "Epoch 2/3\n",
            "4/4 [==============================] - 1s 204ms/step - loss: 0.5622 - binary_accuracy: 0.6700\n",
            "Epoch 3/3\n",
            "4/4 [==============================] - 1s 293ms/step - loss: 0.5582 - binary_accuracy: 0.6800\n",
            "62/62 [==============================] - 4s 60ms/step - loss: 0.6444 - binary_accuracy: 0.6479\n"
          ]
        }
      ]
    },
    {
      "cell_type": "code",
      "source": [
        "SVGCircuit(experiment_log[3]['circuit'])\n",
        "print(experiment_log[3]['history'])\n",
        "# SVGCircuit(model_circuit)"
      ],
      "metadata": {
        "colab": {
          "base_uri": "https://localhost:8080/"
        },
        "id": "dNW57F88Gg0T",
        "outputId": "43d5a37b-a694-4830-ff37-352217770340"
      },
      "execution_count": 34,
      "outputs": [
        {
          "output_type": "stream",
          "name": "stdout",
          "text": [
            "<keras.callbacks.History object at 0x7f3cb07113d0>\n"
          ]
        }
      ]
    },
    {
      "cell_type": "code",
      "source": [
        ""
      ],
      "metadata": {
        "id": "CB3Cy5ZXGg-X"
      },
      "execution_count": 17,
      "outputs": []
    },
    {
      "cell_type": "code",
      "source": [
        ""
      ],
      "metadata": {
        "id": "w2gvtX_YGhJU"
      },
      "execution_count": 17,
      "outputs": []
    },
    {
      "cell_type": "code",
      "source": [
        ""
      ],
      "metadata": {
        "id": "O7TQaBshMhcJ"
      },
      "execution_count": 17,
      "outputs": []
    },
    {
      "cell_type": "code",
      "source": [
        ""
      ],
      "metadata": {
        "id": "DlxrKE3qMhoQ"
      },
      "execution_count": 17,
      "outputs": []
    },
    {
      "cell_type": "code",
      "source": [
        ""
      ],
      "metadata": {
        "id": "hCi_lvWpMhz1"
      },
      "execution_count": 17,
      "outputs": []
    },
    {
      "cell_type": "code",
      "source": [
        ""
      ],
      "metadata": {
        "id": "ZRmxzLEALiNr"
      },
      "execution_count": 17,
      "outputs": []
    },
    {
      "cell_type": "code",
      "source": [
        ""
      ],
      "metadata": {
        "id": "IMdrzvqvGQo4"
      },
      "execution_count": 17,
      "outputs": []
    }
  ]
}
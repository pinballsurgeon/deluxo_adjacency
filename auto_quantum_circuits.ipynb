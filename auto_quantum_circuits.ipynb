{
  "nbformat": 4,
  "nbformat_minor": 0,
  "metadata": {
    "colab": {
      "name": "auto_quantum_circuits.ipynb",
      "provenance": [],
      "collapsed_sections": [],
      "authorship_tag": "ABX9TyNw/QN+NfDK4x2/Xe4mN+6H",
      "include_colab_link": true
    },
    "kernelspec": {
      "name": "python3",
      "display_name": "Python 3"
    },
    "language_info": {
      "name": "python"
    }
  },
  "cells": [
    {
      "cell_type": "markdown",
      "metadata": {
        "id": "view-in-github",
        "colab_type": "text"
      },
      "source": [
        "<a href=\"https://colab.research.google.com/github/pinballsurgeon/deluxo_adjacency/blob/main/auto_quantum_circuits.ipynb\" target=\"_parent\"><img src=\"https://colab.research.google.com/assets/colab-badge.svg\" alt=\"Open In Colab\"/></a>"
      ]
    },
    {
      "cell_type": "markdown",
      "source": [
        "# Auto Quantum Circuits\n",
        "#### dehls - pinballsurgeon@gmail.com"
      ],
      "metadata": {
        "id": "dhwB9OhHwgvh"
      }
    },
    {
      "cell_type": "code",
      "execution_count": 35,
      "metadata": {
        "id": "kL3NaosJFyiz"
      },
      "outputs": [],
      "source": [
        "!pip install --quiet tensorflow_quantum"
      ]
    },
    {
      "cell_type": "markdown",
      "source": [
        ""
      ],
      "metadata": {
        "id": "EgOLMHAQwd-S"
      }
    },
    {
      "cell_type": "code",
      "source": [
        "import cirq\n",
        "import sympy\n",
        "import tensorflow\n",
        "import numpy\n",
        "import gc\n",
        "\n",
        "%matplotlib inline\n",
        "from matplotlib import pyplot\n",
        "\n",
        "from cirq.contrib.svg import SVGCircuit\n",
        "\n",
        "import tensorflow_quantum"
      ],
      "metadata": {
        "id": "DUlhaeoeGPop"
      },
      "execution_count": 36,
      "outputs": []
    },
    {
      "cell_type": "markdown",
      "source": [
        "Helper Functions"
      ],
      "metadata": {
        "id": "TJlbByAk3buT"
      }
    },
    {
      "cell_type": "code",
      "source": [
        "# given a data and out qubit structure, build dynamic circuit\n",
        "class circuit_struct():\n",
        "    def __init__(self, data_qubits, readout):\n",
        "        self.data_qubits = data_qubits\n",
        "        self.readout = readout\n",
        "    \n",
        "    def add_layer(self, circuit, gate, prefix):\n",
        "        for i, qubit in enumerate(self.data_qubits):\n",
        "            symbol = sympy.Symbol(prefix + '-' + str(i))\n",
        "            circuit.append(gate(qubit, self.readout)**symbol)"
      ],
      "metadata": {
        "id": "nvcBT4RIGP3Y"
      },
      "execution_count": 37,
      "outputs": []
    },
    {
      "cell_type": "code",
      "source": [
        "# given a combination of qubit grid size and gate population, build \n",
        "def create_quantum_model(gridSize, hyperGates):\n",
        "\n",
        "    # cirq\n",
        "    data_qubits = cirq.GridQubit.rect(gridSize, gridSize)\n",
        "    readout = cirq.GridQubit(-1, -1)         \n",
        "    circuit = cirq.Circuit()\n",
        "    \n",
        "    # prepare the readout qubit\n",
        "    circuit.append(cirq.X(readout))\n",
        "    circuit.append(cirq.H(readout))\n",
        "    \n",
        "    # create qubit\n",
        "    builder = circuit_struct(\n",
        "        data_qubits = data_qubits,\n",
        "        readout=readout)\n",
        "\n",
        "    # buid layers\n",
        "    for gate in hyperGates:\n",
        "\n",
        "      # builder.add_layer(circuit, cirq.XX, \"xx1\")\n",
        "      builder.add_layer(circuit, gate, \"zz1\")\n",
        "   \n",
        "    # prepare the readout qubit\n",
        "    circuit.append(cirq.H(readout))\n",
        "\n",
        "    return circuit, cirq.Z(readout)"
      ],
      "metadata": {
        "id": "c_eitDLdGQE5"
      },
      "execution_count": 38,
      "outputs": []
    },
    {
      "cell_type": "code",
      "source": [
        "### pixel to qubit\n",
        "def convert_to_circuit(image):\n",
        "\n",
        "    values = numpy.ndarray.flatten(image)\n",
        "    qubits = cirq.GridQubit.rect(4, 4)\n",
        "    circuit = cirq.Circuit()\n",
        "    for i, value in enumerate(values):\n",
        "        if value:\n",
        "            circuit.append(cirq.X(qubits[i]))\n",
        "    return circuit"
      ],
      "metadata": {
        "id": "ISAOn5Aa-CXb"
      },
      "execution_count": 39,
      "outputs": []
    },
    {
      "cell_type": "code",
      "source": [
        "(x_train, y_train), (x_test, y_test) = tensorflow.keras.datasets.mnist.load_data()\n",
        "\n",
        "# Rescale the images from [0,255] to the [0.0,1.0] range.\n",
        "x_train, x_test = x_train[..., numpy.newaxis]/255.0, x_test[..., numpy.newaxis]/255.0"
      ],
      "metadata": {
        "id": "vHHqySURQyHH"
      },
      "execution_count": 40,
      "outputs": []
    },
    {
      "cell_type": "code",
      "source": [
        "def filter_36(x, y):\n",
        "    keep = (y == 3) | (y == 6)\n",
        "    x, y = x[keep], y[keep]\n",
        "    y = y == 3\n",
        "    return x,y"
      ],
      "metadata": {
        "id": "9xwbMDuyQ1-3"
      },
      "execution_count": 41,
      "outputs": []
    },
    {
      "cell_type": "code",
      "source": [
        "x_train, y_train = filter_36(x_train, y_train)\n",
        "x_test, y_test = filter_36(x_test, y_test)"
      ],
      "metadata": {
        "id": "j_4RnsIcRAEy"
      },
      "execution_count": 42,
      "outputs": []
    },
    {
      "cell_type": "code",
      "source": [
        "x_train_small = tensorflow.image.resize(x_train, (4,4)).numpy()\n",
        "x_test_small = tensorflow.image.resize(x_test, (4,4)).numpy()"
      ],
      "metadata": {
        "id": "uI8h9oL_RASH"
      },
      "execution_count": 43,
      "outputs": []
    },
    {
      "cell_type": "code",
      "source": [
        "x_train_nocon, y_train_nocon = x_train_small[:100], y_train[:100]"
      ],
      "metadata": {
        "id": "FgX1VGpkRAcN"
      },
      "execution_count": 44,
      "outputs": []
    },
    {
      "cell_type": "code",
      "source": [
        "x_train_circ = [convert_to_circuit(x) for x in x_train_nocon]\n",
        "x_test_circ = [convert_to_circuit(x) for x in x_test_small]"
      ],
      "metadata": {
        "id": "76AtlTfERWMs"
      },
      "execution_count": 45,
      "outputs": []
    },
    {
      "cell_type": "code",
      "source": [
        "x_train_tfcirc = tensorflow_quantum.convert_to_tensor(x_train_circ)\n",
        "x_test_tfcirc = tensorflow_quantum.convert_to_tensor(x_test_circ)"
      ],
      "metadata": {
        "id": "TtA0FZ5WRWZe"
      },
      "execution_count": 46,
      "outputs": []
    },
    {
      "cell_type": "code",
      "source": [
        "EPOCHS = 20\n",
        "BATCH_SIZE = 32\n",
        "\n",
        "NUM_EXAMPLES = len(x_train_tfcirc)"
      ],
      "metadata": {
        "id": "sGUGGqDdRsDv"
      },
      "execution_count": 47,
      "outputs": []
    },
    {
      "cell_type": "code",
      "source": [
        "x_train_tfcirc_sub = x_train_tfcirc[:NUM_EXAMPLES]\n",
        "y_train_hinge_sub = y_train_nocon[:NUM_EXAMPLES]"
      ],
      "metadata": {
        "id": "uUvyxpKqRsLJ"
      },
      "execution_count": 48,
      "outputs": []
    },
    {
      "cell_type": "code",
      "source": [
        "class mem_release(tensorflow.keras.callbacks.Callback):\n",
        "    def on_epoch_end(self, epoch, logs=None):\n",
        "        gc.collect()"
      ],
      "metadata": {
        "id": "UsvRncZpRsSN"
      },
      "execution_count": 49,
      "outputs": []
    },
    {
      "cell_type": "code",
      "source": [
        "experiment_count = 0\n",
        "experiment_log = {}\n",
        "for gates in [[cirq.XX, cirq.ZZ], [cirq.CZ, cirq.ZZ]]:\n",
        "  for gridSize_int in [1, 2, 3]:\n",
        "\n",
        "    model_circuit, model_readout = create_quantum_model(gridSize_int, gates)\n",
        "    \n",
        "    # Build the Keras model.\n",
        "    model = tensorflow.keras.Sequential([\n",
        "        # The input is the data-circuit, encoded as a tf.string\n",
        "        tensorflow.keras.layers.Input(shape=(), dtype=tensorflow.string),\n",
        "        # tensorflow.keras.layers.Dense(64, activation='relu'),\n",
        "        # The PQC layer returns the expected value of the readout gate, range [-1,1].\n",
        "        tensorflow_quantum.layers.PQC(model_circuit, model_readout),])\n",
        "\n",
        "    model.compile(\n",
        "      loss=tensorflow.keras.losses.mse,\n",
        "      optimizer=tensorflow.keras.optimizers.Adam(),\n",
        "      metrics=[tensorflow.keras.metrics.BinaryAccuracy()]\n",
        "      )\n",
        "    \n",
        "    print(model.summary())\n",
        "\n",
        "    qnn_history = model.fit(\n",
        "        x_train_tfcirc_sub, y_train_hinge_sub,\n",
        "        batch_size=32,\n",
        "        epochs=EPOCHS,\n",
        "        verbose=1,\n",
        "        callbacks=[mem_release()],\n",
        "        validation_data=(x_test_tfcirc, y_test)\n",
        "        )\n",
        "\n",
        "    qnn_results = model.evaluate(x_test_tfcirc, y_test)\n",
        "\n",
        "    experiment_count += 1\n",
        "    experiment_log[experiment_count] = {'circuit' : model_circuit\n",
        "                                       ,'history' : qnn_history}\n",
        "    "
      ],
      "metadata": {
        "colab": {
          "base_uri": "https://localhost:8080/"
        },
        "id": "dPcJoEuGGgoN",
        "outputId": "9477da9f-fe55-4643-f35f-479d9752668a"
      },
      "execution_count": 50,
      "outputs": [
        {
          "output_type": "stream",
          "name": "stdout",
          "text": [
            "Model: \"sequential_12\"\n",
            "_________________________________________________________________\n",
            " Layer (type)                Output Shape              Param #   \n",
            "=================================================================\n",
            " pqc_12 (PQC)                (None, 1)                 1         \n",
            "                                                                 \n",
            "=================================================================\n",
            "Total params: 1\n",
            "Trainable params: 1\n",
            "Non-trainable params: 0\n",
            "_________________________________________________________________\n",
            "None\n",
            "Epoch 1/20\n",
            "4/4 [==============================] - 2s 396ms/step - loss: 0.5988 - binary_accuracy: 0.6100 - val_loss: 0.6387 - val_binary_accuracy: 0.5645\n",
            "Epoch 2/20\n",
            "4/4 [==============================] - 1s 216ms/step - loss: 0.5953 - binary_accuracy: 0.6100 - val_loss: 0.6285 - val_binary_accuracy: 0.5645\n",
            "Epoch 3/20\n",
            "4/4 [==============================] - 1s 220ms/step - loss: 0.4714 - binary_accuracy: 0.6900 - val_loss: 0.6191 - val_binary_accuracy: 0.5645\n",
            "Epoch 4/20\n",
            "4/4 [==============================] - 1s 227ms/step - loss: 0.5379 - binary_accuracy: 0.6300 - val_loss: 0.6103 - val_binary_accuracy: 0.5645\n",
            "Epoch 5/20\n",
            "4/4 [==============================] - 1s 254ms/step - loss: 0.6100 - binary_accuracy: 0.5700 - val_loss: 0.6013 - val_binary_accuracy: 0.5645\n",
            "Epoch 6/20\n",
            "4/4 [==============================] - 1s 368ms/step - loss: 0.6006 - binary_accuracy: 0.5700 - val_loss: 0.5919 - val_binary_accuracy: 0.5645\n",
            "Epoch 7/20\n",
            "4/4 [==============================] - 1s 420ms/step - loss: 0.5074 - binary_accuracy: 0.6300 - val_loss: 0.5827 - val_binary_accuracy: 0.5645\n",
            "Epoch 8/20\n",
            "4/4 [==============================] - 1s 431ms/step - loss: 0.5377 - binary_accuracy: 0.6000 - val_loss: 0.5740 - val_binary_accuracy: 0.5645\n",
            "Epoch 9/20\n",
            "4/4 [==============================] - 1s 459ms/step - loss: 0.4487 - binary_accuracy: 0.6500 - val_loss: 0.5658 - val_binary_accuracy: 0.5645\n",
            "Epoch 10/20\n",
            "4/4 [==============================] - 1s 457ms/step - loss: 0.5779 - binary_accuracy: 0.5600 - val_loss: 0.5574 - val_binary_accuracy: 0.5645\n",
            "Epoch 11/20\n",
            "4/4 [==============================] - 2s 575ms/step - loss: 0.5262 - binary_accuracy: 0.6000 - val_loss: 0.5489 - val_binary_accuracy: 0.5645\n",
            "Epoch 12/20\n",
            "4/4 [==============================] - 1s 438ms/step - loss: 0.4826 - binary_accuracy: 0.6200 - val_loss: 0.5409 - val_binary_accuracy: 0.5645\n",
            "Epoch 13/20\n",
            "4/4 [==============================] - 2s 576ms/step - loss: 0.4852 - binary_accuracy: 0.6200 - val_loss: 0.5331 - val_binary_accuracy: 0.5645\n",
            "Epoch 14/20\n",
            "4/4 [==============================] - 2s 669ms/step - loss: 0.4281 - binary_accuracy: 0.6500 - val_loss: 0.5248 - val_binary_accuracy: 0.5645\n",
            "Epoch 15/20\n",
            "4/4 [==============================] - 1s 469ms/step - loss: 0.4406 - binary_accuracy: 0.6300 - val_loss: 0.5165 - val_binary_accuracy: 0.5645\n",
            "Epoch 16/20\n",
            "4/4 [==============================] - 1s 449ms/step - loss: 0.5599 - binary_accuracy: 0.5300 - val_loss: 0.5078 - val_binary_accuracy: 0.5645\n",
            "Epoch 17/20\n",
            "4/4 [==============================] - 1s 403ms/step - loss: 0.5594 - binary_accuracy: 0.5200 - val_loss: 0.4998 - val_binary_accuracy: 0.5645\n",
            "Epoch 18/20\n",
            "4/4 [==============================] - 1s 466ms/step - loss: 0.4087 - binary_accuracy: 0.6400 - val_loss: 0.4927 - val_binary_accuracy: 0.5645\n",
            "Epoch 19/20\n",
            "4/4 [==============================] - 1s 476ms/step - loss: 0.4011 - binary_accuracy: 0.6400 - val_loss: 0.4864 - val_binary_accuracy: 0.5645\n",
            "Epoch 20/20\n",
            "4/4 [==============================] - 1s 444ms/step - loss: 0.4214 - binary_accuracy: 0.6300 - val_loss: 0.4800 - val_binary_accuracy: 0.5645\n",
            "62/62 [==============================] - 1s 13ms/step - loss: 0.4800 - binary_accuracy: 0.5645\n",
            "Model: \"sequential_13\"\n",
            "_________________________________________________________________\n",
            " Layer (type)                Output Shape              Param #   \n",
            "=================================================================\n",
            " pqc_13 (PQC)                (None, 1)                 4         \n",
            "                                                                 \n",
            "=================================================================\n",
            "Total params: 4\n",
            "Trainable params: 4\n",
            "Non-trainable params: 0\n",
            "_________________________________________________________________\n",
            "None\n",
            "Epoch 1/20\n",
            "4/4 [==============================] - 3s 674ms/step - loss: 0.3907 - binary_accuracy: 0.6100 - val_loss: 0.4969 - val_binary_accuracy: 0.5041\n",
            "Epoch 2/20\n",
            "4/4 [==============================] - 2s 571ms/step - loss: 0.4390 - binary_accuracy: 0.5600 - val_loss: 0.4968 - val_binary_accuracy: 0.5041\n",
            "Epoch 3/20\n",
            "4/4 [==============================] - 2s 552ms/step - loss: 0.4412 - binary_accuracy: 0.5600 - val_loss: 0.4968 - val_binary_accuracy: 0.5041\n",
            "Epoch 4/20\n",
            "4/4 [==============================] - 2s 562ms/step - loss: 0.4503 - binary_accuracy: 0.5500 - val_loss: 0.4966 - val_binary_accuracy: 0.5041\n",
            "Epoch 5/20\n",
            "4/4 [==============================] - 2s 578ms/step - loss: 0.4797 - binary_accuracy: 0.5200 - val_loss: 0.4965 - val_binary_accuracy: 0.5041\n",
            "Epoch 6/20\n",
            "4/4 [==============================] - 2s 549ms/step - loss: 0.4608 - binary_accuracy: 0.5400 - val_loss: 0.4964 - val_binary_accuracy: 0.5041\n",
            "Epoch 7/20\n",
            "4/4 [==============================] - 2s 576ms/step - loss: 0.4198 - binary_accuracy: 0.5800 - val_loss: 0.4962 - val_binary_accuracy: 0.5041\n",
            "Epoch 8/20\n",
            "4/4 [==============================] - 2s 589ms/step - loss: 0.4102 - binary_accuracy: 0.5900 - val_loss: 0.4961 - val_binary_accuracy: 0.5041\n",
            "Epoch 9/20\n",
            "4/4 [==============================] - 2s 581ms/step - loss: 0.3700 - binary_accuracy: 0.6300 - val_loss: 0.4960 - val_binary_accuracy: 0.5041\n",
            "Epoch 10/20\n",
            "4/4 [==============================] - 2s 591ms/step - loss: 0.4501 - binary_accuracy: 0.5500 - val_loss: 0.4959 - val_binary_accuracy: 0.5041\n",
            "Epoch 11/20\n",
            "4/4 [==============================] - 2s 579ms/step - loss: 0.4795 - binary_accuracy: 0.5200 - val_loss: 0.4959 - val_binary_accuracy: 0.5041\n",
            "Epoch 12/20\n",
            "4/4 [==============================] - 2s 579ms/step - loss: 0.4390 - binary_accuracy: 0.5600 - val_loss: 0.4958 - val_binary_accuracy: 0.5041\n",
            "Epoch 13/20\n",
            "4/4 [==============================] - 2s 581ms/step - loss: 0.4494 - binary_accuracy: 0.5500 - val_loss: 0.4958 - val_binary_accuracy: 0.5041\n",
            "Epoch 14/20\n",
            "4/4 [==============================] - 2s 578ms/step - loss: 0.4793 - binary_accuracy: 0.5200 - val_loss: 0.4957 - val_binary_accuracy: 0.5041\n",
            "Epoch 15/20\n",
            "4/4 [==============================] - 2s 602ms/step - loss: 0.3995 - binary_accuracy: 0.6000 - val_loss: 0.4956 - val_binary_accuracy: 0.5041\n",
            "Epoch 16/20\n",
            "4/4 [==============================] - 2s 587ms/step - loss: 0.3890 - binary_accuracy: 0.6100 - val_loss: 0.4956 - val_binary_accuracy: 0.5041\n",
            "Epoch 17/20\n",
            "4/4 [==============================] - 2s 577ms/step - loss: 0.5290 - binary_accuracy: 0.4700 - val_loss: 0.4955 - val_binary_accuracy: 0.5041\n",
            "Epoch 18/20\n",
            "4/4 [==============================] - 2s 579ms/step - loss: 0.4989 - binary_accuracy: 0.5000 - val_loss: 0.4954 - val_binary_accuracy: 0.5041\n",
            "Epoch 19/20\n",
            "4/4 [==============================] - 2s 592ms/step - loss: 0.4697 - binary_accuracy: 0.5300 - val_loss: 0.4953 - val_binary_accuracy: 0.5041\n",
            "Epoch 20/20\n",
            "4/4 [==============================] - 2s 567ms/step - loss: 0.3692 - binary_accuracy: 0.6300 - val_loss: 0.4953 - val_binary_accuracy: 0.5041\n",
            "62/62 [==============================] - 2s 26ms/step - loss: 0.4953 - binary_accuracy: 0.5041\n",
            "Model: \"sequential_14\"\n",
            "_________________________________________________________________\n",
            " Layer (type)                Output Shape              Param #   \n",
            "=================================================================\n",
            " pqc_14 (PQC)                (None, 1)                 9         \n",
            "                                                                 \n",
            "=================================================================\n",
            "Total params: 9\n",
            "Trainable params: 9\n",
            "Non-trainable params: 0\n",
            "_________________________________________________________________\n",
            "None\n",
            "Epoch 1/20\n",
            "4/4 [==============================] - 4s 1s/step - loss: 0.6341 - binary_accuracy: 0.4500 - val_loss: 0.6362 - val_binary_accuracy: 0.4345\n",
            "Epoch 2/20\n",
            "4/4 [==============================] - 3s 1s/step - loss: 0.6026 - binary_accuracy: 0.4700 - val_loss: 0.6284 - val_binary_accuracy: 0.4345\n",
            "Epoch 3/20\n",
            "4/4 [==============================] - 3s 1s/step - loss: 0.5771 - binary_accuracy: 0.4900 - val_loss: 0.6214 - val_binary_accuracy: 0.4345\n",
            "Epoch 4/20\n",
            "4/4 [==============================] - 3s 1s/step - loss: 0.6287 - binary_accuracy: 0.4300 - val_loss: 0.6151 - val_binary_accuracy: 0.4345\n",
            "Epoch 5/20\n",
            "4/4 [==============================] - 4s 1s/step - loss: 0.6931 - binary_accuracy: 0.3600 - val_loss: 0.6099 - val_binary_accuracy: 0.4345\n",
            "Epoch 6/20\n",
            "4/4 [==============================] - 3s 1s/step - loss: 0.6705 - binary_accuracy: 0.3800 - val_loss: 0.6049 - val_binary_accuracy: 0.4345\n",
            "Epoch 7/20\n",
            "4/4 [==============================] - 4s 1s/step - loss: 0.5922 - binary_accuracy: 0.4500 - val_loss: 0.6004 - val_binary_accuracy: 0.4345\n",
            "Epoch 8/20\n",
            "4/4 [==============================] - 3s 989ms/step - loss: 0.5741 - binary_accuracy: 0.4600 - val_loss: 0.5963 - val_binary_accuracy: 0.4345\n",
            "Epoch 9/20\n",
            "4/4 [==============================] - 3s 1s/step - loss: 0.5264 - binary_accuracy: 0.5000 - val_loss: 0.5930 - val_binary_accuracy: 0.4345\n",
            "Epoch 10/20\n",
            "4/4 [==============================] - 3s 1s/step - loss: 0.6576 - binary_accuracy: 0.3700 - val_loss: 0.5901 - val_binary_accuracy: 0.4345\n",
            "Epoch 11/20\n",
            "4/4 [==============================] - 3s 971ms/step - loss: 0.5750 - binary_accuracy: 0.4500 - val_loss: 0.5875 - val_binary_accuracy: 0.4345\n",
            "Epoch 12/20\n",
            "4/4 [==============================] - 6s 2s/step - loss: 0.6017 - binary_accuracy: 0.4200 - val_loss: 0.5852 - val_binary_accuracy: 0.4345\n",
            "Epoch 13/20\n",
            "4/4 [==============================] - 5s 1s/step - loss: 0.6315 - binary_accuracy: 0.3900 - val_loss: 0.5832 - val_binary_accuracy: 0.4345\n",
            "Epoch 14/20\n",
            "4/4 [==============================] - 3s 1s/step - loss: 0.5688 - binary_accuracy: 0.4500 - val_loss: 0.5814 - val_binary_accuracy: 0.4345\n",
            "Epoch 15/20\n",
            "4/4 [==============================] - 3s 1s/step - loss: 0.5877 - binary_accuracy: 0.4300 - val_loss: 0.5798 - val_binary_accuracy: 0.4345\n",
            "Epoch 16/20\n",
            "4/4 [==============================] - 3s 1s/step - loss: 0.5366 - binary_accuracy: 0.4800 - val_loss: 0.5783 - val_binary_accuracy: 0.4345\n",
            "Epoch 17/20\n",
            "4/4 [==============================] - 3s 978ms/step - loss: 0.5924 - binary_accuracy: 0.4200 - val_loss: 0.5771 - val_binary_accuracy: 0.4345\n",
            "Epoch 18/20\n",
            "4/4 [==============================] - 3s 984ms/step - loss: 0.5310 - binary_accuracy: 0.4800 - val_loss: 0.5760 - val_binary_accuracy: 0.4345\n",
            "Epoch 19/20\n",
            "4/4 [==============================] - 3s 967ms/step - loss: 0.5727 - binary_accuracy: 0.4400 - val_loss: 0.5750 - val_binary_accuracy: 0.4345\n",
            "Epoch 20/20\n",
            "4/4 [==============================] - 3s 994ms/step - loss: 0.5700 - binary_accuracy: 0.4400 - val_loss: 0.5741 - val_binary_accuracy: 0.4345\n",
            "62/62 [==============================] - 3s 41ms/step - loss: 0.5741 - binary_accuracy: 0.4345\n",
            "Model: \"sequential_15\"\n",
            "_________________________________________________________________\n",
            " Layer (type)                Output Shape              Param #   \n",
            "=================================================================\n",
            " pqc_15 (PQC)                (None, 1)                 1         \n",
            "                                                                 \n",
            "=================================================================\n",
            "Total params: 1\n",
            "Trainable params: 1\n",
            "Non-trainable params: 0\n",
            "_________________________________________________________________\n",
            "None\n",
            "Epoch 1/20\n",
            "4/4 [==============================] - 2s 406ms/step - loss: 1.5846 - binary_accuracy: 0.5900 - val_loss: 1.5403 - val_binary_accuracy: 0.5645\n",
            "Epoch 2/20\n",
            "4/4 [==============================] - 1s 331ms/step - loss: 1.6170 - binary_accuracy: 0.5600 - val_loss: 1.5331 - val_binary_accuracy: 0.5645\n",
            "Epoch 3/20\n",
            "4/4 [==============================] - 1s 325ms/step - loss: 1.5696 - binary_accuracy: 0.5900 - val_loss: 1.5257 - val_binary_accuracy: 0.5645\n",
            "Epoch 4/20\n",
            "4/4 [==============================] - 1s 332ms/step - loss: 1.3351 - binary_accuracy: 0.6600 - val_loss: 1.5184 - val_binary_accuracy: 0.5645\n",
            "Epoch 5/20\n",
            "4/4 [==============================] - 1s 338ms/step - loss: 1.3348 - binary_accuracy: 0.6100 - val_loss: 1.5109 - val_binary_accuracy: 0.5645\n",
            "Epoch 6/20\n",
            "4/4 [==============================] - 1s 321ms/step - loss: 1.5102 - binary_accuracy: 0.5900 - val_loss: 1.5030 - val_binary_accuracy: 0.5645\n",
            "Epoch 7/20\n",
            "4/4 [==============================] - 1s 319ms/step - loss: 1.3622 - binary_accuracy: 0.5700 - val_loss: 1.4946 - val_binary_accuracy: 0.5645\n",
            "Epoch 8/20\n",
            "4/4 [==============================] - 1s 320ms/step - loss: 1.3424 - binary_accuracy: 0.6500 - val_loss: 1.4860 - val_binary_accuracy: 0.5645\n",
            "Epoch 9/20\n",
            "4/4 [==============================] - 1s 332ms/step - loss: 1.6003 - binary_accuracy: 0.5200 - val_loss: 1.4766 - val_binary_accuracy: 0.5645\n",
            "Epoch 10/20\n",
            "4/4 [==============================] - 1s 298ms/step - loss: 1.2951 - binary_accuracy: 0.6200 - val_loss: 1.4670 - val_binary_accuracy: 0.5645\n",
            "Epoch 11/20\n",
            "4/4 [==============================] - 1s 307ms/step - loss: 1.4584 - binary_accuracy: 0.6200 - val_loss: 1.4567 - val_binary_accuracy: 0.5645\n",
            "Epoch 12/20\n",
            "4/4 [==============================] - 1s 308ms/step - loss: 1.4494 - binary_accuracy: 0.6100 - val_loss: 1.4460 - val_binary_accuracy: 0.5645\n",
            "Epoch 13/20\n",
            "4/4 [==============================] - 1s 320ms/step - loss: 1.4400 - binary_accuracy: 0.6000 - val_loss: 1.4351 - val_binary_accuracy: 0.5645\n",
            "Epoch 14/20\n",
            "4/4 [==============================] - 1s 342ms/step - loss: 1.4706 - binary_accuracy: 0.5600 - val_loss: 1.4239 - val_binary_accuracy: 0.5645\n",
            "Epoch 15/20\n",
            "4/4 [==============================] - 1s 307ms/step - loss: 1.4545 - binary_accuracy: 0.5800 - val_loss: 1.4121 - val_binary_accuracy: 0.5645\n",
            "Epoch 16/20\n",
            "4/4 [==============================] - 1s 321ms/step - loss: 1.2042 - binary_accuracy: 0.6200 - val_loss: 1.4002 - val_binary_accuracy: 0.5645\n",
            "Epoch 17/20\n",
            "4/4 [==============================] - 1s 319ms/step - loss: 1.3227 - binary_accuracy: 0.6200 - val_loss: 1.3887 - val_binary_accuracy: 0.5645\n",
            "Epoch 18/20\n",
            "4/4 [==============================] - 1s 327ms/step - loss: 1.4496 - binary_accuracy: 0.5800 - val_loss: 1.3773 - val_binary_accuracy: 0.5645\n",
            "Epoch 19/20\n",
            "4/4 [==============================] - 1s 324ms/step - loss: 1.2771 - binary_accuracy: 0.5900 - val_loss: 1.3658 - val_binary_accuracy: 0.5645\n",
            "Epoch 20/20\n",
            "4/4 [==============================] - 1s 316ms/step - loss: 1.2520 - binary_accuracy: 0.6400 - val_loss: 1.3538 - val_binary_accuracy: 0.5645\n",
            "62/62 [==============================] - 1s 12ms/step - loss: 1.3538 - binary_accuracy: 0.5645\n",
            "Model: \"sequential_16\"\n",
            "_________________________________________________________________\n",
            " Layer (type)                Output Shape              Param #   \n",
            "=================================================================\n",
            " pqc_16 (PQC)                (None, 1)                 4         \n",
            "                                                                 \n",
            "=================================================================\n",
            "Total params: 4\n",
            "Trainable params: 4\n",
            "Non-trainable params: 0\n",
            "_________________________________________________________________\n",
            "None\n",
            "Epoch 1/20\n",
            "4/4 [==============================] - 3s 565ms/step - loss: 0.4895 - binary_accuracy: 0.4400 - val_loss: 0.5454 - val_binary_accuracy: 0.3918\n",
            "Epoch 2/20\n",
            "4/4 [==============================] - 2s 492ms/step - loss: 0.5409 - binary_accuracy: 0.3500 - val_loss: 0.5312 - val_binary_accuracy: 0.3918\n",
            "Epoch 3/20\n",
            "4/4 [==============================] - 2s 501ms/step - loss: 0.4918 - binary_accuracy: 0.4100 - val_loss: 0.5190 - val_binary_accuracy: 0.3918\n",
            "Epoch 4/20\n",
            "4/4 [==============================] - 2s 495ms/step - loss: 0.4976 - binary_accuracy: 0.3800 - val_loss: 0.5072 - val_binary_accuracy: 0.3918\n",
            "Epoch 5/20\n",
            "4/4 [==============================] - 2s 508ms/step - loss: 0.4679 - binary_accuracy: 0.3900 - val_loss: 0.4968 - val_binary_accuracy: 0.3918\n",
            "Epoch 6/20\n",
            "4/4 [==============================] - 1s 482ms/step - loss: 0.4640 - binary_accuracy: 0.3700 - val_loss: 0.4871 - val_binary_accuracy: 0.3918\n",
            "Epoch 7/20\n",
            "4/4 [==============================] - 1s 487ms/step - loss: 0.4639 - binary_accuracy: 0.5000 - val_loss: 0.4781 - val_binary_accuracy: 0.5498\n",
            "Epoch 8/20\n",
            "4/4 [==============================] - 2s 514ms/step - loss: 0.4439 - binary_accuracy: 0.5100 - val_loss: 0.4710 - val_binary_accuracy: 0.5498\n",
            "Epoch 9/20\n",
            "4/4 [==============================] - 2s 533ms/step - loss: 0.4516 - binary_accuracy: 0.5200 - val_loss: 0.4655 - val_binary_accuracy: 0.5498\n",
            "Epoch 10/20\n",
            "4/4 [==============================] - 2s 498ms/step - loss: 0.4390 - binary_accuracy: 0.5300 - val_loss: 0.4593 - val_binary_accuracy: 0.5498\n",
            "Epoch 11/20\n",
            "4/4 [==============================] - 2s 488ms/step - loss: 0.4086 - binary_accuracy: 0.5200 - val_loss: 0.4535 - val_binary_accuracy: 0.5498\n",
            "Epoch 12/20\n",
            "4/4 [==============================] - 1s 482ms/step - loss: 0.4144 - binary_accuracy: 0.5200 - val_loss: 0.4493 - val_binary_accuracy: 0.5498\n",
            "Epoch 13/20\n",
            "4/4 [==============================] - 2s 502ms/step - loss: 0.4366 - binary_accuracy: 0.5200 - val_loss: 0.4455 - val_binary_accuracy: 0.5498\n",
            "Epoch 14/20\n",
            "4/4 [==============================] - 2s 571ms/step - loss: 0.4199 - binary_accuracy: 0.5200 - val_loss: 0.4409 - val_binary_accuracy: 0.5498\n",
            "Epoch 15/20\n",
            "4/4 [==============================] - 2s 513ms/step - loss: 0.3884 - binary_accuracy: 0.5300 - val_loss: 0.4363 - val_binary_accuracy: 0.5498\n",
            "Epoch 16/20\n",
            "4/4 [==============================] - 2s 512ms/step - loss: 0.4063 - binary_accuracy: 0.5100 - val_loss: 0.4312 - val_binary_accuracy: 0.5498\n",
            "Epoch 17/20\n",
            "4/4 [==============================] - 2s 507ms/step - loss: 0.3780 - binary_accuracy: 0.5300 - val_loss: 0.4266 - val_binary_accuracy: 0.5498\n",
            "Epoch 18/20\n",
            "4/4 [==============================] - 2s 509ms/step - loss: 0.3896 - binary_accuracy: 0.5300 - val_loss: 0.4222 - val_binary_accuracy: 0.5498\n",
            "Epoch 19/20\n",
            "4/4 [==============================] - 2s 491ms/step - loss: 0.4004 - binary_accuracy: 0.5000 - val_loss: 0.4180 - val_binary_accuracy: 0.5498\n",
            "Epoch 20/20\n",
            "4/4 [==============================] - 2s 488ms/step - loss: 0.3656 - binary_accuracy: 0.5300 - val_loss: 0.4140 - val_binary_accuracy: 0.5498\n",
            "62/62 [==============================] - 1s 20ms/step - loss: 0.4140 - binary_accuracy: 0.5498\n",
            "Model: \"sequential_17\"\n",
            "_________________________________________________________________\n",
            " Layer (type)                Output Shape              Param #   \n",
            "=================================================================\n",
            " pqc_17 (PQC)                (None, 1)                 9         \n",
            "                                                                 \n",
            "=================================================================\n",
            "Total params: 9\n",
            "Trainable params: 9\n",
            "Non-trainable params: 0\n",
            "_________________________________________________________________\n",
            "None\n",
            "Epoch 1/20\n",
            "4/4 [==============================] - 4s 1s/step - loss: 1.2303 - binary_accuracy: 0.5000 - val_loss: 1.2422 - val_binary_accuracy: 0.3643\n",
            "Epoch 2/20\n",
            "4/4 [==============================] - 3s 918ms/step - loss: 1.4396 - binary_accuracy: 0.4300 - val_loss: 1.2282 - val_binary_accuracy: 0.3643\n",
            "Epoch 3/20\n",
            "4/4 [==============================] - 3s 928ms/step - loss: 1.5266 - binary_accuracy: 0.4200 - val_loss: 1.2104 - val_binary_accuracy: 0.3638\n",
            "Epoch 4/20\n",
            "4/4 [==============================] - 4s 1s/step - loss: 1.4490 - binary_accuracy: 0.4600 - val_loss: 1.1902 - val_binary_accuracy: 0.3643\n",
            "Epoch 5/20\n",
            "4/4 [==============================] - 3s 962ms/step - loss: 1.2221 - binary_accuracy: 0.5200 - val_loss: 1.1669 - val_binary_accuracy: 0.3791\n",
            "Epoch 6/20\n",
            "4/4 [==============================] - 3s 963ms/step - loss: 1.4511 - binary_accuracy: 0.4600 - val_loss: 1.1371 - val_binary_accuracy: 0.4390\n",
            "Epoch 7/20\n",
            "4/4 [==============================] - 3s 980ms/step - loss: 1.3510 - binary_accuracy: 0.4800 - val_loss: 1.1028 - val_binary_accuracy: 0.4390\n",
            "Epoch 8/20\n",
            "4/4 [==============================] - 3s 914ms/step - loss: 1.2518 - binary_accuracy: 0.5300 - val_loss: 1.0686 - val_binary_accuracy: 0.4990\n",
            "Epoch 9/20\n",
            "4/4 [==============================] - 3s 940ms/step - loss: 1.1885 - binary_accuracy: 0.5300 - val_loss: 1.0299 - val_binary_accuracy: 0.5000\n",
            "Epoch 10/20\n",
            "4/4 [==============================] - 3s 930ms/step - loss: 1.3180 - binary_accuracy: 0.4700 - val_loss: 0.9887 - val_binary_accuracy: 0.4990\n",
            "Epoch 11/20\n",
            "4/4 [==============================] - 3s 927ms/step - loss: 1.1593 - binary_accuracy: 0.5000 - val_loss: 0.9412 - val_binary_accuracy: 0.4995\n",
            "Epoch 12/20\n",
            "4/4 [==============================] - 3s 915ms/step - loss: 1.1386 - binary_accuracy: 0.4600 - val_loss: 0.8918 - val_binary_accuracy: 0.5000\n",
            "Epoch 13/20\n",
            "4/4 [==============================] - 3s 882ms/step - loss: 1.0767 - binary_accuracy: 0.5200 - val_loss: 0.8433 - val_binary_accuracy: 0.4812\n",
            "Epoch 14/20\n",
            "4/4 [==============================] - 3s 919ms/step - loss: 0.9769 - binary_accuracy: 0.5300 - val_loss: 0.7945 - val_binary_accuracy: 0.5264\n",
            "Epoch 15/20\n",
            "4/4 [==============================] - 3s 959ms/step - loss: 0.9311 - binary_accuracy: 0.5300 - val_loss: 0.7464 - val_binary_accuracy: 0.5025\n",
            "Epoch 16/20\n",
            "4/4 [==============================] - 3s 927ms/step - loss: 0.7798 - binary_accuracy: 0.5500 - val_loss: 0.7034 - val_binary_accuracy: 0.5041\n",
            "Epoch 17/20\n",
            "4/4 [==============================] - 3s 929ms/step - loss: 0.7908 - binary_accuracy: 0.4900 - val_loss: 0.6651 - val_binary_accuracy: 0.5020\n",
            "Epoch 18/20\n",
            "4/4 [==============================] - 3s 888ms/step - loss: 0.7551 - binary_accuracy: 0.4700 - val_loss: 0.6327 - val_binary_accuracy: 0.5086\n",
            "Epoch 19/20\n",
            "4/4 [==============================] - 3s 933ms/step - loss: 0.6641 - binary_accuracy: 0.5000 - val_loss: 0.6078 - val_binary_accuracy: 0.5041\n",
            "Epoch 20/20\n",
            "4/4 [==============================] - 3s 962ms/step - loss: 0.6662 - binary_accuracy: 0.4700 - val_loss: 0.5895 - val_binary_accuracy: 0.5036\n",
            "62/62 [==============================] - 3s 43ms/step - loss: 0.5895 - binary_accuracy: 0.5036\n"
          ]
        }
      ]
    },
    {
      "cell_type": "code",
      "source": [
        "SVGCircuit(experiment_log[3]['circuit'])\n",
        "print(experiment_log[3]['history'])\n",
        "# SVGCircuit(model_circuit)\n",
        "\n",
        "pyplot.plot(experiment_log[5]['history'].history['loss'])\n",
        "pyplot.plot(experiment_log[5]['history'].history['val_loss'])"
      ],
      "metadata": {
        "colab": {
          "base_uri": "https://localhost:8080/",
          "height": 300
        },
        "id": "dNW57F88Gg0T",
        "outputId": "52baa5b0-203a-4709-f4ba-74221dba57ed"
      },
      "execution_count": 57,
      "outputs": [
        {
          "output_type": "stream",
          "name": "stdout",
          "text": [
            "<keras.callbacks.History object at 0x7fa609ed0990>\n"
          ]
        },
        {
          "output_type": "execute_result",
          "data": {
            "text/plain": [
              "[<matplotlib.lines.Line2D at 0x7fa60880eed0>]"
            ]
          },
          "metadata": {},
          "execution_count": 57
        },
        {
          "output_type": "display_data",
          "data": {
            "text/plain": [
              "<Figure size 432x288 with 1 Axes>"
            ],
            "image/png": "[encoded data removed]"
          },
          "metadata": {
            "needs_background": "light"
          }
        }
      ]
    },
    {
      "cell_type": "code",
      "source": [
        ""
      ],
      "metadata": {
        "id": "CB3Cy5ZXGg-X"
      },
      "execution_count": 51,
      "outputs": []
    },
    {
      "cell_type": "code",
      "source": [
        ""
      ],
      "metadata": {
        "id": "w2gvtX_YGhJU"
      },
      "execution_count": 51,
      "outputs": []
    },
    {
      "cell_type": "code",
      "source": [
        ""
      ],
      "metadata": {
        "id": "O7TQaBshMhcJ"
      },
      "execution_count": 51,
      "outputs": []
    },
    {
      "cell_type": "code",
      "source": [
        ""
      ],
      "metadata": {
        "id": "DlxrKE3qMhoQ"
      },
      "execution_count": 51,
      "outputs": []
    },
    {
      "cell_type": "code",
      "source": [
        ""
      ],
      "metadata": {
        "id": "hCi_lvWpMhz1"
      },
      "execution_count": 51,
      "outputs": []
    },
    {
      "cell_type": "code",
      "source": [
        ""
      ],
      "metadata": {
        "id": "ZRmxzLEALiNr"
      },
      "execution_count": 51,
      "outputs": []
    },
    {
      "cell_type": "code",
      "source": [
        ""
      ],
      "metadata": {
        "id": "IMdrzvqvGQo4"
      },
      "execution_count": 51,
      "outputs": []
    }
  ]
}
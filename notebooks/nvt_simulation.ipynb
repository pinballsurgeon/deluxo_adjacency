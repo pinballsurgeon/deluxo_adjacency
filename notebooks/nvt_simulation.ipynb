{
  "nbformat": 4,
  "nbformat_minor": 0,
  "metadata": {
    "colab": {
      "name": "NVT Simulation.ipynb",
      "provenance": [],
      "collapsed_sections": [],
      "include_colab_link": true
    },
    "kernelspec": {
      "name": "python3",
      "display_name": "Python 3"
    },
    "accelerator": "GPU"
  },
  "cells": [
    {
      "cell_type": "markdown",
      "metadata": {
        "id": "view-in-github",
        "colab_type": "text"
      },
      "source": [
        "<a href=\"https://colab.research.google.com/github/pinballsurgeon/deluxo_adjacency/blob/main/notebooks/nvt_simulation.ipynb\" target=\"_parent\"><img src=\"https://colab.research.google.com/assets/colab-badge.svg\" alt=\"Open In Colab\"/></a>"
      ]
    },
    {
      "cell_type": "code",
      "metadata": {
        "id": "kNDQ02qlDnNW",
        "cellView": "form"
      },
      "source": [
        "%%capture\n",
        "#@title Imports & Utils\n",
        "\n",
        "!pip install jax-md\n",
        "\n",
        "import numpy as onp\n",
        "\n",
        "from jax.config import config ; config.update('jax_enable_x64', True)\n",
        "import jax.numpy as np\n",
        "from jax import random\n",
        "from jax import jit\n",
        "from jax import lax\n",
        "from jax import ops\n",
        "\n",
        "import time\n",
        "\n",
        "from jax_md import space, smap, energy, minimize, quantity, simulate\n",
        "\n",
        "import matplotlib\n",
        "import matplotlib.pyplot as plt\n",
        "import seaborn as sns\n",
        "  \n",
        "sns.set_style(style='white')\n",
        "\n",
        "def format_plot(x, y):  \n",
        "  plt.xlabel(x, fontsize=20)\n",
        "  plt.ylabel(y, fontsize=20)\n",
        "  \n",
        "def finalize_plot(shape=(1, 1)):\n",
        "  plt.gcf().set_size_inches(\n",
        "    shape[0] * 1.5 * plt.gcf().get_size_inches()[1], \n",
        "    shape[1] * 1.5 * plt.gcf().get_size_inches()[1])\n",
        "  plt.tight_layout()"
      ],
      "execution_count": 170,
      "outputs": []
    },
    {
      "cell_type": "markdown",
      "metadata": {
        "id": "uxCDg0ioWh70"
      },
      "source": [
        "# Constant Temperature Simulation"
      ]
    },
    {
      "cell_type": "markdown",
      "metadata": {
        "id": "dFK0Dew5MwXt"
      },
      "source": [
        "Here we demonstrate some code to run a simulation at in the NVT ensemble. We start off by setting up some parameters of the simulation. This will include a temperature schedule that will start off at a high temperature and then instantaneously quench to a lower temperature."
      ]
    },
    {
      "cell_type": "code",
      "metadata": {
        "id": "yGdrjCj1Wm9J"
      },
      "source": [
        "N = 400\n",
        "dimension = 2\n",
        "box_size = quantity.box_size_at_number_density(N, 0.8, 2)\n",
        "dt = 5e-3\n",
        "displacement, shift = space.periodic(box_size) \n",
        "\n",
        "kT = lambda t: np.where(t < 5000.0 * dt, 0.1, 0.005)"
      ],
      "execution_count": 171,
      "outputs": []
    },
    {
      "cell_type": "markdown",
      "metadata": {
        "id": "uFrxHj12M3X1"
      },
      "source": [
        "Next we need to generate some random positions as well as particle sizes."
      ]
    },
    {
      "cell_type": "code",
      "metadata": {
        "id": "rEic-SLigNIa"
      },
      "source": [
        "key = random.PRNGKey(0)"
      ],
      "execution_count": 172,
      "outputs": []
    },
    {
      "cell_type": "code",
      "metadata": {
        "id": "5ApXCCgdWm9O"
      },
      "source": [
        "key, split = random.split(key)\n",
        "R = box_size * random.uniform(split, (N, dimension), dtype=np.float64)\n",
        "\n",
        "# The system ought to be a 50:50 mixture of two types of particles, one\n",
        "# large and one small.\n",
        "# sigma = np.array([[1.0, 1.2], [1.2, 1.4]])\n",
        "# sigma = np.array([[0.7, 1.0], [1.2, 1.4]])\n",
        "sigma = np.array([[0.3, 0.5], [1.2, 1.4]])\n",
        "N_2 = int(N / 1.2)\n",
        "species = np.where(np.arange(N) < N_2, 0, 1)"
      ],
      "execution_count": 173,
      "outputs": []
    },
    {
      "cell_type": "markdown",
      "metadata": {
        "id": "hjPUEPcwM6jc"
      },
      "source": [
        "Then we need to construct our simulation operators."
      ]
    },
    {
      "cell_type": "code",
      "metadata": {
        "id": "B1xXV_FmWm9Q"
      },
      "source": [
        "energy_fn = energy.soft_sphere_pair(displacement, species=species, sigma=sigma)\n",
        "\n",
        "init, apply = simulate.nvt_nose_hoover(energy_fn, shift, dt, kT(0.))\n",
        "state = init(key, R)"
      ],
      "execution_count": 174,
      "outputs": []
    },
    {
      "cell_type": "markdown",
      "metadata": {
        "id": "hJRvIrfiNAgV"
      },
      "source": [
        "Now let's actually do the simulation. To do this we'll write a small function that performs a single step of the simulation. This function will keep track of the temperature, the extended Hamiltonian of the Nose-Hoover dynamics, and the current particle positions."
      ]
    },
    {
      "cell_type": "code",
      "metadata": {
        "id": "1rtYEp_LP35v"
      },
      "source": [
        "write_every = 100\n",
        "\n",
        "def step_fn(i, state_and_log):\n",
        "  state, log = state_and_log\n",
        "\n",
        "  t = i * dt\n",
        "\n",
        "  # Log information about the simulation.\n",
        "  T = quantity.temperature(state.velocity)\n",
        "  log['kT'] = log['kT'].at[i].set(T)\n",
        "  H = simulate.nvt_nose_hoover_invariant(energy_fn, state, kT(t))\n",
        "  log['H'] = log['H'].at[i].set(H)\n",
        "  # Record positions every `write_every` steps.\n",
        "  log['position'] = lax.cond(i % write_every == 0,\n",
        "                             lambda p: \\\n",
        "                             p.at[i // write_every].set(state.position),\n",
        "                             lambda p: p,\n",
        "                             log['position'])\n",
        "\n",
        "  # Take a simulation step.\n",
        "  state = apply(state, kT=kT(t))\n",
        "  \n",
        "  return state, log"
      ],
      "execution_count": 175,
      "outputs": []
    },
    {
      "cell_type": "markdown",
      "metadata": {
        "id": "asUbxPn9lU6H"
      },
      "source": [
        "To run our simulation we'll use `lax.fori_loop` which will execute the simulation a single call from python."
      ]
    },
    {
      "cell_type": "code",
      "metadata": {
        "id": "psqU1uEPWm9T"
      },
      "source": [
        "steps = 50000\n",
        "\n",
        "log = {\n",
        "    'kT': np.zeros((steps,)),\n",
        "    'H': np.zeros((steps,)),\n",
        "    'position': np.zeros((steps // write_every,) + R.shape) \n",
        "}\n",
        "\n",
        "state, log = lax.fori_loop(0, steps, step_fn, (state, log))\n",
        "\n",
        "R = state.position"
      ],
      "execution_count": null,
      "outputs": []
    },
    {
      "cell_type": "markdown",
      "metadata": {
        "id": "0hhEEuojNFht"
      },
      "source": [
        "Now, let's plot the temperature as a function of time. We see that the temperature tracks the goal temperature with some fluctuations."
      ]
    },
    {
      "cell_type": "code",
      "metadata": {
        "id": "jiJOwCAPirFn"
      },
      "source": [
        "t = onp.arange(0, steps) * dt\n",
        "plt.plot(t, log['kT'], linewidth=3)\n",
        "plt.plot(t, kT(t), linewidth=3)\n",
        "format_plot('$t$', '$T$')\n",
        "finalize_plot()"
      ],
      "execution_count": null,
      "outputs": []
    },
    {
      "cell_type": "markdown",
      "metadata": {
        "id": "kTvH7BpVQtkm"
      },
      "source": [
        "Now let's plot the Hamiltonian of the system. We see that it is invariant apart from changes to the temperature, as expected."
      ]
    },
    {
      "cell_type": "code",
      "metadata": {
        "id": "xDsowzLKQo3Z"
      },
      "source": [
        "plt.plot(t, log['H'], linewidth=3)\n",
        "format_plot('$t$', '$H$')\n",
        "finalize_plot()"
      ],
      "execution_count": null,
      "outputs": []
    },
    {
      "cell_type": "markdown",
      "metadata": {
        "id": "qtroRWfgqcT4"
      },
      "source": [
        "Now let's plot a snapshot of the system."
      ]
    },
    {
      "cell_type": "code",
      "metadata": {
        "id": "Yq4Rz3eMqcTh"
      },
      "source": [
        "ms = 65\n",
        "R_plt = onp.array(state.position)\n",
        "\n",
        "plt.plot(R_plt[:N_2, 0], R_plt[:N_2, 1], 'o', markersize=ms * 0.2)\n",
        "plt.plot(R_plt[N_2:, 0], R_plt[N_2:, 1], 'o', markersize=ms * 0.7)\n",
        "\n",
        "plt.xlim([0, np.max(R[:, 0])])\n",
        "plt.ylim([0, np.max(R[:, 1])])\n",
        "\n",
        "plt.axis('off')\n",
        "\n",
        "finalize_plot((2, 2))"
      ],
      "execution_count": null,
      "outputs": []
    },
    {
      "cell_type": "markdown",
      "metadata": {
        "id": "l4RLeAhVmA-_"
      },
      "source": [
        "If we want, we can also draw an animation of the simulation using JAX MD's renderer."
      ]
    },
    {
      "cell_type": "code",
      "metadata": {
        "id": "79CiYF_aTgTq"
      },
      "source": [
        "from jax_md.colab_tools import renderer\n",
        "\n",
        "diameters = sigma[species, species]\n",
        "colors = np.where(species[:, None], \n",
        "                  np.array([[1.0, 0.5, 0.01]]), \n",
        "                  np.array([[0.35, 0.65, 0.85]]))\n",
        "\n",
        "renderer.render(box_size,\n",
        "                {\n",
        "                    'particles': renderer.Disk(log['position'], \n",
        "                                               diameters,\n",
        "                                               colors)\n",
        "                },\n",
        "                resolution=(700, 700))"
      ],
      "execution_count": null,
      "outputs": []
    },
    {
      "cell_type": "markdown",
      "metadata": {
        "id": "2cuLb1IQnnZo"
      },
      "source": [
        "## Larger Simulation with Neighbor Lists"
      ]
    },
    {
      "cell_type": "markdown",
      "metadata": {
        "id": "MQQWnGuxnvZf"
      },
      "source": [
        "We can use neighbor lists to run a much larger version of this simulation. As their name suggests, neighbor lists are lists of particles nearby a central particle. By keeping track of neighbors, we can compute the energy of the system much more efficiently. This becomes increasingly true as the simulation gets larger. "
      ]
    },
    {
      "cell_type": "code",
      "metadata": {
        "id": "5Zzf9meloDql"
      },
      "source": [
        "N = 128000\n",
        "box_size = quantity.box_size_at_number_density(N, 0.8, 2)\n",
        "displacement, shift = space.periodic(box_size) \n",
        "\n",
        "kT = lambda t: np.where(t < 50.0, 0.1, 0.01)"
      ],
      "execution_count": null,
      "outputs": []
    },
    {
      "cell_type": "markdown",
      "metadata": {
        "id": "lcnnfeoQoDqm"
      },
      "source": [
        "As before we randomly initialize the system."
      ]
    },
    {
      "cell_type": "code",
      "metadata": {
        "id": "qEFpYkomoDqm"
      },
      "source": [
        "key, split = random.split(key)\n",
        "R = box_size * random.uniform(split, (N, dimension), dtype=np.float64)\n",
        "\n",
        "sigma = np.array([[1.0, 1.2], [1.2, 1.4]])\n",
        "N_2 = int(N / 2)\n",
        "species = np.where(np.arange(N) < N_2, 0, 1)"
      ],
      "execution_count": null,
      "outputs": []
    },
    {
      "cell_type": "markdown",
      "metadata": {
        "id": "WJWuZXFfoDqm"
      },
      "source": [
        "Then we need to construct our simulation operators. This time we use the `energy.soft_sphere_neighbor_fn` to create two functions: one that constructs lists of neighbors and one that computes the energy."
      ]
    },
    {
      "cell_type": "code",
      "metadata": {
        "id": "2O3OLWRaoDqm"
      },
      "source": [
        "neighbor_fn, energy_fn = energy.soft_sphere_neighbor_list(displacement,\n",
        "                                                          box_size,\n",
        "                                                          species=species, \n",
        "                                                          sigma=sigma)\n",
        "\n",
        "init, apply = simulate.nvt_nose_hoover(energy_fn, shift, dt, kT(0.), tau=200*dt)\n",
        "\n",
        "nbrs = neighbor_fn.allocate(R)\n",
        "state = init(key, R, neighbor=nbrs)"
      ],
      "execution_count": null,
      "outputs": []
    },
    {
      "cell_type": "markdown",
      "metadata": {
        "id": "xY4dnk53oDqm"
      },
      "source": [
        "Now let's actually do the simulation. This time our simulation step function will also update the neighbors. As above, we will also only record position data every hundred steps."
      ]
    },
    {
      "cell_type": "code",
      "metadata": {
        "id": "OibU3VOQoDqm"
      },
      "source": [
        "write_every = 100\n",
        "\n",
        "def step_fn(i, state_nbrs_log):\n",
        "  state, nbrs, log = state_nbrs_log\n",
        "\n",
        "  t = i * dt\n",
        "\n",
        "  # Log information about the simulation.\n",
        "  T = quantity.temperature(state.velocity)\n",
        "  log['kT'] = log['kT'].at[i].set(T)\n",
        "  H = simulate.nvt_nose_hoover_invariant(energy_fn, state, kT(t), neighbor=nbrs)\n",
        "  log['H'] = log['H'].at[i].set(H)\n",
        "  # Record positions every `write_every` steps.\n",
        "  log['position'] = lax.cond(i % write_every == 0,\n",
        "                             lambda p: \\\n",
        "                             p.at[i // write_every].set(state.position),\n",
        "                             lambda p: p,\n",
        "                             log['position'])\n",
        "\n",
        "  # Take a simulation step.\n",
        "  state = apply(state, kT=kT(t), neighbor=nbrs)\n",
        "  nbrs = nbrs.update(state.position)\n",
        "\n",
        "  return state, nbrs, log"
      ],
      "execution_count": null,
      "outputs": []
    },
    {
      "cell_type": "markdown",
      "metadata": {
        "id": "7GyNMRbboDqm"
      },
      "source": [
        "To run our simulation we'll use `lax.fori_loop` which will execute the simulation a single call from python."
      ]
    },
    {
      "cell_type": "code",
      "metadata": {
        "id": "QGCAGy-ooDqm"
      },
      "source": [
        "steps = 20000\n",
        "\n",
        "log = {\n",
        "    'kT': np.zeros((steps,)),\n",
        "    'H': np.zeros((steps,)),\n",
        "    'position': np.zeros((steps // write_every,) + R.shape) \n",
        "}\n",
        "\n",
        "state, nbrs, log = lax.fori_loop(0, steps, step_fn, (state, nbrs, log))\n",
        "\n",
        "R = state.position"
      ],
      "execution_count": null,
      "outputs": []
    },
    {
      "cell_type": "markdown",
      "metadata": {
        "id": "87EOPGJPoDqm"
      },
      "source": [
        "Now, let's plot the temperature as a function of time. We see that the temperature tracks the goal temperature with some fluctuations."
      ]
    },
    {
      "cell_type": "code",
      "metadata": {
        "id": "QMIkiaO6oDqm"
      },
      "source": [
        "t = onp.arange(0, steps) * dt\n",
        "plt.plot(t, log['kT'], linewidth=3)\n",
        "plt.plot(t, kT(t), linewidth=3)\n",
        "format_plot('$t$', '$T$')\n",
        "finalize_plot()"
      ],
      "execution_count": null,
      "outputs": []
    },
    {
      "cell_type": "markdown",
      "metadata": {
        "id": "Rlq_kaeNoDqo"
      },
      "source": [
        "Now let's plot the Hamiltonian of the system. We see that it is invariant apart from changes to the temperature, as expected."
      ]
    },
    {
      "cell_type": "code",
      "metadata": {
        "id": "LN5irdwUoDqo"
      },
      "source": [
        "plt.plot(t, log['H'], linewidth=3)\n",
        "format_plot('$t$', '$H$')\n",
        "finalize_plot()"
      ],
      "execution_count": null,
      "outputs": []
    },
    {
      "cell_type": "markdown",
      "metadata": {
        "id": "EoG1KAFyoDqo"
      },
      "source": [
        "Now let's plot a snapshot of the system."
      ]
    },
    {
      "cell_type": "code",
      "metadata": {
        "id": "JfV79m3ioDqo"
      },
      "source": [
        "ms = 1\n",
        "R_plt = onp.array(state.position)\n",
        "\n",
        "plt.plot(R_plt[:N_2, 0], R_plt[:N_2, 1], 'o', markersize=ms * 0.5)\n",
        "plt.plot(R_plt[N_2:, 0], R_plt[N_2:, 1], 'o', markersize=ms * 0.7)\n",
        "\n",
        "plt.xlim([0, np.max(R[:, 0])])\n",
        "plt.ylim([0, np.max(R[:, 1])])\n",
        "\n",
        "plt.axis('off')\n",
        "\n",
        "finalize_plot((2, 2))"
      ],
      "execution_count": null,
      "outputs": []
    },
    {
      "cell_type": "markdown",
      "metadata": {
        "id": "8E59mHRb4-3R"
      },
      "source": [
        "Finally, let's plot the velocity distribution compared with its theoretical prediction."
      ]
    },
    {
      "cell_type": "code",
      "metadata": {
        "id": "SCKwEVc_5BEk"
      },
      "source": [
        "V_flat = onp.reshape(onp.array(state.velocity), (-1,))\n",
        "occ, bins = onp.histogram(V_flat, bins=100, normed=True)"
      ],
      "execution_count": null,
      "outputs": []
    },
    {
      "cell_type": "code",
      "metadata": {
        "id": "q9JJPIIq5DmG"
      },
      "source": [
        "T_cur = kT(steps * dt)\n",
        "plt.semilogy(bins[:-1], occ, 'o')\n",
        "plt.semilogy(\n",
        "    bins[:-1], \n",
        "    1.0 / np.sqrt(2 * np.pi * T_cur) * onp.exp(-1/(2 * T_cur) * bins[:-1] ** 2), \n",
        "    linewidth=3)\n",
        "format_plot('t', 'T')\n",
        "finalize_plot()"
      ],
      "execution_count": null,
      "outputs": []
    }
  ]
}
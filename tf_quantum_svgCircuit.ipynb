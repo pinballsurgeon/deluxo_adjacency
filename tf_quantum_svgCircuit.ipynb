{
  "nbformat": 4,
  "nbformat_minor": 0,
  "metadata": {
    "colab": {
      "name": "tf_quantum_svgCircuit.ipynb",
      "provenance": [],
      "collapsed_sections": [],
      "authorship_tag": "ABX9TyP6vrOmR/AhVi2KsTpb8PY1",
      "include_colab_link": true
    },
    "kernelspec": {
      "name": "python3",
      "display_name": "Python 3"
    },
    "language_info": {
      "name": "python"
    }
  },
  "cells": [
    {
      "cell_type": "markdown",
      "metadata": {
        "id": "view-in-github",
        "colab_type": "text"
      },
      "source": [
        "<a href=\"https://colab.research.google.com/github/pinballsurgeon/deluxo_adjacency/blob/main/tf_quantum_svgCircuit.ipynb\" target=\"_parent\"><img src=\"https://colab.research.google.com/assets/colab-badge.svg\" alt=\"Open In Colab\"/></a>"
      ]
    },
    {
      "cell_type": "code",
      "source": [
        "# !pip install cirq\n",
        "\n",
        "!pip install tensorflow_quantum"
      ],
      "metadata": {
        "colab": {
          "base_uri": "https://localhost:8080/"
        },
        "id": "0rs_n3I2wBZ-",
        "outputId": "d3b4e246-1584-4a01-d260-f771012c1faa"
      },
      "execution_count": 76,
      "outputs": [
        {
          "output_type": "stream",
          "name": "stdout",
          "text": [
            "Looking in indexes: https://pypi.org/simple, https://us-python.pkg.dev/colab-wheels/public/simple/\n",
            "Requirement already satisfied: tensorflow_quantum in /usr/local/lib/python3.7/dist-packages (0.7.2)\n",
            "Requirement already satisfied: google-auth==1.18.0 in /usr/local/lib/python3.7/dist-packages (from tensorflow_quantum) (1.18.0)\n",
            "Requirement already satisfied: googleapis-common-protos==1.52.0 in /usr/local/lib/python3.7/dist-packages (from tensorflow_quantum) (1.52.0)\n",
            "Requirement already satisfied: sympy==1.8 in /usr/local/lib/python3.7/dist-packages (from tensorflow_quantum) (1.8)\n",
            "Requirement already satisfied: cirq-core==0.13.1 in /usr/local/lib/python3.7/dist-packages (from tensorflow_quantum) (0.13.1)\n",
            "Requirement already satisfied: cirq-google>=0.13.1 in /usr/local/lib/python3.7/dist-packages (from tensorflow_quantum) (0.13.1)\n",
            "Requirement already satisfied: google-api-core==1.21.0 in /usr/local/lib/python3.7/dist-packages (from tensorflow_quantum) (1.21.0)\n",
            "Requirement already satisfied: protobuf==3.17.3 in /usr/local/lib/python3.7/dist-packages (from tensorflow_quantum) (3.17.3)\n",
            "Requirement already satisfied: networkx~=2.4 in /usr/local/lib/python3.7/dist-packages (from cirq-core==0.13.1->tensorflow_quantum) (2.6.3)\n",
            "Requirement already satisfied: scipy in /usr/local/lib/python3.7/dist-packages (from cirq-core==0.13.1->tensorflow_quantum) (1.7.3)\n",
            "Requirement already satisfied: typing-extensions in /usr/local/lib/python3.7/dist-packages (from cirq-core==0.13.1->tensorflow_quantum) (3.10.0.0)\n",
            "Requirement already satisfied: pandas in /usr/local/lib/python3.7/dist-packages (from cirq-core==0.13.1->tensorflow_quantum) (1.3.5)\n",
            "Requirement already satisfied: duet~=0.2.0 in /usr/local/lib/python3.7/dist-packages (from cirq-core==0.13.1->tensorflow_quantum) (0.2.7)\n",
            "Requirement already satisfied: matplotlib~=3.0 in /usr/local/lib/python3.7/dist-packages (from cirq-core==0.13.1->tensorflow_quantum) (3.2.2)\n",
            "Requirement already satisfied: sortedcontainers~=2.0 in /usr/local/lib/python3.7/dist-packages (from cirq-core==0.13.1->tensorflow_quantum) (2.4.0)\n",
            "Requirement already satisfied: tqdm in /usr/local/lib/python3.7/dist-packages (from cirq-core==0.13.1->tensorflow_quantum) (4.64.0)\n",
            "Requirement already satisfied: numpy~=1.16 in /usr/local/lib/python3.7/dist-packages (from cirq-core==0.13.1->tensorflow_quantum) (1.21.6)\n",
            "Requirement already satisfied: requests<3.0.0dev,>=2.18.0 in /usr/local/lib/python3.7/dist-packages (from google-api-core==1.21.0->tensorflow_quantum) (2.23.0)\n",
            "Requirement already satisfied: pytz in /usr/local/lib/python3.7/dist-packages (from google-api-core==1.21.0->tensorflow_quantum) (2022.1)\n",
            "Requirement already satisfied: six>=1.10.0 in /usr/local/lib/python3.7/dist-packages (from google-api-core==1.21.0->tensorflow_quantum) (1.15.0)\n",
            "Requirement already satisfied: setuptools>=34.0.0 in /usr/local/lib/python3.7/dist-packages (from google-api-core==1.21.0->tensorflow_quantum) (57.4.0)\n",
            "Requirement already satisfied: pyasn1-modules>=0.2.1 in /usr/local/lib/python3.7/dist-packages (from google-auth==1.18.0->tensorflow_quantum) (0.2.8)\n",
            "Requirement already satisfied: rsa<5,>=3.1.4 in /usr/local/lib/python3.7/dist-packages (from google-auth==1.18.0->tensorflow_quantum) (4.9)\n",
            "Requirement already satisfied: cachetools<5.0,>=2.0.0 in /usr/local/lib/python3.7/dist-packages (from google-auth==1.18.0->tensorflow_quantum) (4.2.4)\n",
            "Requirement already satisfied: mpmath>=0.19 in /usr/local/lib/python3.7/dist-packages (from sympy==1.8->tensorflow_quantum) (1.2.1)\n",
            "Requirement already satisfied: grpcio<2.0dev,>=1.29.0 in /usr/local/lib/python3.7/dist-packages (from google-api-core==1.21.0->tensorflow_quantum) (1.47.0)\n",
            "Requirement already satisfied: kiwisolver>=1.0.1 in /usr/local/lib/python3.7/dist-packages (from matplotlib~=3.0->cirq-core==0.13.1->tensorflow_quantum) (1.4.4)\n",
            "Requirement already satisfied: python-dateutil>=2.1 in /usr/local/lib/python3.7/dist-packages (from matplotlib~=3.0->cirq-core==0.13.1->tensorflow_quantum) (2.8.2)\n",
            "Requirement already satisfied: pyparsing!=2.0.4,!=2.1.2,!=2.1.6,>=2.0.1 in /usr/local/lib/python3.7/dist-packages (from matplotlib~=3.0->cirq-core==0.13.1->tensorflow_quantum) (3.0.9)\n",
            "Requirement already satisfied: cycler>=0.10 in /usr/local/lib/python3.7/dist-packages (from matplotlib~=3.0->cirq-core==0.13.1->tensorflow_quantum) (0.11.0)\n",
            "Requirement already satisfied: pyasn1<0.5.0,>=0.4.6 in /usr/local/lib/python3.7/dist-packages (from pyasn1-modules>=0.2.1->google-auth==1.18.0->tensorflow_quantum) (0.4.8)\n",
            "Requirement already satisfied: certifi>=2017.4.17 in /usr/local/lib/python3.7/dist-packages (from requests<3.0.0dev,>=2.18.0->google-api-core==1.21.0->tensorflow_quantum) (2022.6.15)\n",
            "Requirement already satisfied: urllib3!=1.25.0,!=1.25.1,<1.26,>=1.21.1 in /usr/local/lib/python3.7/dist-packages (from requests<3.0.0dev,>=2.18.0->google-api-core==1.21.0->tensorflow_quantum) (1.24.3)\n",
            "Requirement already satisfied: chardet<4,>=3.0.2 in /usr/local/lib/python3.7/dist-packages (from requests<3.0.0dev,>=2.18.0->google-api-core==1.21.0->tensorflow_quantum) (3.0.4)\n",
            "Requirement already satisfied: idna<3,>=2.5 in /usr/local/lib/python3.7/dist-packages (from requests<3.0.0dev,>=2.18.0->google-api-core==1.21.0->tensorflow_quantum) (2.10)\n"
          ]
        }
      ]
    },
    {
      "cell_type": "code",
      "source": [
        "import cirq\n",
        "import sympy\n",
        "import tensorflow\n",
        "import numpy\n",
        "\n",
        "%matplotlib inline\n",
        "import matplotlib.pyplot\n",
        "\n",
        "from cirq.contrib.svg import SVGCircuit\n",
        "\n",
        "import tensorflow_quantum"
      ],
      "metadata": {
        "id": "1enT3h_Ewi2k"
      },
      "execution_count": 77,
      "outputs": []
    },
    {
      "cell_type": "code",
      "execution_count": 78,
      "metadata": {
        "id": "8qaMqTS_vZiN"
      },
      "outputs": [],
      "source": [
        "class CircuitLayerBuilder():\n",
        "    def __init__(self, data_qubits, readout):\n",
        "        self.data_qubits = data_qubits\n",
        "        self.readout = readout\n",
        "    \n",
        "    def add_layer(self, circuit, gate, prefix):\n",
        "        for i, qubit in enumerate(self.data_qubits):\n",
        "            symbol = sympy.Symbol(prefix + '-' + str(i))\n",
        "            circuit.append(gate(qubit, self.readout)**symbol)"
      ]
    },
    {
      "cell_type": "code",
      "source": [
        "demo_builder = CircuitLayerBuilder(data_qubits = cirq.GridQubit.rect(4,1),\n",
        "                                   readout=cirq.GridQubit(-1,-1))\n",
        "\n",
        "circuit = cirq.Circuit()\n",
        "demo_builder.add_layer(circuit, gate = cirq.XX, prefix='xx')\n",
        "SVGCircuit(circuit)"
      ],
      "metadata": {
        "colab": {
          "base_uri": "https://localhost:8080/",
          "height": 271
        },
        "id": "ioww2VAZvbez",
        "outputId": "202cc6bd-ae56-4791-8e44-138a674049ae"
      },
      "execution_count": 79,
      "outputs": [
        {
          "output_type": "execute_result",
          "data": {
            "text/plain": [
              "<cirq.contrib.svg.svg.SVGCircuit at 0x7f6bc1c18610>"
            ],
            "image/svg+xml": "<svg xmlns=\"http://www.w3.org/2000/svg\" width=\"522.59953125\" height=\"250.0\"><line x1=\"39.810625\" x2=\"492.59953125000004\" y1=\"25.0\" y2=\"25.0\" stroke=\"#1967d2\" stroke-width=\"1\" /><line x1=\"39.810625\" x2=\"492.59953125000004\" y1=\"75.0\" y2=\"75.0\" stroke=\"#1967d2\" stroke-width=\"1\" /><line x1=\"39.810625\" x2=\"492.59953125000004\" y1=\"125.0\" y2=\"125.0\" stroke=\"#1967d2\" stroke-width=\"1\" /><line x1=\"39.810625\" x2=\"492.59953125000004\" y1=\"175.0\" y2=\"175.0\" stroke=\"#1967d2\" stroke-width=\"1\" /><line x1=\"39.810625\" x2=\"492.59953125000004\" y1=\"225.0\" y2=\"225.0\" stroke=\"#1967d2\" stroke-width=\"1\" /><line x1=\"129.99353515625\" x2=\"129.99353515625\" y1=\"25.0\" y2=\"75.0\" stroke=\"black\" stroke-width=\"3\" /><line x1=\"230.73810546875004\" x2=\"230.73810546875004\" y1=\"25.0\" y2=\"125.0\" stroke=\"black\" stroke-width=\"3\" /><line x1=\"331.48267578125007\" x2=\"331.48267578125007\" y1=\"25.0\" y2=\"175.0\" stroke=\"black\" stroke-width=\"3\" /><line x1=\"432.22724609375007\" x2=\"432.22724609375007\" y1=\"25.0\" y2=\"225.0\" stroke=\"black\" stroke-width=\"3\" /><rect x=\"10.0\" y=\"5.0\" width=\"59.62125\" height=\"40\" stroke=\"black\" fill=\"white\" stroke-width=\"0\" /><text x=\"39.810625\" y=\"25.0\" dominant-baseline=\"middle\" text-anchor=\"middle\" font-size=\"14px\" font-family=\"Arial\">(-1, -1): </text><rect x=\"10.0\" y=\"55.0\" width=\"59.62125\" height=\"40\" stroke=\"black\" fill=\"white\" stroke-width=\"0\" /><text x=\"39.810625\" y=\"75.0\" dominant-baseline=\"middle\" text-anchor=\"middle\" font-size=\"14px\" font-family=\"Arial\">(0, 0): </text><rect x=\"10.0\" y=\"105.0\" width=\"59.62125\" height=\"40\" stroke=\"black\" fill=\"white\" stroke-width=\"0\" /><text x=\"39.810625\" y=\"125.0\" dominant-baseline=\"middle\" text-anchor=\"middle\" font-size=\"14px\" font-family=\"Arial\">(1, 0): </text><rect x=\"10.0\" y=\"155.0\" width=\"59.62125\" height=\"40\" stroke=\"black\" fill=\"white\" stroke-width=\"0\" /><text x=\"39.810625\" y=\"175.0\" dominant-baseline=\"middle\" text-anchor=\"middle\" font-size=\"14px\" font-family=\"Arial\">(2, 0): </text><rect x=\"10.0\" y=\"205.0\" width=\"59.62125\" height=\"40\" stroke=\"black\" fill=\"white\" stroke-width=\"0\" /><text x=\"39.810625\" y=\"225.0\" dominant-baseline=\"middle\" text-anchor=\"middle\" font-size=\"14px\" font-family=\"Arial\">(3, 0): </text><rect x=\"89.62125\" y=\"55.0\" width=\"80.74457031250002\" height=\"40\" stroke=\"black\" fill=\"white\" stroke-width=\"1\" /><text x=\"129.99353515625\" y=\"75.0\" dominant-baseline=\"middle\" text-anchor=\"middle\" font-size=\"14px\" font-family=\"Arial\">XX^(xx-0)</text><rect x=\"89.62125\" y=\"5.0\" width=\"80.74457031250002\" height=\"40\" stroke=\"black\" fill=\"white\" stroke-width=\"1\" /><text x=\"129.99353515625\" y=\"25.0\" dominant-baseline=\"middle\" text-anchor=\"middle\" font-size=\"14px\" font-family=\"Arial\">XX</text><rect x=\"190.36582031250003\" y=\"105.0\" width=\"80.74457031250002\" height=\"40\" stroke=\"black\" fill=\"white\" stroke-width=\"1\" /><text x=\"230.73810546875004\" y=\"125.0\" dominant-baseline=\"middle\" text-anchor=\"middle\" font-size=\"14px\" font-family=\"Arial\">XX^(xx-1)</text><rect x=\"190.36582031250003\" y=\"5.0\" width=\"80.74457031250002\" height=\"40\" stroke=\"black\" fill=\"white\" stroke-width=\"1\" /><text x=\"230.73810546875004\" y=\"25.0\" dominant-baseline=\"middle\" text-anchor=\"middle\" font-size=\"14px\" font-family=\"Arial\">XX</text><rect x=\"291.11039062500004\" y=\"155.0\" width=\"80.74457031250002\" height=\"40\" stroke=\"black\" fill=\"white\" stroke-width=\"1\" /><text x=\"331.48267578125007\" y=\"175.0\" dominant-baseline=\"middle\" text-anchor=\"middle\" font-size=\"14px\" font-family=\"Arial\">XX^(xx-2)</text><rect x=\"291.11039062500004\" y=\"5.0\" width=\"80.74457031250002\" height=\"40\" stroke=\"black\" fill=\"white\" stroke-width=\"1\" /><text x=\"331.48267578125007\" y=\"25.0\" dominant-baseline=\"middle\" text-anchor=\"middle\" font-size=\"14px\" font-family=\"Arial\">XX</text><rect x=\"391.85496093750004\" y=\"205.0\" width=\"80.74457031250002\" height=\"40\" stroke=\"black\" fill=\"white\" stroke-width=\"1\" /><text x=\"432.22724609375007\" y=\"225.0\" dominant-baseline=\"middle\" text-anchor=\"middle\" font-size=\"14px\" font-family=\"Arial\">XX^(xx-3)</text><rect x=\"391.85496093750004\" y=\"5.0\" width=\"80.74457031250002\" height=\"40\" stroke=\"black\" fill=\"white\" stroke-width=\"1\" /><text x=\"432.22724609375007\" y=\"25.0\" dominant-baseline=\"middle\" text-anchor=\"middle\" font-size=\"14px\" font-family=\"Arial\">XX</text></svg>"
          },
          "metadata": {},
          "execution_count": 79
        }
      ]
    },
    {
      "cell_type": "code",
      "source": [
        "def create_quantum_model():\n",
        "    \"\"\"Create a QNN model circuit and readout operation to go along with it.\"\"\"\n",
        "    data_qubits = cirq.GridQubit.rect(4, 4)  # a 4x4 grid.\n",
        "    readout = cirq.GridQubit(-1, -1)         # a single qubit at [-1,-1]\n",
        "    circuit = cirq.Circuit()\n",
        "    \n",
        "    # Prepare the readout qubit.\n",
        "    circuit.append(cirq.X(readout))\n",
        "    circuit.append(cirq.H(readout))\n",
        "    \n",
        "    builder = CircuitLayerBuilder(\n",
        "        data_qubits = data_qubits,\n",
        "        readout=readout)\n",
        "\n",
        "    # Then add layers (experiment by adding more).\n",
        "    builder.add_layer(circuit, cirq.XX, \"xx1\")\n",
        "    builder.add_layer(circuit, cirq.ZZ, \"zz1\")\n",
        "\n",
        "    # Finally, prepare the readout qubit.\n",
        "    circuit.append(cirq.H(readout))\n",
        "\n",
        "    return circuit, cirq.Z(readout)"
      ],
      "metadata": {
        "id": "JBlICkK_vcek"
      },
      "execution_count": 80,
      "outputs": []
    },
    {
      "cell_type": "code",
      "source": [
        "model_circuit, model_readout = create_quantum_model()"
      ],
      "metadata": {
        "id": "PL9NtuXtvcs5"
      },
      "execution_count": 81,
      "outputs": []
    },
    {
      "cell_type": "code",
      "source": [
        "# Build the Keras model.\n",
        "model = tensorflow.keras.Sequential([\n",
        "    # The input is the data-circuit, encoded as a tf.string\n",
        "    tensorflow.keras.layers.Input(shape=(), dtype=tensorflow.string),\n",
        "    # The PQC layer returns the expected value of the readout gate, range [-1,1].\n",
        "    tensorflow_quantum.layers.PQC(model_circuit, model_readout),\n",
        "])"
      ],
      "metadata": {
        "id": "0pDsKpIyvc5i"
      },
      "execution_count": 82,
      "outputs": []
    },
    {
      "cell_type": "code",
      "source": [
        ""
      ],
      "metadata": {
        "id": "j4-8BwzG1PRj"
      },
      "execution_count": 82,
      "outputs": []
    },
    {
      "cell_type": "code",
      "source": [
        "(x_train, y_train), (x_test, y_test) = tensorflow.keras.datasets.mnist.load_data()\n",
        "\n",
        "# Rescale the images from [0,255] to the [0.0,1.0] range.\n",
        "x_train, x_test = x_train[..., numpy.newaxis]/255.0, x_test[..., numpy.newaxis]/255.0\n",
        "\n",
        "print(\"Number of original training examples:\", len(x_train))\n",
        "print(\"Number of original test examples:\", len(x_test))"
      ],
      "metadata": {
        "colab": {
          "base_uri": "https://localhost:8080/"
        },
        "id": "mtcw8E871PEE",
        "outputId": "9c853110-4c14-4cb5-dbca-c05837bded1d"
      },
      "execution_count": 83,
      "outputs": [
        {
          "output_type": "stream",
          "name": "stdout",
          "text": [
            "Number of original training examples: 60000\n",
            "Number of original test examples: 10000\n"
          ]
        }
      ]
    },
    {
      "cell_type": "code",
      "source": [
        "def filter_36(x, y):\n",
        "    keep = (y == 3) | (y == 6)\n",
        "    x, y = x[keep], y[keep]\n",
        "    y = y == 3\n",
        "    return x,y"
      ],
      "metadata": {
        "id": "da44qCin1O0v"
      },
      "execution_count": 84,
      "outputs": []
    },
    {
      "cell_type": "code",
      "source": [
        "x_train, y_train = filter_36(x_train, y_train)\n",
        "x_test, y_test = filter_36(x_test, y_test)\n",
        "\n",
        "print(\"Number of filtered training examples:\", len(x_train))\n",
        "print(\"Number of filtered test examples:\", len(x_test))"
      ],
      "metadata": {
        "colab": {
          "base_uri": "https://localhost:8080/"
        },
        "id": "mvuq_4681OkK",
        "outputId": "43652e5e-f557-4ac4-c221-565f25839fb2"
      },
      "execution_count": 85,
      "outputs": [
        {
          "output_type": "stream",
          "name": "stdout",
          "text": [
            "Number of filtered training examples: 12049\n",
            "Number of filtered test examples: 1968\n"
          ]
        }
      ]
    },
    {
      "cell_type": "code",
      "source": [
        "print(y_train[0])\n",
        "\n",
        "matplotlib.pyplot.imshow(x_train[0, :, :, 0])\n",
        "matplotlib.pyplot.colorbar()"
      ],
      "metadata": {
        "colab": {
          "base_uri": "https://localhost:8080/",
          "height": 304
        },
        "id": "PPO2KQ3e1OPZ",
        "outputId": "817ab53c-96db-4bb4-9326-d816e4f92f05"
      },
      "execution_count": 86,
      "outputs": [
        {
          "output_type": "stream",
          "name": "stdout",
          "text": [
            "True\n"
          ]
        },
        {
          "output_type": "execute_result",
          "data": {
            "text/plain": [
              "<matplotlib.colorbar.Colorbar at 0x7f6bc1bb1110>"
            ]
          },
          "metadata": {},
          "execution_count": 86
        },
        {
          "output_type": "display_data",
          "data": {
            "text/plain": [
              "<Figure size 432x288 with 2 Axes>"
            ],
            "image/png": "[encoded data removed]"
          },
          "metadata": {
            "needs_background": "light"
          }
        }
      ]
    },
    {
      "cell_type": "code",
      "source": [
        "x_train_small = tensorflow.image.resize(x_train, (4,4)).numpy()\n",
        "x_test_small = tensorflow.image.resize(x_test, (4,4)).numpy()"
      ],
      "metadata": {
        "id": "BBWSQ-xM3fxU"
      },
      "execution_count": 87,
      "outputs": []
    },
    {
      "cell_type": "code",
      "source": [
        "x_train_nocon, y_train_nocon = x_train_small, y_train"
      ],
      "metadata": {
        "id": "_9U7JCLT3HxW"
      },
      "execution_count": 88,
      "outputs": []
    },
    {
      "cell_type": "code",
      "source": [
        "y_train_hinge = 2.0*y_train_nocon-1.0\n",
        "y_test_hinge = 2.0*y_test-1.0"
      ],
      "metadata": {
        "id": "JDuNTitBvdFY"
      },
      "execution_count": 89,
      "outputs": []
    },
    {
      "cell_type": "code",
      "source": [
        "THRESHOLD = 0.5\n",
        "\n",
        "x_train_bin = numpy.array(x_train_nocon > THRESHOLD, dtype=numpy.float32)\n",
        "x_test_bin = numpy.array(x_test_small > THRESHOLD, dtype=numpy.float32)"
      ],
      "metadata": {
        "id": "SJmrBthd3G4B"
      },
      "execution_count": 90,
      "outputs": []
    },
    {
      "cell_type": "code",
      "source": [
        "def convert_to_circuit(image):\n",
        "    \"\"\"Encode truncated classical image into quantum datapoint.\"\"\"\n",
        "    values = numpy.ndarray.flatten(image)\n",
        "    qubits = cirq.GridQubit.rect(4, 4)\n",
        "    circuit = cirq.Circuit()\n",
        "    for i, value in enumerate(values):\n",
        "        if value:\n",
        "            circuit.append(cirq.X(qubits[i]))\n",
        "    return circuit\n",
        "\n",
        "\n",
        "x_train_circ = [convert_to_circuit(x) for x in x_train_bin]\n",
        "x_test_circ = [convert_to_circuit(x) for x in x_test_bin]"
      ],
      "metadata": {
        "id": "HfsQjCUh08mL"
      },
      "execution_count": 91,
      "outputs": []
    },
    {
      "cell_type": "code",
      "source": [
        "SVGCircuit(x_train_circ[0])"
      ],
      "metadata": {
        "colab": {
          "base_uri": "https://localhost:8080/",
          "height": 121
        },
        "id": "X3kQfcqv0836",
        "outputId": "477388e8-31b4-4098-b340-b271324837db"
      },
      "execution_count": 92,
      "outputs": [
        {
          "output_type": "execute_result",
          "data": {
            "text/plain": [
              "<cirq.contrib.svg.svg.SVGCircuit at 0x7f6bbca67c50>"
            ],
            "image/svg+xml": "<svg xmlns=\"http://www.w3.org/2000/svg\" width=\"169.517734375\" height=\"100.0\"><line x1=\"34.7588671875\" x2=\"139.517734375\" y1=\"25.0\" y2=\"25.0\" stroke=\"#1967d2\" stroke-width=\"1\" /><line x1=\"34.7588671875\" x2=\"139.517734375\" y1=\"75.0\" y2=\"75.0\" stroke=\"#1967d2\" stroke-width=\"1\" /><rect x=\"10.0\" y=\"5.0\" width=\"49.517734375\" height=\"40\" stroke=\"black\" fill=\"white\" stroke-width=\"0\" /><text x=\"34.7588671875\" y=\"25.0\" dominant-baseline=\"middle\" text-anchor=\"middle\" font-size=\"14px\" font-family=\"Arial\">(2, 2): </text><rect x=\"10.0\" y=\"55.0\" width=\"49.517734375\" height=\"40\" stroke=\"black\" fill=\"white\" stroke-width=\"0\" /><text x=\"34.7588671875\" y=\"75.0\" dominant-baseline=\"middle\" text-anchor=\"middle\" font-size=\"14px\" font-family=\"Arial\">(3, 1): </text><rect x=\"79.517734375\" y=\"5.0\" width=\"40\" height=\"40\" stroke=\"black\" fill=\"white\" stroke-width=\"1\" /><text x=\"99.517734375\" y=\"25.0\" dominant-baseline=\"middle\" text-anchor=\"middle\" font-size=\"18px\" font-family=\"Arial\">X</text><rect x=\"79.517734375\" y=\"55.0\" width=\"40\" height=\"40\" stroke=\"black\" fill=\"white\" stroke-width=\"1\" /><text x=\"99.517734375\" y=\"75.0\" dominant-baseline=\"middle\" text-anchor=\"middle\" font-size=\"18px\" font-family=\"Arial\">X</text></svg>"
          },
          "metadata": {},
          "execution_count": 92
        }
      ]
    },
    {
      "cell_type": "code",
      "source": [
        "bin_img = x_train_bin[0,:,:,0]\n",
        "indices = numpy.array(numpy.where(bin_img)).T\n",
        "indices"
      ],
      "metadata": {
        "colab": {
          "base_uri": "https://localhost:8080/"
        },
        "id": "AHnTYTIH09CI",
        "outputId": "8c410ac0-dac8-4687-93b3-78e61d984c99"
      },
      "execution_count": 93,
      "outputs": [
        {
          "output_type": "execute_result",
          "data": {
            "text/plain": [
              "array([[2, 2],\n",
              "       [3, 1]])"
            ]
          },
          "metadata": {},
          "execution_count": 93
        }
      ]
    },
    {
      "cell_type": "code",
      "source": [
        "x_train_tfcirc = tensorflow_quantum.convert_to_tensor(x_train_circ)\n",
        "x_test_tfcirc = tensorflow_quantum.convert_to_tensor(x_test_circ)"
      ],
      "metadata": {
        "id": "tcATD23V09Mi"
      },
      "execution_count": 94,
      "outputs": []
    },
    {
      "cell_type": "code",
      "source": [
        "def hinge_accuracy(y_true, y_pred):\n",
        "    y_true = tensorflow.squeeze(y_true) > 0.0\n",
        "    y_pred = tensorflow.squeeze(y_pred) > 0.0\n",
        "    result = tensorflow.cast(y_true == y_pred, tensorflow.float32)\n",
        "\n",
        "    return tensorflow.reduce_mean(result)"
      ],
      "metadata": {
        "id": "QHZeWWGl09XG"
      },
      "execution_count": 95,
      "outputs": []
    },
    {
      "cell_type": "code",
      "source": [
        "model.compile(\n",
        "    loss=tensorflow.keras.losses.Hinge(),\n",
        "    optimizer=tensorflow.keras.optimizers.Adam(),\n",
        "    metrics=[hinge_accuracy])"
      ],
      "metadata": {
        "id": "1c5Y2j6B09gi"
      },
      "execution_count": 96,
      "outputs": []
    },
    {
      "cell_type": "code",
      "source": [
        "print(model.summary())"
      ],
      "metadata": {
        "colab": {
          "base_uri": "https://localhost:8080/"
        },
        "id": "kzKBvCVf09o_",
        "outputId": "b8cf98c1-ab58-42b6-9c24-1165ce81f4c7"
      },
      "execution_count": 97,
      "outputs": [
        {
          "output_type": "stream",
          "name": "stdout",
          "text": [
            "Model: \"sequential_3\"\n",
            "_________________________________________________________________\n",
            " Layer (type)                Output Shape              Param #   \n",
            "=================================================================\n",
            " pqc_3 (PQC)                 (None, 1)                 32        \n",
            "                                                                 \n",
            "=================================================================\n",
            "Total params: 32\n",
            "Trainable params: 32\n",
            "Non-trainable params: 0\n",
            "_________________________________________________________________\n",
            "None\n"
          ]
        }
      ]
    },
    {
      "cell_type": "code",
      "source": [
        "EPOCHS = 3\n",
        "BATCH_SIZE = 32\n",
        "\n",
        "NUM_EXAMPLES = len(x_train_tfcirc)"
      ],
      "metadata": {
        "id": "gkIHS7xK5ZWy"
      },
      "execution_count": 98,
      "outputs": []
    },
    {
      "cell_type": "code",
      "source": [
        "x_train_tfcirc_sub = x_train_tfcirc[:NUM_EXAMPLES]\n",
        "y_train_hinge_sub = y_train_hinge[:NUM_EXAMPLES]"
      ],
      "metadata": {
        "id": "FzfXFIO05ZmH"
      },
      "execution_count": 99,
      "outputs": []
    },
    {
      "cell_type": "code",
      "source": [
        "qnn_history = model.fit(\n",
        "      x_train_tfcirc_sub, y_train_hinge_sub,\n",
        "      batch_size=32,\n",
        "      epochs=EPOCHS,\n",
        "      verbose=1,\n",
        "      validation_data=(x_test_tfcirc, y_test_hinge))\n",
        "\n",
        "qnn_results = model.evaluate(x_test_tfcirc, y_test)"
      ],
      "metadata": {
        "colab": {
          "base_uri": "https://localhost:8080/"
        },
        "id": "yes3pT9W5Zy6",
        "outputId": "cab47397-0796-4964-ea0d-ffb99a8a3d01"
      },
      "execution_count": 100,
      "outputs": [
        {
          "output_type": "stream",
          "name": "stdout",
          "text": [
            "Epoch 1/3\n",
            "377/377 [==============================] - 1084s 3s/step - loss: 0.6833 - hinge_accuracy: 0.7417 - val_loss: 0.4352 - val_hinge_accuracy: 0.7742\n",
            "Epoch 2/3\n",
            "377/377 [==============================] - 823s 2s/step - loss: 0.3611 - hinge_accuracy: 0.8599 - val_loss: 0.3235 - val_hinge_accuracy: 0.8569\n",
            "Epoch 3/3\n",
            "377/377 [==============================] - 820s 2s/step - loss: 0.3311 - hinge_accuracy: 0.8530 - val_loss: 0.3227 - val_hinge_accuracy: 0.8569\n",
            "62/62 [==============================] - 23s 369ms/step - loss: 0.3227 - hinge_accuracy: 0.8569\n"
          ]
        }
      ]
    },
    {
      "cell_type": "code",
      "source": [
        "x_test_tfcirc"
      ],
      "metadata": {
        "colab": {
          "base_uri": "https://localhost:8080/"
        },
        "id": "Nf30esCV5Z92",
        "outputId": "2799e345-71f5-4f4d-cfca-36ac5b4f48c6"
      },
      "execution_count": 101,
      "outputs": [
        {
          "output_type": "execute_result",
          "data": {
            "text/plain": [
              "<tf.Tensor: shape=(1968,), dtype=string, numpy=\n",
              "array([b'\\n\\x0e\\n\\x0ctfq_gate_set\\x12\\x8f\\x01\\x08\\x01\\x12\\x8a\\x01\\n\\x87\\x01\\n\\x04\\n\\x02XP\\x12\\x16\\n\\x0econtrol_values\\x12\\x04\\n\\x02\\x1a\\x00\\x12\\x17\\n\\x0cglobal_shift\\x12\\x07\\n\\x05\\r\\x00\\x00\\x00\\x00\\x12\\x1a\\n\\x0fexponent_scalar\\x12\\x07\\n\\x05\\r\\x00\\x00\\x80?\\x12\\x16\\n\\x0econtrol_qubits\\x12\\x04\\n\\x02\\x1a\\x00\\x12\\x13\\n\\x08exponent\\x12\\x07\\n\\x05\\r\\x00\\x00\\x80?\\x1a\\x05\\x12\\x031_2',\n",
              "       b'\\n\\x0e\\n\\x0ctfq_gate_set\\x12\\x8f\\x01\\x08\\x01\\x12\\x8a\\x01\\n\\x87\\x01\\n\\x04\\n\\x02XP\\x12\\x16\\n\\x0econtrol_qubits\\x12\\x04\\n\\x02\\x1a\\x00\\x12\\x17\\n\\x0cglobal_shift\\x12\\x07\\n\\x05\\r\\x00\\x00\\x00\\x00\\x12\\x13\\n\\x08exponent\\x12\\x07\\n\\x05\\r\\x00\\x00\\x80?\\x12\\x1a\\n\\x0fexponent_scalar\\x12\\x07\\n\\x05\\r\\x00\\x00\\x80?\\x12\\x16\\n\\x0econtrol_values\\x12\\x04\\n\\x02\\x1a\\x00\\x1a\\x05\\x12\\x032_1',\n",
              "       b'\\n\\x0e\\n\\x0ctfq_gate_set\\x12\\x99\\x02\\x08\\x01\\x12\\x94\\x02\\n\\x87\\x01\\n\\x04\\n\\x02XP\\x12\\x17\\n\\x0cglobal_shift\\x12\\x07\\n\\x05\\r\\x00\\x00\\x00\\x00\\x12\\x1a\\n\\x0fexponent_scalar\\x12\\x07\\n\\x05\\r\\x00\\x00\\x80?\\x12\\x16\\n\\x0econtrol_qubits\\x12\\x04\\n\\x02\\x1a\\x00\\x12\\x13\\n\\x08exponent\\x12\\x07\\n\\x05\\r\\x00\\x00\\x80?\\x12\\x16\\n\\x0econtrol_values\\x12\\x04\\n\\x02\\x1a\\x00\\x1a\\x05\\x12\\x031_1\\n\\x87\\x01\\n\\x04\\n\\x02XP\\x12\\x17\\n\\x0cglobal_shift\\x12\\x07\\n\\x05\\r\\x00\\x00\\x00\\x00\\x12\\x1a\\n\\x0fexponent_scalar\\x12\\x07\\n\\x05\\r\\x00\\x00\\x80?\\x12\\x16\\n\\x0econtrol_values\\x12\\x04\\n\\x02\\x1a\\x00\\x12\\x13\\n\\x08exponent\\x12\\x07\\n\\x05\\r\\x00\\x00\\x80?\\x12\\x16\\n\\x0econtrol_qubits\\x12\\x04\\n\\x02\\x1a\\x00\\x1a\\x05\\x12\\x032_1',\n",
              "       ...,\n",
              "       b'\\n\\x0e\\n\\x0ctfq_gate_set\\x12\\x99\\x02\\x08\\x01\\x12\\x94\\x02\\n\\x87\\x01\\n\\x04\\n\\x02XP\\x12\\x13\\n\\x08exponent\\x12\\x07\\n\\x05\\r\\x00\\x00\\x80?\\x12\\x16\\n\\x0econtrol_values\\x12\\x04\\n\\x02\\x1a\\x00\\x12\\x16\\n\\x0econtrol_qubits\\x12\\x04\\n\\x02\\x1a\\x00\\x12\\x17\\n\\x0cglobal_shift\\x12\\x07\\n\\x05\\r\\x00\\x00\\x00\\x00\\x12\\x1a\\n\\x0fexponent_scalar\\x12\\x07\\n\\x05\\r\\x00\\x00\\x80?\\x1a\\x05\\x12\\x032_1\\n\\x87\\x01\\n\\x04\\n\\x02XP\\x12\\x16\\n\\x0econtrol_values\\x12\\x04\\n\\x02\\x1a\\x00\\x12\\x17\\n\\x0cglobal_shift\\x12\\x07\\n\\x05\\r\\x00\\x00\\x00\\x00\\x12\\x16\\n\\x0econtrol_qubits\\x12\\x04\\n\\x02\\x1a\\x00\\x12\\x1a\\n\\x0fexponent_scalar\\x12\\x07\\n\\x05\\r\\x00\\x00\\x80?\\x12\\x13\\n\\x08exponent\\x12\\x07\\n\\x05\\r\\x00\\x00\\x80?\\x1a\\x05\\x12\\x032_2',\n",
              "       b'\\n\\x0e\\n\\x0ctfq_gate_set\\x12\\x8f\\x01\\x08\\x01\\x12\\x8a\\x01\\n\\x87\\x01\\n\\x04\\n\\x02XP\\x12\\x16\\n\\x0econtrol_qubits\\x12\\x04\\n\\x02\\x1a\\x00\\x12\\x17\\n\\x0cglobal_shift\\x12\\x07\\n\\x05\\r\\x00\\x00\\x00\\x00\\x12\\x13\\n\\x08exponent\\x12\\x07\\n\\x05\\r\\x00\\x00\\x80?\\x12\\x1a\\n\\x0fexponent_scalar\\x12\\x07\\n\\x05\\r\\x00\\x00\\x80?\\x12\\x16\\n\\x0econtrol_values\\x12\\x04\\n\\x02\\x1a\\x00\\x1a\\x05\\x12\\x032_2',\n",
              "       b'\\n\\x0e\\n\\x0ctfq_gate_set\\x12\\x99\\x02\\x08\\x01\\x12\\x94\\x02\\n\\x87\\x01\\n\\x04\\n\\x02XP\\x12\\x1a\\n\\x0fexponent_scalar\\x12\\x07\\n\\x05\\r\\x00\\x00\\x80?\\x12\\x17\\n\\x0cglobal_shift\\x12\\x07\\n\\x05\\r\\x00\\x00\\x00\\x00\\x12\\x16\\n\\x0econtrol_qubits\\x12\\x04\\n\\x02\\x1a\\x00\\x12\\x16\\n\\x0econtrol_values\\x12\\x04\\n\\x02\\x1a\\x00\\x12\\x13\\n\\x08exponent\\x12\\x07\\n\\x05\\r\\x00\\x00\\x80?\\x1a\\x05\\x12\\x030_2\\n\\x87\\x01\\n\\x04\\n\\x02XP\\x12\\x16\\n\\x0econtrol_values\\x12\\x04\\n\\x02\\x1a\\x00\\x12\\x16\\n\\x0econtrol_qubits\\x12\\x04\\n\\x02\\x1a\\x00\\x12\\x1a\\n\\x0fexponent_scalar\\x12\\x07\\n\\x05\\r\\x00\\x00\\x80?\\x12\\x17\\n\\x0cglobal_shift\\x12\\x07\\n\\x05\\r\\x00\\x00\\x00\\x00\\x12\\x13\\n\\x08exponent\\x12\\x07\\n\\x05\\r\\x00\\x00\\x80?\\x1a\\x05\\x12\\x031_1'],\n",
              "      dtype=object)>"
            ]
          },
          "metadata": {},
          "execution_count": 101
        }
      ]
    },
    {
      "cell_type": "code",
      "source": [
        "len(y_test_hinge)"
      ],
      "metadata": {
        "colab": {
          "base_uri": "https://localhost:8080/"
        },
        "id": "TZcRNytc5aIt",
        "outputId": "879b3569-1aaa-444f-e3fd-3d90a43e67f4"
      },
      "execution_count": 102,
      "outputs": [
        {
          "output_type": "execute_result",
          "data": {
            "text/plain": [
              "1968"
            ]
          },
          "metadata": {},
          "execution_count": 102
        }
      ]
    },
    {
      "cell_type": "code",
      "source": [
        "x_train_tfcirc_sub"
      ],
      "metadata": {
        "colab": {
          "base_uri": "https://localhost:8080/"
        },
        "id": "3taXXfH25aSq",
        "outputId": "7839caa4-e5cf-428a-ef4e-f4d392abf783"
      },
      "execution_count": 103,
      "outputs": [
        {
          "output_type": "execute_result",
          "data": {
            "text/plain": [
              "<tf.Tensor: shape=(12049,), dtype=string, numpy=\n",
              "array([b'\\n\\x0e\\n\\x0ctfq_gate_set\\x12\\x99\\x02\\x08\\x01\\x12\\x94\\x02\\n\\x87\\x01\\n\\x04\\n\\x02XP\\x12\\x1a\\n\\x0fexponent_scalar\\x12\\x07\\n\\x05\\r\\x00\\x00\\x80?\\x12\\x17\\n\\x0cglobal_shift\\x12\\x07\\n\\x05\\r\\x00\\x00\\x00\\x00\\x12\\x16\\n\\x0econtrol_values\\x12\\x04\\n\\x02\\x1a\\x00\\x12\\x16\\n\\x0econtrol_qubits\\x12\\x04\\n\\x02\\x1a\\x00\\x12\\x13\\n\\x08exponent\\x12\\x07\\n\\x05\\r\\x00\\x00\\x80?\\x1a\\x05\\x12\\x032_2\\n\\x87\\x01\\n\\x04\\n\\x02XP\\x12\\x16\\n\\x0econtrol_qubits\\x12\\x04\\n\\x02\\x1a\\x00\\x12\\x13\\n\\x08exponent\\x12\\x07\\n\\x05\\r\\x00\\x00\\x80?\\x12\\x17\\n\\x0cglobal_shift\\x12\\x07\\n\\x05\\r\\x00\\x00\\x00\\x00\\x12\\x1a\\n\\x0fexponent_scalar\\x12\\x07\\n\\x05\\r\\x00\\x00\\x80?\\x12\\x16\\n\\x0econtrol_values\\x12\\x04\\n\\x02\\x1a\\x00\\x1a\\x05\\x12\\x033_1',\n",
              "       b'\\n\\x0e\\n\\x0ctfq_gate_set\\x12\\x99\\x02\\x08\\x01\\x12\\x94\\x02\\n\\x87\\x01\\n\\x04\\n\\x02XP\\x12\\x16\\n\\x0econtrol_qubits\\x12\\x04\\n\\x02\\x1a\\x00\\x12\\x17\\n\\x0cglobal_shift\\x12\\x07\\n\\x05\\r\\x00\\x00\\x00\\x00\\x12\\x16\\n\\x0econtrol_values\\x12\\x04\\n\\x02\\x1a\\x00\\x12\\x1a\\n\\x0fexponent_scalar\\x12\\x07\\n\\x05\\r\\x00\\x00\\x80?\\x12\\x13\\n\\x08exponent\\x12\\x07\\n\\x05\\r\\x00\\x00\\x80?\\x1a\\x05\\x12\\x031_2\\n\\x87\\x01\\n\\x04\\n\\x02XP\\x12\\x1a\\n\\x0fexponent_scalar\\x12\\x07\\n\\x05\\r\\x00\\x00\\x80?\\x12\\x16\\n\\x0econtrol_values\\x12\\x04\\n\\x02\\x1a\\x00\\x12\\x13\\n\\x08exponent\\x12\\x07\\n\\x05\\r\\x00\\x00\\x80?\\x12\\x16\\n\\x0econtrol_qubits\\x12\\x04\\n\\x02\\x1a\\x00\\x12\\x17\\n\\x0cglobal_shift\\x12\\x07\\n\\x05\\r\\x00\\x00\\x00\\x00\\x1a\\x05\\x12\\x032_2',\n",
              "       b'\\n\\x0e\\n\\x0ctfq_gate_set\\x12\\x8f\\x01\\x08\\x01\\x12\\x8a\\x01\\n\\x87\\x01\\n\\x04\\n\\x02XP\\x12\\x16\\n\\x0econtrol_qubits\\x12\\x04\\n\\x02\\x1a\\x00\\x12\\x13\\n\\x08exponent\\x12\\x07\\n\\x05\\r\\x00\\x00\\x80?\\x12\\x16\\n\\x0econtrol_values\\x12\\x04\\n\\x02\\x1a\\x00\\x12\\x1a\\n\\x0fexponent_scalar\\x12\\x07\\n\\x05\\r\\x00\\x00\\x80?\\x12\\x17\\n\\x0cglobal_shift\\x12\\x07\\n\\x05\\r\\x00\\x00\\x00\\x00\\x1a\\x05\\x12\\x033_1',\n",
              "       ...,\n",
              "       b'\\n\\x0e\\n\\x0ctfq_gate_set\\x12\\x8f\\x01\\x08\\x01\\x12\\x8a\\x01\\n\\x87\\x01\\n\\x04\\n\\x02XP\\x12\\x17\\n\\x0cglobal_shift\\x12\\x07\\n\\x05\\r\\x00\\x00\\x00\\x00\\x12\\x1a\\n\\x0fexponent_scalar\\x12\\x07\\n\\x05\\r\\x00\\x00\\x80?\\x12\\x16\\n\\x0econtrol_qubits\\x12\\x04\\n\\x02\\x1a\\x00\\x12\\x16\\n\\x0econtrol_values\\x12\\x04\\n\\x02\\x1a\\x00\\x12\\x13\\n\\x08exponent\\x12\\x07\\n\\x05\\r\\x00\\x00\\x80?\\x1a\\x05\\x12\\x032_2',\n",
              "       b'\\n\\x0e\\n\\x0ctfq_gate_set\\x12\\x8f\\x01\\x08\\x01\\x12\\x8a\\x01\\n\\x87\\x01\\n\\x04\\n\\x02XP\\x12\\x1a\\n\\x0fexponent_scalar\\x12\\x07\\n\\x05\\r\\x00\\x00\\x80?\\x12\\x16\\n\\x0econtrol_values\\x12\\x04\\n\\x02\\x1a\\x00\\x12\\x17\\n\\x0cglobal_shift\\x12\\x07\\n\\x05\\r\\x00\\x00\\x00\\x00\\x12\\x13\\n\\x08exponent\\x12\\x07\\n\\x05\\r\\x00\\x00\\x80?\\x12\\x16\\n\\x0econtrol_qubits\\x12\\x04\\n\\x02\\x1a\\x00\\x1a\\x05\\x12\\x032_2',\n",
              "       b'\\n\\x0e\\n\\x0ctfq_gate_set\\x12\\x02\\x08\\x01'], dtype=object)>"
            ]
          },
          "metadata": {},
          "execution_count": 103
        }
      ]
    }
  ]
}
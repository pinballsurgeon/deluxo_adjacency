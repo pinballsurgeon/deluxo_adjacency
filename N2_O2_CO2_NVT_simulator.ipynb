{
  "nbformat": 4,
  "nbformat_minor": 0,
  "metadata": {
    "colab": {
      "name": "N2-O2-CO2 NVT simulator.ipynb",
      "provenance": [],
      "collapsed_sections": [
        "tU3UPlI3Jef-",
        "i0_-6MRza4s9",
        "NZuAjcdvdB0O"
      ],
      "authorship_tag": "ABX9TyOwaLD/eRlsQinWaJS4gsKv",
      "include_colab_link": true
    },
    "kernelspec": {
      "name": "python3",
      "display_name": "Python 3"
    },
    "language_info": {
      "name": "python"
    }
  },
  "cells": [
    {
      "cell_type": "markdown",
      "metadata": {
        "id": "view-in-github",
        "colab_type": "text"
      },
      "source": [
        "<a href=\"https://colab.research.google.com/github/pinballsurgeon/deluxo_adjacency/blob/main/N2_O2_CO2_NVT_simulator.ipynb\" target=\"_parent\"><img src=\"https://colab.research.google.com/assets/colab-badge.svg\" alt=\"Open In Colab\"/></a>"
      ]
    },
    {
      "cell_type": "code",
      "source": [
        ""
      ],
      "metadata": {
        "id": "XbuuOUdCJd4N"
      },
      "execution_count": null,
      "outputs": []
    },
    {
      "cell_type": "markdown",
      "source": [
        "###Installs"
      ],
      "metadata": {
        "id": "tU3UPlI3Jef-"
      }
    },
    {
      "cell_type": "code",
      "source": [
        "# jax molecular dynamics\n",
        "!pip install jax-md"
      ],
      "metadata": {
        "colab": {
          "base_uri": "https://localhost:8080/"
        },
        "id": "pgE4G4VeJcrI",
        "outputId": "8ceefa9d-ce1c-4d91-d03c-87c945ca3a49"
      },
      "execution_count": 1,
      "outputs": [
        {
          "output_type": "stream",
          "name": "stdout",
          "text": [
            "Looking in indexes: https://pypi.org/simple, https://us-python.pkg.dev/colab-wheels/public/simple/\n",
            "Collecting jax-md\n",
            "  Downloading jax_md-0.1.29-py2.py3-none-any.whl (95 kB)\n",
            "\u001b[K     |████████████████████████████████| 95 kB 1.3 MB/s \n",
            "\u001b[?25hRequirement already satisfied: absl-py in /usr/local/lib/python3.7/dist-packages (from jax-md) (1.2.0)\n",
            "Collecting jraph\n",
            "  Downloading jraph-0.0.5.dev0-py3-none-any.whl (90 kB)\n",
            "\u001b[K     |████████████████████████████████| 90 kB 5.1 MB/s \n",
            "\u001b[?25hRequirement already satisfied: jaxlib>=0.1.52 in /usr/local/lib/python3.7/dist-packages (from jax-md) (0.3.14+cuda11.cudnn805)\n",
            "Collecting dataclasses\n",
            "  Downloading dataclasses-0.6-py3-none-any.whl (14 kB)\n",
            "Collecting dm-haiku>=0.0.2\n",
            "  Downloading dm_haiku-0.0.7-py3-none-any.whl (342 kB)\n",
            "\u001b[K     |████████████████████████████████| 342 kB 11.6 MB/s \n",
            "\u001b[?25hRequirement already satisfied: jax>=0.1.73 in /usr/local/lib/python3.7/dist-packages (from jax-md) (0.3.14)\n",
            "Requirement already satisfied: numpy in /usr/local/lib/python3.7/dist-packages (from jax-md) (1.21.6)\n",
            "Requirement already satisfied: tabulate>=0.8.9 in /usr/local/lib/python3.7/dist-packages (from dm-haiku>=0.0.2->jax-md) (0.8.10)\n",
            "Collecting jmp>=0.0.2\n",
            "  Downloading jmp-0.0.2-py3-none-any.whl (16 kB)\n",
            "Requirement already satisfied: typing-extensions in /usr/local/lib/python3.7/dist-packages (from dm-haiku>=0.0.2->jax-md) (4.1.1)\n",
            "Requirement already satisfied: opt-einsum in /usr/local/lib/python3.7/dist-packages (from jax>=0.1.73->jax-md) (3.3.0)\n",
            "Requirement already satisfied: scipy>=1.5 in /usr/local/lib/python3.7/dist-packages (from jax>=0.1.73->jax-md) (1.7.3)\n",
            "Requirement already satisfied: etils[epath] in /usr/local/lib/python3.7/dist-packages (from jax>=0.1.73->jax-md) (0.6.0)\n",
            "Requirement already satisfied: flatbuffers<3.0,>=1.12 in /usr/local/lib/python3.7/dist-packages (from jaxlib>=0.1.52->jax-md) (2.0)\n",
            "Requirement already satisfied: zipp in /usr/local/lib/python3.7/dist-packages (from etils[epath]->jax>=0.1.73->jax-md) (3.8.1)\n",
            "Requirement already satisfied: importlib_resources in /usr/local/lib/python3.7/dist-packages (from etils[epath]->jax>=0.1.73->jax-md) (5.9.0)\n",
            "Installing collected packages: jmp, jraph, dm-haiku, dataclasses, jax-md\n",
            "Successfully installed dataclasses-0.6 dm-haiku-0.0.7 jax-md-0.1.29 jmp-0.0.2 jraph-0.0.5.dev0\n"
          ]
        }
      ]
    },
    {
      "cell_type": "markdown",
      "source": [
        "###Imports"
      ],
      "metadata": {
        "id": "dgYeWThZJiY7"
      }
    },
    {
      "cell_type": "code",
      "execution_count": 2,
      "metadata": {
        "id": "4NlEmC7u_pLX"
      },
      "outputs": [],
      "source": [
        "#                          __         __              /\\  .___\n",
        "#            ____   _____/  |_      |__|____  ___  __)/__| _/\n",
        "#           / ___\\_/ __ \\   __\\     |  \\__  \\ \\  \\/  // __ | \n",
        "#          / /_/  >  ___/|  |       |  |/ __ \\_>    </ /_/ | \n",
        "#          \\___  / \\___  >__|   /\\__|  (____  /__/\\_ \\____ | \n",
        "#          /_____/      \\/       \\______|    \\/      \\/    \\/ \n",
        "\n",
        "\n",
        "from jax.config import config ; config.update('jax_enable_x64', True)\n",
        "import jax.numpy as np\n",
        "from jax import random, jit, lax, ops\n",
        "from jax_md import space, smap, energy, minimize, quantity, simulate\n",
        "\n",
        "import matplotlib\n",
        "import matplotlib.pyplot as plt\n",
        "import seaborn as sns\n",
        "  \n",
        "sns.set_style(style='white')\n",
        "\n",
        "# details on new things you dont yet know\n",
        "from inspect import signature\n",
        "import inspect, re\n",
        "\n",
        "\n",
        "  \n"
      ]
    },
    {
      "cell_type": "code",
      "source": [
        ""
      ],
      "metadata": {
        "id": "xUyJpRO6KFl-"
      },
      "execution_count": 2,
      "outputs": []
    },
    {
      "cell_type": "markdown",
      "source": [
        "Experiment configuration"
      ],
      "metadata": {
        "id": "6ELPLcFAKGVn"
      }
    },
    {
      "cell_type": "code",
      "source": [
        "N = 2600\n",
        "dimension = 3\n",
        "box_size = quantity.box_size_at_number_density( N, 0.8, dimension)\n",
        "dt = 5e-3\n",
        "displacement, shift = space.periodic(box_size) \n",
        "\n",
        "steps = 10000\n",
        "write_every = 100\n",
        "\n",
        "\n",
        "kT = lambda t: np.where(t < 5000.0 * dt, 0.01, 0.012)"
      ],
      "metadata": {
        "id": "Y23BOtX5_7sk",
        "colab": {
          "base_uri": "https://localhost:8080/"
        },
        "outputId": "52dcc152-17eb-474d-e4f5-74f945acc9d9"
      },
      "execution_count": 3,
      "outputs": [
        {
          "output_type": "stream",
          "name": "stderr",
          "text": [
            "WARNING:absl:No GPU/TPU found, falling back to CPU. (Set TF_CPP_MIN_LOG_LEVEL=0 and rerun for more info.)\n"
          ]
        }
      ]
    },
    {
      "cell_type": "code",
      "source": [
        ""
      ],
      "metadata": {
        "id": "W9hRxqk2J2Tk"
      },
      "execution_count": 3,
      "outputs": []
    },
    {
      "cell_type": "code",
      "source": [
        ""
      ],
      "metadata": {
        "id": "GdnR8Iau51Em"
      },
      "execution_count": 3,
      "outputs": []
    },
    {
      "cell_type": "markdown",
      "source": [
        "Helper functions"
      ],
      "metadata": {
        "id": "6SKUbh3v3byV"
      }
    },
    {
      "cell_type": "code",
      "source": [
        ""
      ],
      "metadata": {
        "id": "eXH38WQk3aMB"
      },
      "execution_count": 3,
      "outputs": []
    },
    {
      "cell_type": "code",
      "source": [
        ""
      ],
      "metadata": {
        "id": "O-Virj2f3aV_"
      },
      "execution_count": 3,
      "outputs": []
    },
    {
      "cell_type": "code",
      "source": [
        ""
      ],
      "metadata": {
        "id": "5WhO0saQ3afj"
      },
      "execution_count": 3,
      "outputs": []
    },
    {
      "cell_type": "code",
      "source": [
        "# relative concentration\n",
        "conc_n2 = 0.78084\n",
        "conc_o2 = 0.20946\n",
        "conc_ar = 0.009340\n",
        "conc_co2 = 0.000407\n",
        "conc_h2o = 0\n",
        "conc_ch4 = 0.0000018\n",
        "\n",
        "\n",
        "# kinetic diameters\n",
        "kd_n2 = 3.64\n",
        "kd_o2 = 3.46\n",
        "kd_ar = 0\n",
        "kd_co2 = 3.3\n",
        "kd_h2o = 2.65\n",
        "kd_ch4 = 3.8\n",
        "\n",
        "# molecular weight\n",
        "mw_n2 = 28\n",
        "mw_o2 = 32\n",
        "mw_ar = 0\n",
        "mw_co2 = 44\n",
        "mw_h2o = 18\n",
        "mw_ch4 = 16\n",
        "\n",
        "# molecular diameter\n",
        "md_n2 = 0\n",
        "md_o2 = 0\n",
        "md_ar = 0\n",
        "md_co2 = 0\n",
        "md_h2o = 0\n",
        "md_ch4 = 0\n"
      ],
      "metadata": {
        "id": "C5_iF_lH51Sy"
      },
      "execution_count": 4,
      "outputs": []
    },
    {
      "cell_type": "markdown",
      "source": [
        "Helper functions"
      ],
      "metadata": {
        "id": "EkmdMH-RJ22b"
      }
    },
    {
      "cell_type": "code",
      "source": [
        "def step_fn(i, state_and_log):\n",
        "  state, log = state_and_log\n",
        "\n",
        "  t = i * dt\n",
        "\n",
        "  # Log information about the simulation.\n",
        "  T = quantity.temperature(state.velocity)\n",
        "  log['kT'] = log['kT'].at[i].set(T)\n",
        "  H = simulate.nvt_nose_hoover_invariant(energy_fn, state, kT(t))\n",
        "  log['H'] = log['H'].at[i].set(H)\n",
        "  # Record positions every `write_every` steps.\n",
        "  log['position'] = lax.cond(i % write_every == 0,\n",
        "                             lambda p: \\\n",
        "                             p.at[i // write_every].set(state.position),\n",
        "                             lambda p: p,\n",
        "                             log['position'])\n",
        "\n",
        "  # Take a simulation step.\n",
        "  state = apply(state, kT=kT(t))\n",
        "\n",
        "\n",
        "\n",
        "  return state, log"
      ],
      "metadata": {
        "id": "pKaj5ZsvJ9KO"
      },
      "execution_count": 5,
      "outputs": []
    },
    {
      "cell_type": "code",
      "source": [
        ""
      ],
      "metadata": {
        "id": "9O470WMqJ9Ri"
      },
      "execution_count": 5,
      "outputs": []
    },
    {
      "cell_type": "code",
      "source": [
        ""
      ],
      "metadata": {
        "id": "1ki11IQgJ9YJ"
      },
      "execution_count": 5,
      "outputs": []
    },
    {
      "cell_type": "code",
      "source": [
        ""
      ],
      "metadata": {
        "id": "lA9qmnueJ9ew"
      },
      "execution_count": 5,
      "outputs": []
    },
    {
      "cell_type": "code",
      "source": [
        ""
      ],
      "metadata": {
        "id": "mNWfdji_J9lB"
      },
      "execution_count": 5,
      "outputs": []
    },
    {
      "cell_type": "code",
      "source": [
        "key = random.PRNGKey(0)"
      ],
      "metadata": {
        "id": "njuyCCg8_8P2"
      },
      "execution_count": 6,
      "outputs": []
    },
    {
      "cell_type": "code",
      "source": [
        ""
      ],
      "metadata": {
        "id": "FaBr8RkGJvi-"
      },
      "execution_count": 6,
      "outputs": []
    },
    {
      "cell_type": "code",
      "source": [
        ""
      ],
      "metadata": {
        "id": "h_i4RfEMJvQ4"
      },
      "execution_count": 6,
      "outputs": []
    },
    {
      "cell_type": "code",
      "source": [
        "key, split = random.split(key)\n",
        "R = box_size * random.uniform(split, (N, dimension), dtype=np.float64)\n",
        "\n",
        "# The system ought to be a 50:50 mixture of two types of particles, one\n",
        "# large and one small.\n",
        "# sigma = np.array([[1.0, 1.2], [1.2, 1.4]])\n",
        "# sigma = np.array([[0.3, 0.3], [1.2, 1.2], [0.8, 0.8]])\n",
        "sigma = np.array([[0.3, 0.3], [1.2, 1.2], [0.8, 0.8], [0.5, 0.5]])\n",
        "\n",
        "\n",
        "N_2 = int(N * conc_o2)\n",
        "N_3 = int(N * conc_ar)\n",
        "N_4 = int(N * conc_co2)\n",
        "\n",
        "\n",
        "buf = 0\n",
        "buf_lst = []\n",
        "for i in range(0, N):\n",
        "\n",
        "  if buf < N_4:\n",
        "    buf_lst.append(0)\n",
        "  elif buf < N_3:\n",
        "    buf_lst.append(1)\n",
        "  elif buf < N_2:\n",
        "    buf_lst.append(2)    \n",
        "  else:\n",
        "    buf_lst.append(3)\n",
        "\n",
        "  buf += 1"
      ],
      "metadata": {
        "id": "dTB158_y_8cY"
      },
      "execution_count": 7,
      "outputs": []
    },
    {
      "cell_type": "code",
      "source": [
        "species = np.array(buf_lst)\n"
      ],
      "metadata": {
        "id": "L4d8OHhZByL6"
      },
      "execution_count": 8,
      "outputs": []
    },
    {
      "cell_type": "code",
      "source": [
        "species.shape\n",
        "species"
      ],
      "metadata": {
        "colab": {
          "base_uri": "https://localhost:8080/"
        },
        "id": "iWVLCF08ByaZ",
        "outputId": "0b4aab68-d9b8-4b99-ab14-82b1c40d5625"
      },
      "execution_count": 9,
      "outputs": [
        {
          "output_type": "execute_result",
          "data": {
            "text/plain": [
              "DeviceArray([0, 1, 1, ..., 3, 3, 3], dtype=int64)"
            ]
          },
          "metadata": {},
          "execution_count": 9
        }
      ]
    },
    {
      "cell_type": "code",
      "source": [
        "energy_fn = energy.soft_sphere_pair(displacement, species=species, sigma=sigma)\n",
        "\n",
        "init, apply = simulate.nvt_nose_hoover(energy_fn, shift, dt, kT(0.))\n",
        "\n",
        "print(type(init(key, R)))\n",
        "state = init(key, R)\n"
      ],
      "metadata": {
        "id": "Szs77nVe_8qK",
        "colab": {
          "base_uri": "https://localhost:8080/"
        },
        "outputId": "0d88bd52-393e-475b-c4f8-8b554f89919d"
      },
      "execution_count": 10,
      "outputs": [
        {
          "output_type": "stream",
          "name": "stdout",
          "text": [
            "<class 'jax_md.simulate.NVTNoseHooverState'>\n"
          ]
        }
      ]
    },
    {
      "cell_type": "code",
      "source": [
        ""
      ],
      "metadata": {
        "id": "EMQk1lGhvRR0"
      },
      "execution_count": 10,
      "outputs": []
    },
    {
      "cell_type": "code",
      "source": [
        "# establish log\n",
        "log = {\n",
        "    'kT': np.zeros((steps,)),\n",
        "    'H': np.zeros((steps,)),\n",
        "    'position': np.zeros((steps // write_every,) + R.shape) \n",
        "}"
      ],
      "metadata": {
        "id": "3CArQ0AkvRsK"
      },
      "execution_count": 11,
      "outputs": []
    },
    {
      "cell_type": "code",
      "source": [
        "## object details\n",
        "\n",
        "print(\"Let review what we've done\"); print()\n",
        "\n",
        "objs = [energy_fn, init, apply, key, R, log]\n",
        "\n",
        "for obj in objs:\n",
        "\n",
        "  # function deets\n",
        "  try:\n",
        "\n",
        "    var_nm = [key for key, value in locals().items() if value == obj]\n",
        "    print(var_nm[0])\n",
        "\n",
        "    print('   ', obj.__name__ ,' type -', type(obj))\n",
        "    print('   ', str(signature(obj)))\n",
        "    print('')\n",
        "  except:\n",
        "    pass\n",
        "\n",
        "  # dict deets\n",
        "  try:\n",
        "    var_nm = [key for key, value in locals().items() if value == obj]\n",
        "    print(' type -', type(obj))\n",
        "    print('   ', str(signature(obj)))\n",
        "    print('   ', obj.shape)\n",
        "    print('')\n",
        "  except:\n",
        "    pass\n",
        "\n",
        "  # array deets\n",
        "  try:\n",
        "    print(' type -', type(obj))\n",
        "    print('   ', str(signature(obj)))\n",
        "    print('   ', obj.shape)\n",
        "    print('')\n",
        "  except:\n",
        "    pass\n",
        "\n",
        "\n",
        "\n"
      ],
      "metadata": {
        "id": "91uRNUGW_83h",
        "colab": {
          "base_uri": "https://localhost:8080/"
        },
        "outputId": "27d61731-b3e1-44e7-84e4-75dd90c8fcaa"
      },
      "execution_count": 12,
      "outputs": [
        {
          "output_type": "stream",
          "name": "stdout",
          "text": [
            "Let review what we've done\n",
            "\n",
            "energy_fn\n",
            "    fn_mapped  type - <class 'function'>\n",
            "    (R, **dynamic_kwargs)\n",
            "\n",
            " type - <class 'function'>\n",
            "    (R, **dynamic_kwargs)\n",
            " type - <class 'function'>\n",
            "    (R, **dynamic_kwargs)\n",
            "init\n",
            "    init_fn  type - <class 'function'>\n",
            "    (key, R, mass=DeviceArray(1., dtype=float32), **kwargs)\n",
            "\n",
            " type - <class 'function'>\n",
            "    (key, R, mass=DeviceArray(1., dtype=float32), **kwargs)\n",
            " type - <class 'function'>\n",
            "    (key, R, mass=DeviceArray(1., dtype=float32), **kwargs)\n",
            "apply\n",
            "    apply_fn  type - <class 'function'>\n",
            "    (state, **kwargs)\n",
            "\n",
            " type - <class 'function'>\n",
            "    (state, **kwargs)\n",
            " type - <class 'function'>\n",
            "    (state, **kwargs)\n",
            " type - <class 'jaxlib.xla_extension.DeviceArray'>\n",
            " type - <class 'jaxlib.xla_extension.DeviceArray'>\n",
            "log\n",
            " type - <class 'dict'>\n",
            " type - <class 'dict'>\n"
          ]
        }
      ]
    },
    {
      "cell_type": "code",
      "source": [
        "\n",
        "state, log = lax.fori_loop(0, steps, step_fn, (state, log))\n",
        "\n",
        "R = state.position"
      ],
      "metadata": {
        "id": "rV-NPp75_9DX"
      },
      "execution_count": null,
      "outputs": []
    },
    {
      "cell_type": "code",
      "source": [
        ""
      ],
      "metadata": {
        "id": "vlQMM3jzIAmr"
      },
      "execution_count": null,
      "outputs": []
    },
    {
      "cell_type": "code",
      "source": [
        ""
      ],
      "metadata": {
        "id": "1sLQDEYzIAOY"
      },
      "execution_count": null,
      "outputs": []
    },
    {
      "cell_type": "code",
      "source": [
        "buf_lst = []\n",
        "for i in species:\n",
        "   \n",
        "  # carbon dioxide\n",
        "  if i == 0: \n",
        "    buf_lst.append(np.array([1.5, 3.2, 0.01]))\n",
        "\n",
        "  # argon\n",
        "  elif i == 1: \n",
        "    buf_lst.append(np.array([1.0, 0.2, 0.5]))   \n",
        "\n",
        "  # oxygen\n",
        "  elif i == 2: \n",
        "    buf_lst.append(np.array([3.0, 1.2, 2.5]))   \n",
        "\n",
        "  # nitrogen\n",
        "  elif i == 3: \n",
        "    buf_lst.append(np.array([0.3, .8, 0.85 ]))        \n"
      ],
      "metadata": {
        "id": "ElaGFV7GH_wJ"
      },
      "execution_count": null,
      "outputs": []
    },
    {
      "cell_type": "code",
      "source": [
        "from jax_md.colab_tools import renderer\n",
        "\n",
        "diameters = sigma[species, species]\n",
        "\n",
        "colors = np.array(buf_lst)\n",
        "\n",
        "renderer.render(box_size,\n",
        "                {\n",
        "                    'particles': renderer.Sphere(log['position'], \n",
        "                                               diameters,\n",
        "                                               colors)   \n",
        "                                      \n",
        "                },\n",
        "                resolution=(600, 600))"
      ],
      "metadata": {
        "id": "f1u5ICr5_9me"
      },
      "execution_count": null,
      "outputs": []
    },
    {
      "cell_type": "code",
      "source": [
        ""
      ],
      "metadata": {
        "id": "Wg-Vs6ho_9yp"
      },
      "execution_count": null,
      "outputs": []
    },
    {
      "cell_type": "markdown",
      "source": [
        "(for example, at 63 degrees F, CO2 molecules crash together about 7 billion times per second)\n",
        "\n",
        "A CO2 molecule is 0.33nm diameter\n",
        "\n",
        "The diameter of an O2 molecule is 292 picometers, and that of N2 is 300 picometers"
      ],
      "metadata": {
        "id": "WCj3gPDHpRuh"
      }
    },
    {
      "cell_type": "code",
      "source": [
        ""
      ],
      "metadata": {
        "id": "5CIUORG6_9_M"
      },
      "execution_count": null,
      "outputs": []
    },
    {
      "cell_type": "code",
      "source": [
        "log['position'].shape"
      ],
      "metadata": {
        "id": "7LD3jB9j_-Lj"
      },
      "execution_count": null,
      "outputs": []
    },
    {
      "cell_type": "code",
      "source": [
        "initial_positions = log['position'][0]"
      ],
      "metadata": {
        "id": "R_X5Hp-0_-YA"
      },
      "execution_count": null,
      "outputs": []
    },
    {
      "cell_type": "code",
      "source": [
        "log['position'][1]"
      ],
      "metadata": {
        "id": "Lc-4IdxnM3bx"
      },
      "execution_count": null,
      "outputs": []
    },
    {
      "cell_type": "code",
      "source": [
        ""
      ],
      "metadata": {
        "id": "sssqCxEVdVuc"
      },
      "execution_count": null,
      "outputs": []
    },
    {
      "cell_type": "code",
      "source": [
        "# '''\n",
        "# import imageio\n",
        "# import jax.numpy as jnp\n",
        "\n",
        "# def make_from_image(filename, size_in_pixels):\n",
        "#   position = []\n",
        "#   angle = []\n",
        "#   color = []\n",
        "\n",
        "#   img = imageio.imread(filename)\n",
        "\n",
        "#   scale = 2**(1/6)\n",
        "#   ratio = jnp.sqrt(1 - 0.25)\n",
        "#   for i, y in enumerate(range(0, img.shape[0], size_in_pixels)):\n",
        "#     for x in range(0, img.shape[1], size_in_pixels):\n",
        "#       r, g, b, a = img[y, x]\n",
        "#       if a == 255:\n",
        "#         hshift = size_in_pixels * (i % 2) / 2.0\n",
        "#         position += [[scale * (x + hshift) / size_in_pixels, scale * (img.shape[0] - y) / size_in_pixels * ratio]]\n",
        "#         color += [[r / 255, g / 255, b / 255]]\n",
        "#   img_size = jnp.array(img.shape[:2]).T / size_in_pixels * scale\n",
        "#   box_size = jnp.max(img_size) * 1.5\n",
        "#   position = jnp.array(position, jnp.float64) + box_size / 2.0 - img_size / 2\n",
        "#   color = jnp.array(color, jnp.float64)\n",
        "\n",
        "#   return box_size, position, color\n",
        "#   '''"
      ],
      "metadata": {
        "id": "CqxNstAedWBy"
      },
      "execution_count": null,
      "outputs": []
    },
    {
      "cell_type": "code",
      "source": [
        ""
      ],
      "metadata": {
        "id": "se-JlRqudWOC"
      },
      "execution_count": null,
      "outputs": []
    },
    {
      "cell_type": "code",
      "source": [
        "# '''\n",
        "# box, positions, colors = make_from_image('mfi_three.png', 24)\n",
        "# '''"
      ],
      "metadata": {
        "id": "W5UlzSpVdWaD"
      },
      "execution_count": null,
      "outputs": []
    },
    {
      "cell_type": "code",
      "source": [
        "# '''\n",
        "# from jax_md.colab_tools import renderer\n",
        "\n",
        "# renderer.render(box,\n",
        "#                 renderer.Disk(positions, color=colors))\n",
        "\n",
        "#                 '''"
      ],
      "metadata": {
        "id": "qW9zGeOEQ5y5"
      },
      "execution_count": null,
      "outputs": []
    },
    {
      "cell_type": "code",
      "source": [
        ""
      ],
      "metadata": {
        "id": "S2xRgY9AdWk0"
      },
      "execution_count": null,
      "outputs": []
    },
    {
      "cell_type": "code",
      "source": [
        "\n",
        "# \n",
        "# from jax_md import space\n",
        "\n",
        "# displacement_fn, shift_fn = space.periodic(box)\n",
        "# "
      ],
      "metadata": {
        "id": "kZG8YcpqTEK7"
      },
      "execution_count": null,
      "outputs": []
    },
    {
      "cell_type": "code",
      "source": [
        "\n",
        "\n",
        "# positions[0]"
      ],
      "metadata": {
        "id": "4MSSXHIh-dF1"
      },
      "execution_count": null,
      "outputs": []
    },
    {
      "cell_type": "code",
      "source": [
        "# displacement_fn(positions[0], positions[-1])"
      ],
      "metadata": {
        "id": "OHOcJN-7TdFV"
      },
      "execution_count": null,
      "outputs": []
    },
    {
      "cell_type": "code",
      "source": [
        "# shift_fn(positions[0], jnp.array([10.0, 0.0]))"
      ],
      "metadata": {
        "id": "Kh-WMJtR-Va2"
      },
      "execution_count": null,
      "outputs": []
    },
    {
      "cell_type": "markdown",
      "source": [
        "## Energy"
      ],
      "metadata": {
        "id": "i0_-6MRza4s9"
      }
    },
    {
      "cell_type": "markdown",
      "source": [
        "\"Energy\" in Physics plays a similar role to \"Loss\" in machine learning. \n",
        "\n",
        "Write down an energy function between two grains of sand, $\\epsilon(r)$. \n",
        "\n",
        "The total energy will be the sum of all pairs of energies.\n",
        "\n",
        "$$E = \\sum_{i,j} \\epsilon(r_{ij})$$\n",
        "\n",
        "where $r_{ij}$ is the distance between grain $i$ and grain $j$.\n"
      ],
      "metadata": {
        "id": "_LC7N1iaa6Wm"
      }
    },
    {
      "cell_type": "markdown",
      "source": [
        "We want to model wet sand:\n",
        "\n",
        "*   Grains are hard (no interpenetration).\n",
        "*   Grains stick together a little bit.\n",
        "*   Grains far away from one another don't notice each other."
      ],
      "metadata": {
        "id": "1-wq2eV5lc7J"
      }
    },
    {
      "cell_type": "code",
      "source": [
        "# from jax_md import energy\n",
        "\n",
        "# rs = jnp.linspace(0.5, 2.5)\n",
        "# plt.plot(rs, energy.lennard_jones(rs))\n",
        "\n",
        "# plt.ylim([-1, 1])\n",
        "# plt.xlim([0, 2.5])\n",
        "# plt.xlabel('$r_{ij}$')\n",
        "# plt.ylabel('$\\\\epsilon$')"
      ],
      "metadata": {
        "id": "cBf3flaocGWN"
      },
      "execution_count": null,
      "outputs": []
    },
    {
      "cell_type": "code",
      "source": [
        "# sand_energy = energy.lennard_jones_pair(displacement_fn)\n",
        "\n",
        "# sand_energy(positions)"
      ],
      "metadata": {
        "id": "jlssetnHTgv7"
      },
      "execution_count": null,
      "outputs": []
    },
    {
      "cell_type": "markdown",
      "source": [
        "## Simulate"
      ],
      "metadata": {
        "id": "NZuAjcdvdB0O"
      }
    },
    {
      "cell_type": "code",
      "source": [
        "# from jax import random\n",
        "\n",
        "# simulation_steps = 10000\n",
        "# write_every = 50\n",
        "# key = random.PRNGKey(1)"
      ],
      "metadata": {
        "id": "p-pdHb6umh9v"
      },
      "execution_count": null,
      "outputs": []
    },
    {
      "cell_type": "code",
      "source": [
        "# from jax_md import simulate\n",
        "# from jax import jit\n",
        "\n",
        "# init_fn, step_fn = simulate.nvt_langevin(sand_energy, shift_fn, dt=5e-3, kT=0.0, gamma=1e-2)\n",
        "\n",
        "# sand = init_fn(key, positions)\n",
        "# step_fn = jit(step_fn)"
      ],
      "metadata": {
        "id": "wvygEvsyUAxQ"
      },
      "execution_count": null,
      "outputs": []
    },
    {
      "cell_type": "code",
      "source": [
        "\n",
        "# trajectory = []\n",
        "\n",
        "# for i in range(simulation_steps):\n",
        "#  if i % write_every == 0:\n",
        "#    trajectory += [sand.position]\n",
        "    \n",
        "#  sand = step_fn(sand)\n",
        "\n",
        "# trajectory = jnp.stack(trajectory)"
      ],
      "metadata": {
        "id": "fznTbnY8UN17"
      },
      "execution_count": null,
      "outputs": []
    },
    {
      "cell_type": "code",
      "source": [
        "# renderer.render(box, renderer.Disk(trajectory, color=colors))"
      ],
      "metadata": {
        "id": "VDVSoyliUaPx"
      },
      "execution_count": null,
      "outputs": []
    }
  ]
}
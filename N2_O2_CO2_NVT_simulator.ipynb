{
  "nbformat": 4,
  "nbformat_minor": 0,
  "metadata": {
    "colab": {
      "name": "N2-O2-CO2 NVT simulator.ipynb",
      "provenance": [],
      "collapsed_sections": [
        "i0_-6MRza4s9",
        "NZuAjcdvdB0O"
      ],
      "authorship_tag": "ABX9TyMaPkH/GqXG7N2H7JZJ9ZsR",
      "include_colab_link": true
    },
    "kernelspec": {
      "name": "python3",
      "display_name": "Python 3"
    },
    "language_info": {
      "name": "python"
    }
  },
  "cells": [
    {
      "cell_type": "markdown",
      "metadata": {
        "id": "view-in-github",
        "colab_type": "text"
      },
      "source": [
        "<a href=\"https://colab.research.google.com/github/pinballsurgeon/deluxo_adjacency/blob/main/N2_O2_CO2_NVT_simulator.ipynb\" target=\"_parent\"><img src=\"https://colab.research.google.com/assets/colab-badge.svg\" alt=\"Open In Colab\"/></a>"
      ]
    },
    {
      "cell_type": "code",
      "source": [
        ""
      ],
      "metadata": {
        "id": "XbuuOUdCJd4N"
      },
      "execution_count": 35,
      "outputs": []
    },
    {
      "cell_type": "markdown",
      "source": [
        "Install"
      ],
      "metadata": {
        "id": "tU3UPlI3Jef-"
      }
    },
    {
      "cell_type": "code",
      "source": [
        "# jax molecular dynamics\n",
        "!pip install jax-md"
      ],
      "metadata": {
        "colab": {
          "base_uri": "https://localhost:8080/"
        },
        "id": "pgE4G4VeJcrI",
        "outputId": "1d294cf6-4451-4e56-ffec-210665cf6bfe"
      },
      "execution_count": 36,
      "outputs": [
        {
          "output_type": "stream",
          "name": "stdout",
          "text": [
            "Looking in indexes: https://pypi.org/simple, https://us-python.pkg.dev/colab-wheels/public/simple/\n",
            "Requirement already satisfied: jax-md in /usr/local/lib/python3.7/dist-packages (0.1.29)\n",
            "Requirement already satisfied: jax>=0.1.73 in /usr/local/lib/python3.7/dist-packages (from jax-md) (0.3.14)\n",
            "Requirement already satisfied: jraph in /usr/local/lib/python3.7/dist-packages (from jax-md) (0.0.5.dev0)\n",
            "Requirement already satisfied: jaxlib>=0.1.52 in /usr/local/lib/python3.7/dist-packages (from jax-md) (0.3.14+cuda11.cudnn805)\n",
            "Requirement already satisfied: dm-haiku>=0.0.2 in /usr/local/lib/python3.7/dist-packages (from jax-md) (0.0.7)\n",
            "Requirement already satisfied: dataclasses in /usr/local/lib/python3.7/dist-packages (from jax-md) (0.6)\n",
            "Requirement already satisfied: numpy in /usr/local/lib/python3.7/dist-packages (from jax-md) (1.21.6)\n",
            "Requirement already satisfied: absl-py in /usr/local/lib/python3.7/dist-packages (from jax-md) (1.2.0)\n",
            "Requirement already satisfied: jmp>=0.0.2 in /usr/local/lib/python3.7/dist-packages (from dm-haiku>=0.0.2->jax-md) (0.0.2)\n",
            "Requirement already satisfied: tabulate>=0.8.9 in /usr/local/lib/python3.7/dist-packages (from dm-haiku>=0.0.2->jax-md) (0.8.10)\n",
            "Requirement already satisfied: typing-extensions in /usr/local/lib/python3.7/dist-packages (from dm-haiku>=0.0.2->jax-md) (4.1.1)\n",
            "Requirement already satisfied: opt-einsum in /usr/local/lib/python3.7/dist-packages (from jax>=0.1.73->jax-md) (3.3.0)\n",
            "Requirement already satisfied: etils[epath] in /usr/local/lib/python3.7/dist-packages (from jax>=0.1.73->jax-md) (0.6.0)\n",
            "Requirement already satisfied: scipy>=1.5 in /usr/local/lib/python3.7/dist-packages (from jax>=0.1.73->jax-md) (1.7.3)\n",
            "Requirement already satisfied: flatbuffers<3.0,>=1.12 in /usr/local/lib/python3.7/dist-packages (from jaxlib>=0.1.52->jax-md) (2.0)\n",
            "Requirement already satisfied: importlib_resources in /usr/local/lib/python3.7/dist-packages (from etils[epath]->jax>=0.1.73->jax-md) (5.9.0)\n",
            "Requirement already satisfied: zipp in /usr/local/lib/python3.7/dist-packages (from etils[epath]->jax>=0.1.73->jax-md) (3.8.1)\n"
          ]
        }
      ]
    },
    {
      "cell_type": "markdown",
      "source": [
        "Import"
      ],
      "metadata": {
        "id": "dgYeWThZJiY7"
      }
    },
    {
      "cell_type": "code",
      "execution_count": 37,
      "metadata": {
        "id": "4NlEmC7u_pLX"
      },
      "outputs": [],
      "source": [
        "\n",
        "import numpy as onp\n",
        "\n",
        "from jax.config import config ; config.update('jax_enable_x64', True)\n",
        "import jax.numpy as np\n",
        "from jax import random\n",
        "from jax import jit\n",
        "from jax import lax\n",
        "from jax import ops\n",
        "\n",
        "import time\n",
        "\n",
        "from jax_md import space, smap, energy, minimize, quantity, simulate\n",
        "\n",
        "import matplotlib\n",
        "import matplotlib.pyplot as plt\n",
        "import seaborn as sns\n",
        "  \n",
        "sns.set_style(style='white')\n",
        "\n",
        "\n",
        "  \n"
      ]
    },
    {
      "cell_type": "code",
      "source": [
        ""
      ],
      "metadata": {
        "id": "xUyJpRO6KFl-"
      },
      "execution_count": 37,
      "outputs": []
    },
    {
      "cell_type": "markdown",
      "source": [
        "Experiment configuration"
      ],
      "metadata": {
        "id": "6ELPLcFAKGVn"
      }
    },
    {
      "cell_type": "code",
      "source": [
        "N = 400\n",
        "dimension = 3\n",
        "box_size = quantity.box_size_at_number_density( N, 0.8, dimension)\n",
        "dt = 5e-3\n",
        "displacement, shift = space.periodic(box_size) \n",
        "\n",
        "write_every = 100\n",
        "\n",
        "\n",
        "kT = lambda t: np.where(t < 5000.0 * dt, 0.01, 0.012)"
      ],
      "metadata": {
        "id": "Y23BOtX5_7sk"
      },
      "execution_count": 38,
      "outputs": []
    },
    {
      "cell_type": "code",
      "source": [
        ""
      ],
      "metadata": {
        "id": "W9hRxqk2J2Tk"
      },
      "execution_count": 38,
      "outputs": []
    },
    {
      "cell_type": "code",
      "source": [
        ""
      ],
      "metadata": {
        "id": "GdnR8Iau51Em"
      },
      "execution_count": 38,
      "outputs": []
    },
    {
      "cell_type": "code",
      "source": [
        "# relative concentration\n",
        "conc_n2 = 0.78084\n",
        "conc_o2 = 0.20946\n",
        "conc_ar = 0.009340\n",
        "conc_co2 = 0.000407\n",
        "conc_h2o = 0\n",
        "conc_ch4 = 0.0000018\n",
        "\n",
        "\n",
        "# kinetic diameters\n",
        "kd_n2 = 3.64\n",
        "kd_o2 = 3.46\n",
        "kd_ar = 0\n",
        "kd_co2 = 3.3\n",
        "kd_h2o = 2.65\n",
        "kd_ch4 = 3.8\n",
        "\n",
        "# molecular weight\n",
        "mw_n2 = 28\n",
        "mw_o2 = 32\n",
        "mw_ar = 0\n",
        "mw_co2 = 44\n",
        "mw_h2o = 18\n",
        "mw_ch4 = 16\n",
        "\n",
        "# molecular diameter\n",
        "md_n2 = 0\n",
        "md_o2 = 0\n",
        "md_ar = 0\n",
        "md_co2 = 0\n",
        "md_h2o = 0\n",
        "md_ch4 = 0\n"
      ],
      "metadata": {
        "id": "C5_iF_lH51Sy"
      },
      "execution_count": 39,
      "outputs": []
    },
    {
      "cell_type": "markdown",
      "source": [
        "Helper functions"
      ],
      "metadata": {
        "id": "EkmdMH-RJ22b"
      }
    },
    {
      "cell_type": "code",
      "source": [
        "def step_fn(i, state_and_log):\n",
        "  state, log = state_and_log\n",
        "\n",
        "  t = i * dt\n",
        "\n",
        "  # Log information about the simulation.\n",
        "  T = quantity.temperature(state.velocity)\n",
        "  log['kT'] = log['kT'].at[i].set(T)\n",
        "  H = simulate.nvt_nose_hoover_invariant(energy_fn, state, kT(t))\n",
        "  log['H'] = log['H'].at[i].set(H)\n",
        "  # Record positions every `write_every` steps.\n",
        "  log['position'] = lax.cond(i % write_every == 0,\n",
        "                             lambda p: \\\n",
        "                             p.at[i // write_every].set(state.position),\n",
        "                             lambda p: p,\n",
        "                             log['position'])\n",
        "\n",
        "  # Take a simulation step.\n",
        "  state = apply(state, kT=kT(t))\n",
        "\n",
        "\n",
        "\n",
        "  return state, log"
      ],
      "metadata": {
        "id": "pKaj5ZsvJ9KO"
      },
      "execution_count": 40,
      "outputs": []
    },
    {
      "cell_type": "code",
      "source": [
        ""
      ],
      "metadata": {
        "id": "9O470WMqJ9Ri"
      },
      "execution_count": 40,
      "outputs": []
    },
    {
      "cell_type": "code",
      "source": [
        ""
      ],
      "metadata": {
        "id": "1ki11IQgJ9YJ"
      },
      "execution_count": 40,
      "outputs": []
    },
    {
      "cell_type": "code",
      "source": [
        ""
      ],
      "metadata": {
        "id": "lA9qmnueJ9ew"
      },
      "execution_count": 40,
      "outputs": []
    },
    {
      "cell_type": "code",
      "source": [
        ""
      ],
      "metadata": {
        "id": "mNWfdji_J9lB"
      },
      "execution_count": 40,
      "outputs": []
    },
    {
      "cell_type": "code",
      "source": [
        "key = random.PRNGKey(0)"
      ],
      "metadata": {
        "id": "njuyCCg8_8P2"
      },
      "execution_count": 41,
      "outputs": []
    },
    {
      "cell_type": "code",
      "source": [
        ""
      ],
      "metadata": {
        "id": "FaBr8RkGJvi-"
      },
      "execution_count": 41,
      "outputs": []
    },
    {
      "cell_type": "code",
      "source": [
        ""
      ],
      "metadata": {
        "id": "h_i4RfEMJvQ4"
      },
      "execution_count": 41,
      "outputs": []
    },
    {
      "cell_type": "code",
      "source": [
        "key, split = random.split(key)\n",
        "R = box_size * random.uniform(split, (N, dimension), dtype=np.float64)\n",
        "\n",
        "# The system ought to be a 50:50 mixture of two types of particles, one\n",
        "# large and one small.\n",
        "# sigma = np.array([[1.0, 1.2], [1.2, 1.4]])\n",
        "sigma = np.array([[0.3, 0.3], [1.2, 1.2], [0.8, 0.8]])\n",
        "\n",
        "\n",
        "N_2 = int(N / 5)\n",
        "N_2 = int(N * conc_o2)\n",
        "\n",
        "\n",
        "N_3 = int(N / 50)\n",
        "N_3 = int(N * conc_ar)\n",
        "\n",
        "buf = 0\n",
        "buf_lst = []\n",
        "for i in range(0, N):\n",
        "\n",
        "  if buf < N_3:\n",
        "    buf_lst.append(0)\n",
        "  elif buf < N_2:\n",
        "    buf_lst.append(1)\n",
        "  else:\n",
        "    buf_lst.append(2)\n",
        "\n",
        "  buf += 1"
      ],
      "metadata": {
        "id": "dTB158_y_8cY"
      },
      "execution_count": 42,
      "outputs": []
    },
    {
      "cell_type": "code",
      "source": [
        "species = np.array(buf_lst)\n"
      ],
      "metadata": {
        "id": "L4d8OHhZByL6"
      },
      "execution_count": 43,
      "outputs": []
    },
    {
      "cell_type": "code",
      "source": [
        "species.shape"
      ],
      "metadata": {
        "colab": {
          "base_uri": "https://localhost:8080/"
        },
        "id": "iWVLCF08ByaZ",
        "outputId": "b1efb081-ba6f-4bf2-dc66-9cbedced2310"
      },
      "execution_count": 44,
      "outputs": [
        {
          "output_type": "execute_result",
          "data": {
            "text/plain": [
              "(400,)"
            ]
          },
          "metadata": {},
          "execution_count": 44
        }
      ]
    },
    {
      "cell_type": "code",
      "source": [
        "energy_fn = energy.soft_sphere_pair(displacement, species=species, sigma=sigma)\n",
        "\n",
        "init, apply = simulate.nvt_nose_hoover(energy_fn, shift, dt, kT(0.))\n",
        "\n",
        "print(type(init(key, R)))\n",
        "state = init(key, R)\n"
      ],
      "metadata": {
        "id": "Szs77nVe_8qK",
        "colab": {
          "base_uri": "https://localhost:8080/"
        },
        "outputId": "b49fa3b7-334a-4696-d1a0-e4ba2d9b804a"
      },
      "execution_count": 52,
      "outputs": [
        {
          "output_type": "stream",
          "name": "stdout",
          "text": [
            "<class 'jax_md.simulate.NVTNoseHooverState'>\n"
          ]
        }
      ]
    },
    {
      "cell_type": "code",
      "source": [
        ""
      ],
      "metadata": {
        "id": "EMQk1lGhvRR0"
      },
      "execution_count": null,
      "outputs": []
    },
    {
      "cell_type": "code",
      "source": [
        "# establish log\n",
        "log = {\n",
        "    'kT': np.zeros((steps,)),\n",
        "    'H': np.zeros((steps,)),\n",
        "    'position': np.zeros((steps // write_every,) + R.shape) \n",
        "}"
      ],
      "metadata": {
        "id": "3CArQ0AkvRsK"
      },
      "execution_count": 62,
      "outputs": []
    },
    {
      "cell_type": "code",
      "source": [
        "\n",
        "from inspect import signature\n",
        "import inspect, re\n",
        "\n",
        "def varname(p):\n",
        "  for line in inspect.getframeinfo(inspect.currentframe().f_back)[3]:\n",
        "    m = re.search(r'\\bvarname\\s*\\(\\s*([A-Za-z_][A-Za-z0-9_]*)\\s*\\)', line)\n",
        "    if m:\n",
        "      return m.group(1)\n",
        "\n",
        "print(\"Let review what we've done\")\n",
        "\n",
        "for obj in [energy_fn]:\n",
        "  print(str(obj))\n",
        "  print(varname(obj))\n",
        "  print('   ', obj.__name__ ,' type -', type(obj))\n",
        " # print('   energy_fn type -', energy_fn.__name__)\n",
        "  print(str(signature(obj)))\n",
        "\n",
        "\n",
        "# print('   init type -', type(init))\n",
        "# print('   energy_fn type -', init.__name__)\n",
        "# print(help(init))\n",
        "\n",
        "\n",
        "# print('   apply type -', type(apply))\n",
        "\n",
        "# print('   key type -', type(key))\n",
        "\n",
        "# print('   R type -', type(R))\n",
        "\n",
        "# print('   log type -', type(log))\n"
      ],
      "metadata": {
        "id": "91uRNUGW_83h",
        "colab": {
          "base_uri": "https://localhost:8080/"
        },
        "outputId": "c1e29f78-55a5-4047-9fe9-982fdac95726"
      },
      "execution_count": 74,
      "outputs": [
        {
          "output_type": "stream",
          "name": "stdout",
          "text": [
            "Let review what we've done\n",
            "<function pair.<locals>.fn_mapped at 0x7f5c0d8fd5f0>\n",
            "obj\n",
            "    fn_mapped  type - <class 'function'>\n",
            "(R, **dynamic_kwargs)\n"
          ]
        }
      ]
    },
    {
      "cell_type": "code",
      "source": [
        "steps = 10000\n",
        "\n",
        "state, log = lax.fori_loop(0, steps, step_fn, (state, log))\n",
        "\n",
        "R = state.position"
      ],
      "metadata": {
        "id": "rV-NPp75_9DX"
      },
      "execution_count": 53,
      "outputs": []
    },
    {
      "cell_type": "code",
      "source": [
        ""
      ],
      "metadata": {
        "id": "vlQMM3jzIAmr"
      },
      "execution_count": null,
      "outputs": []
    },
    {
      "cell_type": "code",
      "source": [
        ""
      ],
      "metadata": {
        "id": "1sLQDEYzIAOY"
      },
      "execution_count": null,
      "outputs": []
    },
    {
      "cell_type": "code",
      "source": [
        "buf_lst = []\n",
        "for i in species:\n",
        "   \n",
        "  # carbon dioxide\n",
        "  if i == 0: \n",
        "    buf_lst.append(np.array([1.5, 3.2, 0.01]))\n",
        "  \n",
        "  # oxygen\n",
        "  elif i == 1: \n",
        "    buf_lst.append(np.array([1.0, 0.2, 0.5]))   \n",
        "\n",
        "  # nitrogen\n",
        "  elif i == 2: \n",
        "    buf_lst.append(np.array([0.3, .8, 0.85 ]))        \n"
      ],
      "metadata": {
        "id": "ElaGFV7GH_wJ"
      },
      "execution_count": 54,
      "outputs": []
    },
    {
      "cell_type": "code",
      "source": [
        "from jax_md.colab_tools import renderer\n",
        "\n",
        "diameters = sigma[species, species]\n",
        "\n",
        "colors = np.array(buf_lst)\n",
        "\n",
        "renderer.render(box_size,\n",
        "                {\n",
        "                    'particles': renderer.Sphere(log['position'], \n",
        "                                               diameters,\n",
        "                                               colors)   \n",
        "                                      \n",
        "                },\n",
        "                resolution=(600, 600))"
      ],
      "metadata": {
        "id": "f1u5ICr5_9me"
      },
      "execution_count": null,
      "outputs": []
    },
    {
      "cell_type": "code",
      "source": [
        ""
      ],
      "metadata": {
        "id": "Wg-Vs6ho_9yp"
      },
      "execution_count": null,
      "outputs": []
    },
    {
      "cell_type": "markdown",
      "source": [
        "(for example, at 63 degrees F, CO2 molecules crash together about 7 billion times per second)\n",
        "\n",
        "A CO2 molecule is 0.33nm diameter\n",
        "\n",
        "The diameter of an O2 molecule is 292 picometers, and that of N2 is 300 picometers"
      ],
      "metadata": {
        "id": "WCj3gPDHpRuh"
      }
    },
    {
      "cell_type": "code",
      "source": [
        ""
      ],
      "metadata": {
        "id": "5CIUORG6_9_M"
      },
      "execution_count": null,
      "outputs": []
    },
    {
      "cell_type": "code",
      "source": [
        "log['position'].shape"
      ],
      "metadata": {
        "id": "7LD3jB9j_-Lj"
      },
      "execution_count": null,
      "outputs": []
    },
    {
      "cell_type": "code",
      "source": [
        "initial_positions = log['position'][0]"
      ],
      "metadata": {
        "id": "R_X5Hp-0_-YA"
      },
      "execution_count": null,
      "outputs": []
    },
    {
      "cell_type": "code",
      "source": [
        "log['position'][1]"
      ],
      "metadata": {
        "id": "Lc-4IdxnM3bx"
      },
      "execution_count": null,
      "outputs": []
    },
    {
      "cell_type": "code",
      "source": [
        ""
      ],
      "metadata": {
        "id": "sssqCxEVdVuc"
      },
      "execution_count": null,
      "outputs": []
    },
    {
      "cell_type": "code",
      "source": [
        "# '''\n",
        "# import imageio\n",
        "# import jax.numpy as jnp\n",
        "\n",
        "# def make_from_image(filename, size_in_pixels):\n",
        "#   position = []\n",
        "#   angle = []\n",
        "#   color = []\n",
        "\n",
        "#   img = imageio.imread(filename)\n",
        "\n",
        "#   scale = 2**(1/6)\n",
        "#   ratio = jnp.sqrt(1 - 0.25)\n",
        "#   for i, y in enumerate(range(0, img.shape[0], size_in_pixels)):\n",
        "#     for x in range(0, img.shape[1], size_in_pixels):\n",
        "#       r, g, b, a = img[y, x]\n",
        "#       if a == 255:\n",
        "#         hshift = size_in_pixels * (i % 2) / 2.0\n",
        "#         position += [[scale * (x + hshift) / size_in_pixels, scale * (img.shape[0] - y) / size_in_pixels * ratio]]\n",
        "#         color += [[r / 255, g / 255, b / 255]]\n",
        "#   img_size = jnp.array(img.shape[:2]).T / size_in_pixels * scale\n",
        "#   box_size = jnp.max(img_size) * 1.5\n",
        "#   position = jnp.array(position, jnp.float64) + box_size / 2.0 - img_size / 2\n",
        "#   color = jnp.array(color, jnp.float64)\n",
        "\n",
        "#   return box_size, position, color\n",
        "#   '''"
      ],
      "metadata": {
        "id": "CqxNstAedWBy"
      },
      "execution_count": null,
      "outputs": []
    },
    {
      "cell_type": "code",
      "source": [
        ""
      ],
      "metadata": {
        "id": "se-JlRqudWOC"
      },
      "execution_count": null,
      "outputs": []
    },
    {
      "cell_type": "code",
      "source": [
        "# '''\n",
        "# box, positions, colors = make_from_image('mfi_three.png', 24)\n",
        "# '''"
      ],
      "metadata": {
        "id": "W5UlzSpVdWaD"
      },
      "execution_count": null,
      "outputs": []
    },
    {
      "cell_type": "code",
      "source": [
        "# '''\n",
        "# from jax_md.colab_tools import renderer\n",
        "\n",
        "# renderer.render(box,\n",
        "#                 renderer.Disk(positions, color=colors))\n",
        "\n",
        "#                 '''"
      ],
      "metadata": {
        "id": "qW9zGeOEQ5y5"
      },
      "execution_count": null,
      "outputs": []
    },
    {
      "cell_type": "code",
      "source": [
        ""
      ],
      "metadata": {
        "id": "S2xRgY9AdWk0"
      },
      "execution_count": null,
      "outputs": []
    },
    {
      "cell_type": "code",
      "source": [
        "\n",
        "# \n",
        "# from jax_md import space\n",
        "\n",
        "# displacement_fn, shift_fn = space.periodic(box)\n",
        "# "
      ],
      "metadata": {
        "id": "kZG8YcpqTEK7"
      },
      "execution_count": null,
      "outputs": []
    },
    {
      "cell_type": "code",
      "source": [
        "\n",
        "\n",
        "# positions[0]"
      ],
      "metadata": {
        "id": "4MSSXHIh-dF1"
      },
      "execution_count": null,
      "outputs": []
    },
    {
      "cell_type": "code",
      "source": [
        "# displacement_fn(positions[0], positions[-1])"
      ],
      "metadata": {
        "id": "OHOcJN-7TdFV"
      },
      "execution_count": null,
      "outputs": []
    },
    {
      "cell_type": "code",
      "source": [
        "# shift_fn(positions[0], jnp.array([10.0, 0.0]))"
      ],
      "metadata": {
        "id": "Kh-WMJtR-Va2"
      },
      "execution_count": null,
      "outputs": []
    },
    {
      "cell_type": "markdown",
      "source": [
        "## Energy"
      ],
      "metadata": {
        "id": "i0_-6MRza4s9"
      }
    },
    {
      "cell_type": "markdown",
      "source": [
        "\"Energy\" in Physics plays a similar role to \"Loss\" in machine learning. \n",
        "\n",
        "Write down an energy function between two grains of sand, $\\epsilon(r)$. \n",
        "\n",
        "The total energy will be the sum of all pairs of energies.\n",
        "\n",
        "$$E = \\sum_{i,j} \\epsilon(r_{ij})$$\n",
        "\n",
        "where $r_{ij}$ is the distance between grain $i$ and grain $j$.\n"
      ],
      "metadata": {
        "id": "_LC7N1iaa6Wm"
      }
    },
    {
      "cell_type": "markdown",
      "source": [
        "We want to model wet sand:\n",
        "\n",
        "*   Grains are hard (no interpenetration).\n",
        "*   Grains stick together a little bit.\n",
        "*   Grains far away from one another don't notice each other."
      ],
      "metadata": {
        "id": "1-wq2eV5lc7J"
      }
    },
    {
      "cell_type": "code",
      "source": [
        "# from jax_md import energy\n",
        "\n",
        "# rs = jnp.linspace(0.5, 2.5)\n",
        "# plt.plot(rs, energy.lennard_jones(rs))\n",
        "\n",
        "# plt.ylim([-1, 1])\n",
        "# plt.xlim([0, 2.5])\n",
        "# plt.xlabel('$r_{ij}$')\n",
        "# plt.ylabel('$\\\\epsilon$')"
      ],
      "metadata": {
        "id": "cBf3flaocGWN"
      },
      "execution_count": null,
      "outputs": []
    },
    {
      "cell_type": "code",
      "source": [
        "# sand_energy = energy.lennard_jones_pair(displacement_fn)\n",
        "\n",
        "# sand_energy(positions)"
      ],
      "metadata": {
        "id": "jlssetnHTgv7"
      },
      "execution_count": null,
      "outputs": []
    },
    {
      "cell_type": "markdown",
      "source": [
        "## Simulate"
      ],
      "metadata": {
        "id": "NZuAjcdvdB0O"
      }
    },
    {
      "cell_type": "code",
      "source": [
        "# from jax import random\n",
        "\n",
        "# simulation_steps = 10000\n",
        "# write_every = 50\n",
        "# key = random.PRNGKey(1)"
      ],
      "metadata": {
        "id": "p-pdHb6umh9v"
      },
      "execution_count": null,
      "outputs": []
    },
    {
      "cell_type": "code",
      "source": [
        "# from jax_md import simulate\n",
        "# from jax import jit\n",
        "\n",
        "# init_fn, step_fn = simulate.nvt_langevin(sand_energy, shift_fn, dt=5e-3, kT=0.0, gamma=1e-2)\n",
        "\n",
        "# sand = init_fn(key, positions)\n",
        "# step_fn = jit(step_fn)"
      ],
      "metadata": {
        "id": "wvygEvsyUAxQ"
      },
      "execution_count": null,
      "outputs": []
    },
    {
      "cell_type": "code",
      "source": [
        "\n",
        "# trajectory = []\n",
        "\n",
        "# for i in range(simulation_steps):\n",
        "#  if i % write_every == 0:\n",
        "#    trajectory += [sand.position]\n",
        "    \n",
        "#  sand = step_fn(sand)\n",
        "\n",
        "# trajectory = jnp.stack(trajectory)"
      ],
      "metadata": {
        "id": "fznTbnY8UN17"
      },
      "execution_count": null,
      "outputs": []
    },
    {
      "cell_type": "code",
      "source": [
        "# renderer.render(box, renderer.Disk(trajectory, color=colors))"
      ],
      "metadata": {
        "id": "VDVSoyliUaPx"
      },
      "execution_count": null,
      "outputs": []
    }
  ]
}
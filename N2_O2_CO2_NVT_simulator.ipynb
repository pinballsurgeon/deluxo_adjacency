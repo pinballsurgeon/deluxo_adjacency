{
  "nbformat": 4,
  "nbformat_minor": 0,
  "metadata": {
    "colab": {
      "name": "N2-O2-CO2 NVT simulator.ipynb",
      "provenance": [],
      "collapsed_sections": [],
      "authorship_tag": "ABX9TyMTDMzj6HJR2y9IR1pePQGf",
      "include_colab_link": true
    },
    "kernelspec": {
      "name": "python3",
      "display_name": "Python 3"
    },
    "language_info": {
      "name": "python"
    }
  },
  "cells": [
    {
      "cell_type": "markdown",
      "metadata": {
        "id": "view-in-github",
        "colab_type": "text"
      },
      "source": [
        "<a href=\"https://colab.research.google.com/github/pinballsurgeon/deluxo_adjacency/blob/main/N2_O2_CO2_NVT_simulator.ipynb\" target=\"_parent\"><img src=\"https://colab.research.google.com/assets/colab-badge.svg\" alt=\"Open In Colab\"/></a>"
      ]
    },
    {
      "cell_type": "code",
      "execution_count": 88,
      "metadata": {
        "id": "4NlEmC7u_pLX"
      },
      "outputs": [],
      "source": [
        "%%capture\n",
        "#@title Imports & Utils\n",
        "\n",
        "!pip install jax-md\n",
        "\n",
        "import numpy as onp\n",
        "\n",
        "from jax.config import config ; config.update('jax_enable_x64', True)\n",
        "import jax.numpy as np\n",
        "from jax import random\n",
        "from jax import jit\n",
        "from jax import lax\n",
        "from jax import ops\n",
        "\n",
        "import time\n",
        "\n",
        "from jax_md import space, smap, energy, minimize, quantity, simulate\n",
        "\n",
        "import matplotlib\n",
        "import matplotlib.pyplot as plt\n",
        "import seaborn as sns\n",
        "  \n",
        "sns.set_style(style='white')\n",
        "\n",
        "def format_plot(x, y):  \n",
        "  plt.xlabel(x, fontsize=20)\n",
        "  plt.ylabel(y, fontsize=20)\n",
        "  \n",
        "def finalize_plot(shape=(1, 1)):\n",
        "  plt.gcf().set_size_inches(\n",
        "    shape[0] * 1.5 * plt.gcf().get_size_inches()[1], \n",
        "    shape[1] * 1.5 * plt.gcf().get_size_inches()[1])\n",
        "  plt.tight_layout()"
      ]
    },
    {
      "cell_type": "code",
      "source": [
        "N = 400\n",
        "dimension = 2\n",
        "box_size = quantity.box_size_at_number_density(N, 0.8, 2)\n",
        "dt = 5e-3\n",
        "displacement, shift = space.periodic(box_size) \n",
        "\n",
        "kT = lambda t: np.where(t < 5000.0 * dt, 0.01, 0.012)"
      ],
      "metadata": {
        "id": "Y23BOtX5_7sk"
      },
      "execution_count": 89,
      "outputs": []
    },
    {
      "cell_type": "code",
      "source": [
        "key = random.PRNGKey(0)"
      ],
      "metadata": {
        "id": "njuyCCg8_8P2"
      },
      "execution_count": 90,
      "outputs": []
    },
    {
      "cell_type": "code",
      "source": [
        "key, split = random.split(key)\n",
        "R = box_size * random.uniform(split, (N, dimension), dtype=np.float64)\n",
        "\n",
        "# The system ought to be a 50:50 mixture of two types of particles, one\n",
        "# large and one small.\n",
        "sigma = np.array([[1.0, 1.2], [1.2, 1.4]])\n",
        "N_2 = int(N / 5)\n",
        "N_3 = int(N / 20)\n",
        "\n",
        "# species = np.where(np.arange(N) < N_2, 0, 1)\n",
        "\n",
        "# species = np.where((np.arange(N) < N_2) & (np.arange(N) > N_3), 0, 1)\n",
        "\n",
        "buf = 0\n",
        "buf_lst = []\n",
        "for i in range(0, N):\n",
        "\n",
        "  if buf < N_3:\n",
        "    buf_lst.append(0)\n",
        "  elif buf < N_2:\n",
        "    buf_lst.append(1)\n",
        "  else:\n",
        "    buf_lst.append(2)\n",
        "\n",
        "  buf += 1"
      ],
      "metadata": {
        "id": "dTB158_y_8cY"
      },
      "execution_count": 91,
      "outputs": []
    },
    {
      "cell_type": "code",
      "source": [
        "species = np.array(buf_lst)\n"
      ],
      "metadata": {
        "id": "L4d8OHhZByL6"
      },
      "execution_count": 92,
      "outputs": []
    },
    {
      "cell_type": "code",
      "source": [
        "species"
      ],
      "metadata": {
        "colab": {
          "base_uri": "https://localhost:8080/"
        },
        "id": "iWVLCF08ByaZ",
        "outputId": "3db90033-6935-467b-fc00-4e90d025c55c"
      },
      "execution_count": 93,
      "outputs": [
        {
          "output_type": "execute_result",
          "data": {
            "text/plain": [
              "DeviceArray([0, 0, 0, 0, 0, 0, 0, 0, 0, 0, 0, 0, 0, 0, 0, 0, 0, 0, 0, 0,\n",
              "             1, 1, 1, 1, 1, 1, 1, 1, 1, 1, 1, 1, 1, 1, 1, 1, 1, 1, 1, 1,\n",
              "             1, 1, 1, 1, 1, 1, 1, 1, 1, 1, 1, 1, 1, 1, 1, 1, 1, 1, 1, 1,\n",
              "             1, 1, 1, 1, 1, 1, 1, 1, 1, 1, 1, 1, 1, 1, 1, 1, 1, 1, 1, 1,\n",
              "             2, 2, 2, 2, 2, 2, 2, 2, 2, 2, 2, 2, 2, 2, 2, 2, 2, 2, 2, 2,\n",
              "             2, 2, 2, 2, 2, 2, 2, 2, 2, 2, 2, 2, 2, 2, 2, 2, 2, 2, 2, 2,\n",
              "             2, 2, 2, 2, 2, 2, 2, 2, 2, 2, 2, 2, 2, 2, 2, 2, 2, 2, 2, 2,\n",
              "             2, 2, 2, 2, 2, 2, 2, 2, 2, 2, 2, 2, 2, 2, 2, 2, 2, 2, 2, 2,\n",
              "             2, 2, 2, 2, 2, 2, 2, 2, 2, 2, 2, 2, 2, 2, 2, 2, 2, 2, 2, 2,\n",
              "             2, 2, 2, 2, 2, 2, 2, 2, 2, 2, 2, 2, 2, 2, 2, 2, 2, 2, 2, 2,\n",
              "             2, 2, 2, 2, 2, 2, 2, 2, 2, 2, 2, 2, 2, 2, 2, 2, 2, 2, 2, 2,\n",
              "             2, 2, 2, 2, 2, 2, 2, 2, 2, 2, 2, 2, 2, 2, 2, 2, 2, 2, 2, 2,\n",
              "             2, 2, 2, 2, 2, 2, 2, 2, 2, 2, 2, 2, 2, 2, 2, 2, 2, 2, 2, 2,\n",
              "             2, 2, 2, 2, 2, 2, 2, 2, 2, 2, 2, 2, 2, 2, 2, 2, 2, 2, 2, 2,\n",
              "             2, 2, 2, 2, 2, 2, 2, 2, 2, 2, 2, 2, 2, 2, 2, 2, 2, 2, 2, 2,\n",
              "             2, 2, 2, 2, 2, 2, 2, 2, 2, 2, 2, 2, 2, 2, 2, 2, 2, 2, 2, 2,\n",
              "             2, 2, 2, 2, 2, 2, 2, 2, 2, 2, 2, 2, 2, 2, 2, 2, 2, 2, 2, 2,\n",
              "             2, 2, 2, 2, 2, 2, 2, 2, 2, 2, 2, 2, 2, 2, 2, 2, 2, 2, 2, 2,\n",
              "             2, 2, 2, 2, 2, 2, 2, 2, 2, 2, 2, 2, 2, 2, 2, 2, 2, 2, 2, 2,\n",
              "             2, 2, 2, 2, 2, 2, 2, 2, 2, 2, 2, 2, 2, 2, 2, 2, 2, 2, 2, 2],            dtype=int64)"
            ]
          },
          "metadata": {},
          "execution_count": 93
        }
      ]
    },
    {
      "cell_type": "code",
      "source": [
        "energy_fn = energy.soft_sphere_pair(displacement, species=species, sigma=sigma)\n",
        "\n",
        "init, apply = simulate.nvt_nose_hoover(energy_fn, shift, dt, kT(0.))\n",
        "state = init(key, R)"
      ],
      "metadata": {
        "id": "Szs77nVe_8qK"
      },
      "execution_count": 94,
      "outputs": []
    },
    {
      "cell_type": "code",
      "source": [
        "write_every = 100\n",
        "\n",
        "def step_fn(i, state_and_log):\n",
        "  state, log = state_and_log\n",
        "\n",
        "  t = i * dt\n",
        "\n",
        "  # Log information about the simulation.\n",
        "  T = quantity.temperature(state.velocity)\n",
        "  log['kT'] = log['kT'].at[i].set(T)\n",
        "  H = simulate.nvt_nose_hoover_invariant(energy_fn, state, kT(t))\n",
        "  log['H'] = log['H'].at[i].set(H)\n",
        "  # Record positions every `write_every` steps.\n",
        "  log['position'] = lax.cond(i % write_every == 0,\n",
        "                             lambda p: \\\n",
        "                             p.at[i // write_every].set(state.position),\n",
        "                             lambda p: p,\n",
        "                             log['position'])\n",
        "\n",
        "  # Take a simulation step.\n",
        "  state = apply(state, kT=kT(t))\n",
        "  \n",
        "  return state, log"
      ],
      "metadata": {
        "id": "91uRNUGW_83h"
      },
      "execution_count": 95,
      "outputs": []
    },
    {
      "cell_type": "code",
      "source": [
        "steps = 20000\n",
        "\n",
        "log = {\n",
        "    'kT': np.zeros((steps,)),\n",
        "    'H': np.zeros((steps,)),\n",
        "    'position': np.zeros((steps // write_every,) + R.shape) \n",
        "}\n",
        "\n",
        "state, log = lax.fori_loop(0, steps, step_fn, (state, log))\n",
        "\n",
        "R = state.position"
      ],
      "metadata": {
        "id": "rV-NPp75_9DX"
      },
      "execution_count": null,
      "outputs": []
    },
    {
      "cell_type": "code",
      "source": [
        "t = onp.arange(0, steps) * dt\n",
        "plt.plot(t, log['kT'], linewidth=3)\n",
        "plt.plot(t, kT(t), linewidth=3)\n",
        "format_plot('$t$', '$T$')\n",
        "finalize_plot()"
      ],
      "metadata": {
        "id": "1M-qR1Fp_9PG"
      },
      "execution_count": null,
      "outputs": []
    },
    {
      "cell_type": "code",
      "source": [
        "plt.plot(t, log['H'], linewidth=3)\n",
        "format_plot('$t$', '$H$')\n",
        "finalize_plot()"
      ],
      "metadata": {
        "id": "ErK4q-yA_9bt"
      },
      "execution_count": null,
      "outputs": []
    },
    {
      "cell_type": "code",
      "source": [
        ""
      ],
      "metadata": {
        "id": "vlQMM3jzIAmr"
      },
      "execution_count": null,
      "outputs": []
    },
    {
      "cell_type": "code",
      "source": [
        ""
      ],
      "metadata": {
        "id": "1sLQDEYzIAOY"
      },
      "execution_count": null,
      "outputs": []
    },
    {
      "cell_type": "code",
      "source": [
        "buf_lst = []\n",
        "for i in species:\n",
        "   \n",
        "  if i == 0: \n",
        "    buf_lst.append(np.array([1.5, 0.2, 0.01]))\n",
        "  elif i == 1: \n",
        "    buf_lst.append(np.array([1.0, 0.5, 0.5]))   \n",
        "  elif i == 2: \n",
        "    buf_lst.append(np.array([0.3, 0.8, 0.85]))        \n"
      ],
      "metadata": {
        "id": "ElaGFV7GH_wJ"
      },
      "execution_count": null,
      "outputs": []
    },
    {
      "cell_type": "code",
      "source": [
        "from jax_md.colab_tools import renderer\n",
        "\n",
        "diameters = sigma[species, species]\n",
        "\n",
        "colors = np.array(buf_lst)\n",
        "\n",
        "#colors = np.where(species[:, None], \n",
        "#                  np.array([[1.0, 0.5, 0.01]]), \n",
        "#                  np.array([[0.35, 0.65, 0.85]]))\n",
        "\n",
        "\n",
        "\n",
        "renderer.render(box_size,\n",
        "                {\n",
        "                    'particles': renderer.Disk(log['position'], \n",
        "                                               diameters,\n",
        "                                               colors)\n",
        "                },\n",
        "                resolution=(700, 700))"
      ],
      "metadata": {
        "id": "f1u5ICr5_9me"
      },
      "execution_count": null,
      "outputs": []
    },
    {
      "cell_type": "code",
      "source": [
        "colors"
      ],
      "metadata": {
        "id": "Wg-Vs6ho_9yp"
      },
      "execution_count": null,
      "outputs": []
    },
    {
      "cell_type": "code",
      "source": [
        ""
      ],
      "metadata": {
        "id": "5CIUORG6_9_M"
      },
      "execution_count": null,
      "outputs": []
    },
    {
      "cell_type": "code",
      "source": [
        ""
      ],
      "metadata": {
        "id": "7LD3jB9j_-Lj"
      },
      "execution_count": null,
      "outputs": []
    },
    {
      "cell_type": "code",
      "source": [
        ""
      ],
      "metadata": {
        "id": "R_X5Hp-0_-YA"
      },
      "execution_count": null,
      "outputs": []
    }
  ]
}
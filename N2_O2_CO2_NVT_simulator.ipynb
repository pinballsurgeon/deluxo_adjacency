{
  "nbformat": 4,
  "nbformat_minor": 0,
  "metadata": {
    "colab": {
      "name": "N2-O2-CO2 NVT simulator.ipynb",
      "provenance": [],
      "collapsed_sections": [
        "tU3UPlI3Jef-",
        "i0_-6MRza4s9",
        "NZuAjcdvdB0O"
      ],
      "authorship_tag": "ABX9TyPjS0ALdJV5qLvrkIeHvOK+",
      "include_colab_link": true
    },
    "kernelspec": {
      "name": "python3",
      "display_name": "Python 3"
    },
    "language_info": {
      "name": "python"
    }
  },
  "cells": [
    {
      "cell_type": "markdown",
      "metadata": {
        "id": "view-in-github",
        "colab_type": "text"
      },
      "source": [
        "<a href=\"https://colab.research.google.com/github/pinballsurgeon/deluxo_adjacency/blob/main/N2_O2_CO2_NVT_simulator.ipynb\" target=\"_parent\"><img src=\"https://colab.research.google.com/assets/colab-badge.svg\" alt=\"Open In Colab\"/></a>"
      ]
    },
    {
      "cell_type": "code",
      "source": [
        ""
      ],
      "metadata": {
        "id": "XbuuOUdCJd4N"
      },
      "execution_count": 284,
      "outputs": []
    },
    {
      "cell_type": "markdown",
      "source": [
        "###Installs"
      ],
      "metadata": {
        "id": "tU3UPlI3Jef-"
      }
    },
    {
      "cell_type": "code",
      "source": [
        "# jax molecular dynamics\n",
        "!pip install jax-md"
      ],
      "metadata": {
        "colab": {
          "base_uri": "https://localhost:8080/"
        },
        "id": "pgE4G4VeJcrI",
        "outputId": "35e875c9-1bb9-44b6-c3d9-507a727dee1d"
      },
      "execution_count": 285,
      "outputs": [
        {
          "output_type": "stream",
          "name": "stdout",
          "text": [
            "Looking in indexes: https://pypi.org/simple, https://us-python.pkg.dev/colab-wheels/public/simple/\n",
            "Requirement already satisfied: jax-md in /usr/local/lib/python3.7/dist-packages (0.1.29)\n",
            "Requirement already satisfied: absl-py in /usr/local/lib/python3.7/dist-packages (from jax-md) (1.2.0)\n",
            "Requirement already satisfied: dataclasses in /usr/local/lib/python3.7/dist-packages (from jax-md) (0.6)\n",
            "Requirement already satisfied: jaxlib>=0.1.52 in /usr/local/lib/python3.7/dist-packages (from jax-md) (0.3.14+cuda11.cudnn805)\n",
            "Requirement already satisfied: dm-haiku>=0.0.2 in /usr/local/lib/python3.7/dist-packages (from jax-md) (0.0.7)\n",
            "Requirement already satisfied: numpy in /usr/local/lib/python3.7/dist-packages (from jax-md) (1.21.6)\n",
            "Requirement already satisfied: jraph in /usr/local/lib/python3.7/dist-packages (from jax-md) (0.0.5.dev0)\n",
            "Requirement already satisfied: jax>=0.1.73 in /usr/local/lib/python3.7/dist-packages (from jax-md) (0.3.14)\n",
            "Requirement already satisfied: typing-extensions in /usr/local/lib/python3.7/dist-packages (from dm-haiku>=0.0.2->jax-md) (4.1.1)\n",
            "Requirement already satisfied: tabulate>=0.8.9 in /usr/local/lib/python3.7/dist-packages (from dm-haiku>=0.0.2->jax-md) (0.8.10)\n",
            "Requirement already satisfied: jmp>=0.0.2 in /usr/local/lib/python3.7/dist-packages (from dm-haiku>=0.0.2->jax-md) (0.0.2)\n",
            "Requirement already satisfied: opt-einsum in /usr/local/lib/python3.7/dist-packages (from jax>=0.1.73->jax-md) (3.3.0)\n",
            "Requirement already satisfied: etils[epath] in /usr/local/lib/python3.7/dist-packages (from jax>=0.1.73->jax-md) (0.6.0)\n",
            "Requirement already satisfied: scipy>=1.5 in /usr/local/lib/python3.7/dist-packages (from jax>=0.1.73->jax-md) (1.7.3)\n",
            "Requirement already satisfied: flatbuffers<3.0,>=1.12 in /usr/local/lib/python3.7/dist-packages (from jaxlib>=0.1.52->jax-md) (2.0)\n",
            "Requirement already satisfied: importlib_resources in /usr/local/lib/python3.7/dist-packages (from etils[epath]->jax>=0.1.73->jax-md) (5.9.0)\n",
            "Requirement already satisfied: zipp in /usr/local/lib/python3.7/dist-packages (from etils[epath]->jax>=0.1.73->jax-md) (3.8.1)\n"
          ]
        }
      ]
    },
    {
      "cell_type": "markdown",
      "source": [
        "###Imports"
      ],
      "metadata": {
        "id": "dgYeWThZJiY7"
      }
    },
    {
      "cell_type": "code",
      "execution_count": 286,
      "metadata": {
        "id": "4NlEmC7u_pLX"
      },
      "outputs": [],
      "source": [
        "#                          __         __              /\\  .___\n",
        "#            ____   _____/  |_      |__|____  ___  __)/__| _/\n",
        "#           / ___\\_/ __ \\   __\\     |  \\__  \\ \\  \\/  // __ | \n",
        "#          / /_/  >  ___/|  |       |  |/ __ \\_>    </ /_/ | \n",
        "#          \\___  / \\___  >__|   /\\__|  (____  /__/\\_ \\____ | \n",
        "#          /_____/      \\/       \\______|    \\/      \\/    \\/ \n",
        "\n",
        "\n",
        "from jax.config import config ; config.update('jax_enable_x64', True)\n",
        "import jax.numpy as np\n",
        "from jax import random, jit, lax, ops\n",
        "from jax_md import space, smap, energy, minimize, quantity, simulate\n",
        "\n",
        "import matplotlib\n",
        "import matplotlib.pyplot as plt\n",
        "import seaborn as sns\n",
        "  \n",
        "sns.set_style(style='white')\n",
        "\n",
        "# details on new things you dont yet know\n",
        "from inspect import signature\n",
        "import inspect, re\n",
        "\n",
        "\n",
        "  \n"
      ]
    },
    {
      "cell_type": "code",
      "source": [
        ""
      ],
      "metadata": {
        "id": "xUyJpRO6KFl-"
      },
      "execution_count": 286,
      "outputs": []
    },
    {
      "cell_type": "markdown",
      "source": [
        "Experiment configuration"
      ],
      "metadata": {
        "id": "6ELPLcFAKGVn"
      }
    },
    {
      "cell_type": "code",
      "source": [
        "N = 260\n",
        "dimension = 3\n",
        "box_size = quantity.box_size_at_number_density( N, 0.8, dimension)\n",
        "dt = 5e-3\n",
        "displacement, shift = space.periodic(box_size) \n",
        "\n",
        "steps = 10000\n",
        "write_every = 100\n",
        "\n",
        "max_temp = 0.005\n",
        "min_temp = 0.001\n",
        "\n",
        "# kT = lambda t: np.where(t < 5000.0 * dt, 0.001, 0.005)\n",
        "# kT = lambda t: np.where(t < 5000.0 * dt, 0.001, 0.005)\n",
        "# kT = lambda t: round(t * ( (max_temp - min_temp) / steps ), 3)\n",
        "kT = lambda t: t * ( (max_temp - min_temp) / steps )"
      ],
      "metadata": {
        "id": "Y23BOtX5_7sk"
      },
      "execution_count": 287,
      "outputs": []
    },
    {
      "cell_type": "code",
      "source": [
        "print(kT(0))"
      ],
      "metadata": {
        "id": "GdnR8Iau51Em",
        "colab": {
          "base_uri": "https://localhost:8080/"
        },
        "outputId": "1b6c0e2e-b812-45ed-be32-9e4bd66913b9"
      },
      "execution_count": 298,
      "outputs": [
        {
          "output_type": "stream",
          "name": "stdout",
          "text": [
            "0.0\n"
          ]
        }
      ]
    },
    {
      "cell_type": "markdown",
      "source": [
        "Helper functions"
      ],
      "metadata": {
        "id": "6SKUbh3v3byV"
      }
    },
    {
      "cell_type": "code",
      "source": [
        ""
      ],
      "metadata": {
        "id": "eXH38WQk3aMB"
      },
      "execution_count": 288,
      "outputs": []
    },
    {
      "cell_type": "code",
      "source": [
        ""
      ],
      "metadata": {
        "id": "O-Virj2f3aV_"
      },
      "execution_count": 288,
      "outputs": []
    },
    {
      "cell_type": "code",
      "source": [
        ""
      ],
      "metadata": {
        "id": "5WhO0saQ3afj"
      },
      "execution_count": 288,
      "outputs": []
    },
    {
      "cell_type": "code",
      "source": [
        "# relative concentration\n",
        "#conc_n2 = 0.78084\n",
        "conc_n2 = 0.68084\n",
        "# conc_o2 = 0.20946\n",
        "conc_o2 = 0.15946\n",
        "#conc_ar = 0.009340\n",
        "conc_ar = 0.09340\n",
        "# conc_co2 = 0.000407\n",
        "conc_co2 = 0.0707\n",
        "conc_h2o = 0\n",
        "conc_ch4 = 0.0000018\n",
        "\n",
        "\n",
        "# kinetic diameters\n",
        "kd_n2 = 3.64\n",
        "kd_o2 = 3.46\n",
        "kd_ar = 0\n",
        "kd_co2 = 3.3\n",
        "kd_h2o = 2.65\n",
        "kd_ch4 = 3.8\n",
        "\n",
        "# molecular weight\n",
        "mw_n2 = 28\n",
        "mw_o2 = 32\n",
        "mw_ar = 0\n",
        "mw_co2 = 44\n",
        "mw_h2o = 18\n",
        "mw_ch4 = 16\n",
        "\n",
        "# molecular diameter\n",
        "md_n2 = 0\n",
        "md_o2 = 0\n",
        "md_ar = 0\n",
        "md_co2 = 0\n",
        "md_h2o = 0\n",
        "md_ch4 = 0\n"
      ],
      "metadata": {
        "id": "C5_iF_lH51Sy"
      },
      "execution_count": 289,
      "outputs": []
    },
    {
      "cell_type": "markdown",
      "source": [
        "Helper functions"
      ],
      "metadata": {
        "id": "EkmdMH-RJ22b"
      }
    },
    {
      "cell_type": "code",
      "source": [
        "def step_fn(i, state_and_log):\n",
        "  state, log = state_and_log\n",
        "\n",
        "  t = i * dt\n",
        "\n",
        "  # Log information about the simulation.\n",
        "  T = quantity.temperature(state.velocity)\n",
        "  log['kT'] = log['kT'].at[i].set(T)\n",
        "  H = simulate.nvt_nose_hoover_invariant(energy_fn, state, kT(t))\n",
        "  log['H'] = log['H'].at[i].set(H)\n",
        "  # Record positions every `write_every` steps.\n",
        "  log['position'] = lax.cond(i % write_every == 0,\n",
        "                             lambda p: \\\n",
        "                             p.at[i // write_every].set(state.position),\n",
        "                             lambda p: p,\n",
        "                             log['position'])\n",
        "\n",
        "  # Take a simulation step.\n",
        "  state = apply(state, kT=kT(t))\n",
        "\n",
        "\n",
        "\n",
        "  return state, log"
      ],
      "metadata": {
        "id": "pKaj5ZsvJ9KO"
      },
      "execution_count": 290,
      "outputs": []
    },
    {
      "cell_type": "code",
      "source": [
        ""
      ],
      "metadata": {
        "id": "9O470WMqJ9Ri"
      },
      "execution_count": 290,
      "outputs": []
    },
    {
      "cell_type": "code",
      "source": [
        ""
      ],
      "metadata": {
        "id": "1ki11IQgJ9YJ"
      },
      "execution_count": 290,
      "outputs": []
    },
    {
      "cell_type": "code",
      "source": [
        ""
      ],
      "metadata": {
        "id": "lA9qmnueJ9ew"
      },
      "execution_count": 290,
      "outputs": []
    },
    {
      "cell_type": "code",
      "source": [
        ""
      ],
      "metadata": {
        "id": "mNWfdji_J9lB"
      },
      "execution_count": 290,
      "outputs": []
    },
    {
      "cell_type": "code",
      "source": [
        "key = random.PRNGKey(0)"
      ],
      "metadata": {
        "id": "njuyCCg8_8P2"
      },
      "execution_count": 291,
      "outputs": []
    },
    {
      "cell_type": "code",
      "source": [
        ""
      ],
      "metadata": {
        "id": "FaBr8RkGJvi-"
      },
      "execution_count": 291,
      "outputs": []
    },
    {
      "cell_type": "code",
      "source": [
        ""
      ],
      "metadata": {
        "id": "h_i4RfEMJvQ4"
      },
      "execution_count": 291,
      "outputs": []
    },
    {
      "cell_type": "code",
      "source": [
        "key, split = random.split(key)\n",
        "R = box_size * random.uniform(split, (N, dimension), dtype=np.float64)\n",
        "\n",
        "# The system ought to be a 50:50 mixture of two types of particles, one\n",
        "# large and one small.\n",
        "# sigma = np.array([[1.0, 1.2], [1.2, 1.4]])\n",
        "# sigma = np.array([[0.3, 0.3], [1.2, 1.2], [0.8, 0.8]])\n",
        "sigma = np.array([[0.3, 0.3], [0.5, 0.5], [0.8, 0.8], [0.7, 0.7]])\n",
        "\n",
        "\n",
        "N_2 = int(N * conc_o2)\n",
        "N_3 = int(N * conc_ar)\n",
        "N_4 = int(N * conc_co2)\n",
        "\n",
        "\n",
        "buf = 0\n",
        "buf_lst = []\n",
        "for i in range(0, N):\n",
        "\n",
        "  if buf < N_4:\n",
        "    buf_lst.append(0)\n",
        "  elif buf < N_3:\n",
        "    buf_lst.append(1)\n",
        "  elif buf < N_2:\n",
        "    buf_lst.append(2)    \n",
        "  else:\n",
        "    buf_lst.append(3)\n",
        "\n",
        "  buf += 1"
      ],
      "metadata": {
        "id": "dTB158_y_8cY"
      },
      "execution_count": 292,
      "outputs": []
    },
    {
      "cell_type": "code",
      "source": [
        "species = np.array(buf_lst)\n"
      ],
      "metadata": {
        "id": "L4d8OHhZByL6"
      },
      "execution_count": 293,
      "outputs": []
    },
    {
      "cell_type": "code",
      "source": [
        "species.shape\n",
        "species"
      ],
      "metadata": {
        "colab": {
          "base_uri": "https://localhost:8080/"
        },
        "id": "iWVLCF08ByaZ",
        "outputId": "3f337e67-6f88-4d27-9885-78f45fc06174"
      },
      "execution_count": 294,
      "outputs": [
        {
          "output_type": "execute_result",
          "data": {
            "text/plain": [
              "DeviceArray([0, 0, 0, 0, 0, 0, 0, 0, 0, 0, 0, 0, 0, 0, 0, 0, 0, 0, 1, 1,\n",
              "             1, 1, 1, 1, 2, 2, 2, 2, 2, 2, 2, 2, 2, 2, 2, 2, 2, 2, 2, 2,\n",
              "             2, 3, 3, 3, 3, 3, 3, 3, 3, 3, 3, 3, 3, 3, 3, 3, 3, 3, 3, 3,\n",
              "             3, 3, 3, 3, 3, 3, 3, 3, 3, 3, 3, 3, 3, 3, 3, 3, 3, 3, 3, 3,\n",
              "             3, 3, 3, 3, 3, 3, 3, 3, 3, 3, 3, 3, 3, 3, 3, 3, 3, 3, 3, 3,\n",
              "             3, 3, 3, 3, 3, 3, 3, 3, 3, 3, 3, 3, 3, 3, 3, 3, 3, 3, 3, 3,\n",
              "             3, 3, 3, 3, 3, 3, 3, 3, 3, 3, 3, 3, 3, 3, 3, 3, 3, 3, 3, 3,\n",
              "             3, 3, 3, 3, 3, 3, 3, 3, 3, 3, 3, 3, 3, 3, 3, 3, 3, 3, 3, 3,\n",
              "             3, 3, 3, 3, 3, 3, 3, 3, 3, 3, 3, 3, 3, 3, 3, 3, 3, 3, 3, 3,\n",
              "             3, 3, 3, 3, 3, 3, 3, 3, 3, 3, 3, 3, 3, 3, 3, 3, 3, 3, 3, 3,\n",
              "             3, 3, 3, 3, 3, 3, 3, 3, 3, 3, 3, 3, 3, 3, 3, 3, 3, 3, 3, 3,\n",
              "             3, 3, 3, 3, 3, 3, 3, 3, 3, 3, 3, 3, 3, 3, 3, 3, 3, 3, 3, 3,\n",
              "             3, 3, 3, 3, 3, 3, 3, 3, 3, 3, 3, 3, 3, 3, 3, 3, 3, 3, 3, 3],            dtype=int64)"
            ]
          },
          "metadata": {},
          "execution_count": 294
        }
      ]
    },
    {
      "cell_type": "code",
      "source": [
        "energy_fn = energy.soft_sphere_pair(displacement, species=species, sigma=sigma)\n",
        "\n",
        "init, apply = simulate.nvt_nose_hoover(energy_fn, shift, dt, kT(0.))\n",
        "\n",
        "print(type(init(key, R)))\n",
        "state = init(key, R)\n"
      ],
      "metadata": {
        "id": "Szs77nVe_8qK",
        "colab": {
          "base_uri": "https://localhost:8080/"
        },
        "outputId": "05281ba4-469b-44f0-9c70-cb5c6677d151"
      },
      "execution_count": 295,
      "outputs": [
        {
          "output_type": "stream",
          "name": "stdout",
          "text": [
            "<class 'jax_md.simulate.NVTNoseHooverState'>\n"
          ]
        }
      ]
    },
    {
      "cell_type": "code",
      "source": [
        ""
      ],
      "metadata": {
        "id": "EMQk1lGhvRR0"
      },
      "execution_count": 295,
      "outputs": []
    },
    {
      "cell_type": "code",
      "source": [
        "# establish log\n",
        "log = {\n",
        "    'kT': np.zeros((steps,)),\n",
        "    'H': np.zeros((steps,)),\n",
        "    'position': np.zeros((steps // write_every,) + R.shape) \n",
        "}"
      ],
      "metadata": {
        "id": "3CArQ0AkvRsK"
      },
      "execution_count": 296,
      "outputs": []
    },
    {
      "cell_type": "code",
      "source": [
        ""
      ],
      "metadata": {
        "id": "91uRNUGW_83h"
      },
      "execution_count": 296,
      "outputs": []
    },
    {
      "cell_type": "code",
      "source": [
        "\n",
        "state, log = lax.fori_loop(0, steps, step_fn, (state, log))\n",
        "\n",
        "R = state.position"
      ],
      "metadata": {
        "id": "rV-NPp75_9DX",
        "colab": {
          "base_uri": "https://localhost:8080/",
          "height": 485
        },
        "outputId": "33c13f26-429c-4cb3-8482-faef7a6dfe52"
      },
      "execution_count": 297,
      "outputs": [
        {
          "output_type": "error",
          "ename": "TypeError",
          "evalue": "ignored",
          "traceback": [
            "\u001b[0;31m---------------------------------------------------------------------------\u001b[0m",
            "\u001b[0;31mUnfilteredStackTrace\u001b[0m                      Traceback (most recent call last)",
            "\u001b[0;32m<ipython-input-297-4f7f720f9623>\u001b[0m in \u001b[0;36m<module>\u001b[0;34m()\u001b[0m\n\u001b[1;32m      1\u001b[0m \u001b[0;34m\u001b[0m\u001b[0m\n\u001b[0;32m----> 2\u001b[0;31m \u001b[0mstate\u001b[0m\u001b[0;34m,\u001b[0m \u001b[0mlog\u001b[0m \u001b[0;34m=\u001b[0m \u001b[0mlax\u001b[0m\u001b[0;34m.\u001b[0m\u001b[0mfori_loop\u001b[0m\u001b[0;34m(\u001b[0m\u001b[0;36m0\u001b[0m\u001b[0;34m,\u001b[0m \u001b[0msteps\u001b[0m\u001b[0;34m,\u001b[0m \u001b[0mstep_fn\u001b[0m\u001b[0;34m,\u001b[0m \u001b[0;34m(\u001b[0m\u001b[0mstate\u001b[0m\u001b[0;34m,\u001b[0m \u001b[0mlog\u001b[0m\u001b[0;34m)\u001b[0m\u001b[0;34m)\u001b[0m\u001b[0;34m\u001b[0m\u001b[0;34m\u001b[0m\u001b[0m\n\u001b[0m\u001b[1;32m      3\u001b[0m \u001b[0;34m\u001b[0m\u001b[0m\n",
            "\u001b[0;32m/usr/local/lib/python3.7/dist-packages/jax/_src/traceback_util.py\u001b[0m in \u001b[0;36mreraise_with_filtered_traceback\u001b[0;34m(*args, **kwargs)\u001b[0m\n\u001b[1;32m    161\u001b[0m     \u001b[0;32mtry\u001b[0m\u001b[0;34m:\u001b[0m\u001b[0;34m\u001b[0m\u001b[0;34m\u001b[0m\u001b[0m\n\u001b[0;32m--> 162\u001b[0;31m       \u001b[0;32mreturn\u001b[0m \u001b[0mfun\u001b[0m\u001b[0;34m(\u001b[0m\u001b[0;34m*\u001b[0m\u001b[0margs\u001b[0m\u001b[0;34m,\u001b[0m \u001b[0;34m**\u001b[0m\u001b[0mkwargs\u001b[0m\u001b[0;34m)\u001b[0m\u001b[0;34m\u001b[0m\u001b[0;34m\u001b[0m\u001b[0m\n\u001b[0m\u001b[1;32m    163\u001b[0m     \u001b[0;32mexcept\u001b[0m \u001b[0mException\u001b[0m \u001b[0;32mas\u001b[0m \u001b[0me\u001b[0m\u001b[0;34m:\u001b[0m\u001b[0;34m\u001b[0m\u001b[0;34m\u001b[0m\u001b[0m\n",
            "\u001b[0;32m/usr/local/lib/python3.7/dist-packages/jax/_src/lax/control_flow/loops.py\u001b[0m in \u001b[0;36mfori_loop\u001b[0;34m(lower, upper, body_fun, init_val)\u001b[0m\n\u001b[1;32m   1592\u001b[0m     (_, result), _ = scan(_fori_scan_body_fun(body_fun), (lower_, init_val),\n\u001b[0;32m-> 1593\u001b[0;31m                           None, length=upper_ - lower_)\n\u001b[0m\u001b[1;32m   1594\u001b[0m   \u001b[0;32melse\u001b[0m\u001b[0;34m:\u001b[0m\u001b[0;34m\u001b[0m\u001b[0;34m\u001b[0m\u001b[0m\n",
            "\u001b[0;32m/usr/local/lib/python3.7/dist-packages/jax/_src/traceback_util.py\u001b[0m in \u001b[0;36mreraise_with_filtered_traceback\u001b[0;34m(*args, **kwargs)\u001b[0m\n\u001b[1;32m    161\u001b[0m     \u001b[0;32mtry\u001b[0m\u001b[0;34m:\u001b[0m\u001b[0;34m\u001b[0m\u001b[0;34m\u001b[0m\u001b[0m\n\u001b[0;32m--> 162\u001b[0;31m       \u001b[0;32mreturn\u001b[0m \u001b[0mfun\u001b[0m\u001b[0;34m(\u001b[0m\u001b[0;34m*\u001b[0m\u001b[0margs\u001b[0m\u001b[0;34m,\u001b[0m \u001b[0;34m**\u001b[0m\u001b[0mkwargs\u001b[0m\u001b[0;34m)\u001b[0m\u001b[0;34m\u001b[0m\u001b[0;34m\u001b[0m\u001b[0m\n\u001b[0m\u001b[1;32m    163\u001b[0m     \u001b[0;32mexcept\u001b[0m \u001b[0mException\u001b[0m \u001b[0;32mas\u001b[0m \u001b[0me\u001b[0m\u001b[0;34m:\u001b[0m\u001b[0;34m\u001b[0m\u001b[0;34m\u001b[0m\u001b[0m\n",
            "\u001b[0;32m/usr/local/lib/python3.7/dist-packages/jax/_src/lax/control_flow/loops.py\u001b[0m in \u001b[0;36mscan\u001b[0;34m(f, init, xs, length, reverse, unroll)\u001b[0m\n\u001b[1;32m    256\u001b[0m   \u001b[0;31m# necessary, a second time with modified init values.\u001b[0m\u001b[0;34m\u001b[0m\u001b[0;34m\u001b[0m\u001b[0;34m\u001b[0m\u001b[0m\n\u001b[0;32m--> 257\u001b[0;31m   \u001b[0minit_flat\u001b[0m\u001b[0;34m,\u001b[0m \u001b[0mcarry_avals\u001b[0m\u001b[0;34m,\u001b[0m \u001b[0mcarry_avals_out\u001b[0m\u001b[0;34m,\u001b[0m \u001b[0minit_tree\u001b[0m\u001b[0;34m,\u001b[0m \u001b[0;34m*\u001b[0m\u001b[0mrest\u001b[0m \u001b[0;34m=\u001b[0m \u001b[0m_create_jaxpr\u001b[0m\u001b[0;34m(\u001b[0m\u001b[0minit\u001b[0m\u001b[0;34m)\u001b[0m\u001b[0;34m\u001b[0m\u001b[0;34m\u001b[0m\u001b[0m\n\u001b[0m\u001b[1;32m    258\u001b[0m   \u001b[0mnew_init_flat\u001b[0m\u001b[0;34m,\u001b[0m \u001b[0mchanged\u001b[0m \u001b[0;34m=\u001b[0m \u001b[0m_promote_weak_typed_inputs\u001b[0m\u001b[0;34m(\u001b[0m\u001b[0minit_flat\u001b[0m\u001b[0;34m,\u001b[0m \u001b[0mcarry_avals\u001b[0m\u001b[0;34m,\u001b[0m \u001b[0mcarry_avals_out\u001b[0m\u001b[0;34m)\u001b[0m\u001b[0;34m\u001b[0m\u001b[0;34m\u001b[0m\u001b[0m\n",
            "\u001b[0;32m/usr/local/lib/python3.7/dist-packages/jax/_src/lax/control_flow/loops.py\u001b[0m in \u001b[0;36m_create_jaxpr\u001b[0;34m(init)\u001b[0m\n\u001b[1;32m    243\u001b[0m     jaxpr, consts, out_tree = _initial_style_jaxpr(\n\u001b[0;32m--> 244\u001b[0;31m         f, in_tree, carry_avals + x_avals, \"scan\")\n\u001b[0m\u001b[1;32m    245\u001b[0m     \u001b[0mout_tree_children\u001b[0m \u001b[0;34m=\u001b[0m \u001b[0mout_tree\u001b[0m\u001b[0;34m.\u001b[0m\u001b[0mchildren\u001b[0m\u001b[0;34m(\u001b[0m\u001b[0;34m)\u001b[0m\u001b[0;34m\u001b[0m\u001b[0;34m\u001b[0m\u001b[0m\n",
            "\u001b[0;32m/usr/local/lib/python3.7/dist-packages/jax/_src/util.py\u001b[0m in \u001b[0;36mwrapper\u001b[0;34m(*args, **kwargs)\u001b[0m\n\u001b[1;32m    218\u001b[0m       \u001b[0;32melse\u001b[0m\u001b[0;34m:\u001b[0m\u001b[0;34m\u001b[0m\u001b[0;34m\u001b[0m\u001b[0m\n\u001b[0;32m--> 219\u001b[0;31m         \u001b[0;32mreturn\u001b[0m \u001b[0mcached\u001b[0m\u001b[0;34m(\u001b[0m\u001b[0mconfig\u001b[0m\u001b[0;34m.\u001b[0m\u001b[0m_trace_context\u001b[0m\u001b[0;34m(\u001b[0m\u001b[0;34m)\u001b[0m\u001b[0;34m,\u001b[0m \u001b[0;34m*\u001b[0m\u001b[0margs\u001b[0m\u001b[0;34m,\u001b[0m \u001b[0;34m**\u001b[0m\u001b[0mkwargs\u001b[0m\u001b[0;34m)\u001b[0m\u001b[0;34m\u001b[0m\u001b[0;34m\u001b[0m\u001b[0m\n\u001b[0m\u001b[1;32m    220\u001b[0m \u001b[0;34m\u001b[0m\u001b[0m\n",
            "\u001b[0;32m/usr/local/lib/python3.7/dist-packages/jax/_src/util.py\u001b[0m in \u001b[0;36mcached\u001b[0;34m(_, *args, **kwargs)\u001b[0m\n\u001b[1;32m    211\u001b[0m     \u001b[0;32mdef\u001b[0m \u001b[0mcached\u001b[0m\u001b[0;34m(\u001b[0m\u001b[0m_\u001b[0m\u001b[0;34m,\u001b[0m \u001b[0;34m*\u001b[0m\u001b[0margs\u001b[0m\u001b[0;34m,\u001b[0m \u001b[0;34m**\u001b[0m\u001b[0mkwargs\u001b[0m\u001b[0;34m)\u001b[0m\u001b[0;34m:\u001b[0m\u001b[0;34m\u001b[0m\u001b[0;34m\u001b[0m\u001b[0m\n\u001b[0;32m--> 212\u001b[0;31m       \u001b[0;32mreturn\u001b[0m \u001b[0mf\u001b[0m\u001b[0;34m(\u001b[0m\u001b[0;34m*\u001b[0m\u001b[0margs\u001b[0m\u001b[0;34m,\u001b[0m \u001b[0;34m**\u001b[0m\u001b[0mkwargs\u001b[0m\u001b[0;34m)\u001b[0m\u001b[0;34m\u001b[0m\u001b[0;34m\u001b[0m\u001b[0m\n\u001b[0m\u001b[1;32m    213\u001b[0m \u001b[0;34m\u001b[0m\u001b[0m\n",
            "\u001b[0;32m/usr/local/lib/python3.7/dist-packages/jax/_src/lax/control_flow/common.py\u001b[0m in \u001b[0;36m_initial_style_jaxpr\u001b[0;34m(fun, in_tree, in_avals, primitive_name)\u001b[0m\n\u001b[1;32m     57\u001b[0m   jaxpr, consts, out_tree = _initial_style_open_jaxpr(\n\u001b[0;32m---> 58\u001b[0;31m       fun, in_tree, in_avals, primitive_name)\n\u001b[0m\u001b[1;32m     59\u001b[0m   \u001b[0mclosed_jaxpr\u001b[0m \u001b[0;34m=\u001b[0m \u001b[0mcore\u001b[0m\u001b[0;34m.\u001b[0m\u001b[0mClosedJaxpr\u001b[0m\u001b[0;34m(\u001b[0m\u001b[0mpe\u001b[0m\u001b[0;34m.\u001b[0m\u001b[0mconvert_constvars_jaxpr\u001b[0m\u001b[0;34m(\u001b[0m\u001b[0mjaxpr\u001b[0m\u001b[0;34m)\u001b[0m\u001b[0;34m,\u001b[0m \u001b[0;34m(\u001b[0m\u001b[0;34m)\u001b[0m\u001b[0;34m)\u001b[0m\u001b[0;34m\u001b[0m\u001b[0;34m\u001b[0m\u001b[0m\n",
            "\u001b[0;32m/usr/local/lib/python3.7/dist-packages/jax/_src/util.py\u001b[0m in \u001b[0;36mwrapper\u001b[0;34m(*args, **kwargs)\u001b[0m\n\u001b[1;32m    218\u001b[0m       \u001b[0;32melse\u001b[0m\u001b[0;34m:\u001b[0m\u001b[0;34m\u001b[0m\u001b[0;34m\u001b[0m\u001b[0m\n\u001b[0;32m--> 219\u001b[0;31m         \u001b[0;32mreturn\u001b[0m \u001b[0mcached\u001b[0m\u001b[0;34m(\u001b[0m\u001b[0mconfig\u001b[0m\u001b[0;34m.\u001b[0m\u001b[0m_trace_context\u001b[0m\u001b[0;34m(\u001b[0m\u001b[0;34m)\u001b[0m\u001b[0;34m,\u001b[0m \u001b[0;34m*\u001b[0m\u001b[0margs\u001b[0m\u001b[0;34m,\u001b[0m \u001b[0;34m**\u001b[0m\u001b[0mkwargs\u001b[0m\u001b[0;34m)\u001b[0m\u001b[0;34m\u001b[0m\u001b[0;34m\u001b[0m\u001b[0m\n\u001b[0m\u001b[1;32m    220\u001b[0m \u001b[0;34m\u001b[0m\u001b[0m\n",
            "\u001b[0;32m/usr/local/lib/python3.7/dist-packages/jax/_src/util.py\u001b[0m in \u001b[0;36mcached\u001b[0;34m(_, *args, **kwargs)\u001b[0m\n\u001b[1;32m    211\u001b[0m     \u001b[0;32mdef\u001b[0m \u001b[0mcached\u001b[0m\u001b[0;34m(\u001b[0m\u001b[0m_\u001b[0m\u001b[0;34m,\u001b[0m \u001b[0;34m*\u001b[0m\u001b[0margs\u001b[0m\u001b[0;34m,\u001b[0m \u001b[0;34m**\u001b[0m\u001b[0mkwargs\u001b[0m\u001b[0;34m)\u001b[0m\u001b[0;34m:\u001b[0m\u001b[0;34m\u001b[0m\u001b[0;34m\u001b[0m\u001b[0m\n\u001b[0;32m--> 212\u001b[0;31m       \u001b[0;32mreturn\u001b[0m \u001b[0mf\u001b[0m\u001b[0;34m(\u001b[0m\u001b[0;34m*\u001b[0m\u001b[0margs\u001b[0m\u001b[0;34m,\u001b[0m \u001b[0;34m**\u001b[0m\u001b[0mkwargs\u001b[0m\u001b[0;34m)\u001b[0m\u001b[0;34m\u001b[0m\u001b[0;34m\u001b[0m\u001b[0m\n\u001b[0m\u001b[1;32m    213\u001b[0m \u001b[0;34m\u001b[0m\u001b[0m\n",
            "\u001b[0;32m/usr/local/lib/python3.7/dist-packages/jax/_src/lax/control_flow/common.py\u001b[0m in \u001b[0;36m_initial_style_open_jaxpr\u001b[0;34m(fun, in_tree, in_avals, primitive_name)\u001b[0m\n\u001b[1;32m     50\u001b[0m   \u001b[0mdebug\u001b[0m \u001b[0;34m=\u001b[0m \u001b[0mpe\u001b[0m\u001b[0;34m.\u001b[0m\u001b[0mdebug_info\u001b[0m\u001b[0;34m(\u001b[0m\u001b[0mfun\u001b[0m\u001b[0;34m,\u001b[0m \u001b[0min_tree\u001b[0m\u001b[0;34m,\u001b[0m \u001b[0;32mFalse\u001b[0m\u001b[0;34m,\u001b[0m \u001b[0mprimitive_name\u001b[0m \u001b[0;32mor\u001b[0m \u001b[0;34m\"<unknown>\"\u001b[0m\u001b[0;34m)\u001b[0m\u001b[0;34m\u001b[0m\u001b[0;34m\u001b[0m\u001b[0m\n\u001b[0;32m---> 51\u001b[0;31m   \u001b[0mjaxpr\u001b[0m\u001b[0;34m,\u001b[0m \u001b[0m_\u001b[0m\u001b[0;34m,\u001b[0m \u001b[0mconsts\u001b[0m \u001b[0;34m=\u001b[0m \u001b[0mpe\u001b[0m\u001b[0;34m.\u001b[0m\u001b[0mtrace_to_jaxpr_dynamic\u001b[0m\u001b[0;34m(\u001b[0m\u001b[0mwrapped_fun\u001b[0m\u001b[0;34m,\u001b[0m \u001b[0min_avals\u001b[0m\u001b[0;34m,\u001b[0m \u001b[0mdebug\u001b[0m\u001b[0;34m)\u001b[0m\u001b[0;34m\u001b[0m\u001b[0;34m\u001b[0m\u001b[0m\n\u001b[0m\u001b[1;32m     52\u001b[0m   \u001b[0;32mreturn\u001b[0m \u001b[0mjaxpr\u001b[0m\u001b[0;34m,\u001b[0m \u001b[0mconsts\u001b[0m\u001b[0;34m,\u001b[0m \u001b[0mout_tree\u001b[0m\u001b[0;34m(\u001b[0m\u001b[0;34m)\u001b[0m\u001b[0;34m\u001b[0m\u001b[0;34m\u001b[0m\u001b[0m\n",
            "\u001b[0;32m/usr/local/lib/python3.7/dist-packages/jax/_src/profiler.py\u001b[0m in \u001b[0;36mwrapper\u001b[0;34m(*args, **kwargs)\u001b[0m\n\u001b[1;32m    311\u001b[0m     \u001b[0;32mwith\u001b[0m \u001b[0mTraceAnnotation\u001b[0m\u001b[0;34m(\u001b[0m\u001b[0mname\u001b[0m\u001b[0;34m,\u001b[0m \u001b[0;34m**\u001b[0m\u001b[0mdecorator_kwargs\u001b[0m\u001b[0;34m)\u001b[0m\u001b[0;34m:\u001b[0m\u001b[0;34m\u001b[0m\u001b[0;34m\u001b[0m\u001b[0m\n\u001b[0;32m--> 312\u001b[0;31m       \u001b[0;32mreturn\u001b[0m \u001b[0mfunc\u001b[0m\u001b[0;34m(\u001b[0m\u001b[0;34m*\u001b[0m\u001b[0margs\u001b[0m\u001b[0;34m,\u001b[0m \u001b[0;34m**\u001b[0m\u001b[0mkwargs\u001b[0m\u001b[0;34m)\u001b[0m\u001b[0;34m\u001b[0m\u001b[0;34m\u001b[0m\u001b[0m\n\u001b[0m\u001b[1;32m    313\u001b[0m     \u001b[0;32mreturn\u001b[0m \u001b[0mwrapper\u001b[0m\u001b[0;34m\u001b[0m\u001b[0;34m\u001b[0m\u001b[0m\n",
            "\u001b[0;32m/usr/local/lib/python3.7/dist-packages/jax/interpreters/partial_eval.py\u001b[0m in \u001b[0;36mtrace_to_jaxpr_dynamic\u001b[0;34m(fun, in_avals, debug_info, keep_inputs)\u001b[0m\n\u001b[1;32m   1877\u001b[0m     jaxpr, out_avals, consts = trace_to_subjaxpr_dynamic(\n\u001b[0;32m-> 1878\u001b[0;31m       fun, main, in_avals, keep_inputs=keep_inputs)\n\u001b[0m\u001b[1;32m   1879\u001b[0m     \u001b[0;32mdel\u001b[0m \u001b[0mmain\u001b[0m\u001b[0;34m,\u001b[0m \u001b[0mfun\u001b[0m\u001b[0;34m\u001b[0m\u001b[0;34m\u001b[0m\u001b[0m\n",
            "\u001b[0;32m/usr/local/lib/python3.7/dist-packages/jax/interpreters/partial_eval.py\u001b[0m in \u001b[0;36mtrace_to_subjaxpr_dynamic\u001b[0;34m(fun, main, in_avals, keep_inputs)\u001b[0m\n\u001b[1;32m   1891\u001b[0m     \u001b[0min_tracers_\u001b[0m \u001b[0;34m=\u001b[0m \u001b[0;34m[\u001b[0m\u001b[0mt\u001b[0m \u001b[0;32mfor\u001b[0m \u001b[0mt\u001b[0m\u001b[0;34m,\u001b[0m \u001b[0mkeep\u001b[0m \u001b[0;32min\u001b[0m \u001b[0mzip\u001b[0m\u001b[0;34m(\u001b[0m\u001b[0min_tracers\u001b[0m\u001b[0;34m,\u001b[0m \u001b[0mkeep_inputs\u001b[0m\u001b[0;34m)\u001b[0m \u001b[0;32mif\u001b[0m \u001b[0mkeep\u001b[0m\u001b[0;34m]\u001b[0m\u001b[0;34m\u001b[0m\u001b[0;34m\u001b[0m\u001b[0m\n\u001b[0;32m-> 1892\u001b[0;31m     \u001b[0mans\u001b[0m \u001b[0;34m=\u001b[0m \u001b[0mfun\u001b[0m\u001b[0;34m.\u001b[0m\u001b[0mcall_wrapped\u001b[0m\u001b[0;34m(\u001b[0m\u001b[0;34m*\u001b[0m\u001b[0min_tracers_\u001b[0m\u001b[0;34m)\u001b[0m\u001b[0;34m\u001b[0m\u001b[0;34m\u001b[0m\u001b[0m\n\u001b[0m\u001b[1;32m   1893\u001b[0m     \u001b[0mout_tracers\u001b[0m \u001b[0;34m=\u001b[0m \u001b[0mmap\u001b[0m\u001b[0;34m(\u001b[0m\u001b[0mtrace\u001b[0m\u001b[0;34m.\u001b[0m\u001b[0mfull_raise\u001b[0m\u001b[0;34m,\u001b[0m \u001b[0mans\u001b[0m\u001b[0;34m)\u001b[0m\u001b[0;34m\u001b[0m\u001b[0;34m\u001b[0m\u001b[0m\n",
            "\u001b[0;32m/usr/local/lib/python3.7/dist-packages/jax/linear_util.py\u001b[0m in \u001b[0;36mcall_wrapped\u001b[0;34m(self, *args, **kwargs)\u001b[0m\n\u001b[1;32m    167\u001b[0m     \u001b[0;32mtry\u001b[0m\u001b[0;34m:\u001b[0m\u001b[0;34m\u001b[0m\u001b[0;34m\u001b[0m\u001b[0m\n\u001b[0;32m--> 168\u001b[0;31m       \u001b[0mans\u001b[0m \u001b[0;34m=\u001b[0m \u001b[0mself\u001b[0m\u001b[0;34m.\u001b[0m\u001b[0mf\u001b[0m\u001b[0;34m(\u001b[0m\u001b[0;34m*\u001b[0m\u001b[0margs\u001b[0m\u001b[0;34m,\u001b[0m \u001b[0;34m**\u001b[0m\u001b[0mdict\u001b[0m\u001b[0;34m(\u001b[0m\u001b[0mself\u001b[0m\u001b[0;34m.\u001b[0m\u001b[0mparams\u001b[0m\u001b[0;34m,\u001b[0m \u001b[0;34m**\u001b[0m\u001b[0mkwargs\u001b[0m\u001b[0;34m)\u001b[0m\u001b[0;34m)\u001b[0m\u001b[0;34m\u001b[0m\u001b[0;34m\u001b[0m\u001b[0m\n\u001b[0m\u001b[1;32m    169\u001b[0m     \u001b[0;32mexcept\u001b[0m\u001b[0;34m:\u001b[0m\u001b[0;34m\u001b[0m\u001b[0;34m\u001b[0m\u001b[0m\n",
            "\u001b[0;32m/usr/local/lib/python3.7/dist-packages/jax/_src/lax/control_flow/loops.py\u001b[0m in \u001b[0;36mscanned_fun\u001b[0;34m(loop_carry, _)\u001b[0m\n\u001b[1;32m   1510\u001b[0m     \u001b[0mi\u001b[0m\u001b[0;34m,\u001b[0m \u001b[0mx\u001b[0m \u001b[0;34m=\u001b[0m \u001b[0mloop_carry\u001b[0m\u001b[0;34m\u001b[0m\u001b[0;34m\u001b[0m\u001b[0m\n\u001b[0;32m-> 1511\u001b[0;31m     \u001b[0;32mreturn\u001b[0m \u001b[0;34m(\u001b[0m\u001b[0mi\u001b[0m \u001b[0;34m+\u001b[0m \u001b[0;36m1\u001b[0m\u001b[0;34m,\u001b[0m \u001b[0mbody_fun\u001b[0m\u001b[0;34m(\u001b[0m\u001b[0mi\u001b[0m\u001b[0;34m,\u001b[0m \u001b[0mx\u001b[0m\u001b[0;34m)\u001b[0m\u001b[0;34m)\u001b[0m\u001b[0;34m,\u001b[0m \u001b[0;32mNone\u001b[0m\u001b[0;34m\u001b[0m\u001b[0;34m\u001b[0m\u001b[0m\n\u001b[0m\u001b[1;32m   1512\u001b[0m   \u001b[0;32mreturn\u001b[0m \u001b[0mscanned_fun\u001b[0m\u001b[0;34m\u001b[0m\u001b[0;34m\u001b[0m\u001b[0m\n",
            "\u001b[0;32m<ipython-input-290-75a3b15c5baa>\u001b[0m in \u001b[0;36mstep_fn\u001b[0;34m(i, state_and_log)\u001b[0m\n\u001b[1;32m      8\u001b[0m   \u001b[0mlog\u001b[0m\u001b[0;34m[\u001b[0m\u001b[0;34m'kT'\u001b[0m\u001b[0;34m]\u001b[0m \u001b[0;34m=\u001b[0m \u001b[0mlog\u001b[0m\u001b[0;34m[\u001b[0m\u001b[0;34m'kT'\u001b[0m\u001b[0;34m]\u001b[0m\u001b[0;34m.\u001b[0m\u001b[0mat\u001b[0m\u001b[0;34m[\u001b[0m\u001b[0mi\u001b[0m\u001b[0;34m]\u001b[0m\u001b[0;34m.\u001b[0m\u001b[0mset\u001b[0m\u001b[0;34m(\u001b[0m\u001b[0mT\u001b[0m\u001b[0;34m)\u001b[0m\u001b[0;34m\u001b[0m\u001b[0;34m\u001b[0m\u001b[0m\n\u001b[0;32m----> 9\u001b[0;31m   \u001b[0mH\u001b[0m \u001b[0;34m=\u001b[0m \u001b[0msimulate\u001b[0m\u001b[0;34m.\u001b[0m\u001b[0mnvt_nose_hoover_invariant\u001b[0m\u001b[0;34m(\u001b[0m\u001b[0menergy_fn\u001b[0m\u001b[0;34m,\u001b[0m \u001b[0mstate\u001b[0m\u001b[0;34m,\u001b[0m \u001b[0mkT\u001b[0m\u001b[0;34m(\u001b[0m\u001b[0mt\u001b[0m\u001b[0;34m)\u001b[0m\u001b[0;34m)\u001b[0m\u001b[0;34m\u001b[0m\u001b[0;34m\u001b[0m\u001b[0m\n\u001b[0m\u001b[1;32m     10\u001b[0m   \u001b[0mlog\u001b[0m\u001b[0;34m[\u001b[0m\u001b[0;34m'H'\u001b[0m\u001b[0;34m]\u001b[0m \u001b[0;34m=\u001b[0m \u001b[0mlog\u001b[0m\u001b[0;34m[\u001b[0m\u001b[0;34m'H'\u001b[0m\u001b[0;34m]\u001b[0m\u001b[0;34m.\u001b[0m\u001b[0mat\u001b[0m\u001b[0;34m[\u001b[0m\u001b[0mi\u001b[0m\u001b[0;34m]\u001b[0m\u001b[0;34m.\u001b[0m\u001b[0mset\u001b[0m\u001b[0;34m(\u001b[0m\u001b[0mH\u001b[0m\u001b[0;34m)\u001b[0m\u001b[0;34m\u001b[0m\u001b[0;34m\u001b[0m\u001b[0m\n",
            "\u001b[0;32m<ipython-input-287-b8abcb9a53b7>\u001b[0m in \u001b[0;36m<lambda>\u001b[0;34m(t)\u001b[0m\n\u001b[1;32m     14\u001b[0m \u001b[0;31m# kT = lambda t: np.where(t < 5000.0 * dt, 0.001, 0.005)\u001b[0m\u001b[0;34m\u001b[0m\u001b[0;34m\u001b[0m\u001b[0;34m\u001b[0m\u001b[0m\n\u001b[0;32m---> 15\u001b[0;31m \u001b[0mkT\u001b[0m \u001b[0;34m=\u001b[0m \u001b[0;32mlambda\u001b[0m \u001b[0mt\u001b[0m\u001b[0;34m:\u001b[0m \u001b[0mround\u001b[0m\u001b[0;34m(\u001b[0m\u001b[0mt\u001b[0m \u001b[0;34m*\u001b[0m \u001b[0;34m(\u001b[0m \u001b[0;34m(\u001b[0m\u001b[0mmax_temp\u001b[0m \u001b[0;34m-\u001b[0m \u001b[0mmin_temp\u001b[0m\u001b[0;34m)\u001b[0m \u001b[0;34m/\u001b[0m \u001b[0msteps\u001b[0m \u001b[0;34m)\u001b[0m\u001b[0;34m,\u001b[0m \u001b[0;36m3\u001b[0m\u001b[0;34m)\u001b[0m\u001b[0;34m\u001b[0m\u001b[0;34m\u001b[0m\u001b[0m\n\u001b[0m",
            "\u001b[0;31mUnfilteredStackTrace\u001b[0m: TypeError: type DynamicJaxprTracer doesn't define __round__ method\n\nThe stack trace below excludes JAX-internal frames.\nThe preceding is the original exception that occurred, unmodified.\n\n--------------------",
            "\nThe above exception was the direct cause of the following exception:\n",
            "\u001b[0;31mTypeError\u001b[0m                                 Traceback (most recent call last)",
            "\u001b[0;32m<ipython-input-297-4f7f720f9623>\u001b[0m in \u001b[0;36m<module>\u001b[0;34m()\u001b[0m\n\u001b[1;32m      1\u001b[0m \u001b[0;34m\u001b[0m\u001b[0m\n\u001b[0;32m----> 2\u001b[0;31m \u001b[0mstate\u001b[0m\u001b[0;34m,\u001b[0m \u001b[0mlog\u001b[0m \u001b[0;34m=\u001b[0m \u001b[0mlax\u001b[0m\u001b[0;34m.\u001b[0m\u001b[0mfori_loop\u001b[0m\u001b[0;34m(\u001b[0m\u001b[0;36m0\u001b[0m\u001b[0;34m,\u001b[0m \u001b[0msteps\u001b[0m\u001b[0;34m,\u001b[0m \u001b[0mstep_fn\u001b[0m\u001b[0;34m,\u001b[0m \u001b[0;34m(\u001b[0m\u001b[0mstate\u001b[0m\u001b[0;34m,\u001b[0m \u001b[0mlog\u001b[0m\u001b[0;34m)\u001b[0m\u001b[0;34m)\u001b[0m\u001b[0;34m\u001b[0m\u001b[0;34m\u001b[0m\u001b[0m\n\u001b[0m\u001b[1;32m      3\u001b[0m \u001b[0;34m\u001b[0m\u001b[0m\n\u001b[1;32m      4\u001b[0m \u001b[0mR\u001b[0m \u001b[0;34m=\u001b[0m \u001b[0mstate\u001b[0m\u001b[0;34m.\u001b[0m\u001b[0mposition\u001b[0m\u001b[0;34m\u001b[0m\u001b[0;34m\u001b[0m\u001b[0m\n",
            "\u001b[0;32m<ipython-input-290-75a3b15c5baa>\u001b[0m in \u001b[0;36mstep_fn\u001b[0;34m(i, state_and_log)\u001b[0m\n\u001b[1;32m      7\u001b[0m   \u001b[0mT\u001b[0m \u001b[0;34m=\u001b[0m \u001b[0mquantity\u001b[0m\u001b[0;34m.\u001b[0m\u001b[0mtemperature\u001b[0m\u001b[0;34m(\u001b[0m\u001b[0mstate\u001b[0m\u001b[0;34m.\u001b[0m\u001b[0mvelocity\u001b[0m\u001b[0;34m)\u001b[0m\u001b[0;34m\u001b[0m\u001b[0;34m\u001b[0m\u001b[0m\n\u001b[1;32m      8\u001b[0m   \u001b[0mlog\u001b[0m\u001b[0;34m[\u001b[0m\u001b[0;34m'kT'\u001b[0m\u001b[0;34m]\u001b[0m \u001b[0;34m=\u001b[0m \u001b[0mlog\u001b[0m\u001b[0;34m[\u001b[0m\u001b[0;34m'kT'\u001b[0m\u001b[0;34m]\u001b[0m\u001b[0;34m.\u001b[0m\u001b[0mat\u001b[0m\u001b[0;34m[\u001b[0m\u001b[0mi\u001b[0m\u001b[0;34m]\u001b[0m\u001b[0;34m.\u001b[0m\u001b[0mset\u001b[0m\u001b[0;34m(\u001b[0m\u001b[0mT\u001b[0m\u001b[0;34m)\u001b[0m\u001b[0;34m\u001b[0m\u001b[0;34m\u001b[0m\u001b[0m\n\u001b[0;32m----> 9\u001b[0;31m   \u001b[0mH\u001b[0m \u001b[0;34m=\u001b[0m \u001b[0msimulate\u001b[0m\u001b[0;34m.\u001b[0m\u001b[0mnvt_nose_hoover_invariant\u001b[0m\u001b[0;34m(\u001b[0m\u001b[0menergy_fn\u001b[0m\u001b[0;34m,\u001b[0m \u001b[0mstate\u001b[0m\u001b[0;34m,\u001b[0m \u001b[0mkT\u001b[0m\u001b[0;34m(\u001b[0m\u001b[0mt\u001b[0m\u001b[0;34m)\u001b[0m\u001b[0;34m)\u001b[0m\u001b[0;34m\u001b[0m\u001b[0;34m\u001b[0m\u001b[0m\n\u001b[0m\u001b[1;32m     10\u001b[0m   \u001b[0mlog\u001b[0m\u001b[0;34m[\u001b[0m\u001b[0;34m'H'\u001b[0m\u001b[0;34m]\u001b[0m \u001b[0;34m=\u001b[0m \u001b[0mlog\u001b[0m\u001b[0;34m[\u001b[0m\u001b[0;34m'H'\u001b[0m\u001b[0;34m]\u001b[0m\u001b[0;34m.\u001b[0m\u001b[0mat\u001b[0m\u001b[0;34m[\u001b[0m\u001b[0mi\u001b[0m\u001b[0;34m]\u001b[0m\u001b[0;34m.\u001b[0m\u001b[0mset\u001b[0m\u001b[0;34m(\u001b[0m\u001b[0mH\u001b[0m\u001b[0;34m)\u001b[0m\u001b[0;34m\u001b[0m\u001b[0;34m\u001b[0m\u001b[0m\n\u001b[1;32m     11\u001b[0m   \u001b[0;31m# Record positions every `write_every` steps.\u001b[0m\u001b[0;34m\u001b[0m\u001b[0;34m\u001b[0m\u001b[0;34m\u001b[0m\u001b[0m\n",
            "\u001b[0;32m<ipython-input-287-b8abcb9a53b7>\u001b[0m in \u001b[0;36m<lambda>\u001b[0;34m(t)\u001b[0m\n\u001b[1;32m     13\u001b[0m \u001b[0;31m# kT = lambda t: np.where(t < 5000.0 * dt, 0.001, 0.005)\u001b[0m\u001b[0;34m\u001b[0m\u001b[0;34m\u001b[0m\u001b[0;34m\u001b[0m\u001b[0m\n\u001b[1;32m     14\u001b[0m \u001b[0;31m# kT = lambda t: np.where(t < 5000.0 * dt, 0.001, 0.005)\u001b[0m\u001b[0;34m\u001b[0m\u001b[0;34m\u001b[0m\u001b[0;34m\u001b[0m\u001b[0m\n\u001b[0;32m---> 15\u001b[0;31m \u001b[0mkT\u001b[0m \u001b[0;34m=\u001b[0m \u001b[0;32mlambda\u001b[0m \u001b[0mt\u001b[0m\u001b[0;34m:\u001b[0m \u001b[0mround\u001b[0m\u001b[0;34m(\u001b[0m\u001b[0mt\u001b[0m \u001b[0;34m*\u001b[0m \u001b[0;34m(\u001b[0m \u001b[0;34m(\u001b[0m\u001b[0mmax_temp\u001b[0m \u001b[0;34m-\u001b[0m \u001b[0mmin_temp\u001b[0m\u001b[0;34m)\u001b[0m \u001b[0;34m/\u001b[0m \u001b[0msteps\u001b[0m \u001b[0;34m)\u001b[0m\u001b[0;34m,\u001b[0m \u001b[0;36m3\u001b[0m\u001b[0;34m)\u001b[0m\u001b[0;34m\u001b[0m\u001b[0;34m\u001b[0m\u001b[0m\n\u001b[0m",
            "\u001b[0;31mTypeError\u001b[0m: type DynamicJaxprTracer doesn't define __round__ method"
          ]
        }
      ]
    },
    {
      "cell_type": "code",
      "source": [
        ""
      ],
      "metadata": {
        "id": "vlQMM3jzIAmr"
      },
      "execution_count": null,
      "outputs": []
    },
    {
      "cell_type": "code",
      "source": [
        ""
      ],
      "metadata": {
        "id": "1sLQDEYzIAOY"
      },
      "execution_count": null,
      "outputs": []
    },
    {
      "cell_type": "code",
      "source": [
        "buf_lst = []\n",
        "for i in species:\n",
        "   \n",
        "  # carbon dioxide\n",
        "  if i == 0: \n",
        "    buf_lst.append(np.array([1.5, 3.2, 0.01]))\n",
        "\n",
        "  # argon\n",
        "  elif i == 1: \n",
        "    buf_lst.append(np.array([1.0, 0.2, 0.5]))   \n",
        "\n",
        "  # oxygen\n",
        "  elif i == 2: \n",
        "    buf_lst.append(np.array([3.0, 1.2, 2.5]))   \n",
        "\n",
        "  # nitrogen\n",
        "  elif i == 3: \n",
        "    buf_lst.append(np.array([0.3, .8, 0.85 ]))        \n"
      ],
      "metadata": {
        "id": "ElaGFV7GH_wJ"
      },
      "execution_count": null,
      "outputs": []
    },
    {
      "cell_type": "code",
      "source": [
        "from jax_md.colab_tools import renderer\n",
        "\n",
        "diameters = sigma[species, species]\n",
        "\n",
        "colors = np.array(buf_lst)\n",
        "\n",
        "renderer.render(box_size,\n",
        "                {\n",
        "                    'particles': renderer.Sphere(log['position'], \n",
        "                                               diameters,\n",
        "                                               colors)   \n",
        "                                      \n",
        "                },\n",
        "                resolution=(800, 800))"
      ],
      "metadata": {
        "id": "f1u5ICr5_9me"
      },
      "execution_count": null,
      "outputs": []
    },
    {
      "cell_type": "code",
      "source": [
        ""
      ],
      "metadata": {
        "id": "Wg-Vs6ho_9yp"
      },
      "execution_count": null,
      "outputs": []
    },
    {
      "cell_type": "markdown",
      "source": [
        "(for example, at 63 degrees F, CO2 molecules crash together about 7 billion times per second)\n",
        "\n",
        "A CO2 molecule is 0.33nm diameter\n",
        "\n",
        "The diameter of an O2 molecule is 292 picometers, and that of N2 is 300 picometers"
      ],
      "metadata": {
        "id": "WCj3gPDHpRuh"
      }
    },
    {
      "cell_type": "code",
      "source": [
        ""
      ],
      "metadata": {
        "id": "5CIUORG6_9_M"
      },
      "execution_count": null,
      "outputs": []
    },
    {
      "cell_type": "code",
      "source": [
        "log['position'].shape"
      ],
      "metadata": {
        "id": "7LD3jB9j_-Lj"
      },
      "execution_count": null,
      "outputs": []
    },
    {
      "cell_type": "code",
      "source": [
        "initial_positions = log['position'][0]"
      ],
      "metadata": {
        "id": "R_X5Hp-0_-YA"
      },
      "execution_count": null,
      "outputs": []
    },
    {
      "cell_type": "code",
      "source": [
        "log['position'][1]"
      ],
      "metadata": {
        "id": "Lc-4IdxnM3bx"
      },
      "execution_count": null,
      "outputs": []
    },
    {
      "cell_type": "code",
      "source": [
        ""
      ],
      "metadata": {
        "id": "sssqCxEVdVuc"
      },
      "execution_count": null,
      "outputs": []
    },
    {
      "cell_type": "code",
      "source": [
        "# ## object details\n",
        "\n",
        "# print(\"Let review what we've done\"); print()\n",
        "\n",
        "# objs = [energy_fn, init, apply, key, R, log]\n",
        "\n",
        "# for obj in objs:\n",
        "\n",
        "#   # function deets\n",
        "#   try:\n",
        "\n",
        "#     var_nm = [key for key, value in locals().items() if value == obj]\n",
        "#     print(var_nm[0])\n",
        "\n",
        "#     print('   ', obj.__name__ ,' type -', type(obj))\n",
        "#     print('   ', str(signature(obj)))\n",
        "#     print('')\n",
        "#   except:\n",
        "#     pass\n",
        "\n",
        "#   # dict deets\n",
        "#   try:\n",
        "#     var_nm = [key for key, value in locals().items() if value == obj]\n",
        "#     print(' type -', type(obj))\n",
        "#     print('   ', str(signature(obj)))\n",
        "#     print('   ', obj.shape)\n",
        "#     print('')\n",
        "#   except:\n",
        "#     pass\n",
        "\n",
        "#   # array deets\n",
        "#   try:\n",
        "#     print(' type -', type(obj))\n",
        "#     print('   ', str(signature(obj)))\n",
        "#     print('   ', obj.shape)\n",
        "#     print('')\n",
        "#   except:\n",
        "#     pass\n",
        "\n",
        "\n",
        "\n"
      ],
      "metadata": {
        "id": "seJbv3HtkhU3"
      },
      "execution_count": null,
      "outputs": []
    },
    {
      "cell_type": "code",
      "source": [
        ""
      ],
      "metadata": {
        "id": "ruVQ9Bl5khgg"
      },
      "execution_count": null,
      "outputs": []
    },
    {
      "cell_type": "code",
      "source": [
        ""
      ],
      "metadata": {
        "id": "vlFnoWN2khse"
      },
      "execution_count": null,
      "outputs": []
    },
    {
      "cell_type": "code",
      "source": [
        ""
      ],
      "metadata": {
        "id": "6DEosYR8kh5R"
      },
      "execution_count": null,
      "outputs": []
    },
    {
      "cell_type": "code",
      "source": [
        "# '''\n",
        "# import imageio\n",
        "# import jax.numpy as jnp\n",
        "\n",
        "# def make_from_image(filename, size_in_pixels):\n",
        "#   position = []\n",
        "#   angle = []\n",
        "#   color = []\n",
        "\n",
        "#   img = imageio.imread(filename)\n",
        "\n",
        "#   scale = 2**(1/6)\n",
        "#   ratio = jnp.sqrt(1 - 0.25)\n",
        "#   for i, y in enumerate(range(0, img.shape[0], size_in_pixels)):\n",
        "#     for x in range(0, img.shape[1], size_in_pixels):\n",
        "#       r, g, b, a = img[y, x]\n",
        "#       if a == 255:\n",
        "#         hshift = size_in_pixels * (i % 2) / 2.0\n",
        "#         position += [[scale * (x + hshift) / size_in_pixels, scale * (img.shape[0] - y) / size_in_pixels * ratio]]\n",
        "#         color += [[r / 255, g / 255, b / 255]]\n",
        "#   img_size = jnp.array(img.shape[:2]).T / size_in_pixels * scale\n",
        "#   box_size = jnp.max(img_size) * 1.5\n",
        "#   position = jnp.array(position, jnp.float64) + box_size / 2.0 - img_size / 2\n",
        "#   color = jnp.array(color, jnp.float64)\n",
        "\n",
        "#   return box_size, position, color\n",
        "#   '''"
      ],
      "metadata": {
        "id": "CqxNstAedWBy"
      },
      "execution_count": null,
      "outputs": []
    },
    {
      "cell_type": "code",
      "source": [
        ""
      ],
      "metadata": {
        "id": "se-JlRqudWOC"
      },
      "execution_count": null,
      "outputs": []
    },
    {
      "cell_type": "code",
      "source": [
        "# '''\n",
        "# box, positions, colors = make_from_image('mfi_three.png', 24)\n",
        "# '''"
      ],
      "metadata": {
        "id": "W5UlzSpVdWaD"
      },
      "execution_count": null,
      "outputs": []
    },
    {
      "cell_type": "code",
      "source": [
        "# '''\n",
        "# from jax_md.colab_tools import renderer\n",
        "\n",
        "# renderer.render(box,\n",
        "#                 renderer.Disk(positions, color=colors))\n",
        "\n",
        "#                 '''"
      ],
      "metadata": {
        "id": "qW9zGeOEQ5y5"
      },
      "execution_count": null,
      "outputs": []
    },
    {
      "cell_type": "code",
      "source": [
        ""
      ],
      "metadata": {
        "id": "S2xRgY9AdWk0"
      },
      "execution_count": null,
      "outputs": []
    },
    {
      "cell_type": "code",
      "source": [
        "\n",
        "# \n",
        "# from jax_md import space\n",
        "\n",
        "# displacement_fn, shift_fn = space.periodic(box)\n",
        "# "
      ],
      "metadata": {
        "id": "kZG8YcpqTEK7"
      },
      "execution_count": null,
      "outputs": []
    },
    {
      "cell_type": "code",
      "source": [
        "\n",
        "\n",
        "# positions[0]"
      ],
      "metadata": {
        "id": "4MSSXHIh-dF1"
      },
      "execution_count": null,
      "outputs": []
    },
    {
      "cell_type": "code",
      "source": [
        "# displacement_fn(positions[0], positions[-1])"
      ],
      "metadata": {
        "id": "OHOcJN-7TdFV"
      },
      "execution_count": null,
      "outputs": []
    },
    {
      "cell_type": "code",
      "source": [
        "# shift_fn(positions[0], jnp.array([10.0, 0.0]))"
      ],
      "metadata": {
        "id": "Kh-WMJtR-Va2"
      },
      "execution_count": null,
      "outputs": []
    },
    {
      "cell_type": "markdown",
      "source": [
        "## Energy"
      ],
      "metadata": {
        "id": "i0_-6MRza4s9"
      }
    },
    {
      "cell_type": "markdown",
      "source": [
        "\"Energy\" in Physics plays a similar role to \"Loss\" in machine learning. \n",
        "\n",
        "Write down an energy function between two grains of sand, $\\epsilon(r)$. \n",
        "\n",
        "The total energy will be the sum of all pairs of energies.\n",
        "\n",
        "$$E = \\sum_{i,j} \\epsilon(r_{ij})$$\n",
        "\n",
        "where $r_{ij}$ is the distance between grain $i$ and grain $j$.\n"
      ],
      "metadata": {
        "id": "_LC7N1iaa6Wm"
      }
    },
    {
      "cell_type": "markdown",
      "source": [
        "We want to model wet sand:\n",
        "\n",
        "*   Grains are hard (no interpenetration).\n",
        "*   Grains stick together a little bit.\n",
        "*   Grains far away from one another don't notice each other."
      ],
      "metadata": {
        "id": "1-wq2eV5lc7J"
      }
    },
    {
      "cell_type": "code",
      "source": [
        "# from jax_md import energy\n",
        "\n",
        "# rs = jnp.linspace(0.5, 2.5)\n",
        "# plt.plot(rs, energy.lennard_jones(rs))\n",
        "\n",
        "# plt.ylim([-1, 1])\n",
        "# plt.xlim([0, 2.5])\n",
        "# plt.xlabel('$r_{ij}$')\n",
        "# plt.ylabel('$\\\\epsilon$')"
      ],
      "metadata": {
        "id": "cBf3flaocGWN"
      },
      "execution_count": null,
      "outputs": []
    },
    {
      "cell_type": "code",
      "source": [
        "# sand_energy = energy.lennard_jones_pair(displacement_fn)\n",
        "\n",
        "# sand_energy(positions)"
      ],
      "metadata": {
        "id": "jlssetnHTgv7"
      },
      "execution_count": null,
      "outputs": []
    },
    {
      "cell_type": "markdown",
      "source": [
        "## Simulate"
      ],
      "metadata": {
        "id": "NZuAjcdvdB0O"
      }
    },
    {
      "cell_type": "code",
      "source": [
        "# from jax import random\n",
        "\n",
        "# simulation_steps = 10000\n",
        "# write_every = 50\n",
        "# key = random.PRNGKey(1)"
      ],
      "metadata": {
        "id": "p-pdHb6umh9v"
      },
      "execution_count": null,
      "outputs": []
    },
    {
      "cell_type": "code",
      "source": [
        "# from jax_md import simulate\n",
        "# from jax import jit\n",
        "\n",
        "# init_fn, step_fn = simulate.nvt_langevin(sand_energy, shift_fn, dt=5e-3, kT=0.0, gamma=1e-2)\n",
        "\n",
        "# sand = init_fn(key, positions)\n",
        "# step_fn = jit(step_fn)"
      ],
      "metadata": {
        "id": "wvygEvsyUAxQ"
      },
      "execution_count": null,
      "outputs": []
    },
    {
      "cell_type": "code",
      "source": [
        "\n",
        "# trajectory = []\n",
        "\n",
        "# for i in range(simulation_steps):\n",
        "#  if i % write_every == 0:\n",
        "#    trajectory += [sand.position]\n",
        "    \n",
        "#  sand = step_fn(sand)\n",
        "\n",
        "# trajectory = jnp.stack(trajectory)"
      ],
      "metadata": {
        "id": "fznTbnY8UN17"
      },
      "execution_count": null,
      "outputs": []
    },
    {
      "cell_type": "code",
      "source": [
        "# renderer.render(box, renderer.Disk(trajectory, color=colors))"
      ],
      "metadata": {
        "id": "VDVSoyliUaPx"
      },
      "execution_count": null,
      "outputs": []
    }
  ]
}
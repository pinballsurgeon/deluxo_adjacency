{
  "nbformat": 4,
  "nbformat_minor": 0,
  "metadata": {
    "colab": {
      "name": "creativeLadders.ipynb",
      "provenance": [],
      "collapsed_sections": [],
      "authorship_tag": "ABX9TyPyEPR9hOZfPGAkJmhb+LGK",
      "include_colab_link": true
    },
    "kernelspec": {
      "name": "python3",
      "display_name": "Python 3"
    },
    "language_info": {
      "name": "python"
    }
  },
  "cells": [
    {
      "cell_type": "markdown",
      "metadata": {
        "id": "view-in-github",
        "colab_type": "text"
      },
      "source": [
        "<a href=\"https://colab.research.google.com/github/pinballsurgeon/sweeping_analysis/blob/main/creativeLadders.ipynb\" target=\"_parent\"><img src=\"https://colab.research.google.com/assets/colab-badge.svg\" alt=\"Open In Colab\"/></a>"
      ]
    },
    {
      "cell_type": "markdown",
      "source": [
        "#creative ladders leaping"
      ],
      "metadata": {
        "id": "_e4rcUfjRzih"
      }
    },
    {
      "cell_type": "code",
      "source": [
        "# install openai\n",
        "!pip install openai"
      ],
      "metadata": {
        "collapsed": true,
        "id": "Vx_fS63HRfTa"
      },
      "execution_count": 5,
      "outputs": []
    },
    {
      "cell_type": "code",
      "execution_count": 21,
      "metadata": {
        "id": "KOzyKSP1Orit"
      },
      "outputs": [],
      "source": [
        "import os\n",
        "import openai\n",
        "import json\n",
        "\n",
        "\n",
        "# supply openai api key via file \n",
        "openai.api_key = open('openai_key').read()\n",
        "\n",
        "experiment_name = 'movie_embedding_v1'\n",
        "input_csv = \"rando_movies.csv\"\n",
        "\n",
        "# establish experiment metastore\n",
        "meta_dict = {\n",
        "    'experiment': experiment_name\n",
        "  , 'input_csv' : input_csv\n",
        "  , 'output_csv' : os.path.splitext(input_csv)[0]+'_out.csv'\n",
        "  , 'batch_size' : 10\n",
        " \n",
        "            }\n",
        "\n"
      ]
    },
    {
      "cell_type": "code",
      "source": [
        ""
      ],
      "metadata": {
        "id": "CSWy-X6EU5FN"
      },
      "execution_count": 21,
      "outputs": []
    },
    {
      "cell_type": "code",
      "source": [
        ""
      ],
      "metadata": {
        "id": "xZBJOUWxU5zR"
      },
      "execution_count": null,
      "outputs": []
    },
    {
      "cell_type": "code",
      "source": [
        ""
      ],
      "metadata": {
        "id": "mpl52C_rU5_6"
      },
      "execution_count": null,
      "outputs": []
    }
  ]
}
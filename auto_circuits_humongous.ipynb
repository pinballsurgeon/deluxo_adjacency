{
  "nbformat": 4,
  "nbformat_minor": 0,
  "metadata": {
    "colab": {
      "name": "auto_circuits_humongous.ipynb",
      "provenance": [],
      "collapsed_sections": [
        "nqPSJ6Izm5GZ",
        "EgOLMHAQwd-S",
        "TJlbByAk3buT"
      ],
      "authorship_tag": "ABX9TyPD0WbcvpgYFoWCGOI7P1Cn",
      "include_colab_link": true
    },
    "kernelspec": {
      "name": "python3",
      "display_name": "Python 3"
    },
    "language_info": {
      "name": "python"
    },
    "accelerator": "GPU",
    "gpuClass": "standard"
  },
  "cells": [
    {
      "cell_type": "markdown",
      "metadata": {
        "id": "view-in-github",
        "colab_type": "text"
      },
      "source": [
        "<a href=\"https://colab.research.google.com/github/pinballsurgeon/deluxo_adjacency/blob/main/auto_circuits_humongous.ipynb\" target=\"_parent\"><img src=\"https://colab.research.google.com/assets/colab-badge.svg\" alt=\"Open In Colab\"/></a>"
      ]
    },
    {
      "cell_type": "markdown",
      "source": [
        "# Auto Quantum Circuits\n",
        "#### dehls - pinballsurgeon@gmail.com"
      ],
      "metadata": {
        "id": "dhwB9OhHwgvh"
      }
    },
    {
      "cell_type": "markdown",
      "source": [
        "###Installs"
      ],
      "metadata": {
        "id": "nqPSJ6Izm5GZ"
      }
    },
    {
      "cell_type": "code",
      "execution_count": 71,
      "metadata": {
        "id": "kL3NaosJFyiz"
      },
      "outputs": [],
      "source": [
        "# tensorflow quantum\n",
        "!pip install --quiet tensorflow_quantum\n",
        "\n",
        "# bloch sphere\n",
        "!pip install --quiet qutip"
      ]
    },
    {
      "cell_type": "markdown",
      "source": [
        "###Imports"
      ],
      "metadata": {
        "id": "EgOLMHAQwd-S"
      }
    },
    {
      "cell_type": "code",
      "source": [
        "### standard dan-dards\n",
        "import cirq\n",
        "import sympy\n",
        "import tensorflow\n",
        "import numpy\n",
        "import gc\n",
        "import random\n",
        "import gdown\n",
        "import shutil\n",
        "import os\n",
        "from os import listdir\n",
        "import cv2\n",
        "from tensorflow.keras.utils import img_to_array\n",
        "\n",
        "\n",
        "# metric plotting\n",
        "%matplotlib inline\n",
        "from matplotlib import pyplot\n",
        "from matplotlib.pyplot import figure\n",
        "\n",
        "# tf quantum\n",
        "import tensorflow_quantum\n",
        "\n",
        "# circuit/operations visualizers\n",
        "import qutip\n",
        "from cirq.contrib.svg import SVGCircuit"
      ],
      "metadata": {
        "id": "DUlhaeoeGPop"
      },
      "execution_count": 72,
      "outputs": []
    },
    {
      "cell_type": "markdown",
      "source": [
        "###Experiment configuration and hyper-parameters"
      ],
      "metadata": {
        "id": "T3MEaAhvLPiZ"
      }
    },
    {
      "cell_type": "code",
      "source": [
        "### Define your quantum machine learning experiment, the values here are optimized for best 'Colab free-tier' experience\n",
        "\n",
        "# which dataset do you want to predict against?\n",
        "# 1 = James Webb vs. Hubble sample classification\n",
        "# 2 = \n",
        "# 3 = MNIST written numerical classification\n",
        "dataset_select = 1\n",
        "\n",
        "\n",
        "# qubit grid sizes - how big do you want your circuit's grid size range to be\n",
        "experiment_grid_sizes = [1, 2, 4]\n",
        "\n",
        "# experiment count - how many arrangements of gates\n",
        "experiment_runs = 5\n",
        "\n",
        "# gate combination range - how many, or few, combination of gates per experiemental run\n",
        "min_gate_cobination = 1\n",
        "max_gate_cobination = 4\n",
        "\n",
        "# cirq gates to hyperparameterize\n",
        "gate_mix = [cirq.CZ\n",
        "           ,cirq.CNOT\n",
        "           ,cirq.XX\n",
        "           ,cirq.ISWAP\n",
        "           ,cirq.ZZ\n",
        "           ,cirq.SWAP\n",
        "           ,cirq.YY]\n",
        "\n",
        "\n",
        "# learning parameters\n",
        "EPOCHS = 8\n",
        "BATCH_SIZE = 25\n",
        "ADAM_OPTIMIZER_LEARNING_RATE = 0.11\n",
        "\n",
        "# for MINST binary classifier, pick a single digit for TARGET and a single digit for JUNK\n",
        "target_mnist_digit = 3\n",
        "junk_mnist_digit = 4\n",
        "\n"
      ],
      "metadata": {
        "id": "3kA2XNoJLOki"
      },
      "execution_count": 73,
      "outputs": []
    },
    {
      "cell_type": "markdown",
      "source": [
        "###Helper Functions"
      ],
      "metadata": {
        "id": "TJlbByAk3buT"
      }
    },
    {
      "cell_type": "code",
      "source": [
        "### Initialize circuit - given a data and out qubit structure, build dynamic circuit\n",
        "class circuit_struct():\n",
        "    def __init__(self, data_qubits, readout):\n",
        "        self.data_qubits = data_qubits\n",
        "        self.readout = readout\n",
        "    \n",
        "    def add_layer(self, circuit, gate, prefix):\n",
        "        for i, qubit in enumerate(self.data_qubits):\n",
        "            symbol = sympy.Symbol(prefix + '-' + str(i))\n",
        "            circuit.append(gate(qubit, self.readout)**symbol)"
      ],
      "metadata": {
        "id": "nvcBT4RIGP3Y"
      },
      "execution_count": 74,
      "outputs": []
    },
    {
      "cell_type": "code",
      "source": [
        "### Populate circuit with gates - given a combination of qubit grid size and gate population, build \n",
        "def create_quantum_model(gridSize, hyperGates):\n",
        "\n",
        "    # cirq\n",
        "    data_qubits = cirq.GridQubit.rect(gridSize, gridSize)\n",
        "    readout = cirq.GridQubit(-1, -1)         \n",
        "    circuit = cirq.Circuit()\n",
        "    \n",
        "    # prepare the readout qubit\n",
        "    circuit.append(cirq.X(readout))\n",
        "    circuit.append(cirq.H(readout))\n",
        "    \n",
        "    # create qubit\n",
        "    builder = circuit_struct(\n",
        "        data_qubits = data_qubits,\n",
        "        readout=readout)\n",
        "\n",
        "    # buid layers\n",
        "    for gate in hyperGates:\n",
        "\n",
        "      # add specified gate and name\n",
        "      builder.add_layer(circuit, gate, str(gate))\n",
        "   \n",
        "    # prepare the readout qubit\n",
        "    circuit.append(cirq.H(readout))\n",
        "\n",
        "    return circuit, cirq.Z(readout)"
      ],
      "metadata": {
        "id": "c_eitDLdGQE5"
      },
      "execution_count": 75,
      "outputs": []
    },
    {
      "cell_type": "code",
      "source": [
        "### image pixels to qubit\n",
        "def convert_to_circuit(image):\n",
        "\n",
        "    # flatten array\n",
        "    values = numpy.ndarray.flatten(image)\n",
        "    \n",
        "    # establish 4x4 circuit\n",
        "    qubits = cirq.GridQubit.rect(4, 4)\n",
        "    circuit = cirq.Circuit()\n",
        "\n",
        "    # \n",
        "    for i, value in enumerate(values):\n",
        "        if value:\n",
        "            circuit.append(cirq.X(qubits[i]))\n",
        "    return circuit"
      ],
      "metadata": {
        "id": "ISAOn5Aa-CXb"
      },
      "execution_count": 76,
      "outputs": []
    },
    {
      "cell_type": "code",
      "source": [
        "### this example is for binary classification, so only keep one MNIST class/digit as target, and then one other as NON-TARGET/JUNK\n",
        "def binary_filter(x, y):\n",
        "\n",
        "    # identify rows that will be kept\n",
        "    keep = (y == target_mnist_digit) | (y == junk_mnist_digit)\n",
        "    \n",
        "    # remove excess\n",
        "    x, y = x[keep], y[keep]\n",
        "\n",
        "    # establish target 1/0\n",
        "    y = y == target_mnist_digit\n",
        " \n",
        "    return x,y"
      ],
      "metadata": {
        "id": "A68jGN3KPo5F"
      },
      "execution_count": 77,
      "outputs": []
    },
    {
      "cell_type": "code",
      "source": [
        "### reveal experiment results per run\n",
        "def experiment_reveal(log, run):\n",
        "\n",
        "  fig, (ax1, ax2) = pyplot.subplots(2)\n",
        "  pyplot.title('MSE Loss and Accuracy of %s gated Parametrized Quantum Circuit' % (log[run]['gates']), fontdict = {'fontsize' :16})\n",
        "\n",
        "  ax1.plot(log[run]['history'].history['loss'])\n",
        "  ax1.plot(log[run]['history'].history['val_loss'])\n",
        "  ax1.set_ylabel('MSE')\n",
        "\n",
        "  ax2.plot(log[run]['history'].history['accuracy'])\n",
        "  ax2.plot(log[run]['history'].history['val_accuracy'])\n",
        "  ax2.set_ylabel('Accuracy')\n",
        "  ax2.set_xlabel('Epochs')\n",
        "  \n",
        "  fig = pyplot.gcf()\n",
        "  fig.set_size_inches(12.5, 7.5)\n",
        "\n",
        "  return log[run]['circuit']\n"
      ],
      "metadata": {
        "id": "oukNDFyXTTec"
      },
      "execution_count": 78,
      "outputs": []
    },
    {
      "cell_type": "markdown",
      "source": [
        "###Build experiment circuits and gates"
      ],
      "metadata": {
        "id": "Yhv6ZWH4mcpf"
      }
    },
    {
      "cell_type": "code",
      "source": [
        "### build experiment\n",
        "\n",
        "experiment_design = []\n",
        "\n",
        "# given experiement design parameters, build experiment(s)\n",
        "for run in range(1, experiment_runs+1):\n",
        "\n",
        "  # gate combination\n",
        "  gate_combination = random.choices(gate_mix, k=random.randrange(min_gate_cobination, max_gate_cobination))\n",
        "\n",
        "  # print random experiment gate participants\n",
        "  print('Experiment %d Gates:' % run); print(gate_combination); print('')\n",
        "\n",
        "  # build experiment\n",
        "  experiment_design.append(gate_combination)\n"
      ],
      "metadata": {
        "colab": {
          "base_uri": "https://localhost:8080/"
        },
        "id": "BVngC51whQjI",
        "outputId": "4e8fa3bd-99f9-4039-f56f-2e63ab27b94b"
      },
      "execution_count": 79,
      "outputs": [
        {
          "output_type": "stream",
          "name": "stdout",
          "text": [
            "Experiment 1 Gates:\n",
            "[cirq.SWAP]\n",
            "\n",
            "Experiment 2 Gates:\n",
            "[cirq.SWAP, cirq.CZ]\n",
            "\n",
            "Experiment 3 Gates:\n",
            "[cirq.YY, cirq.YY, cirq.CNOT]\n",
            "\n",
            "Experiment 4 Gates:\n",
            "[cirq.SWAP, cirq.XX, cirq.YY]\n",
            "\n",
            "Experiment 5 Gates:\n",
            "[cirq.SWAP, cirq.CNOT, cirq.SWAP]\n",
            "\n"
          ]
        }
      ]
    },
    {
      "cell_type": "markdown",
      "source": [
        "###Load Dataset(s)"
      ],
      "metadata": {
        "id": "muRPuaO3S4EZ"
      }
    },
    {
      "cell_type": "code",
      "source": [
        "### download 'james webb vs hubble' image data source \n",
        "\n",
        "# remote directory\n",
        "paths = '/content/tele_source'\n",
        "\n",
        "# if directory exists, delete as to make room\n",
        "if os.path.isdir(paths):\n",
        "  shutil.rmtree(paths, ignore_errors=True)\n",
        "\n",
        "# download drive share\n",
        "gdown.download_folder(\"https://drive.google.com/drive/folders/1Ae4sZyMvJ02ht5O6UEBCpWg2R1e_Ihr3?usp=sharing\", quiet=True)"
      ],
      "metadata": {
        "colab": {
          "base_uri": "https://localhost:8080/"
        },
        "id": "qZbwqvM-Y2NK",
        "outputId": "fb6eee2f-c97b-4ced-9243-fc291fc2dba3"
      },
      "execution_count": 80,
      "outputs": [
        {
          "output_type": "execute_result",
          "data": {
            "text/plain": [
              "['/content/tele_source/hb_1.bmp',\n",
              " '/content/tele_source/hb_2.bmp',\n",
              " '/content/tele_source/hb_3.bmp',\n",
              " '/content/tele_source/hb_4.bmp',\n",
              " '/content/tele_source/hb_5.bmp',\n",
              " '/content/tele_source/hb_6.bmp',\n",
              " '/content/tele_source/hb_7.bmp',\n",
              " '/content/tele_source/hb_8.bmp',\n",
              " '/content/tele_source/hb_9.bmp',\n",
              " '/content/tele_source/hb_10.bmp',\n",
              " '/content/tele_source/hb_11.bmp',\n",
              " '/content/tele_source/hb_12.bmp',\n",
              " '/content/tele_source/hb_13.bmp',\n",
              " '/content/tele_source/hb_14.bmp',\n",
              " '/content/tele_source/hb_15.bmp',\n",
              " '/content/tele_source/hb_16.bmp',\n",
              " '/content/tele_source/hb_17.bmp',\n",
              " '/content/tele_source/hb_18.bmp',\n",
              " '/content/tele_source/hb_19.bmp',\n",
              " '/content/tele_source/hb_20.bmp',\n",
              " '/content/tele_source/jw_1.bmp',\n",
              " '/content/tele_source/jw_2.bmp',\n",
              " '/content/tele_source/jw_3.bmp',\n",
              " '/content/tele_source/jw_4.bmp',\n",
              " '/content/tele_source/jw_5.bmp',\n",
              " '/content/tele_source/jw_6.bmp',\n",
              " '/content/tele_source/jw_7.bmp',\n",
              " '/content/tele_source/jw_8.bmp',\n",
              " '/content/tele_source/jw_9.bmp',\n",
              " '/content/tele_source/jw_10.bmp',\n",
              " '/content/tele_source/jw_11.bmp',\n",
              " '/content/tele_source/jw_12.bmp',\n",
              " '/content/tele_source/jw_13.bmp',\n",
              " '/content/tele_source/jw_14.bmp',\n",
              " '/content/tele_source/jw_15.bmp',\n",
              " '/content/tele_source/jw_16.bmp',\n",
              " '/content/tele_source/jw_17.bmp',\n",
              " '/content/tele_source/jw_18.bmp',\n",
              " '/content/tele_source/jw_19.bmp',\n",
              " '/content/tele_source/jw_20.bmp']"
            ]
          },
          "metadata": {},
          "execution_count": 80
        }
      ]
    },
    {
      "cell_type": "code",
      "source": [
        "### ingest and process dehls created datasets\n",
        "imagePaths = [paths +'/' + f for f in listdir(paths)]\n",
        "data = []\n",
        "labels = []\n",
        "\n",
        "imagePaths = sorted(list(imagePaths))\n",
        "print(imagePaths)\n",
        "\n",
        "# loop over the input images\n",
        "for imagePath in imagePaths:\n",
        "    # load the image, pre-process it, and store it in the data list\n",
        "    image = cv2.imread(imagePath)\n",
        "    image = cv2.cvtColor(image, cv2.COLOR_BGR2GRAY)\n",
        "    image = cv2.resize(image, (28, 28))\n",
        "    image = img_to_array(image)\n",
        "    data.append(image)\n",
        "\n",
        "    if 'hb_' in imagePath:\n",
        "      labels.append(0)\n",
        "    else:\n",
        "      labels.append(1)\n",
        "\n",
        "data = numpy.array(data, dtype=\"float\") / 255.0"
      ],
      "metadata": {
        "colab": {
          "base_uri": "https://localhost:8080/"
        },
        "id": "Ce7ufFJ6IaQ6",
        "outputId": "3a58a5ea-2dcd-42ad-afbe-63d0885ac023"
      },
      "execution_count": 81,
      "outputs": [
        {
          "output_type": "stream",
          "name": "stdout",
          "text": [
            "['/content/tele_source/hb_1.bmp', '/content/tele_source/hb_10.bmp', '/content/tele_source/hb_11.bmp', '/content/tele_source/hb_12.bmp', '/content/tele_source/hb_13.bmp', '/content/tele_source/hb_14.bmp', '/content/tele_source/hb_15.bmp', '/content/tele_source/hb_16.bmp', '/content/tele_source/hb_17.bmp', '/content/tele_source/hb_18.bmp', '/content/tele_source/hb_19.bmp', '/content/tele_source/hb_2.bmp', '/content/tele_source/hb_20.bmp', '/content/tele_source/hb_3.bmp', '/content/tele_source/hb_4.bmp', '/content/tele_source/hb_5.bmp', '/content/tele_source/hb_6.bmp', '/content/tele_source/hb_7.bmp', '/content/tele_source/hb_8.bmp', '/content/tele_source/hb_9.bmp', '/content/tele_source/jw_1.bmp', '/content/tele_source/jw_10.bmp', '/content/tele_source/jw_11.bmp', '/content/tele_source/jw_12.bmp', '/content/tele_source/jw_13.bmp', '/content/tele_source/jw_14.bmp', '/content/tele_source/jw_15.bmp', '/content/tele_source/jw_16.bmp', '/content/tele_source/jw_17.bmp', '/content/tele_source/jw_18.bmp', '/content/tele_source/jw_19.bmp', '/content/tele_source/jw_2.bmp', '/content/tele_source/jw_20.bmp', '/content/tele_source/jw_3.bmp', '/content/tele_source/jw_4.bmp', '/content/tele_source/jw_5.bmp', '/content/tele_source/jw_6.bmp', '/content/tele_source/jw_7.bmp', '/content/tele_source/jw_8.bmp', '/content/tele_source/jw_9.bmp']\n"
          ]
        }
      ]
    },
    {
      "cell_type": "code",
      "source": [
        "### establish dataset, here the MNIST numerical yada-yada\n",
        "\n",
        "# 1. import mnist digits\n",
        "(x_train, y_train), (x_test, y_test) = tensorflow.keras.datasets.mnist.load_data()\n",
        "\n",
        "# 2. rescale images to [0 - 1]\n",
        "x_train, x_test = x_train[..., numpy.newaxis]/255.0, x_test[..., numpy.newaxis]/255.0\n",
        "\n",
        "# 3. quantum experiment is binary classification, so only keep two classes/digit examples\n",
        "x_train, y_train = binary_filter(x_train, y_train)\n",
        "x_test, y_test = binary_filter(x_test, y_test)\n",
        "\n",
        "# change dataset from which to predict against\n",
        "if (dataset_select == 1):       # james webb vs. hubble\n",
        "  x_train = data\n",
        "  x_test = data\n",
        "  y_train = numpy.array(labels)\n",
        "  y_test = numpy.array(labels)\n",
        "\n",
        "\n",
        "# 4. resize image\n",
        "x_train_small = tensorflow.image.resize(x_train, (4,4)).numpy()\n",
        "x_test_small = tensorflow.image.resize(x_test, (4,4)).numpy()\n",
        "\n",
        "# 5. convert circuit pixels/cells into individual qubits\n",
        "x_train_circ = [convert_to_circuit(x) for x in x_train_small]\n",
        "x_test_circ = [convert_to_circuit(x) for x in x_test_small]\n",
        "\n",
        "# 6. convert to qubit imagery into tensors\n",
        "x_train_tfcirc = tensorflow_quantum.convert_to_tensor(x_train_circ)\n",
        "x_test_tfcirc = tensorflow_quantum.convert_to_tensor(x_test_circ)"
      ],
      "metadata": {
        "id": "vHHqySURQyHH"
      },
      "execution_count": 82,
      "outputs": []
    },
    {
      "cell_type": "markdown",
      "source": [
        "###Tensorflow quantum network"
      ],
      "metadata": {
        "id": "e672kQ6BTFgn"
      }
    },
    {
      "cell_type": "code",
      "source": [
        "### tensorflow callbacks, here specifically garbage collection as to reduce memory load below colab free tier\n",
        "class mem_release(tensorflow.keras.callbacks.Callback):\n",
        "    def on_epoch_end(self, epoch, logs=None):\n",
        "        gc.collect()"
      ],
      "metadata": {
        "id": "UsvRncZpRsSN"
      },
      "execution_count": 84,
      "outputs": []
    },
    {
      "cell_type": "code",
      "source": [
        "### tensorflow quantum experimental gate combinatorial iterator \n",
        "\n",
        "# keep track of experiment conditions and results\n",
        "experiment_count = 0\n",
        "experiment_log = {}\n",
        "\n",
        "\n",
        "for gates in experiment_design:\n",
        "  for gridSize_int in experiment_grid_sizes:\n",
        "\n",
        "\n",
        "    # initialize quantum circuit\n",
        "    model_circuit, model_readout = create_quantum_model(gridSize_int, gates)\n",
        "\n",
        "\n",
        "    # build tf model\n",
        "    model = tensorflow.keras.Sequential([\n",
        "        \n",
        "        # input data circuit as tf.string\n",
        "        tensorflow.keras.layers.Input(shape=(), dtype=tensorflow.string),\n",
        "\n",
        "        # parameterized quantum circuit\n",
        "        tensorflow_quantum.layers.PQC(model_circuit, model_readout),])\n",
        "\n",
        "\n",
        "    # compile model and determine loss / optimizer approach, for this introductory we'll focus on memory\n",
        "    model.compile(\n",
        "\n",
        "        # loss, mean square error\n",
        "        loss=tensorflow.keras.losses.binary_crossentropy,\n",
        "\n",
        "        # optimizer, Adam with specifiable learning rate\n",
        "        optimizer=tensorflow.keras.optimizers.Adam(learning_rate=ADAM_OPTIMIZER_LEARNING_RATE),\n",
        "      \n",
        "        # metrics, accuracy\n",
        "        metrics=[tensorflow.keras.metrics.Accuracy()]\n",
        "      )\n",
        "    \n",
        "    # display model parameters\n",
        "    print(''); print(''.join(str(gates))); print(model.summary())\n",
        "\n",
        "    # train model for experiment, define training and validation populations, callbacks ect.\n",
        "    experiment_history = model.fit(\n",
        "        x_train_tfcirc,\n",
        "        y_train,\n",
        "        batch_size=BATCH_SIZE,\n",
        "        epochs=EPOCHS,\n",
        "        verbose=1,\n",
        "        callbacks=[mem_release()],\n",
        "        validation_data=(x_test_tfcirc, y_test)\n",
        "        )\n",
        "\n",
        "    # after training, evaluate final model representation against test set\n",
        "    experiment_results = model.evaluate(x_test_tfcirc, y_test)\n",
        "\n",
        "    # record experiment\n",
        "    experiment_count += 1\n",
        "    experiment_log[experiment_count] = {'circuit' : model_circuit       \n",
        "                                       ,'gates'   : gates\n",
        "                                       ,'history' : experiment_history\n",
        "                                       ,'results' : experiment_results }\n",
        "    "
      ],
      "metadata": {
        "colab": {
          "base_uri": "https://localhost:8080/",
          "height": 1000
        },
        "id": "dPcJoEuGGgoN",
        "outputId": "4e671ed0-e65d-460d-872c-ebd73cb0d4f5"
      },
      "execution_count": 85,
      "outputs": [
        {
          "output_type": "stream",
          "name": "stdout",
          "text": [
            "\n",
            "[cirq.SWAP]\n",
            "Model: \"sequential_7\"\n",
            "_________________________________________________________________\n",
            " Layer (type)                Output Shape              Param #   \n",
            "=================================================================\n",
            " pqc_7 (PQC)                 (None, 1)                 1         \n",
            "                                                                 \n",
            "=================================================================\n",
            "Total params: 1\n",
            "Trainable params: 1\n",
            "Non-trainable params: 0\n",
            "_________________________________________________________________\n",
            "None\n",
            "Epoch 1/8\n",
            "2/2 [==============================] - 2s 1s/step - loss: 4.2419 - accuracy: 0.2000 - val_loss: 5.0131 - val_accuracy: 0.1500\n",
            "Epoch 2/8\n",
            "2/2 [==============================] - 2s 995ms/step - loss: 3.4706 - accuracy: 0.2500 - val_loss: 5.0131 - val_accuracy: 0.1500\n",
            "Epoch 3/8\n",
            "2/2 [==============================] - 2s 930ms/step - loss: 3.4706 - accuracy: 0.2500 - val_loss: 5.0131 - val_accuracy: 0.1500\n",
            "Epoch 4/8\n",
            "2/2 [==============================] - 2s 1s/step - loss: 3.4706 - accuracy: 0.2500 - val_loss: 5.0131 - val_accuracy: 0.1500\n",
            "Epoch 5/8\n",
            "2/2 [==============================] - 2s 1s/step - loss: 3.8562 - accuracy: 0.2250 - val_loss: 5.0131 - val_accuracy: 0.1500\n",
            "Epoch 6/8\n",
            "2/2 [==============================] - 2s 1s/step - loss: 4.2419 - accuracy: 0.2250 - val_loss: 5.0131 - val_accuracy: 0.1500\n",
            "Epoch 7/8\n",
            "2/2 [==============================] - 2s 951ms/step - loss: 3.4706 - accuracy: 0.2500 - val_loss: 5.0131 - val_accuracy: 0.1500\n",
            "Epoch 8/8\n",
            "2/2 [==============================] - 2s 1s/step - loss: 3.0850 - accuracy: 0.3000 - val_loss: 5.0131 - val_accuracy: 0.1500\n",
            "2/2 [==============================] - 0s 27ms/step - loss: 5.7844 - accuracy: 0.1250\n",
            "\n",
            "[cirq.SWAP]\n",
            "Model: \"sequential_8\"\n",
            "_________________________________________________________________\n",
            " Layer (type)                Output Shape              Param #   \n",
            "=================================================================\n",
            " pqc_8 (PQC)                 (None, 1)                 4         \n",
            "                                                                 \n",
            "=================================================================\n",
            "Total params: 4\n",
            "Trainable params: 4\n",
            "Non-trainable params: 0\n",
            "_________________________________________________________________\n",
            "None\n",
            "Epoch 1/8\n",
            "2/2 [==============================] - 4s 2s/step - loss: 2.3177 - accuracy: 0.0500 - val_loss: 1.4818 - val_accuracy: 0.0500\n",
            "Epoch 2/8\n",
            "2/2 [==============================] - 2s 1s/step - loss: 1.0059 - accuracy: 0.1000 - val_loss: 1.3748 - val_accuracy: 0.0000e+00\n",
            "Epoch 3/8\n",
            "2/2 [==============================] - 2s 1s/step - loss: 1.2654 - accuracy: 0.0000e+00 - val_loss: 1.3961 - val_accuracy: 0.0250\n",
            "Epoch 4/8\n",
            "2/2 [==============================] - 2s 1s/step - loss: 1.9756 - accuracy: 0.0500 - val_loss: 2.0110 - val_accuracy: 0.0250\n",
            "Epoch 5/8\n",
            "2/2 [==============================] - 2s 1s/step - loss: 1.8555 - accuracy: 0.0250 - val_loss: 2.0118 - val_accuracy: 0.0250\n",
            "Epoch 6/8\n",
            "2/2 [==============================] - 2s 1s/step - loss: 0.7729 - accuracy: 0.1250 - val_loss: 2.0182 - val_accuracy: 0.0250\n",
            "Epoch 7/8\n",
            "2/2 [==============================] - 2s 1s/step - loss: 2.2833 - accuracy: 0.0250 - val_loss: 2.0266 - val_accuracy: 0.0250\n",
            "Epoch 8/8\n",
            "2/2 [==============================] - 2s 1s/step - loss: 1.2503 - accuracy: 0.0500 - val_loss: 2.0260 - val_accuracy: 0.0250\n",
            "2/2 [==============================] - 0s 66ms/step - loss: 2.7972 - accuracy: 0.0250\n",
            "\n",
            "[cirq.SWAP]\n",
            "Model: \"sequential_9\"\n",
            "_________________________________________________________________\n",
            " Layer (type)                Output Shape              Param #   \n",
            "=================================================================\n",
            " pqc_9 (PQC)                 (None, 1)                 16        \n",
            "                                                                 \n",
            "=================================================================\n",
            "Total params: 16\n",
            "Trainable params: 16\n",
            "Non-trainable params: 0\n",
            "_________________________________________________________________\n",
            "None\n",
            "Epoch 1/8\n",
            "2/2 [==============================] - 5s 2s/step - loss: 5.5077 - accuracy: 0.0000e+00 - val_loss: 4.2114 - val_accuracy: 0.0000e+00\n",
            "Epoch 2/8\n",
            "2/2 [==============================] - 3s 2s/step - loss: 4.1452 - accuracy: 0.0000e+00 - val_loss: 3.5583 - val_accuracy: 0.0000e+00\n",
            "Epoch 3/8\n",
            "2/2 [==============================] - 3s 2s/step - loss: 3.4822 - accuracy: 0.0000e+00 - val_loss: 3.3113 - val_accuracy: 0.0000e+00\n",
            "Epoch 4/8\n",
            "2/2 [==============================] - 3s 2s/step - loss: 3.3106 - accuracy: 0.0000e+00 - val_loss: 2.9810 - val_accuracy: 0.0000e+00\n",
            "Epoch 5/8\n",
            "2/2 [==============================] - 4s 2s/step - loss: 2.6617 - accuracy: 0.0000e+00 - val_loss: 2.3239 - val_accuracy: 0.0000e+00\n",
            "Epoch 6/8\n",
            "2/2 [==============================] - 3s 2s/step - loss: 2.6130 - accuracy: 0.0000e+00 - val_loss: 2.3104 - val_accuracy: 0.0000e+00\n",
            "Epoch 7/8\n",
            "2/2 [==============================] - 3s 2s/step - loss: 1.9449 - accuracy: 0.0000e+00 - val_loss: 3.4883 - val_accuracy: 0.0000e+00\n",
            "Epoch 8/8\n",
            "2/2 [==============================] - 3s 2s/step - loss: 3.4810 - accuracy: 0.0000e+00 - val_loss: 3.5148 - val_accuracy: 0.0000e+00\n",
            "2/2 [==============================] - 0s 105ms/step - loss: 3.5148 - accuracy: 0.0000e+00\n",
            "\n",
            "[cirq.SWAP, cirq.CZ]\n",
            "Model: \"sequential_10\"\n",
            "_________________________________________________________________\n",
            " Layer (type)                Output Shape              Param #   \n",
            "=================================================================\n",
            " pqc_10 (PQC)                (None, 1)                 2         \n",
            "                                                                 \n",
            "=================================================================\n",
            "Total params: 2\n",
            "Trainable params: 2\n",
            "Non-trainable params: 0\n",
            "_________________________________________________________________\n",
            "None\n",
            "Epoch 1/8\n",
            "2/2 [==============================] - 3s 1s/step - loss: 2.0770 - accuracy: 0.2250 - val_loss: 0.9840 - val_accuracy: 0.0000e+00\n",
            "Epoch 2/8\n",
            "2/2 [==============================] - 1s 848ms/step - loss: 0.6392 - accuracy: 0.0500 - val_loss: 1.1425 - val_accuracy: 0.0000e+00\n",
            "Epoch 3/8\n",
            "2/2 [==============================] - 1s 779ms/step - loss: 1.5173 - accuracy: 0.0000e+00 - val_loss: 5.0131 - val_accuracy: 0.1250\n",
            "Epoch 4/8\n",
            "2/2 [==============================] - 1s 895ms/step - loss: 4.6275 - accuracy: 0.1500 - val_loss: 5.0131 - val_accuracy: 0.0250\n",
            "Epoch 5/8\n",
            "2/2 [==============================] - 2s 961ms/step - loss: 4.2419 - accuracy: 0.0250 - val_loss: 5.0131 - val_accuracy: 0.0000e+00\n",
            "Epoch 6/8\n",
            "2/2 [==============================] - 1s 838ms/step - loss: 4.2419 - accuracy: 0.0000e+00 - val_loss: 5.0131 - val_accuracy: 0.1250\n",
            "Epoch 7/8\n",
            "2/2 [==============================] - 2s 1s/step - loss: 3.0850 - accuracy: 0.2000 - val_loss: 5.0131 - val_accuracy: 0.1000\n",
            "Epoch 8/8\n",
            "2/2 [==============================] - 1s 833ms/step - loss: 5.0131 - accuracy: 0.1000 - val_loss: 5.0131 - val_accuracy: 0.0000e+00\n",
            "2/2 [==============================] - 0s 35ms/step - loss: 5.7844 - accuracy: 0.0000e+00\n",
            "\n",
            "[cirq.SWAP, cirq.CZ]\n",
            "Model: \"sequential_11\"\n",
            "_________________________________________________________________\n",
            " Layer (type)                Output Shape              Param #   \n",
            "=================================================================\n",
            " pqc_11 (PQC)                (None, 1)                 8         \n",
            "                                                                 \n",
            "=================================================================\n",
            "Total params: 8\n",
            "Trainable params: 8\n",
            "Non-trainable params: 0\n",
            "_________________________________________________________________\n",
            "None\n",
            "Epoch 1/8\n",
            "2/2 [==============================] - 4s 2s/step - loss: 3.1786 - accuracy: 0.0000e+00 - val_loss: 4.6380 - val_accuracy: 0.0000e+00\n",
            "Epoch 2/8\n",
            "2/2 [==============================] - 2s 1s/step - loss: 3.5089 - accuracy: 0.0000e+00 - val_loss: 3.9889 - val_accuracy: 0.0500\n",
            "Epoch 3/8\n",
            "2/2 [==============================] - 2s 1s/step - loss: 3.4834 - accuracy: 0.0750 - val_loss: 4.6427 - val_accuracy: 0.0000e+00\n",
            "Epoch 4/8\n",
            "2/2 [==============================] - 2s 1s/step - loss: 3.1008 - accuracy: 0.0000e+00 - val_loss: 4.6442 - val_accuracy: 0.0500\n",
            "Epoch 5/8\n",
            "2/2 [==============================] - 2s 1s/step - loss: 3.1134 - accuracy: 0.0500 - val_loss: 4.0638 - val_accuracy: 0.0750\n",
            "Epoch 6/8\n",
            "2/2 [==============================] - 2s 1s/step - loss: 3.2181 - accuracy: 0.0750 - val_loss: 3.9272 - val_accuracy: 0.0000e+00\n",
            "Epoch 7/8\n",
            "2/2 [==============================] - 2s 1s/step - loss: 3.5319 - accuracy: 0.0000e+00 - val_loss: 1.3505 - val_accuracy: 0.0250\n",
            "Epoch 8/8\n",
            "2/2 [==============================] - 2s 1s/step - loss: 0.8002 - accuracy: 0.0750 - val_loss: 2.0197 - val_accuracy: 0.0250\n",
            "2/2 [==============================] - 0s 43ms/step - loss: 2.4408 - accuracy: 0.0250\n",
            "\n",
            "[cirq.SWAP, cirq.CZ]\n",
            "Model: \"sequential_12\"\n",
            "_________________________________________________________________\n",
            " Layer (type)                Output Shape              Param #   \n",
            "=================================================================\n",
            " pqc_12 (PQC)                (None, 1)                 32        \n",
            "                                                                 \n",
            "=================================================================\n",
            "Total params: 32\n",
            "Trainable params: 32\n",
            "Non-trainable params: 0\n",
            "_________________________________________________________________\n",
            "None\n",
            "Epoch 1/8\n",
            "2/2 [==============================] - 7s 3s/step - loss: 7.7125 - accuracy: 0.0000e+00 - val_loss: 7.7125 - val_accuracy: 0.0000e+00\n",
            "Epoch 2/8\n",
            "2/2 [==============================] - 6s 3s/step - loss: 7.7125 - accuracy: 0.0000e+00 - val_loss: 7.7125 - val_accuracy: 0.0000e+00\n",
            "Epoch 3/8\n",
            "2/2 [==============================] - 6s 3s/step - loss: 7.7125 - accuracy: 0.0000e+00 - val_loss: 7.7125 - val_accuracy: 0.0000e+00\n",
            "Epoch 4/8\n",
            "2/2 [==============================] - 7s 4s/step - loss: 7.7125 - accuracy: 0.0000e+00 - val_loss: 7.7125 - val_accuracy: 0.0000e+00\n",
            "Epoch 5/8\n",
            "2/2 [==============================] - 7s 3s/step - loss: 7.7125 - accuracy: 0.0000e+00 - val_loss: 7.7125 - val_accuracy: 0.0000e+00\n",
            "Epoch 6/8\n",
            "2/2 [==============================] - 6s 3s/step - loss: 7.7125 - accuracy: 0.0000e+00 - val_loss: 7.7125 - val_accuracy: 0.0000e+00\n",
            "Epoch 7/8\n",
            "2/2 [==============================] - ETA: 0s - loss: 7.7125 - accuracy: 0.0000e+00"
          ]
        },
        {
          "output_type": "error",
          "ename": "KeyboardInterrupt",
          "evalue": "ignored",
          "traceback": [
            "\u001b[0;31m---------------------------------------------------------------------------\u001b[0m",
            "\u001b[0;31mKeyboardInterrupt\u001b[0m                         Traceback (most recent call last)",
            "\u001b[0;32m<ipython-input-85-5120288b0942>\u001b[0m in \u001b[0;36m<module>\u001b[0;34m()\u001b[0m\n\u001b[1;32m     48\u001b[0m         \u001b[0mverbose\u001b[0m\u001b[0;34m=\u001b[0m\u001b[0;36m1\u001b[0m\u001b[0;34m,\u001b[0m\u001b[0;34m\u001b[0m\u001b[0;34m\u001b[0m\u001b[0m\n\u001b[1;32m     49\u001b[0m         \u001b[0mcallbacks\u001b[0m\u001b[0;34m=\u001b[0m\u001b[0;34m[\u001b[0m\u001b[0mmem_release\u001b[0m\u001b[0;34m(\u001b[0m\u001b[0;34m)\u001b[0m\u001b[0;34m]\u001b[0m\u001b[0;34m,\u001b[0m\u001b[0;34m\u001b[0m\u001b[0;34m\u001b[0m\u001b[0m\n\u001b[0;32m---> 50\u001b[0;31m         \u001b[0mvalidation_data\u001b[0m\u001b[0;34m=\u001b[0m\u001b[0;34m(\u001b[0m\u001b[0mx_test_tfcirc\u001b[0m\u001b[0;34m,\u001b[0m \u001b[0my_test\u001b[0m\u001b[0;34m)\u001b[0m\u001b[0;34m\u001b[0m\u001b[0;34m\u001b[0m\u001b[0m\n\u001b[0m\u001b[1;32m     51\u001b[0m         )\n\u001b[1;32m     52\u001b[0m \u001b[0;34m\u001b[0m\u001b[0m\n",
            "\u001b[0;32m/usr/local/lib/python3.7/dist-packages/keras/utils/traceback_utils.py\u001b[0m in \u001b[0;36merror_handler\u001b[0;34m(*args, **kwargs)\u001b[0m\n\u001b[1;32m     62\u001b[0m     \u001b[0mfiltered_tb\u001b[0m \u001b[0;34m=\u001b[0m \u001b[0;32mNone\u001b[0m\u001b[0;34m\u001b[0m\u001b[0;34m\u001b[0m\u001b[0m\n\u001b[1;32m     63\u001b[0m     \u001b[0;32mtry\u001b[0m\u001b[0;34m:\u001b[0m\u001b[0;34m\u001b[0m\u001b[0;34m\u001b[0m\u001b[0m\n\u001b[0;32m---> 64\u001b[0;31m       \u001b[0;32mreturn\u001b[0m \u001b[0mfn\u001b[0m\u001b[0;34m(\u001b[0m\u001b[0;34m*\u001b[0m\u001b[0margs\u001b[0m\u001b[0;34m,\u001b[0m \u001b[0;34m**\u001b[0m\u001b[0mkwargs\u001b[0m\u001b[0;34m)\u001b[0m\u001b[0;34m\u001b[0m\u001b[0;34m\u001b[0m\u001b[0m\n\u001b[0m\u001b[1;32m     65\u001b[0m     \u001b[0;32mexcept\u001b[0m \u001b[0mException\u001b[0m \u001b[0;32mas\u001b[0m \u001b[0me\u001b[0m\u001b[0;34m:\u001b[0m  \u001b[0;31m# pylint: disable=broad-except\u001b[0m\u001b[0;34m\u001b[0m\u001b[0;34m\u001b[0m\u001b[0m\n\u001b[1;32m     66\u001b[0m       \u001b[0mfiltered_tb\u001b[0m \u001b[0;34m=\u001b[0m \u001b[0m_process_traceback_frames\u001b[0m\u001b[0;34m(\u001b[0m\u001b[0me\u001b[0m\u001b[0;34m.\u001b[0m\u001b[0m__traceback__\u001b[0m\u001b[0;34m)\u001b[0m\u001b[0;34m\u001b[0m\u001b[0;34m\u001b[0m\u001b[0m\n",
            "\u001b[0;32m/usr/local/lib/python3.7/dist-packages/keras/engine/training.py\u001b[0m in \u001b[0;36mfit\u001b[0;34m(self, x, y, batch_size, epochs, verbose, callbacks, validation_split, validation_data, shuffle, class_weight, sample_weight, initial_epoch, steps_per_epoch, validation_steps, validation_batch_size, validation_freq, max_queue_size, workers, use_multiprocessing)\u001b[0m\n\u001b[1;32m   1429\u001b[0m               \u001b[0muse_multiprocessing\u001b[0m\u001b[0;34m=\u001b[0m\u001b[0muse_multiprocessing\u001b[0m\u001b[0;34m,\u001b[0m\u001b[0;34m\u001b[0m\u001b[0;34m\u001b[0m\u001b[0m\n\u001b[1;32m   1430\u001b[0m               \u001b[0mreturn_dict\u001b[0m\u001b[0;34m=\u001b[0m\u001b[0;32mTrue\u001b[0m\u001b[0;34m,\u001b[0m\u001b[0;34m\u001b[0m\u001b[0;34m\u001b[0m\u001b[0m\n\u001b[0;32m-> 1431\u001b[0;31m               _use_cached_eval_dataset=True)\n\u001b[0m\u001b[1;32m   1432\u001b[0m           \u001b[0mval_logs\u001b[0m \u001b[0;34m=\u001b[0m \u001b[0;34m{\u001b[0m\u001b[0;34m'val_'\u001b[0m \u001b[0;34m+\u001b[0m \u001b[0mname\u001b[0m\u001b[0;34m:\u001b[0m \u001b[0mval\u001b[0m \u001b[0;32mfor\u001b[0m \u001b[0mname\u001b[0m\u001b[0;34m,\u001b[0m \u001b[0mval\u001b[0m \u001b[0;32min\u001b[0m \u001b[0mval_logs\u001b[0m\u001b[0;34m.\u001b[0m\u001b[0mitems\u001b[0m\u001b[0;34m(\u001b[0m\u001b[0;34m)\u001b[0m\u001b[0;34m}\u001b[0m\u001b[0;34m\u001b[0m\u001b[0;34m\u001b[0m\u001b[0m\n\u001b[1;32m   1433\u001b[0m           \u001b[0mepoch_logs\u001b[0m\u001b[0;34m.\u001b[0m\u001b[0mupdate\u001b[0m\u001b[0;34m(\u001b[0m\u001b[0mval_logs\u001b[0m\u001b[0;34m)\u001b[0m\u001b[0;34m\u001b[0m\u001b[0;34m\u001b[0m\u001b[0m\n",
            "\u001b[0;32m/usr/local/lib/python3.7/dist-packages/keras/utils/traceback_utils.py\u001b[0m in \u001b[0;36merror_handler\u001b[0;34m(*args, **kwargs)\u001b[0m\n\u001b[1;32m     62\u001b[0m     \u001b[0mfiltered_tb\u001b[0m \u001b[0;34m=\u001b[0m \u001b[0;32mNone\u001b[0m\u001b[0;34m\u001b[0m\u001b[0;34m\u001b[0m\u001b[0m\n\u001b[1;32m     63\u001b[0m     \u001b[0;32mtry\u001b[0m\u001b[0;34m:\u001b[0m\u001b[0;34m\u001b[0m\u001b[0;34m\u001b[0m\u001b[0m\n\u001b[0;32m---> 64\u001b[0;31m       \u001b[0;32mreturn\u001b[0m \u001b[0mfn\u001b[0m\u001b[0;34m(\u001b[0m\u001b[0;34m*\u001b[0m\u001b[0margs\u001b[0m\u001b[0;34m,\u001b[0m \u001b[0;34m**\u001b[0m\u001b[0mkwargs\u001b[0m\u001b[0;34m)\u001b[0m\u001b[0;34m\u001b[0m\u001b[0;34m\u001b[0m\u001b[0m\n\u001b[0m\u001b[1;32m     65\u001b[0m     \u001b[0;32mexcept\u001b[0m \u001b[0mException\u001b[0m \u001b[0;32mas\u001b[0m \u001b[0me\u001b[0m\u001b[0;34m:\u001b[0m  \u001b[0;31m# pylint: disable=broad-except\u001b[0m\u001b[0;34m\u001b[0m\u001b[0;34m\u001b[0m\u001b[0m\n\u001b[1;32m     66\u001b[0m       \u001b[0mfiltered_tb\u001b[0m \u001b[0;34m=\u001b[0m \u001b[0m_process_traceback_frames\u001b[0m\u001b[0;34m(\u001b[0m\u001b[0me\u001b[0m\u001b[0;34m.\u001b[0m\u001b[0m__traceback__\u001b[0m\u001b[0;34m)\u001b[0m\u001b[0;34m\u001b[0m\u001b[0;34m\u001b[0m\u001b[0m\n",
            "\u001b[0;32m/usr/local/lib/python3.7/dist-packages/keras/engine/training.py\u001b[0m in \u001b[0;36mevaluate\u001b[0;34m(self, x, y, batch_size, verbose, sample_weight, steps, callbacks, max_queue_size, workers, use_multiprocessing, return_dict, **kwargs)\u001b[0m\n\u001b[1;32m   1714\u001b[0m             \u001b[0;32mwith\u001b[0m \u001b[0mtf\u001b[0m\u001b[0;34m.\u001b[0m\u001b[0mprofiler\u001b[0m\u001b[0;34m.\u001b[0m\u001b[0mexperimental\u001b[0m\u001b[0;34m.\u001b[0m\u001b[0mTrace\u001b[0m\u001b[0;34m(\u001b[0m\u001b[0;34m'test'\u001b[0m\u001b[0;34m,\u001b[0m \u001b[0mstep_num\u001b[0m\u001b[0;34m=\u001b[0m\u001b[0mstep\u001b[0m\u001b[0;34m,\u001b[0m \u001b[0m_r\u001b[0m\u001b[0;34m=\u001b[0m\u001b[0;36m1\u001b[0m\u001b[0;34m)\u001b[0m\u001b[0;34m:\u001b[0m\u001b[0;34m\u001b[0m\u001b[0;34m\u001b[0m\u001b[0m\n\u001b[1;32m   1715\u001b[0m               \u001b[0mcallbacks\u001b[0m\u001b[0;34m.\u001b[0m\u001b[0mon_test_batch_begin\u001b[0m\u001b[0;34m(\u001b[0m\u001b[0mstep\u001b[0m\u001b[0;34m)\u001b[0m\u001b[0;34m\u001b[0m\u001b[0;34m\u001b[0m\u001b[0m\n\u001b[0;32m-> 1716\u001b[0;31m               \u001b[0mtmp_logs\u001b[0m \u001b[0;34m=\u001b[0m \u001b[0mself\u001b[0m\u001b[0;34m.\u001b[0m\u001b[0mtest_function\u001b[0m\u001b[0;34m(\u001b[0m\u001b[0miterator\u001b[0m\u001b[0;34m)\u001b[0m\u001b[0;34m\u001b[0m\u001b[0;34m\u001b[0m\u001b[0m\n\u001b[0m\u001b[1;32m   1717\u001b[0m               \u001b[0;32mif\u001b[0m \u001b[0mdata_handler\u001b[0m\u001b[0;34m.\u001b[0m\u001b[0mshould_sync\u001b[0m\u001b[0;34m:\u001b[0m\u001b[0;34m\u001b[0m\u001b[0;34m\u001b[0m\u001b[0m\n\u001b[1;32m   1718\u001b[0m                 \u001b[0mcontext\u001b[0m\u001b[0;34m.\u001b[0m\u001b[0masync_wait\u001b[0m\u001b[0;34m(\u001b[0m\u001b[0;34m)\u001b[0m\u001b[0;34m\u001b[0m\u001b[0;34m\u001b[0m\u001b[0m\n",
            "\u001b[0;32m/usr/local/lib/python3.7/dist-packages/tensorflow/python/util/traceback_utils.py\u001b[0m in \u001b[0;36merror_handler\u001b[0;34m(*args, **kwargs)\u001b[0m\n\u001b[1;32m    148\u001b[0m     \u001b[0mfiltered_tb\u001b[0m \u001b[0;34m=\u001b[0m \u001b[0;32mNone\u001b[0m\u001b[0;34m\u001b[0m\u001b[0;34m\u001b[0m\u001b[0m\n\u001b[1;32m    149\u001b[0m     \u001b[0;32mtry\u001b[0m\u001b[0;34m:\u001b[0m\u001b[0;34m\u001b[0m\u001b[0;34m\u001b[0m\u001b[0m\n\u001b[0;32m--> 150\u001b[0;31m       \u001b[0;32mreturn\u001b[0m \u001b[0mfn\u001b[0m\u001b[0;34m(\u001b[0m\u001b[0;34m*\u001b[0m\u001b[0margs\u001b[0m\u001b[0;34m,\u001b[0m \u001b[0;34m**\u001b[0m\u001b[0mkwargs\u001b[0m\u001b[0;34m)\u001b[0m\u001b[0;34m\u001b[0m\u001b[0;34m\u001b[0m\u001b[0m\n\u001b[0m\u001b[1;32m    151\u001b[0m     \u001b[0;32mexcept\u001b[0m \u001b[0mException\u001b[0m \u001b[0;32mas\u001b[0m \u001b[0me\u001b[0m\u001b[0;34m:\u001b[0m\u001b[0;34m\u001b[0m\u001b[0;34m\u001b[0m\u001b[0m\n\u001b[1;32m    152\u001b[0m       \u001b[0mfiltered_tb\u001b[0m \u001b[0;34m=\u001b[0m \u001b[0m_process_traceback_frames\u001b[0m\u001b[0;34m(\u001b[0m\u001b[0me\u001b[0m\u001b[0;34m.\u001b[0m\u001b[0m__traceback__\u001b[0m\u001b[0;34m)\u001b[0m\u001b[0;34m\u001b[0m\u001b[0;34m\u001b[0m\u001b[0m\n",
            "\u001b[0;32m/usr/local/lib/python3.7/dist-packages/tensorflow/python/eager/def_function.py\u001b[0m in \u001b[0;36m__call__\u001b[0;34m(self, *args, **kwds)\u001b[0m\n\u001b[1;32m    913\u001b[0m \u001b[0;34m\u001b[0m\u001b[0m\n\u001b[1;32m    914\u001b[0m       \u001b[0;32mwith\u001b[0m \u001b[0mOptionalXlaContext\u001b[0m\u001b[0;34m(\u001b[0m\u001b[0mself\u001b[0m\u001b[0;34m.\u001b[0m\u001b[0m_jit_compile\u001b[0m\u001b[0;34m)\u001b[0m\u001b[0;34m:\u001b[0m\u001b[0;34m\u001b[0m\u001b[0;34m\u001b[0m\u001b[0m\n\u001b[0;32m--> 915\u001b[0;31m         \u001b[0mresult\u001b[0m \u001b[0;34m=\u001b[0m \u001b[0mself\u001b[0m\u001b[0;34m.\u001b[0m\u001b[0m_call\u001b[0m\u001b[0;34m(\u001b[0m\u001b[0;34m*\u001b[0m\u001b[0margs\u001b[0m\u001b[0;34m,\u001b[0m \u001b[0;34m**\u001b[0m\u001b[0mkwds\u001b[0m\u001b[0;34m)\u001b[0m\u001b[0;34m\u001b[0m\u001b[0;34m\u001b[0m\u001b[0m\n\u001b[0m\u001b[1;32m    916\u001b[0m \u001b[0;34m\u001b[0m\u001b[0m\n\u001b[1;32m    917\u001b[0m       \u001b[0mnew_tracing_count\u001b[0m \u001b[0;34m=\u001b[0m \u001b[0mself\u001b[0m\u001b[0;34m.\u001b[0m\u001b[0mexperimental_get_tracing_count\u001b[0m\u001b[0;34m(\u001b[0m\u001b[0;34m)\u001b[0m\u001b[0;34m\u001b[0m\u001b[0;34m\u001b[0m\u001b[0m\n",
            "\u001b[0;32m/usr/local/lib/python3.7/dist-packages/tensorflow/python/eager/def_function.py\u001b[0m in \u001b[0;36m_call\u001b[0;34m(self, *args, **kwds)\u001b[0m\n\u001b[1;32m    952\u001b[0m       \u001b[0;31m# In this case we have not created variables on the first call. So we can\u001b[0m\u001b[0;34m\u001b[0m\u001b[0;34m\u001b[0m\u001b[0;34m\u001b[0m\u001b[0m\n\u001b[1;32m    953\u001b[0m       \u001b[0;31m# run the first trace but we should fail if variables are created.\u001b[0m\u001b[0;34m\u001b[0m\u001b[0;34m\u001b[0m\u001b[0;34m\u001b[0m\u001b[0m\n\u001b[0;32m--> 954\u001b[0;31m       \u001b[0mresults\u001b[0m \u001b[0;34m=\u001b[0m \u001b[0mself\u001b[0m\u001b[0;34m.\u001b[0m\u001b[0m_stateful_fn\u001b[0m\u001b[0;34m(\u001b[0m\u001b[0;34m*\u001b[0m\u001b[0margs\u001b[0m\u001b[0;34m,\u001b[0m \u001b[0;34m**\u001b[0m\u001b[0mkwds\u001b[0m\u001b[0;34m)\u001b[0m\u001b[0;34m\u001b[0m\u001b[0;34m\u001b[0m\u001b[0m\n\u001b[0m\u001b[1;32m    955\u001b[0m       \u001b[0;32mif\u001b[0m \u001b[0mself\u001b[0m\u001b[0;34m.\u001b[0m\u001b[0m_created_variables\u001b[0m \u001b[0;32mand\u001b[0m \u001b[0;32mnot\u001b[0m \u001b[0mALLOW_DYNAMIC_VARIABLE_CREATION\u001b[0m\u001b[0;34m:\u001b[0m\u001b[0;34m\u001b[0m\u001b[0;34m\u001b[0m\u001b[0m\n\u001b[1;32m    956\u001b[0m         raise ValueError(\"Creating variables on a non-first call to a function\"\n",
            "\u001b[0;32m/usr/local/lib/python3.7/dist-packages/tensorflow/python/eager/function.py\u001b[0m in \u001b[0;36m__call__\u001b[0;34m(self, *args, **kwargs)\u001b[0m\n\u001b[1;32m   2955\u001b[0m        filtered_flat_args) = self._maybe_define_function(args, kwargs)\n\u001b[1;32m   2956\u001b[0m     return graph_function._call_flat(\n\u001b[0;32m-> 2957\u001b[0;31m         filtered_flat_args, captured_inputs=graph_function.captured_inputs)  # pylint: disable=protected-access\n\u001b[0m\u001b[1;32m   2958\u001b[0m \u001b[0;34m\u001b[0m\u001b[0m\n\u001b[1;32m   2959\u001b[0m   \u001b[0;34m@\u001b[0m\u001b[0mproperty\u001b[0m\u001b[0;34m\u001b[0m\u001b[0;34m\u001b[0m\u001b[0m\n",
            "\u001b[0;32m/usr/local/lib/python3.7/dist-packages/tensorflow/python/eager/function.py\u001b[0m in \u001b[0;36m_call_flat\u001b[0;34m(self, args, captured_inputs, cancellation_manager)\u001b[0m\n\u001b[1;32m   1852\u001b[0m       \u001b[0;31m# No tape is watching; skip to running the function.\u001b[0m\u001b[0;34m\u001b[0m\u001b[0;34m\u001b[0m\u001b[0;34m\u001b[0m\u001b[0m\n\u001b[1;32m   1853\u001b[0m       return self._build_call_outputs(self._inference_function.call(\n\u001b[0;32m-> 1854\u001b[0;31m           ctx, args, cancellation_manager=cancellation_manager))\n\u001b[0m\u001b[1;32m   1855\u001b[0m     forward_backward = self._select_forward_and_backward_functions(\n\u001b[1;32m   1856\u001b[0m         \u001b[0margs\u001b[0m\u001b[0;34m,\u001b[0m\u001b[0;34m\u001b[0m\u001b[0;34m\u001b[0m\u001b[0m\n",
            "\u001b[0;32m/usr/local/lib/python3.7/dist-packages/tensorflow/python/eager/function.py\u001b[0m in \u001b[0;36mcall\u001b[0;34m(self, ctx, args, cancellation_manager)\u001b[0m\n\u001b[1;32m    502\u001b[0m               \u001b[0minputs\u001b[0m\u001b[0;34m=\u001b[0m\u001b[0margs\u001b[0m\u001b[0;34m,\u001b[0m\u001b[0;34m\u001b[0m\u001b[0;34m\u001b[0m\u001b[0m\n\u001b[1;32m    503\u001b[0m               \u001b[0mattrs\u001b[0m\u001b[0;34m=\u001b[0m\u001b[0mattrs\u001b[0m\u001b[0;34m,\u001b[0m\u001b[0;34m\u001b[0m\u001b[0;34m\u001b[0m\u001b[0m\n\u001b[0;32m--> 504\u001b[0;31m               ctx=ctx)\n\u001b[0m\u001b[1;32m    505\u001b[0m         \u001b[0;32melse\u001b[0m\u001b[0;34m:\u001b[0m\u001b[0;34m\u001b[0m\u001b[0;34m\u001b[0m\u001b[0m\n\u001b[1;32m    506\u001b[0m           outputs = execute.execute_with_cancellation(\n",
            "\u001b[0;32m/usr/local/lib/python3.7/dist-packages/tensorflow/python/eager/execute.py\u001b[0m in \u001b[0;36mquick_execute\u001b[0;34m(op_name, num_outputs, inputs, attrs, ctx, name)\u001b[0m\n\u001b[1;32m     53\u001b[0m     \u001b[0mctx\u001b[0m\u001b[0;34m.\u001b[0m\u001b[0mensure_initialized\u001b[0m\u001b[0;34m(\u001b[0m\u001b[0;34m)\u001b[0m\u001b[0;34m\u001b[0m\u001b[0;34m\u001b[0m\u001b[0m\n\u001b[1;32m     54\u001b[0m     tensors = pywrap_tfe.TFE_Py_Execute(ctx._handle, device_name, op_name,\n\u001b[0;32m---> 55\u001b[0;31m                                         inputs, attrs, num_outputs)\n\u001b[0m\u001b[1;32m     56\u001b[0m   \u001b[0;32mexcept\u001b[0m \u001b[0mcore\u001b[0m\u001b[0;34m.\u001b[0m\u001b[0m_NotOkStatusException\u001b[0m \u001b[0;32mas\u001b[0m \u001b[0me\u001b[0m\u001b[0;34m:\u001b[0m\u001b[0;34m\u001b[0m\u001b[0;34m\u001b[0m\u001b[0m\n\u001b[1;32m     57\u001b[0m     \u001b[0;32mif\u001b[0m \u001b[0mname\u001b[0m \u001b[0;32mis\u001b[0m \u001b[0;32mnot\u001b[0m \u001b[0;32mNone\u001b[0m\u001b[0;34m:\u001b[0m\u001b[0;34m\u001b[0m\u001b[0;34m\u001b[0m\u001b[0m\n",
            "\u001b[0;31mKeyboardInterrupt\u001b[0m: "
          ]
        }
      ]
    },
    {
      "cell_type": "markdown",
      "source": [
        "##Circuit #1 - design and results"
      ],
      "metadata": {
        "id": "qqdz8mIe34KG"
      }
    },
    {
      "cell_type": "code",
      "source": [
        "SVGCircuit(experiment_reveal(experiment_log, 1))"
      ],
      "metadata": {
        "id": "Tx7EhD4J2cEg"
      },
      "execution_count": null,
      "outputs": []
    },
    {
      "cell_type": "markdown",
      "source": [
        "##Circuit #2 - design and results"
      ],
      "metadata": {
        "id": "_B8KZu4-4IYN"
      }
    },
    {
      "cell_type": "code",
      "source": [
        "SVGCircuit(experiment_reveal(experiment_log, 2))"
      ],
      "metadata": {
        "id": "m5sbC9cG4IYS"
      },
      "execution_count": null,
      "outputs": []
    },
    {
      "cell_type": "markdown",
      "source": [
        "##Circuit #3 - design and results"
      ],
      "metadata": {
        "id": "fYv35ZI44aMk"
      }
    },
    {
      "cell_type": "code",
      "source": [
        "SVGCircuit(experiment_reveal(experiment_log, 3))"
      ],
      "metadata": {
        "id": "RbV0WgAU4aMp"
      },
      "execution_count": null,
      "outputs": []
    },
    {
      "cell_type": "markdown",
      "source": [
        "##Circuit #4 - design and results"
      ],
      "metadata": {
        "id": "svRcWAjn45ZQ"
      }
    },
    {
      "cell_type": "code",
      "source": [
        "SVGCircuit(experiment_reveal(experiment_log, 4))"
      ],
      "metadata": {
        "id": "7xoCWr3a45ZU"
      },
      "execution_count": null,
      "outputs": []
    },
    {
      "cell_type": "markdown",
      "source": [
        "##Circuit #5 - design and results"
      ],
      "metadata": {
        "id": "sDBay62S5Km9"
      }
    },
    {
      "cell_type": "code",
      "source": [
        "SVGCircuit(experiment_reveal(experiment_log, 5))"
      ],
      "metadata": {
        "id": "D0nACPi55KnC"
      },
      "execution_count": null,
      "outputs": []
    },
    {
      "cell_type": "markdown",
      "source": [
        "##Circuit #6 - design and results"
      ],
      "metadata": {
        "id": "MtyRVZkD5X5O"
      }
    },
    {
      "cell_type": "code",
      "source": [
        "SVGCircuit(experiment_reveal(experiment_log, 6))"
      ],
      "metadata": {
        "id": "OJ7521sc5X5T"
      },
      "execution_count": null,
      "outputs": []
    },
    {
      "cell_type": "markdown",
      "source": [
        "##Circuit #7 - design and results"
      ],
      "metadata": {
        "id": "zvP9Tzd65kec"
      }
    },
    {
      "cell_type": "code",
      "source": [
        "SVGCircuit(experiment_reveal(experiment_log, 7))"
      ],
      "metadata": {
        "id": "Cf-XNQ-G5keh"
      },
      "execution_count": null,
      "outputs": []
    },
    {
      "cell_type": "markdown",
      "source": [
        "##Circuit #8 - design and results"
      ],
      "metadata": {
        "id": "b7iWeAiR53pm"
      }
    },
    {
      "cell_type": "code",
      "source": [
        "SVGCircuit(experiment_reveal(experiment_log, 8))"
      ],
      "metadata": {
        "id": "qtBk5DPx53ps"
      },
      "execution_count": null,
      "outputs": []
    },
    {
      "cell_type": "markdown",
      "source": [
        "##Circuit #9 - design and results"
      ],
      "metadata": {
        "id": "AZHzNo1t6U7C"
      }
    },
    {
      "cell_type": "code",
      "source": [
        "SVGCircuit(experiment_reveal(experiment_log, 9))"
      ],
      "metadata": {
        "id": "DzGdRmRU6U7H"
      },
      "execution_count": null,
      "outputs": []
    },
    {
      "cell_type": "markdown",
      "source": [
        "##Circuit #10 - design and results"
      ],
      "metadata": {
        "id": "8glb7BvI6twm"
      }
    },
    {
      "cell_type": "code",
      "source": [
        "SVGCircuit(experiment_reveal(experiment_log, 10))"
      ],
      "metadata": {
        "id": "MMj9DQoT6tws"
      },
      "execution_count": null,
      "outputs": []
    },
    {
      "cell_type": "markdown",
      "source": [
        "##Circuit #11 - design and results"
      ],
      "metadata": {
        "id": "GqSk7Dq2pdEF"
      }
    },
    {
      "cell_type": "code",
      "source": [
        "SVGCircuit(experiment_reveal(experiment_log, 11))"
      ],
      "metadata": {
        "id": "B6pxCMUZ6Ukh"
      },
      "execution_count": null,
      "outputs": []
    },
    {
      "cell_type": "markdown",
      "source": [
        "##Circuit #12 - design and results"
      ],
      "metadata": {
        "id": "nlrANJYxphU6"
      }
    },
    {
      "cell_type": "code",
      "source": [
        "SVGCircuit(experiment_reveal(experiment_log, 12))"
      ],
      "metadata": {
        "id": "uqB59fR39LZU"
      },
      "execution_count": null,
      "outputs": []
    },
    {
      "cell_type": "markdown",
      "source": [
        "##Circuit #13 - design and results"
      ],
      "metadata": {
        "id": "ViKdyp0ypjUV"
      }
    },
    {
      "cell_type": "code",
      "source": [
        "SVGCircuit(experiment_reveal(experiment_log, 13))"
      ],
      "metadata": {
        "id": "LKHgPV_J9LiP"
      },
      "execution_count": null,
      "outputs": []
    },
    {
      "cell_type": "markdown",
      "source": [
        "##Circuit #14 - design and results"
      ],
      "metadata": {
        "id": "agbzo32vpl8H"
      }
    },
    {
      "cell_type": "code",
      "source": [
        "SVGCircuit(experiment_reveal(experiment_log, 14))"
      ],
      "metadata": {
        "id": "wM_oF6YO9Lr8"
      },
      "execution_count": null,
      "outputs": []
    },
    {
      "cell_type": "markdown",
      "source": [
        "##Circuit #15 - design and results"
      ],
      "metadata": {
        "id": "sM3rsi4DpoOd"
      }
    },
    {
      "cell_type": "code",
      "source": [
        "SVGCircuit(experiment_reveal(experiment_log, 14))"
      ],
      "metadata": {
        "id": "P5Bz--AU9LzH"
      },
      "execution_count": null,
      "outputs": []
    }
  ]
}
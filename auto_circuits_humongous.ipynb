{
  "nbformat": 4,
  "nbformat_minor": 0,
  "metadata": {
    "colab": {
      "name": "auto_circuits_humongous.ipynb",
      "provenance": [],
      "collapsed_sections": [
        "EgOLMHAQwd-S",
        "TJlbByAk3buT"
      ],
      "authorship_tag": "ABX9TyND+Kh3L39ZHGeRb0UnL0jt",
      "include_colab_link": true
    },
    "kernelspec": {
      "name": "python3",
      "display_name": "Python 3"
    },
    "language_info": {
      "name": "python"
    },
    "gpuClass": "standard"
  },
  "cells": [
    {
      "cell_type": "markdown",
      "metadata": {
        "id": "view-in-github",
        "colab_type": "text"
      },
      "source": [
        "<a href=\"https://colab.research.google.com/github/pinballsurgeon/deluxo_adjacency/blob/main/auto_circuits_humongous.ipynb\" target=\"_parent\"><img src=\"https://colab.research.google.com/assets/colab-badge.svg\" alt=\"Open In Colab\"/></a>"
      ]
    },
    {
      "cell_type": "markdown",
      "source": [
        "# Auto Quantum Circuits\n",
        "#### dehls - pinballsurgeon@gmail.com"
      ],
      "metadata": {
        "id": "dhwB9OhHwgvh"
      }
    },
    {
      "cell_type": "markdown",
      "source": [
        "###Installs"
      ],
      "metadata": {
        "id": "nqPSJ6Izm5GZ"
      }
    },
    {
      "cell_type": "code",
      "execution_count": 1,
      "metadata": {
        "id": "kL3NaosJFyiz",
        "colab": {
          "base_uri": "https://localhost:8080/"
        },
        "outputId": "0e694e3d-a6dc-4545-fe92-38bc928eb0d6"
      },
      "outputs": [
        {
          "output_type": "stream",
          "name": "stdout",
          "text": [
            "\u001b[K     |████████████████████████████████| 10.5 MB 2.9 MB/s \n",
            "\u001b[K     |████████████████████████████████| 576 kB 5.9 MB/s \n",
            "\u001b[K     |████████████████████████████████| 90 kB 3.7 MB/s \n",
            "\u001b[K     |████████████████████████████████| 6.1 MB 6.3 MB/s \n",
            "\u001b[K     |████████████████████████████████| 100 kB 4.9 MB/s \n",
            "\u001b[K     |████████████████████████████████| 1.6 MB 36.6 MB/s \n",
            "\u001b[K     |████████████████████████████████| 90 kB 5.6 MB/s \n",
            "\u001b[K     |████████████████████████████████| 46 kB 1.0 MB/s \n",
            "\u001b[K     |████████████████████████████████| 641 kB 43.7 MB/s \n",
            "\u001b[K     |████████████████████████████████| 541 kB 44.3 MB/s \n",
            "\u001b[K     |████████████████████████████████| 541 kB 39.7 MB/s \n",
            "\u001b[K     |████████████████████████████████| 437 kB 15.5 MB/s \n",
            "\u001b[K     |████████████████████████████████| 93 kB 1.5 MB/s \n",
            "\u001b[K     |████████████████████████████████| 93 kB 228 kB/s \n",
            "\u001b[K     |████████████████████████████████| 93 kB 1.4 MB/s \n",
            "\u001b[K     |████████████████████████████████| 93 kB 760 kB/s \n",
            "\u001b[K     |████████████████████████████████| 93 kB 728 kB/s \n",
            "\u001b[K     |████████████████████████████████| 93 kB 730 kB/s \n",
            "\u001b[K     |████████████████████████████████| 93 kB 628 kB/s \n",
            "\u001b[K     |████████████████████████████████| 93 kB 741 kB/s \n",
            "\u001b[K     |████████████████████████████████| 93 kB 1.1 MB/s \n",
            "\u001b[K     |████████████████████████████████| 92 kB 652 kB/s \n",
            "\u001b[K     |████████████████████████████████| 93 kB 898 kB/s \n",
            "\u001b[K     |████████████████████████████████| 93 kB 935 kB/s \n",
            "\u001b[K     |████████████████████████████████| 93 kB 1.0 MB/s \n",
            "\u001b[K     |████████████████████████████████| 92 kB 809 kB/s \n",
            "\u001b[K     |████████████████████████████████| 92 kB 819 kB/s \n",
            "\u001b[K     |████████████████████████████████| 92 kB 129 kB/s \n",
            "\u001b[K     |████████████████████████████████| 92 kB 130 kB/s \n",
            "\u001b[K     |████████████████████████████████| 92 kB 7.6 MB/s \n",
            "\u001b[K     |████████████████████████████████| 91 kB 5.3 MB/s \n",
            "\u001b[K     |████████████████████████████████| 91 kB 5.5 MB/s \n",
            "\u001b[K     |████████████████████████████████| 91 kB 6.6 MB/s \n",
            "\u001b[K     |████████████████████████████████| 91 kB 5.3 MB/s \n",
            "\u001b[K     |████████████████████████████████| 91 kB 7.6 MB/s \n",
            "\u001b[K     |████████████████████████████████| 91 kB 5.0 MB/s \n",
            "\u001b[K     |████████████████████████████████| 91 kB 4.8 MB/s \n",
            "\u001b[31mERROR: pip's dependency resolver does not currently take into account all the packages that are installed. This behaviour is the source of the following dependency conflicts.\n",
            "pydata-google-auth 1.4.0 requires google-auth<3.0dev,>=1.25.0; python_version >= \"3.6\", but you have google-auth 1.18.0 which is incompatible.\n",
            "google-cloud-bigquery-storage 1.1.2 requires google-api-core[grpc]!=2.0.*,!=2.1.*,!=2.2.*,!=2.3.0,<3.0.0dev,>=1.31.5, but you have google-api-core 1.21.0 which is incompatible.\u001b[0m\n",
            "\u001b[K     |████████████████████████████████| 14.7 MB 5.6 MB/s \n",
            "\u001b[?25hLooking in indexes: https://pypi.org/simple, https://us-python.pkg.dev/colab-wheels/public/simple/\n",
            "Requirement already satisfied: gdown in /usr/local/lib/python3.7/dist-packages (4.4.0)\n",
            "Collecting gdown\n",
            "  Downloading gdown-4.5.1.tar.gz (14 kB)\n",
            "  Installing build dependencies ... \u001b[?25l\u001b[?25hdone\n",
            "  Getting requirements to build wheel ... \u001b[?25l\u001b[?25hdone\n",
            "    Preparing wheel metadata ... \u001b[?25l\u001b[?25hdone\n",
            "Requirement already satisfied: tqdm in /usr/local/lib/python3.7/dist-packages (from gdown) (4.64.0)\n",
            "Requirement already satisfied: beautifulsoup4 in /usr/local/lib/python3.7/dist-packages (from gdown) (4.6.3)\n",
            "Requirement already satisfied: six in /usr/local/lib/python3.7/dist-packages (from gdown) (1.15.0)\n",
            "Requirement already satisfied: requests[socks] in /usr/local/lib/python3.7/dist-packages (from gdown) (2.23.0)\n",
            "Requirement already satisfied: filelock in /usr/local/lib/python3.7/dist-packages (from gdown) (3.7.1)\n",
            "Requirement already satisfied: urllib3!=1.25.0,!=1.25.1,<1.26,>=1.21.1 in /usr/local/lib/python3.7/dist-packages (from requests[socks]->gdown) (1.24.3)\n",
            "Requirement already satisfied: chardet<4,>=3.0.2 in /usr/local/lib/python3.7/dist-packages (from requests[socks]->gdown) (3.0.4)\n",
            "Requirement already satisfied: certifi>=2017.4.17 in /usr/local/lib/python3.7/dist-packages (from requests[socks]->gdown) (2022.6.15)\n",
            "Requirement already satisfied: idna<3,>=2.5 in /usr/local/lib/python3.7/dist-packages (from requests[socks]->gdown) (2.10)\n",
            "Requirement already satisfied: PySocks!=1.5.7,>=1.5.6 in /usr/local/lib/python3.7/dist-packages (from requests[socks]->gdown) (1.7.1)\n",
            "Building wheels for collected packages: gdown\n",
            "  Building wheel for gdown (PEP 517) ... \u001b[?25l\u001b[?25hdone\n",
            "  Created wheel for gdown: filename=gdown-4.5.1-py3-none-any.whl size=14951 sha256=5585aae2ccff1122e824bfa48a5cbfcdd85e0da1c3467cda38ef1190545ab6c7\n",
            "  Stored in directory: /tmp/pip-ephem-wheel-cache-3zkgf41l/wheels/3d/ec/b0/a96d1d126183f98570a785e6bf8789fca559853a9260e928e1\n",
            "Successfully built gdown\n",
            "Installing collected packages: gdown\n",
            "  Attempting uninstall: gdown\n",
            "    Found existing installation: gdown 4.4.0\n",
            "    Uninstalling gdown-4.4.0:\n",
            "      Successfully uninstalled gdown-4.4.0\n",
            "Successfully installed gdown-4.5.1\n"
          ]
        }
      ],
      "source": [
        "# tensorflow quantum\n",
        "!pip install --quiet tensorflow_quantum\n",
        "\n",
        "# bloch sphere\n",
        "!pip install --quiet qutip\n",
        "\n",
        "# gdown drive for dans datasets\n",
        "!pip install --upgrade --no-cache-dir gdown"
      ]
    },
    {
      "cell_type": "markdown",
      "source": [
        "###Imports"
      ],
      "metadata": {
        "id": "EgOLMHAQwd-S"
      }
    },
    {
      "cell_type": "code",
      "source": [
        "### standard dan-dards\n",
        "import cirq\n",
        "import sympy\n",
        "import tensorflow\n",
        "import numpy\n",
        "import gc\n",
        "import random\n",
        "import gdown\n",
        "import shutil\n",
        "import os\n",
        "from os import listdir\n",
        "import cv2\n",
        "from tensorflow.keras.utils import img_to_array\n",
        "\n",
        "\n",
        "# metric plotting\n",
        "%matplotlib inline\n",
        "from matplotlib import pyplot\n",
        "from matplotlib.pyplot import figure\n",
        "\n",
        "# tf quantum\n",
        "import tensorflow_quantum\n",
        "\n",
        "# circuit/operations visualizers\n",
        "import qutip\n",
        "from cirq.contrib.svg import SVGCircuit"
      ],
      "metadata": {
        "id": "DUlhaeoeGPop"
      },
      "execution_count": 2,
      "outputs": []
    },
    {
      "cell_type": "markdown",
      "source": [
        "###Experiment configuration and hyper-parameters"
      ],
      "metadata": {
        "id": "T3MEaAhvLPiZ"
      }
    },
    {
      "cell_type": "code",
      "source": [
        "### Define your quantum machine learning experiment, the values here are optimized for best 'Colab free-tier' experience\n",
        "\n",
        "# which dataset do you want to predict against?\n",
        "# 1 = James Webb vs. Hubble sample classification\n",
        "# 2 = Gram positive vs negative bacteria classification\n",
        "# 3 = Wild fire from space classification\n",
        "# 10 = MNIST written numerical classification\n",
        "dataset_select = 2\n",
        "\n",
        "\n",
        "# qubit grid sizes - how big do you want your circuit's grid size range to be\n",
        "experiment_grid_sizes = [4]\n",
        "\n",
        "# experiment count - how many arrangements of gates, per qubit grid, to run\n",
        "experiment_runs = 2\n",
        "\n",
        "# gate combination range - how many, or few, combination of gates per experiemental run\n",
        "min_gate_cobination = 3\n",
        "max_gate_cobination = 4\n",
        "\n",
        "# cirq gates to hyperparameterize\n",
        "gate_mix = [cirq.CZ\n",
        "           ,cirq.CNOT\n",
        "           ,cirq.XX\n",
        "           ,cirq.ISWAP\n",
        "           ,cirq.ZZ\n",
        "           ,cirq.SWAP\n",
        "           ,cirq.YY\n",
        "           ,cirq.CX\n",
        "           ,cirq.CSwapGate]\n",
        "\n",
        "\n",
        "# learning parameters\n",
        "EPOCHS = 8\n",
        "BATCH_SIZE = 25\n",
        "ADAM_OPTIMIZER_LEARNING_RATE = 0.00011\n",
        "\n",
        "# for MINST binary classifier, pick a single digit for TARGET and a single digit for JUNK\n",
        "target_mnist_digit = 3\n",
        "junk_mnist_digit = 4\n",
        "\n"
      ],
      "metadata": {
        "id": "3kA2XNoJLOki"
      },
      "execution_count": 57,
      "outputs": []
    },
    {
      "cell_type": "markdown",
      "source": [
        "###Helper Functions"
      ],
      "metadata": {
        "id": "TJlbByAk3buT"
      }
    },
    {
      "cell_type": "code",
      "source": [
        "### Initialize circuit - given a data and out qubit structure, build dynamic circuit\n",
        "class circuit_struct():\n",
        "    def __init__(self, data_qubits, readout):\n",
        "        self.data_qubits = data_qubits\n",
        "        self.readout = readout\n",
        "    \n",
        "    def add_layer(self, circuit, gate, prefix):\n",
        "        for i, qubit in enumerate(self.data_qubits):\n",
        "            symbol = sympy.Symbol(prefix + '-' + str(i))\n",
        "            circuit.append(gate(qubit, self.readout)**symbol)"
      ],
      "metadata": {
        "id": "nvcBT4RIGP3Y"
      },
      "execution_count": 4,
      "outputs": []
    },
    {
      "cell_type": "code",
      "source": [
        "### Populate circuit with gates - given a combination of qubit grid size and gate population, build \n",
        "def create_quantum_model(gridSize, hyperGates):\n",
        "\n",
        "    # cirq\n",
        "    data_qubits = cirq.GridQubit.rect(gridSize, gridSize)\n",
        "    readout = cirq.GridQubit(-1, -1)         \n",
        "    circuit = cirq.Circuit()\n",
        "    \n",
        "    # prepare the readout qubit\n",
        "    circuit.append(cirq.X(readout))\n",
        "    circuit.append(cirq.H(readout))\n",
        "    \n",
        "    # create qubit\n",
        "    builder = circuit_struct(\n",
        "        data_qubits = data_qubits,\n",
        "        readout=readout)\n",
        "\n",
        "    # buid layers\n",
        "    for gate in hyperGates:\n",
        "\n",
        "      # add specified gate and name\n",
        "      builder.add_layer(circuit, gate, str(gate))\n",
        "   \n",
        "    # prepare the readout qubit\n",
        "    circuit.append(cirq.H(readout))\n",
        "\n",
        "    return circuit, cirq.Z(readout)"
      ],
      "metadata": {
        "id": "c_eitDLdGQE5"
      },
      "execution_count": 5,
      "outputs": []
    },
    {
      "cell_type": "code",
      "source": [
        "### image pixels to qubit\n",
        "def convert_to_circuit(image):\n",
        "\n",
        "    # flatten array\n",
        "    values = numpy.ndarray.flatten(image)\n",
        "    \n",
        "    # establish 4x4 circuit\n",
        "    qubits = cirq.GridQubit.rect(4, 4)\n",
        "    circuit = cirq.Circuit()\n",
        "\n",
        "    # \n",
        "    for i, value in enumerate(values):\n",
        "        if value:\n",
        "            circuit.append(cirq.X(qubits[i]))\n",
        "    return circuit"
      ],
      "metadata": {
        "id": "ISAOn5Aa-CXb"
      },
      "execution_count": 6,
      "outputs": []
    },
    {
      "cell_type": "code",
      "source": [
        "### this example is for binary classification, so only keep one MNIST class/digit as target, and then one other as NON-TARGET/JUNK\n",
        "def binary_filter(x, y):\n",
        "\n",
        "    # identify rows that will be kept\n",
        "    keep = (y == target_mnist_digit) | (y == junk_mnist_digit)\n",
        "    \n",
        "    # remove excess\n",
        "    x, y = x[keep], y[keep]\n",
        "\n",
        "    # establish target 1/0\n",
        "    y = y == target_mnist_digit\n",
        " \n",
        "    return x,y"
      ],
      "metadata": {
        "id": "A68jGN3KPo5F"
      },
      "execution_count": 7,
      "outputs": []
    },
    {
      "cell_type": "code",
      "source": [
        "### reveal experiment results per run\n",
        "def experiment_reveal(log, run):\n",
        "\n",
        "  fig, (ax1, ax2) = pyplot.subplots(2)\n",
        "  pyplot.title('MSE Loss and Accuracy of %s gated Parametrized Quantum Circuit' % (log[run]['gates']), fontdict = {'fontsize' :16})\n",
        "\n",
        "  ax1.plot(log[run]['history'].history['loss'])\n",
        "  ax1.plot(log[run]['history'].history['val_loss'])\n",
        "  ax1.set_ylabel('MSE')\n",
        "\n",
        "  ax2.plot(log[run]['history'].history['accuracy'])\n",
        "  ax2.plot(log[run]['history'].history['val_accuracy'])\n",
        "  ax2.set_ylabel('Accuracy')\n",
        "  ax2.set_xlabel('Epochs')\n",
        "  \n",
        "  fig = pyplot.gcf()\n",
        "  fig.set_size_inches(12.5, 7.5)\n",
        "\n",
        "  return log[run]['circuit']\n"
      ],
      "metadata": {
        "id": "oukNDFyXTTec"
      },
      "execution_count": 8,
      "outputs": []
    },
    {
      "cell_type": "code",
      "source": [
        "### import dan ehlers' novel supplied datasource\n",
        "def dans_data(url, path):\n",
        "\n",
        "  # if directory exists, delete as to make room\n",
        "  if os.path.isdir(path):\n",
        "    shutil.rmtree(path, ignore_errors=True)\n",
        "\n",
        "  # download from dan's drive, yay security exposure\n",
        "  gdown.download_folder(url, quiet=True)\n",
        "\n",
        "  return path"
      ],
      "metadata": {
        "id": "fmrKdbyeDfiD"
      },
      "execution_count": 9,
      "outputs": []
    },
    {
      "cell_type": "markdown",
      "source": [
        "###Build experiment circuits and gates"
      ],
      "metadata": {
        "id": "Yhv6ZWH4mcpf"
      }
    },
    {
      "cell_type": "code",
      "source": [
        "### build experiment\n",
        "\n",
        "experiment_design = []\n",
        "\n",
        "# given experiement design parameters, build experiment(s)\n",
        "for run in range(1, experiment_runs+1):\n",
        "\n",
        "  # gate combination\n",
        "  gate_combination = random.choices(gate_mix, k=random.randrange(min_gate_cobination, max_gate_cobination+1))\n",
        "\n",
        "  # print random experiment gate participants\n",
        "  print('Experiment %d Gates:' % run); print(gate_combination); print('')\n",
        "\n",
        "  # build experiment\n",
        "  experiment_design.append(gate_combination)\n"
      ],
      "metadata": {
        "colab": {
          "base_uri": "https://localhost:8080/"
        },
        "id": "BVngC51whQjI",
        "outputId": "0393c0b1-d48c-4a3b-af3a-473f17cc1960"
      },
      "execution_count": 62,
      "outputs": [
        {
          "output_type": "stream",
          "name": "stdout",
          "text": [
            "Experiment 1 Gates:\n",
            "[cirq.ISWAP, cirq.CZ, cirq.XX, cirq.YY]\n",
            "\n",
            "Experiment 2 Gates:\n",
            "[cirq.ISWAP, cirq.ISWAP, cirq.CZ]\n",
            "\n"
          ]
        }
      ]
    },
    {
      "cell_type": "markdown",
      "source": [
        "###Load Dataset(s)"
      ],
      "metadata": {
        "id": "muRPuaO3S4EZ"
      }
    },
    {
      "cell_type": "code",
      "source": [
        "### download data source as specified, manage datasource specific handlers here\n",
        "\n",
        "# download drive share, per datasource selection\n",
        "if dataset_select == 1:              # james webb vs. hubble telescope classification\n",
        "  paths = dans_data(\"https://drive.google.com/drive/folders/1Ae4sZyMvJ02ht5O6UEBCpWg2R1e_Ihr3?usp=sharing\",'/content/tele_source')\n",
        "  trg_label_prefix = 'jw_'\n",
        "\n",
        "elif dataset_select == 2:            # bacteria gram positive vs negative classification\n",
        "  paths = dans_data(\"https://drive.google.com/drive/folders/1hhx1mEfWz-ThviwOqXK63v3wy2J7xV2c?usp=sharing\",'/content/bact_source')\n",
        "  trg_label_prefix = 'pos_'\n",
        "\n",
        "elif dataset_select == 3:            # wild fire classification\n",
        "  paths = dans_data(\"https://drive.google.com/drive/folders/1KRKEq8ZH7aKIVDRZQjknpEza2TnhiRxw?usp=sharing\",'/content/fire_source')\n",
        "  trg_label_prefix = 'pos_'\n"
      ],
      "metadata": {
        "id": "qZbwqvM-Y2NK"
      },
      "execution_count": 11,
      "outputs": []
    },
    {
      "cell_type": "code",
      "source": [
        "### ingest and process dehls created datasets\n",
        "imagePaths = [paths +'/' + f for f in listdir(paths)]\n",
        "data = []\n",
        "labels = []\n",
        "\n",
        "imagePaths = sorted(list(imagePaths))\n",
        "print(imagePaths)\n",
        "\n",
        "# loop over the input images\n",
        "for imagePath in imagePaths:\n",
        "    # load the image, pre-process it, and store it in the data list\n",
        "    image = cv2.imread(imagePath)\n",
        "    image = cv2.cvtColor(image, cv2.COLOR_BGR2GRAY)\n",
        "    image = cv2.resize(image, (28, 28))\n",
        "    image = img_to_array(image)\n",
        "    data.append(image)\n",
        "\n",
        "    if trg_label_prefix in imagePath:\n",
        "      labels.append(0)\n",
        "    else:\n",
        "      labels.append(1)\n",
        "\n",
        "data = numpy.array(data, dtype=\"float\") / 255.0"
      ],
      "metadata": {
        "colab": {
          "base_uri": "https://localhost:8080/"
        },
        "id": "Ce7ufFJ6IaQ6",
        "outputId": "a51358e4-2d65-4b18-da31-239c719fd907"
      },
      "execution_count": 12,
      "outputs": [
        {
          "output_type": "stream",
          "name": "stdout",
          "text": [
            "['/content/bact_source/neg_01.png', '/content/bact_source/neg_02.png', '/content/bact_source/neg_03.png', '/content/bact_source/neg_04.png', '/content/bact_source/neg_05.png', '/content/bact_source/neg_06.png', '/content/bact_source/neg_07.png', '/content/bact_source/neg_08.png', '/content/bact_source/neg_09.png', '/content/bact_source/neg_10.png', '/content/bact_source/neg_11.png', '/content/bact_source/neg_12.png', '/content/bact_source/neg_13.png', '/content/bact_source/neg_14.png', '/content/bact_source/neg_15.png', '/content/bact_source/neg_16.png', '/content/bact_source/neg_17.png', '/content/bact_source/neg_18.png', '/content/bact_source/neg_19.png', '/content/bact_source/neg_20.png', '/content/bact_source/pos_01.png', '/content/bact_source/pos_02.png', '/content/bact_source/pos_03.png', '/content/bact_source/pos_04.png', '/content/bact_source/pos_05.png', '/content/bact_source/pos_06.png', '/content/bact_source/pos_07.png', '/content/bact_source/pos_08.png', '/content/bact_source/pos_09.png', '/content/bact_source/pos_10.png', '/content/bact_source/pos_11.png', '/content/bact_source/pos_12.png', '/content/bact_source/pos_13.png', '/content/bact_source/pos_14.png', '/content/bact_source/pos_15.png', '/content/bact_source/pos_16.png', '/content/bact_source/pos_17.png', '/content/bact_source/pos_18.png', '/content/bact_source/pos_19.png', '/content/bact_source/pos_20.png']\n"
          ]
        }
      ]
    },
    {
      "cell_type": "code",
      "source": [
        "### establish dataset, here the MNIST numerical yada-yada\n",
        "\n",
        "# 1. import mnist digits\n",
        "(x_train, y_train), (x_test, y_test) = tensorflow.keras.datasets.mnist.load_data()\n",
        "\n",
        "# 2. rescale images to [0 - 1]\n",
        "x_train, x_test = x_train[..., numpy.newaxis]/255.0, x_test[..., numpy.newaxis]/255.0\n",
        "\n",
        "# 3. quantum experiment is binary classification, so only keep two classes/digit examples\n",
        "x_train, y_train = binary_filter(x_train, y_train)\n",
        "x_test, y_test = binary_filter(x_test, y_test)\n",
        "\n",
        "# 4. change dataset from which to predict against\n",
        "if (dataset_select < 10):       # non MNIST sources\n",
        "  x_train = data\n",
        "  x_test = [numpy.flip(x) for x in data]\n",
        "  y_train = numpy.array(labels)\n",
        "  y_test = numpy.array(labels)\n",
        "\n",
        "# 5. resize image\n",
        "x_train_small = tensorflow.image.resize(x_train, (4,4)).numpy()\n",
        "x_test_small = tensorflow.image.resize(x_test, (4,4)).numpy()\n",
        "\n",
        "# 6. convert circuit pixels/cells into individual qubits\n",
        "x_train_circ = [convert_to_circuit(x) for x in x_train_small]\n",
        "x_test_circ = [convert_to_circuit(x) for x in x_test_small]\n",
        "\n",
        "# 7. convert to qubit imagery into tensors\n",
        "x_train_tfcirc = tensorflow_quantum.convert_to_tensor(x_train_circ)\n",
        "x_test_tfcirc = tensorflow_quantum.convert_to_tensor(x_test_circ)"
      ],
      "metadata": {
        "id": "vHHqySURQyHH"
      },
      "execution_count": 20,
      "outputs": []
    },
    {
      "cell_type": "markdown",
      "source": [
        "###Tensorflow quantum network"
      ],
      "metadata": {
        "id": "e672kQ6BTFgn"
      }
    },
    {
      "cell_type": "code",
      "source": [
        "### tensorflow callbacks, here specifically garbage collection as to reduce memory load below colab free tier\n",
        "class mem_release(tensorflow.keras.callbacks.Callback):\n",
        "    def on_epoch_end(self, epoch, logs=None):\n",
        "        gc.collect()"
      ],
      "metadata": {
        "id": "UsvRncZpRsSN"
      },
      "execution_count": 21,
      "outputs": []
    },
    {
      "cell_type": "code",
      "source": [
        "### tensorflow quantum experimental gate combinatorial iterator \n",
        "\n",
        "# keep track of experiment conditions and results\n",
        "experiment_count = 0\n",
        "experiment_log = {}\n",
        "\n",
        "\n",
        "for gates in experiment_design:\n",
        "  for gridSize_int in experiment_grid_sizes:\n",
        "\n",
        "\n",
        "    # initialize quantum circuit\n",
        "    model_circuit, model_readout = create_quantum_model(gridSize_int, gates)\n",
        "\n",
        "\n",
        "    # build tf model\n",
        "    model = tensorflow.keras.Sequential([\n",
        "        \n",
        "        # input data circuit as tf.string\n",
        "        tensorflow.keras.layers.Input(shape=(), dtype=tensorflow.string),\n",
        "\n",
        "        # parameterized quantum circuit\n",
        "        tensorflow_quantum.layers.PQC(model_circuit, model_readout),])\n",
        "\n",
        "\n",
        "    # compile model and determine loss / optimizer approach, for this introductory we'll focus on memory\n",
        "    model.compile(\n",
        "\n",
        "        # loss, mean square error\n",
        "        loss=tensorflow.keras.losses.binary_crossentropy,\n",
        "\n",
        "        # optimizer, Adam with specifiable learning rate\n",
        "        optimizer=tensorflow.keras.optimizers.Adam(learning_rate=ADAM_OPTIMIZER_LEARNING_RATE),\n",
        "      \n",
        "        # metrics, accuracy\n",
        "        metrics=[tensorflow.keras.metrics.Accuracy()]\n",
        "      )\n",
        "    \n",
        "    # display model parameters\n",
        "    print(''); print(''.join(str(gates))); print(model.summary())\n",
        "\n",
        "    # train model for experiment, define training and validation populations, callbacks ect.\n",
        "    experiment_history = model.fit(\n",
        "        x_train_tfcirc,\n",
        "        y_train,\n",
        "        batch_size=BATCH_SIZE,\n",
        "        epochs=EPOCHS,\n",
        "        verbose=1,\n",
        "        callbacks=[mem_release()],\n",
        "        validation_data=(x_test_tfcirc, y_test)\n",
        "        )\n",
        "\n",
        "    # after training, evaluate final model representation against test set\n",
        "    experiment_results = model.evaluate(x_test_tfcirc, y_test)\n",
        "\n",
        "    # record experiment\n",
        "    experiment_count += 1\n",
        "    experiment_log[experiment_count] = {'circuit' : model_circuit       \n",
        "                                       ,'gates'   : gates\n",
        "                                       ,'history' : experiment_history\n",
        "                                       ,'results' : experiment_results }\n",
        "    "
      ],
      "metadata": {
        "id": "dPcJoEuGGgoN",
        "colab": {
          "base_uri": "https://localhost:8080/",
          "height": 1000
        },
        "outputId": "46f134f1-f466-416b-aee8-4fb62fbdc2aa"
      },
      "execution_count": 55,
      "outputs": [
        {
          "output_type": "stream",
          "name": "stdout",
          "text": [
            "\n",
            "[cirq.XX, cirq.CNOT, cirq.XX]\n",
            "Model: \"sequential_12\"\n",
            "_________________________________________________________________\n",
            " Layer (type)                Output Shape              Param #   \n",
            "=================================================================\n",
            " pqc_12 (PQC)                (None, 1)                 32        \n",
            "                                                                 \n",
            "=================================================================\n",
            "Total params: 32\n",
            "Trainable params: 32\n",
            "Non-trainable params: 0\n",
            "_________________________________________________________________\n",
            "None\n",
            "Epoch 1/8\n",
            "2/2 [==============================] - ETA: 0s - loss: 7.7125 - accuracy: 0.0000e+00"
          ]
        },
        {
          "output_type": "error",
          "ename": "KeyboardInterrupt",
          "evalue": "ignored",
          "traceback": [
            "\u001b[0;31m---------------------------------------------------------------------------\u001b[0m",
            "\u001b[0;31mKeyboardInterrupt\u001b[0m                         Traceback (most recent call last)",
            "\u001b[0;32m/usr/local/lib/python3.7/dist-packages/zmq/backend/cython/checkrc.pxd\u001b[0m in \u001b[0;36mzmq.backend.cython.checkrc._check_rc\u001b[0;34m()\u001b[0m\n",
            "\u001b[0;31mKeyboardInterrupt\u001b[0m: "
          ]
        },
        {
          "output_type": "stream",
          "name": "stdout",
          "text": [
            "\b\b\b\b\b\b\b\b\b\b\b\b\b\b\b\b\b\b\b\b\b\b\b\b\b\b\b\b\b\b\b\b\b\b\b\b\b\b\b\b\b\b\b\b\b\b\b\b\b\b\b\b\b\b\b\b\b\b\b\b\b\b\b\b\b\b\b\b\b\b\b\b\b\b\b\b\b\b\b\b\b\b\b\b\r2/2 [==============================] - 66s 61s/step - loss: 7.7125 - accuracy: 0.0000e+00 - val_loss: 7.7125 - val_accuracy: 0.0000e+00\n",
            "Epoch 2/8\n"
          ]
        },
        {
          "output_type": "stream",
          "name": "stderr",
          "text": [
            "Exception ignored in: 'zmq.backend.cython.message.Frame.__dealloc__'\n",
            "Traceback (most recent call last):\n",
            "  File \"zmq/backend/cython/checkrc.pxd\", line 13, in zmq.backend.cython.checkrc._check_rc\n",
            "KeyboardInterrupt\n"
          ]
        },
        {
          "output_type": "stream",
          "name": "stdout",
          "text": [
            "2/2 [==============================] - 8s 4s/step - loss: 7.7125 - accuracy: 0.0000e+00 - val_loss: 7.7125 - val_accuracy: 0.0000e+00\n",
            "Epoch 3/8\n",
            "2/2 [==============================] - 8s 4s/step - loss: 7.7125 - accuracy: 0.0000e+00 - val_loss: 7.7125 - val_accuracy: 0.0000e+00\n",
            "Epoch 4/8\n",
            "2/2 [==============================] - 8s 4s/step - loss: 7.7125 - accuracy: 0.0000e+00 - val_loss: 7.7125 - val_accuracy: 0.0000e+00\n",
            "Epoch 5/8\n",
            "2/2 [==============================] - 8s 4s/step - loss: 7.7125 - accuracy: 0.0000e+00 - val_loss: 7.7125 - val_accuracy: 0.0000e+00\n",
            "Epoch 6/8\n",
            "2/2 [==============================] - 8s 4s/step - loss: 7.7125 - accuracy: 0.0000e+00 - val_loss: 7.7125 - val_accuracy: 0.0000e+00\n",
            "Epoch 7/8\n",
            "2/2 [==============================] - 8s 4s/step - loss: 7.7125 - accuracy: 0.0000e+00 - val_loss: 7.7125 - val_accuracy: 0.0000e+00\n",
            "Epoch 8/8\n",
            "2/2 [==============================] - 8s 4s/step - loss: 7.7125 - accuracy: 0.0000e+00 - val_loss: 7.7125 - val_accuracy: 0.0000e+00\n",
            "2/2 [==============================] - 1s 228ms/step - loss: 7.7125 - accuracy: 0.0000e+00\n"
          ]
        },
        {
          "output_type": "error",
          "ename": "TypeError",
          "evalue": "ignored",
          "traceback": [
            "\u001b[0;31m---------------------------------------------------------------------------\u001b[0m",
            "\u001b[0;31mTypeError\u001b[0m                                 Traceback (most recent call last)",
            "\u001b[0;32m<ipython-input-55-5120288b0942>\u001b[0m in \u001b[0;36m<module>\u001b[0;34m()\u001b[0m\n\u001b[1;32m     11\u001b[0m \u001b[0;34m\u001b[0m\u001b[0m\n\u001b[1;32m     12\u001b[0m     \u001b[0;31m# initialize quantum circuit\u001b[0m\u001b[0;34m\u001b[0m\u001b[0;34m\u001b[0m\u001b[0;34m\u001b[0m\u001b[0m\n\u001b[0;32m---> 13\u001b[0;31m     \u001b[0mmodel_circuit\u001b[0m\u001b[0;34m,\u001b[0m \u001b[0mmodel_readout\u001b[0m \u001b[0;34m=\u001b[0m \u001b[0mcreate_quantum_model\u001b[0m\u001b[0;34m(\u001b[0m\u001b[0mgridSize_int\u001b[0m\u001b[0;34m,\u001b[0m \u001b[0mgates\u001b[0m\u001b[0;34m)\u001b[0m\u001b[0;34m\u001b[0m\u001b[0;34m\u001b[0m\u001b[0m\n\u001b[0m\u001b[1;32m     14\u001b[0m \u001b[0;34m\u001b[0m\u001b[0m\n\u001b[1;32m     15\u001b[0m \u001b[0;34m\u001b[0m\u001b[0m\n",
            "\u001b[0;32m<ipython-input-5-2c7bd4ef8366>\u001b[0m in \u001b[0;36mcreate_quantum_model\u001b[0;34m(gridSize, hyperGates)\u001b[0m\n\u001b[1;32m     20\u001b[0m \u001b[0;34m\u001b[0m\u001b[0m\n\u001b[1;32m     21\u001b[0m       \u001b[0;31m# add specified gate and name\u001b[0m\u001b[0;34m\u001b[0m\u001b[0;34m\u001b[0m\u001b[0;34m\u001b[0m\u001b[0m\n\u001b[0;32m---> 22\u001b[0;31m       \u001b[0mbuilder\u001b[0m\u001b[0;34m.\u001b[0m\u001b[0madd_layer\u001b[0m\u001b[0;34m(\u001b[0m\u001b[0mcircuit\u001b[0m\u001b[0;34m,\u001b[0m \u001b[0mgate\u001b[0m\u001b[0;34m,\u001b[0m \u001b[0mstr\u001b[0m\u001b[0;34m(\u001b[0m\u001b[0mgate\u001b[0m\u001b[0;34m)\u001b[0m\u001b[0;34m)\u001b[0m\u001b[0;34m\u001b[0m\u001b[0;34m\u001b[0m\u001b[0m\n\u001b[0m\u001b[1;32m     23\u001b[0m \u001b[0;34m\u001b[0m\u001b[0m\n\u001b[1;32m     24\u001b[0m     \u001b[0;31m# prepare the readout qubit\u001b[0m\u001b[0;34m\u001b[0m\u001b[0;34m\u001b[0m\u001b[0;34m\u001b[0m\u001b[0m\n",
            "\u001b[0;32m<ipython-input-4-6c3a438f92ee>\u001b[0m in \u001b[0;36madd_layer\u001b[0;34m(self, circuit, gate, prefix)\u001b[0m\n\u001b[1;32m      8\u001b[0m         \u001b[0;32mfor\u001b[0m \u001b[0mi\u001b[0m\u001b[0;34m,\u001b[0m \u001b[0mqubit\u001b[0m \u001b[0;32min\u001b[0m \u001b[0menumerate\u001b[0m\u001b[0;34m(\u001b[0m\u001b[0mself\u001b[0m\u001b[0;34m.\u001b[0m\u001b[0mdata_qubits\u001b[0m\u001b[0;34m)\u001b[0m\u001b[0;34m:\u001b[0m\u001b[0;34m\u001b[0m\u001b[0;34m\u001b[0m\u001b[0m\n\u001b[1;32m      9\u001b[0m             \u001b[0msymbol\u001b[0m \u001b[0;34m=\u001b[0m \u001b[0msympy\u001b[0m\u001b[0;34m.\u001b[0m\u001b[0mSymbol\u001b[0m\u001b[0;34m(\u001b[0m\u001b[0mprefix\u001b[0m \u001b[0;34m+\u001b[0m \u001b[0;34m'-'\u001b[0m \u001b[0;34m+\u001b[0m \u001b[0mstr\u001b[0m\u001b[0;34m(\u001b[0m\u001b[0mi\u001b[0m\u001b[0;34m)\u001b[0m\u001b[0;34m)\u001b[0m\u001b[0;34m\u001b[0m\u001b[0;34m\u001b[0m\u001b[0m\n\u001b[0;32m---> 10\u001b[0;31m             \u001b[0mcircuit\u001b[0m\u001b[0;34m.\u001b[0m\u001b[0mappend\u001b[0m\u001b[0;34m(\u001b[0m\u001b[0mgate\u001b[0m\u001b[0;34m(\u001b[0m\u001b[0mqubit\u001b[0m\u001b[0;34m,\u001b[0m \u001b[0mself\u001b[0m\u001b[0;34m.\u001b[0m\u001b[0mreadout\u001b[0m\u001b[0;34m)\u001b[0m\u001b[0;34m**\u001b[0m\u001b[0msymbol\u001b[0m\u001b[0;34m)\u001b[0m\u001b[0;34m\u001b[0m\u001b[0;34m\u001b[0m\u001b[0m\n\u001b[0m",
            "\u001b[0;31mTypeError\u001b[0m: CSwapGate() takes no arguments"
          ]
        }
      ]
    },
    {
      "cell_type": "markdown",
      "source": [
        "##Circuit #1 - design and results"
      ],
      "metadata": {
        "id": "qqdz8mIe34KG"
      }
    },
    {
      "cell_type": "code",
      "source": [
        "SVGCircuit(experiment_reveal(experiment_log, 1))"
      ],
      "metadata": {
        "id": "Tx7EhD4J2cEg",
        "colab": {
          "base_uri": "https://localhost:8080/",
          "height": 1000
        },
        "outputId": "1d3ddb06-548f-49bb-e374-07765cad3cd1"
      },
      "execution_count": 30,
      "outputs": [
        {
          "output_type": "execute_result",
          "data": {
            "text/plain": [
              "<cirq.contrib.svg.svg.SVGCircuit at 0x7fc168042f90>"
            ],
            "image/svg+xml": "<svg xmlns=\"http://www.w3.org/2000/svg\" width=\"6529.475703124994\" height=\"850.0\"><line x1=\"39.810625\" x2=\"6499.475703124994\" y1=\"25.0\" y2=\"25.0\" stroke=\"#1967d2\" stroke-width=\"1\" /><line x1=\"39.810625\" x2=\"6499.475703124994\" y1=\"75.0\" y2=\"75.0\" stroke=\"#1967d2\" stroke-width=\"1\" /><line x1=\"39.810625\" x2=\"6499.475703124994\" y1=\"125.0\" y2=\"125.0\" stroke=\"#1967d2\" stroke-width=\"1\" /><line x1=\"39.810625\" x2=\"6499.475703124994\" y1=\"175.0\" y2=\"175.0\" stroke=\"#1967d2\" stroke-width=\"1\" /><line x1=\"39.810625\" x2=\"6499.475703124994\" y1=\"225.0\" y2=\"225.0\" stroke=\"#1967d2\" stroke-width=\"1\" /><line x1=\"39.810625\" x2=\"6499.475703124994\" y1=\"275.0\" y2=\"275.0\" stroke=\"#1967d2\" stroke-width=\"1\" /><line x1=\"39.810625\" x2=\"6499.475703124994\" y1=\"325.0\" y2=\"325.0\" stroke=\"#1967d2\" stroke-width=\"1\" /><line x1=\"39.810625\" x2=\"6499.475703124994\" y1=\"375.0\" y2=\"375.0\" stroke=\"#1967d2\" stroke-width=\"1\" /><line x1=\"39.810625\" x2=\"6499.475703124994\" y1=\"425.0\" y2=\"425.0\" stroke=\"#1967d2\" stroke-width=\"1\" /><line x1=\"39.810625\" x2=\"6499.475703124994\" y1=\"475.0\" y2=\"475.0\" stroke=\"#1967d2\" stroke-width=\"1\" /><line x1=\"39.810625\" x2=\"6499.475703124994\" y1=\"525.0\" y2=\"525.0\" stroke=\"#1967d2\" stroke-width=\"1\" /><line x1=\"39.810625\" x2=\"6499.475703124994\" y1=\"575.0\" y2=\"575.0\" stroke=\"#1967d2\" stroke-width=\"1\" /><line x1=\"39.810625\" x2=\"6499.475703124994\" y1=\"625.0\" y2=\"625.0\" stroke=\"#1967d2\" stroke-width=\"1\" /><line x1=\"39.810625\" x2=\"6499.475703124994\" y1=\"675.0\" y2=\"675.0\" stroke=\"#1967d2\" stroke-width=\"1\" /><line x1=\"39.810625\" x2=\"6499.475703124994\" y1=\"725.0\" y2=\"725.0\" stroke=\"#1967d2\" stroke-width=\"1\" /><line x1=\"39.810625\" x2=\"6499.475703124994\" y1=\"775.0\" y2=\"775.0\" stroke=\"#1967d2\" stroke-width=\"1\" /><line x1=\"39.810625\" x2=\"6499.475703124994\" y1=\"825.0\" y2=\"825.0\" stroke=\"#1967d2\" stroke-width=\"1\" /><line x1=\"257.0633984375\" x2=\"257.0633984375\" y1=\"25.0\" y2=\"75.0\" stroke=\"black\" stroke-width=\"3\" /><line x1=\"371.9476953125\" x2=\"371.9476953125\" y1=\"25.0\" y2=\"125.0\" stroke=\"black\" stroke-width=\"3\" /><line x1=\"486.8319921875\" x2=\"486.8319921875\" y1=\"25.0\" y2=\"175.0\" stroke=\"black\" stroke-width=\"3\" /><line x1=\"601.7162890625\" x2=\"601.7162890625\" y1=\"25.0\" y2=\"225.0\" stroke=\"black\" stroke-width=\"3\" /><line x1=\"716.6005859375\" x2=\"716.6005859375\" y1=\"25.0\" y2=\"275.0\" stroke=\"black\" stroke-width=\"3\" /><line x1=\"831.4848828125\" x2=\"831.4848828125\" y1=\"25.0\" y2=\"325.0\" stroke=\"black\" stroke-width=\"3\" /><line x1=\"946.3691796875\" x2=\"946.3691796875\" y1=\"25.0\" y2=\"375.0\" stroke=\"black\" stroke-width=\"3\" /><line x1=\"1061.2534765625\" x2=\"1061.2534765625\" y1=\"25.0\" y2=\"425.0\" stroke=\"black\" stroke-width=\"3\" /><line x1=\"1176.1377734375\" x2=\"1176.1377734375\" y1=\"25.0\" y2=\"475.0\" stroke=\"black\" stroke-width=\"3\" /><line x1=\"1291.0220703125\" x2=\"1291.0220703125\" y1=\"25.0\" y2=\"525.0\" stroke=\"black\" stroke-width=\"3\" /><line x1=\"1410.35998046875\" x2=\"1410.35998046875\" y1=\"25.0\" y2=\"575.0\" stroke=\"black\" stroke-width=\"3\" /><line x1=\"1534.1515039062501\" x2=\"1534.1515039062501\" y1=\"25.0\" y2=\"625.0\" stroke=\"black\" stroke-width=\"3\" /><line x1=\"1657.9430273437501\" x2=\"1657.9430273437501\" y1=\"25.0\" y2=\"675.0\" stroke=\"black\" stroke-width=\"3\" /><line x1=\"1781.7345507812502\" x2=\"1781.7345507812502\" y1=\"25.0\" y2=\"725.0\" stroke=\"black\" stroke-width=\"3\" /><line x1=\"1905.5260742187502\" x2=\"1905.5260742187502\" y1=\"25.0\" y2=\"775.0\" stroke=\"black\" stroke-width=\"3\" /><line x1=\"2029.3175976562502\" x2=\"2029.3175976562502\" y1=\"25.0\" y2=\"825.0\" stroke=\"black\" stroke-width=\"3\" /><line x1=\"2148.6555078124998\" x2=\"2148.6555078124998\" y1=\"25.0\" y2=\"75.0\" stroke=\"black\" stroke-width=\"3\" /><line x1=\"2263.5398046875\" x2=\"2263.5398046875\" y1=\"25.0\" y2=\"125.0\" stroke=\"black\" stroke-width=\"3\" /><line x1=\"2378.4241015625\" x2=\"2378.4241015625\" y1=\"25.0\" y2=\"175.0\" stroke=\"black\" stroke-width=\"3\" /><line x1=\"2493.3083984375\" x2=\"2493.3083984375\" y1=\"25.0\" y2=\"225.0\" stroke=\"black\" stroke-width=\"3\" /><line x1=\"2608.1926953125\" x2=\"2608.1926953125\" y1=\"25.0\" y2=\"275.0\" stroke=\"black\" stroke-width=\"3\" /><line x1=\"2723.0769921875\" x2=\"2723.0769921875\" y1=\"25.0\" y2=\"325.0\" stroke=\"black\" stroke-width=\"3\" /><line x1=\"2837.9612890625\" x2=\"2837.9612890625\" y1=\"25.0\" y2=\"375.0\" stroke=\"black\" stroke-width=\"3\" /><line x1=\"2952.8455859375\" x2=\"2952.8455859375\" y1=\"25.0\" y2=\"425.0\" stroke=\"black\" stroke-width=\"3\" /><line x1=\"3067.7298828125\" x2=\"3067.7298828125\" y1=\"25.0\" y2=\"475.0\" stroke=\"black\" stroke-width=\"3\" /><line x1=\"3182.6141796875\" x2=\"3182.6141796875\" y1=\"25.0\" y2=\"525.0\" stroke=\"black\" stroke-width=\"3\" /><line x1=\"3301.95208984375\" x2=\"3301.95208984375\" y1=\"25.0\" y2=\"575.0\" stroke=\"black\" stroke-width=\"3\" /><line x1=\"3425.74361328125\" x2=\"3425.74361328125\" y1=\"25.0\" y2=\"625.0\" stroke=\"black\" stroke-width=\"3\" /><line x1=\"3549.53513671875\" x2=\"3549.53513671875\" y1=\"25.0\" y2=\"675.0\" stroke=\"black\" stroke-width=\"3\" /><line x1=\"3673.32666015625\" x2=\"3673.32666015625\" y1=\"25.0\" y2=\"725.0\" stroke=\"black\" stroke-width=\"3\" /><line x1=\"3797.11818359375\" x2=\"3797.11818359375\" y1=\"25.0\" y2=\"775.0\" stroke=\"black\" stroke-width=\"3\" /><line x1=\"3920.90970703125\" x2=\"3920.90970703125\" y1=\"25.0\" y2=\"825.0\" stroke=\"black\" stroke-width=\"3\" /><line x1=\"4057.5938085937505\" x2=\"4057.5938085937505\" y1=\"25.0\" y2=\"75.0\" stroke=\"black\" stroke-width=\"3\" /><line x1=\"4207.17048828125\" x2=\"4207.17048828125\" y1=\"25.0\" y2=\"125.0\" stroke=\"black\" stroke-width=\"3\" /><line x1=\"4356.74716796875\" x2=\"4356.74716796875\" y1=\"25.0\" y2=\"175.0\" stroke=\"black\" stroke-width=\"3\" /><line x1=\"4506.323847656249\" x2=\"4506.323847656249\" y1=\"25.0\" y2=\"225.0\" stroke=\"black\" stroke-width=\"3\" /><line x1=\"4655.900527343749\" x2=\"4655.900527343749\" y1=\"25.0\" y2=\"275.0\" stroke=\"black\" stroke-width=\"3\" /><line x1=\"4805.477207031248\" x2=\"4805.477207031248\" y1=\"25.0\" y2=\"325.0\" stroke=\"black\" stroke-width=\"3\" /><line x1=\"4955.053886718748\" x2=\"4955.053886718748\" y1=\"25.0\" y2=\"375.0\" stroke=\"black\" stroke-width=\"3\" /><line x1=\"5104.630566406247\" x2=\"5104.630566406247\" y1=\"25.0\" y2=\"425.0\" stroke=\"black\" stroke-width=\"3\" /><line x1=\"5254.207246093747\" x2=\"5254.207246093747\" y1=\"25.0\" y2=\"475.0\" stroke=\"black\" stroke-width=\"3\" /><line x1=\"5403.783925781247\" x2=\"5403.783925781247\" y1=\"25.0\" y2=\"525.0\" stroke=\"black\" stroke-width=\"3\" /><line x1=\"5557.814218749996\" x2=\"5557.814218749996\" y1=\"25.0\" y2=\"575.0\" stroke=\"black\" stroke-width=\"3\" /><line x1=\"5716.298124999996\" x2=\"5716.298124999996\" y1=\"25.0\" y2=\"625.0\" stroke=\"black\" stroke-width=\"3\" /><line x1=\"5874.782031249995\" x2=\"5874.782031249995\" y1=\"25.0\" y2=\"675.0\" stroke=\"black\" stroke-width=\"3\" /><line x1=\"6033.265937499995\" x2=\"6033.265937499995\" y1=\"25.0\" y2=\"725.0\" stroke=\"black\" stroke-width=\"3\" /><line x1=\"6191.749843749994\" x2=\"6191.749843749994\" y1=\"25.0\" y2=\"775.0\" stroke=\"black\" stroke-width=\"3\" /><line x1=\"6350.233749999994\" x2=\"6350.233749999994\" y1=\"25.0\" y2=\"825.0\" stroke=\"black\" stroke-width=\"3\" /><rect x=\"10.0\" y=\"5.0\" width=\"59.62125\" height=\"40\" stroke=\"black\" fill=\"white\" stroke-width=\"0\" /><text x=\"39.810625\" y=\"25.0\" dominant-baseline=\"middle\" text-anchor=\"middle\" font-size=\"14px\" font-family=\"Arial\">(-1, -1): </text><rect x=\"10.0\" y=\"55.0\" width=\"59.62125\" height=\"40\" stroke=\"black\" fill=\"white\" stroke-width=\"0\" /><text x=\"39.810625\" y=\"75.0\" dominant-baseline=\"middle\" text-anchor=\"middle\" font-size=\"14px\" font-family=\"Arial\">(0, 0): </text><rect x=\"10.0\" y=\"105.0\" width=\"59.62125\" height=\"40\" stroke=\"black\" fill=\"white\" stroke-width=\"0\" /><text x=\"39.810625\" y=\"125.0\" dominant-baseline=\"middle\" text-anchor=\"middle\" font-size=\"14px\" font-family=\"Arial\">(0, 1): </text><rect x=\"10.0\" y=\"155.0\" width=\"59.62125\" height=\"40\" stroke=\"black\" fill=\"white\" stroke-width=\"0\" /><text x=\"39.810625\" y=\"175.0\" dominant-baseline=\"middle\" text-anchor=\"middle\" font-size=\"14px\" font-family=\"Arial\">(0, 2): </text><rect x=\"10.0\" y=\"205.0\" width=\"59.62125\" height=\"40\" stroke=\"black\" fill=\"white\" stroke-width=\"0\" /><text x=\"39.810625\" y=\"225.0\" dominant-baseline=\"middle\" text-anchor=\"middle\" font-size=\"14px\" font-family=\"Arial\">(0, 3): </text><rect x=\"10.0\" y=\"255.0\" width=\"59.62125\" height=\"40\" stroke=\"black\" fill=\"white\" stroke-width=\"0\" /><text x=\"39.810625\" y=\"275.0\" dominant-baseline=\"middle\" text-anchor=\"middle\" font-size=\"14px\" font-family=\"Arial\">(1, 0): </text><rect x=\"10.0\" y=\"305.0\" width=\"59.62125\" height=\"40\" stroke=\"black\" fill=\"white\" stroke-width=\"0\" /><text x=\"39.810625\" y=\"325.0\" dominant-baseline=\"middle\" text-anchor=\"middle\" font-size=\"14px\" font-family=\"Arial\">(1, 1): </text><rect x=\"10.0\" y=\"355.0\" width=\"59.62125\" height=\"40\" stroke=\"black\" fill=\"white\" stroke-width=\"0\" /><text x=\"39.810625\" y=\"375.0\" dominant-baseline=\"middle\" text-anchor=\"middle\" font-size=\"14px\" font-family=\"Arial\">(1, 2): </text><rect x=\"10.0\" y=\"405.0\" width=\"59.62125\" height=\"40\" stroke=\"black\" fill=\"white\" stroke-width=\"0\" /><text x=\"39.810625\" y=\"425.0\" dominant-baseline=\"middle\" text-anchor=\"middle\" font-size=\"14px\" font-family=\"Arial\">(1, 3): </text><rect x=\"10.0\" y=\"455.0\" width=\"59.62125\" height=\"40\" stroke=\"black\" fill=\"white\" stroke-width=\"0\" /><text x=\"39.810625\" y=\"475.0\" dominant-baseline=\"middle\" text-anchor=\"middle\" font-size=\"14px\" font-family=\"Arial\">(2, 0): </text><rect x=\"10.0\" y=\"505.0\" width=\"59.62125\" height=\"40\" stroke=\"black\" fill=\"white\" stroke-width=\"0\" /><text x=\"39.810625\" y=\"525.0\" dominant-baseline=\"middle\" text-anchor=\"middle\" font-size=\"14px\" font-family=\"Arial\">(2, 1): </text><rect x=\"10.0\" y=\"555.0\" width=\"59.62125\" height=\"40\" stroke=\"black\" fill=\"white\" stroke-width=\"0\" /><text x=\"39.810625\" y=\"575.0\" dominant-baseline=\"middle\" text-anchor=\"middle\" font-size=\"14px\" font-family=\"Arial\">(2, 2): </text><rect x=\"10.0\" y=\"605.0\" width=\"59.62125\" height=\"40\" stroke=\"black\" fill=\"white\" stroke-width=\"0\" /><text x=\"39.810625\" y=\"625.0\" dominant-baseline=\"middle\" text-anchor=\"middle\" font-size=\"14px\" font-family=\"Arial\">(2, 3): </text><rect x=\"10.0\" y=\"655.0\" width=\"59.62125\" height=\"40\" stroke=\"black\" fill=\"white\" stroke-width=\"0\" /><text x=\"39.810625\" y=\"675.0\" dominant-baseline=\"middle\" text-anchor=\"middle\" font-size=\"14px\" font-family=\"Arial\">(3, 0): </text><rect x=\"10.0\" y=\"705.0\" width=\"59.62125\" height=\"40\" stroke=\"black\" fill=\"white\" stroke-width=\"0\" /><text x=\"39.810625\" y=\"725.0\" dominant-baseline=\"middle\" text-anchor=\"middle\" font-size=\"14px\" font-family=\"Arial\">(3, 1): </text><rect x=\"10.0\" y=\"755.0\" width=\"59.62125\" height=\"40\" stroke=\"black\" fill=\"white\" stroke-width=\"0\" /><text x=\"39.810625\" y=\"775.0\" dominant-baseline=\"middle\" text-anchor=\"middle\" font-size=\"14px\" font-family=\"Arial\">(3, 2): </text><rect x=\"10.0\" y=\"805.0\" width=\"59.62125\" height=\"40\" stroke=\"black\" fill=\"white\" stroke-width=\"0\" /><text x=\"39.810625\" y=\"825.0\" dominant-baseline=\"middle\" text-anchor=\"middle\" font-size=\"14px\" font-family=\"Arial\">(3, 3): </text><rect x=\"89.62125\" y=\"5.0\" width=\"40\" height=\"40\" stroke=\"black\" fill=\"white\" stroke-width=\"1\" /><text x=\"109.62125\" y=\"25.0\" dominant-baseline=\"middle\" text-anchor=\"middle\" font-size=\"18px\" font-family=\"Arial\">X</text><rect x=\"149.62125\" y=\"5.0\" width=\"40\" height=\"40\" stroke=\"black\" fill=\"white\" stroke-width=\"1\" /><text x=\"169.62125\" y=\"25.0\" dominant-baseline=\"middle\" text-anchor=\"middle\" font-size=\"18px\" font-family=\"Arial\">H</text><rect x=\"209.62124999999997\" y=\"55.0\" width=\"94.884296875\" height=\"40\" stroke=\"black\" fill=\"white\" stroke-width=\"1\" /><text x=\"257.0633984375\" y=\"75.0\" dominant-baseline=\"middle\" text-anchor=\"middle\" font-size=\"14px\" font-family=\"Arial\">×^(SWAP-0)</text><text x=\"257.0633984375\" y=\"28.0\" dominant-baseline=\"middle\" text-anchor=\"middle\" font-size=\"40px\" font-family=\"Arial\">×</text><rect x=\"324.505546875\" y=\"105.0\" width=\"94.884296875\" height=\"40\" stroke=\"black\" fill=\"white\" stroke-width=\"1\" /><text x=\"371.9476953125\" y=\"125.0\" dominant-baseline=\"middle\" text-anchor=\"middle\" font-size=\"14px\" font-family=\"Arial\">×^(SWAP-1)</text><text x=\"371.9476953125\" y=\"28.0\" dominant-baseline=\"middle\" text-anchor=\"middle\" font-size=\"40px\" font-family=\"Arial\">×</text><rect x=\"439.38984375\" y=\"155.0\" width=\"94.884296875\" height=\"40\" stroke=\"black\" fill=\"white\" stroke-width=\"1\" /><text x=\"486.8319921875\" y=\"175.0\" dominant-baseline=\"middle\" text-anchor=\"middle\" font-size=\"14px\" font-family=\"Arial\">×^(SWAP-2)</text><text x=\"486.8319921875\" y=\"28.0\" dominant-baseline=\"middle\" text-anchor=\"middle\" font-size=\"40px\" font-family=\"Arial\">×</text><rect x=\"554.274140625\" y=\"205.0\" width=\"94.884296875\" height=\"40\" stroke=\"black\" fill=\"white\" stroke-width=\"1\" /><text x=\"601.7162890625\" y=\"225.0\" dominant-baseline=\"middle\" text-anchor=\"middle\" font-size=\"14px\" font-family=\"Arial\">×^(SWAP-3)</text><text x=\"601.7162890625\" y=\"28.0\" dominant-baseline=\"middle\" text-anchor=\"middle\" font-size=\"40px\" font-family=\"Arial\">×</text><rect x=\"669.1584375\" y=\"255.0\" width=\"94.884296875\" height=\"40\" stroke=\"black\" fill=\"white\" stroke-width=\"1\" /><text x=\"716.6005859375\" y=\"275.0\" dominant-baseline=\"middle\" text-anchor=\"middle\" font-size=\"14px\" font-family=\"Arial\">×^(SWAP-4)</text><text x=\"716.6005859375\" y=\"28.0\" dominant-baseline=\"middle\" text-anchor=\"middle\" font-size=\"40px\" font-family=\"Arial\">×</text><rect x=\"784.042734375\" y=\"305.0\" width=\"94.884296875\" height=\"40\" stroke=\"black\" fill=\"white\" stroke-width=\"1\" /><text x=\"831.4848828125\" y=\"325.0\" dominant-baseline=\"middle\" text-anchor=\"middle\" font-size=\"14px\" font-family=\"Arial\">×^(SWAP-5)</text><text x=\"831.4848828125\" y=\"28.0\" dominant-baseline=\"middle\" text-anchor=\"middle\" font-size=\"40px\" font-family=\"Arial\">×</text><rect x=\"898.92703125\" y=\"355.0\" width=\"94.884296875\" height=\"40\" stroke=\"black\" fill=\"white\" stroke-width=\"1\" /><text x=\"946.3691796875\" y=\"375.0\" dominant-baseline=\"middle\" text-anchor=\"middle\" font-size=\"14px\" font-family=\"Arial\">×^(SWAP-6)</text><text x=\"946.3691796875\" y=\"28.0\" dominant-baseline=\"middle\" text-anchor=\"middle\" font-size=\"40px\" font-family=\"Arial\">×</text><rect x=\"1013.811328125\" y=\"405.0\" width=\"94.884296875\" height=\"40\" stroke=\"black\" fill=\"white\" stroke-width=\"1\" /><text x=\"1061.2534765625\" y=\"425.0\" dominant-baseline=\"middle\" text-anchor=\"middle\" font-size=\"14px\" font-family=\"Arial\">×^(SWAP-7)</text><text x=\"1061.2534765625\" y=\"28.0\" dominant-baseline=\"middle\" text-anchor=\"middle\" font-size=\"40px\" font-family=\"Arial\">×</text><rect x=\"1128.695625\" y=\"455.0\" width=\"94.884296875\" height=\"40\" stroke=\"black\" fill=\"white\" stroke-width=\"1\" /><text x=\"1176.1377734375\" y=\"475.0\" dominant-baseline=\"middle\" text-anchor=\"middle\" font-size=\"14px\" font-family=\"Arial\">×^(SWAP-8)</text><text x=\"1176.1377734375\" y=\"28.0\" dominant-baseline=\"middle\" text-anchor=\"middle\" font-size=\"40px\" font-family=\"Arial\">×</text><rect x=\"1243.579921875\" y=\"505.0\" width=\"94.884296875\" height=\"40\" stroke=\"black\" fill=\"white\" stroke-width=\"1\" /><text x=\"1291.0220703125\" y=\"525.0\" dominant-baseline=\"middle\" text-anchor=\"middle\" font-size=\"14px\" font-family=\"Arial\">×^(SWAP-9)</text><text x=\"1291.0220703125\" y=\"28.0\" dominant-baseline=\"middle\" text-anchor=\"middle\" font-size=\"40px\" font-family=\"Arial\">×</text><rect x=\"1358.46421875\" y=\"555.0\" width=\"103.7915234375\" height=\"40\" stroke=\"black\" fill=\"white\" stroke-width=\"1\" /><text x=\"1410.35998046875\" y=\"575.0\" dominant-baseline=\"middle\" text-anchor=\"middle\" font-size=\"14px\" font-family=\"Arial\">×^(SWAP-10)</text><text x=\"1410.35998046875\" y=\"28.0\" dominant-baseline=\"middle\" text-anchor=\"middle\" font-size=\"40px\" font-family=\"Arial\">×</text><rect x=\"1482.2557421875001\" y=\"605.0\" width=\"103.7915234375\" height=\"40\" stroke=\"black\" fill=\"white\" stroke-width=\"1\" /><text x=\"1534.1515039062501\" y=\"625.0\" dominant-baseline=\"middle\" text-anchor=\"middle\" font-size=\"14px\" font-family=\"Arial\">×^(SWAP-11)</text><text x=\"1534.1515039062501\" y=\"28.0\" dominant-baseline=\"middle\" text-anchor=\"middle\" font-size=\"40px\" font-family=\"Arial\">×</text><rect x=\"1606.0472656250001\" y=\"655.0\" width=\"103.7915234375\" height=\"40\" stroke=\"black\" fill=\"white\" stroke-width=\"1\" /><text x=\"1657.9430273437501\" y=\"675.0\" dominant-baseline=\"middle\" text-anchor=\"middle\" font-size=\"14px\" font-family=\"Arial\">×^(SWAP-12)</text><text x=\"1657.9430273437501\" y=\"28.0\" dominant-baseline=\"middle\" text-anchor=\"middle\" font-size=\"40px\" font-family=\"Arial\">×</text><rect x=\"1729.8387890625002\" y=\"705.0\" width=\"103.7915234375\" height=\"40\" stroke=\"black\" fill=\"white\" stroke-width=\"1\" /><text x=\"1781.7345507812502\" y=\"725.0\" dominant-baseline=\"middle\" text-anchor=\"middle\" font-size=\"14px\" font-family=\"Arial\">×^(SWAP-13)</text><text x=\"1781.7345507812502\" y=\"28.0\" dominant-baseline=\"middle\" text-anchor=\"middle\" font-size=\"40px\" font-family=\"Arial\">×</text><rect x=\"1853.6303125000002\" y=\"755.0\" width=\"103.7915234375\" height=\"40\" stroke=\"black\" fill=\"white\" stroke-width=\"1\" /><text x=\"1905.5260742187502\" y=\"775.0\" dominant-baseline=\"middle\" text-anchor=\"middle\" font-size=\"14px\" font-family=\"Arial\">×^(SWAP-14)</text><text x=\"1905.5260742187502\" y=\"28.0\" dominant-baseline=\"middle\" text-anchor=\"middle\" font-size=\"40px\" font-family=\"Arial\">×</text><rect x=\"1977.4218359375002\" y=\"805.0\" width=\"103.7915234375\" height=\"40\" stroke=\"black\" fill=\"white\" stroke-width=\"1\" /><text x=\"2029.3175976562502\" y=\"825.0\" dominant-baseline=\"middle\" text-anchor=\"middle\" font-size=\"14px\" font-family=\"Arial\">×^(SWAP-15)</text><text x=\"2029.3175976562502\" y=\"28.0\" dominant-baseline=\"middle\" text-anchor=\"middle\" font-size=\"40px\" font-family=\"Arial\">×</text><rect x=\"2101.213359375\" y=\"55.0\" width=\"94.884296875\" height=\"40\" stroke=\"black\" fill=\"white\" stroke-width=\"1\" /><text x=\"2148.6555078124998\" y=\"75.0\" dominant-baseline=\"middle\" text-anchor=\"middle\" font-size=\"14px\" font-family=\"Arial\">×^(SWAP-0)</text><text x=\"2148.6555078124998\" y=\"28.0\" dominant-baseline=\"middle\" text-anchor=\"middle\" font-size=\"40px\" font-family=\"Arial\">×</text><rect x=\"2216.09765625\" y=\"105.0\" width=\"94.884296875\" height=\"40\" stroke=\"black\" fill=\"white\" stroke-width=\"1\" /><text x=\"2263.5398046875\" y=\"125.0\" dominant-baseline=\"middle\" text-anchor=\"middle\" font-size=\"14px\" font-family=\"Arial\">×^(SWAP-1)</text><text x=\"2263.5398046875\" y=\"28.0\" dominant-baseline=\"middle\" text-anchor=\"middle\" font-size=\"40px\" font-family=\"Arial\">×</text><rect x=\"2330.981953125\" y=\"155.0\" width=\"94.884296875\" height=\"40\" stroke=\"black\" fill=\"white\" stroke-width=\"1\" /><text x=\"2378.4241015625\" y=\"175.0\" dominant-baseline=\"middle\" text-anchor=\"middle\" font-size=\"14px\" font-family=\"Arial\">×^(SWAP-2)</text><text x=\"2378.4241015625\" y=\"28.0\" dominant-baseline=\"middle\" text-anchor=\"middle\" font-size=\"40px\" font-family=\"Arial\">×</text><rect x=\"2445.86625\" y=\"205.0\" width=\"94.884296875\" height=\"40\" stroke=\"black\" fill=\"white\" stroke-width=\"1\" /><text x=\"2493.3083984375\" y=\"225.0\" dominant-baseline=\"middle\" text-anchor=\"middle\" font-size=\"14px\" font-family=\"Arial\">×^(SWAP-3)</text><text x=\"2493.3083984375\" y=\"28.0\" dominant-baseline=\"middle\" text-anchor=\"middle\" font-size=\"40px\" font-family=\"Arial\">×</text><rect x=\"2560.750546875\" y=\"255.0\" width=\"94.884296875\" height=\"40\" stroke=\"black\" fill=\"white\" stroke-width=\"1\" /><text x=\"2608.1926953125\" y=\"275.0\" dominant-baseline=\"middle\" text-anchor=\"middle\" font-size=\"14px\" font-family=\"Arial\">×^(SWAP-4)</text><text x=\"2608.1926953125\" y=\"28.0\" dominant-baseline=\"middle\" text-anchor=\"middle\" font-size=\"40px\" font-family=\"Arial\">×</text><rect x=\"2675.63484375\" y=\"305.0\" width=\"94.884296875\" height=\"40\" stroke=\"black\" fill=\"white\" stroke-width=\"1\" /><text x=\"2723.0769921875\" y=\"325.0\" dominant-baseline=\"middle\" text-anchor=\"middle\" font-size=\"14px\" font-family=\"Arial\">×^(SWAP-5)</text><text x=\"2723.0769921875\" y=\"28.0\" dominant-baseline=\"middle\" text-anchor=\"middle\" font-size=\"40px\" font-family=\"Arial\">×</text><rect x=\"2790.519140625\" y=\"355.0\" width=\"94.884296875\" height=\"40\" stroke=\"black\" fill=\"white\" stroke-width=\"1\" /><text x=\"2837.9612890625\" y=\"375.0\" dominant-baseline=\"middle\" text-anchor=\"middle\" font-size=\"14px\" font-family=\"Arial\">×^(SWAP-6)</text><text x=\"2837.9612890625\" y=\"28.0\" dominant-baseline=\"middle\" text-anchor=\"middle\" font-size=\"40px\" font-family=\"Arial\">×</text><rect x=\"2905.4034375\" y=\"405.0\" width=\"94.884296875\" height=\"40\" stroke=\"black\" fill=\"white\" stroke-width=\"1\" /><text x=\"2952.8455859375\" y=\"425.0\" dominant-baseline=\"middle\" text-anchor=\"middle\" font-size=\"14px\" font-family=\"Arial\">×^(SWAP-7)</text><text x=\"2952.8455859375\" y=\"28.0\" dominant-baseline=\"middle\" text-anchor=\"middle\" font-size=\"40px\" font-family=\"Arial\">×</text><rect x=\"3020.287734375\" y=\"455.0\" width=\"94.884296875\" height=\"40\" stroke=\"black\" fill=\"white\" stroke-width=\"1\" /><text x=\"3067.7298828125\" y=\"475.0\" dominant-baseline=\"middle\" text-anchor=\"middle\" font-size=\"14px\" font-family=\"Arial\">×^(SWAP-8)</text><text x=\"3067.7298828125\" y=\"28.0\" dominant-baseline=\"middle\" text-anchor=\"middle\" font-size=\"40px\" font-family=\"Arial\">×</text><rect x=\"3135.17203125\" y=\"505.0\" width=\"94.884296875\" height=\"40\" stroke=\"black\" fill=\"white\" stroke-width=\"1\" /><text x=\"3182.6141796875\" y=\"525.0\" dominant-baseline=\"middle\" text-anchor=\"middle\" font-size=\"14px\" font-family=\"Arial\">×^(SWAP-9)</text><text x=\"3182.6141796875\" y=\"28.0\" dominant-baseline=\"middle\" text-anchor=\"middle\" font-size=\"40px\" font-family=\"Arial\">×</text><rect x=\"3250.056328125\" y=\"555.0\" width=\"103.7915234375\" height=\"40\" stroke=\"black\" fill=\"white\" stroke-width=\"1\" /><text x=\"3301.95208984375\" y=\"575.0\" dominant-baseline=\"middle\" text-anchor=\"middle\" font-size=\"14px\" font-family=\"Arial\">×^(SWAP-10)</text><text x=\"3301.95208984375\" y=\"28.0\" dominant-baseline=\"middle\" text-anchor=\"middle\" font-size=\"40px\" font-family=\"Arial\">×</text><rect x=\"3373.8478515625\" y=\"605.0\" width=\"103.7915234375\" height=\"40\" stroke=\"black\" fill=\"white\" stroke-width=\"1\" /><text x=\"3425.74361328125\" y=\"625.0\" dominant-baseline=\"middle\" text-anchor=\"middle\" font-size=\"14px\" font-family=\"Arial\">×^(SWAP-11)</text><text x=\"3425.74361328125\" y=\"28.0\" dominant-baseline=\"middle\" text-anchor=\"middle\" font-size=\"40px\" font-family=\"Arial\">×</text><rect x=\"3497.639375\" y=\"655.0\" width=\"103.7915234375\" height=\"40\" stroke=\"black\" fill=\"white\" stroke-width=\"1\" /><text x=\"3549.53513671875\" y=\"675.0\" dominant-baseline=\"middle\" text-anchor=\"middle\" font-size=\"14px\" font-family=\"Arial\">×^(SWAP-12)</text><text x=\"3549.53513671875\" y=\"28.0\" dominant-baseline=\"middle\" text-anchor=\"middle\" font-size=\"40px\" font-family=\"Arial\">×</text><rect x=\"3621.4308984375\" y=\"705.0\" width=\"103.7915234375\" height=\"40\" stroke=\"black\" fill=\"white\" stroke-width=\"1\" /><text x=\"3673.32666015625\" y=\"725.0\" dominant-baseline=\"middle\" text-anchor=\"middle\" font-size=\"14px\" font-family=\"Arial\">×^(SWAP-13)</text><text x=\"3673.32666015625\" y=\"28.0\" dominant-baseline=\"middle\" text-anchor=\"middle\" font-size=\"40px\" font-family=\"Arial\">×</text><rect x=\"3745.2224218750002\" y=\"755.0\" width=\"103.7915234375\" height=\"40\" stroke=\"black\" fill=\"white\" stroke-width=\"1\" /><text x=\"3797.11818359375\" y=\"775.0\" dominant-baseline=\"middle\" text-anchor=\"middle\" font-size=\"14px\" font-family=\"Arial\">×^(SWAP-14)</text><text x=\"3797.11818359375\" y=\"28.0\" dominant-baseline=\"middle\" text-anchor=\"middle\" font-size=\"40px\" font-family=\"Arial\">×</text><rect x=\"3869.0139453125003\" y=\"805.0\" width=\"103.7915234375\" height=\"40\" stroke=\"black\" fill=\"white\" stroke-width=\"1\" /><text x=\"3920.90970703125\" y=\"825.0\" dominant-baseline=\"middle\" text-anchor=\"middle\" font-size=\"14px\" font-family=\"Arial\">×^(SWAP-15)</text><text x=\"3920.90970703125\" y=\"28.0\" dominant-baseline=\"middle\" text-anchor=\"middle\" font-size=\"40px\" font-family=\"Arial\">×</text><rect x=\"3992.8054687500007\" y=\"55.0\" width=\"129.57667968750002\" height=\"40\" stroke=\"black\" fill=\"white\" stroke-width=\"1\" /><text x=\"4057.5938085937505\" y=\"75.0\" dominant-baseline=\"middle\" text-anchor=\"middle\" font-size=\"14px\" font-family=\"Arial\">iSwap^(ISWAP-0)</text><rect x=\"3992.8054687500007\" y=\"5.0\" width=\"129.57667968750002\" height=\"40\" stroke=\"black\" fill=\"white\" stroke-width=\"1\" /><text x=\"4057.5938085937505\" y=\"25.0\" dominant-baseline=\"middle\" text-anchor=\"middle\" font-size=\"14px\" font-family=\"Arial\">iSwap</text><rect x=\"4142.3821484375\" y=\"105.0\" width=\"129.57667968750002\" height=\"40\" stroke=\"black\" fill=\"white\" stroke-width=\"1\" /><text x=\"4207.17048828125\" y=\"125.0\" dominant-baseline=\"middle\" text-anchor=\"middle\" font-size=\"14px\" font-family=\"Arial\">iSwap^(ISWAP-1)</text><rect x=\"4142.3821484375\" y=\"5.0\" width=\"129.57667968750002\" height=\"40\" stroke=\"black\" fill=\"white\" stroke-width=\"1\" /><text x=\"4207.17048828125\" y=\"25.0\" dominant-baseline=\"middle\" text-anchor=\"middle\" font-size=\"14px\" font-family=\"Arial\">iSwap</text><rect x=\"4291.958828125\" y=\"155.0\" width=\"129.57667968750002\" height=\"40\" stroke=\"black\" fill=\"white\" stroke-width=\"1\" /><text x=\"4356.74716796875\" y=\"175.0\" dominant-baseline=\"middle\" text-anchor=\"middle\" font-size=\"14px\" font-family=\"Arial\">iSwap^(ISWAP-2)</text><rect x=\"4291.958828125\" y=\"5.0\" width=\"129.57667968750002\" height=\"40\" stroke=\"black\" fill=\"white\" stroke-width=\"1\" /><text x=\"4356.74716796875\" y=\"25.0\" dominant-baseline=\"middle\" text-anchor=\"middle\" font-size=\"14px\" font-family=\"Arial\">iSwap</text><rect x=\"4441.535507812499\" y=\"205.0\" width=\"129.57667968750002\" height=\"40\" stroke=\"black\" fill=\"white\" stroke-width=\"1\" /><text x=\"4506.323847656249\" y=\"225.0\" dominant-baseline=\"middle\" text-anchor=\"middle\" font-size=\"14px\" font-family=\"Arial\">iSwap^(ISWAP-3)</text><rect x=\"4441.535507812499\" y=\"5.0\" width=\"129.57667968750002\" height=\"40\" stroke=\"black\" fill=\"white\" stroke-width=\"1\" /><text x=\"4506.323847656249\" y=\"25.0\" dominant-baseline=\"middle\" text-anchor=\"middle\" font-size=\"14px\" font-family=\"Arial\">iSwap</text><rect x=\"4591.112187499999\" y=\"255.0\" width=\"129.57667968750002\" height=\"40\" stroke=\"black\" fill=\"white\" stroke-width=\"1\" /><text x=\"4655.900527343749\" y=\"275.0\" dominant-baseline=\"middle\" text-anchor=\"middle\" font-size=\"14px\" font-family=\"Arial\">iSwap^(ISWAP-4)</text><rect x=\"4591.112187499999\" y=\"5.0\" width=\"129.57667968750002\" height=\"40\" stroke=\"black\" fill=\"white\" stroke-width=\"1\" /><text x=\"4655.900527343749\" y=\"25.0\" dominant-baseline=\"middle\" text-anchor=\"middle\" font-size=\"14px\" font-family=\"Arial\">iSwap</text><rect x=\"4740.6888671874985\" y=\"305.0\" width=\"129.57667968750002\" height=\"40\" stroke=\"black\" fill=\"white\" stroke-width=\"1\" /><text x=\"4805.477207031248\" y=\"325.0\" dominant-baseline=\"middle\" text-anchor=\"middle\" font-size=\"14px\" font-family=\"Arial\">iSwap^(ISWAP-5)</text><rect x=\"4740.6888671874985\" y=\"5.0\" width=\"129.57667968750002\" height=\"40\" stroke=\"black\" fill=\"white\" stroke-width=\"1\" /><text x=\"4805.477207031248\" y=\"25.0\" dominant-baseline=\"middle\" text-anchor=\"middle\" font-size=\"14px\" font-family=\"Arial\">iSwap</text><rect x=\"4890.265546874998\" y=\"355.0\" width=\"129.57667968750002\" height=\"40\" stroke=\"black\" fill=\"white\" stroke-width=\"1\" /><text x=\"4955.053886718748\" y=\"375.0\" dominant-baseline=\"middle\" text-anchor=\"middle\" font-size=\"14px\" font-family=\"Arial\">iSwap^(ISWAP-6)</text><rect x=\"4890.265546874998\" y=\"5.0\" width=\"129.57667968750002\" height=\"40\" stroke=\"black\" fill=\"white\" stroke-width=\"1\" /><text x=\"4955.053886718748\" y=\"25.0\" dominant-baseline=\"middle\" text-anchor=\"middle\" font-size=\"14px\" font-family=\"Arial\">iSwap</text><rect x=\"5039.842226562498\" y=\"405.0\" width=\"129.57667968750002\" height=\"40\" stroke=\"black\" fill=\"white\" stroke-width=\"1\" /><text x=\"5104.630566406247\" y=\"425.0\" dominant-baseline=\"middle\" text-anchor=\"middle\" font-size=\"14px\" font-family=\"Arial\">iSwap^(ISWAP-7)</text><rect x=\"5039.842226562498\" y=\"5.0\" width=\"129.57667968750002\" height=\"40\" stroke=\"black\" fill=\"white\" stroke-width=\"1\" /><text x=\"5104.630566406247\" y=\"25.0\" dominant-baseline=\"middle\" text-anchor=\"middle\" font-size=\"14px\" font-family=\"Arial\">iSwap</text><rect x=\"5189.418906249997\" y=\"455.0\" width=\"129.57667968750002\" height=\"40\" stroke=\"black\" fill=\"white\" stroke-width=\"1\" /><text x=\"5254.207246093747\" y=\"475.0\" dominant-baseline=\"middle\" text-anchor=\"middle\" font-size=\"14px\" font-family=\"Arial\">iSwap^(ISWAP-8)</text><rect x=\"5189.418906249997\" y=\"5.0\" width=\"129.57667968750002\" height=\"40\" stroke=\"black\" fill=\"white\" stroke-width=\"1\" /><text x=\"5254.207246093747\" y=\"25.0\" dominant-baseline=\"middle\" text-anchor=\"middle\" font-size=\"14px\" font-family=\"Arial\">iSwap</text><rect x=\"5338.995585937497\" y=\"505.0\" width=\"129.57667968750002\" height=\"40\" stroke=\"black\" fill=\"white\" stroke-width=\"1\" /><text x=\"5403.783925781247\" y=\"525.0\" dominant-baseline=\"middle\" text-anchor=\"middle\" font-size=\"14px\" font-family=\"Arial\">iSwap^(ISWAP-9)</text><rect x=\"5338.995585937497\" y=\"5.0\" width=\"129.57667968750002\" height=\"40\" stroke=\"black\" fill=\"white\" stroke-width=\"1\" /><text x=\"5403.783925781247\" y=\"25.0\" dominant-baseline=\"middle\" text-anchor=\"middle\" font-size=\"14px\" font-family=\"Arial\">iSwap</text><rect x=\"5488.572265624996\" y=\"555.0\" width=\"138.48390625000002\" height=\"40\" stroke=\"black\" fill=\"white\" stroke-width=\"1\" /><text x=\"5557.814218749996\" y=\"575.0\" dominant-baseline=\"middle\" text-anchor=\"middle\" font-size=\"14px\" font-family=\"Arial\">iSwap^(ISWAP-10)</text><rect x=\"5488.572265624996\" y=\"5.0\" width=\"138.48390625000002\" height=\"40\" stroke=\"black\" fill=\"white\" stroke-width=\"1\" /><text x=\"5557.814218749996\" y=\"25.0\" dominant-baseline=\"middle\" text-anchor=\"middle\" font-size=\"14px\" font-family=\"Arial\">iSwap</text><rect x=\"5647.056171874996\" y=\"605.0\" width=\"138.48390625000002\" height=\"40\" stroke=\"black\" fill=\"white\" stroke-width=\"1\" /><text x=\"5716.298124999996\" y=\"625.0\" dominant-baseline=\"middle\" text-anchor=\"middle\" font-size=\"14px\" font-family=\"Arial\">iSwap^(ISWAP-11)</text><rect x=\"5647.056171874996\" y=\"5.0\" width=\"138.48390625000002\" height=\"40\" stroke=\"black\" fill=\"white\" stroke-width=\"1\" /><text x=\"5716.298124999996\" y=\"25.0\" dominant-baseline=\"middle\" text-anchor=\"middle\" font-size=\"14px\" font-family=\"Arial\">iSwap</text><rect x=\"5805.5400781249955\" y=\"655.0\" width=\"138.48390625000002\" height=\"40\" stroke=\"black\" fill=\"white\" stroke-width=\"1\" /><text x=\"5874.782031249995\" y=\"675.0\" dominant-baseline=\"middle\" text-anchor=\"middle\" font-size=\"14px\" font-family=\"Arial\">iSwap^(ISWAP-12)</text><rect x=\"5805.5400781249955\" y=\"5.0\" width=\"138.48390625000002\" height=\"40\" stroke=\"black\" fill=\"white\" stroke-width=\"1\" /><text x=\"5874.782031249995\" y=\"25.0\" dominant-baseline=\"middle\" text-anchor=\"middle\" font-size=\"14px\" font-family=\"Arial\">iSwap</text><rect x=\"5964.023984374995\" y=\"705.0\" width=\"138.48390625000002\" height=\"40\" stroke=\"black\" fill=\"white\" stroke-width=\"1\" /><text x=\"6033.265937499995\" y=\"725.0\" dominant-baseline=\"middle\" text-anchor=\"middle\" font-size=\"14px\" font-family=\"Arial\">iSwap^(ISWAP-13)</text><rect x=\"5964.023984374995\" y=\"5.0\" width=\"138.48390625000002\" height=\"40\" stroke=\"black\" fill=\"white\" stroke-width=\"1\" /><text x=\"6033.265937499995\" y=\"25.0\" dominant-baseline=\"middle\" text-anchor=\"middle\" font-size=\"14px\" font-family=\"Arial\">iSwap</text><rect x=\"6122.507890624995\" y=\"755.0\" width=\"138.48390625000002\" height=\"40\" stroke=\"black\" fill=\"white\" stroke-width=\"1\" /><text x=\"6191.749843749994\" y=\"775.0\" dominant-baseline=\"middle\" text-anchor=\"middle\" font-size=\"14px\" font-family=\"Arial\">iSwap^(ISWAP-14)</text><rect x=\"6122.507890624995\" y=\"5.0\" width=\"138.48390625000002\" height=\"40\" stroke=\"black\" fill=\"white\" stroke-width=\"1\" /><text x=\"6191.749843749994\" y=\"25.0\" dominant-baseline=\"middle\" text-anchor=\"middle\" font-size=\"14px\" font-family=\"Arial\">iSwap</text><rect x=\"6280.991796874994\" y=\"805.0\" width=\"138.48390625000002\" height=\"40\" stroke=\"black\" fill=\"white\" stroke-width=\"1\" /><text x=\"6350.233749999994\" y=\"825.0\" dominant-baseline=\"middle\" text-anchor=\"middle\" font-size=\"14px\" font-family=\"Arial\">iSwap^(ISWAP-15)</text><rect x=\"6280.991796874994\" y=\"5.0\" width=\"138.48390625000002\" height=\"40\" stroke=\"black\" fill=\"white\" stroke-width=\"1\" /><text x=\"6350.233749999994\" y=\"25.0\" dominant-baseline=\"middle\" text-anchor=\"middle\" font-size=\"14px\" font-family=\"Arial\">iSwap</text><rect x=\"6439.475703124994\" y=\"5.0\" width=\"40\" height=\"40\" stroke=\"black\" fill=\"white\" stroke-width=\"1\" /><text x=\"6459.475703124994\" y=\"25.0\" dominant-baseline=\"middle\" text-anchor=\"middle\" font-size=\"18px\" font-family=\"Arial\">H</text></svg>"
          },
          "metadata": {},
          "execution_count": 30
        },
        {
          "output_type": "display_data",
          "data": {
            "text/plain": [
              "<Figure size 900x540 with 2 Axes>"
            ],
            "image/png": "[encoded data removed]"
          },
          "metadata": {
            "needs_background": "light"
          }
        }
      ]
    },
    {
      "cell_type": "markdown",
      "source": [
        "##Circuit #2 - design and results"
      ],
      "metadata": {
        "id": "_B8KZu4-4IYN"
      }
    },
    {
      "cell_type": "code",
      "source": [
        "SVGCircuit(experiment_reveal(experiment_log, 2))"
      ],
      "metadata": {
        "id": "m5sbC9cG4IYS",
        "colab": {
          "base_uri": "https://localhost:8080/",
          "height": 1000
        },
        "outputId": "1f2fb176-4df5-40b9-94cd-a3e232ccbc29"
      },
      "execution_count": 33,
      "outputs": [
        {
          "output_type": "execute_result",
          "data": {
            "text/plain": [
              "<cirq.contrib.svg.svg.SVGCircuit at 0x7fc16802d150>"
            ],
            "image/svg+xml": "<svg xmlns=\"http://www.w3.org/2000/svg\" width=\"6808.141328124995\" height=\"850.0\"><line x1=\"39.810625\" x2=\"6778.141328124995\" y1=\"25.0\" y2=\"25.0\" stroke=\"#1967d2\" stroke-width=\"1\" /><line x1=\"39.810625\" x2=\"6778.141328124995\" y1=\"75.0\" y2=\"75.0\" stroke=\"#1967d2\" stroke-width=\"1\" /><line x1=\"39.810625\" x2=\"6778.141328124995\" y1=\"125.0\" y2=\"125.0\" stroke=\"#1967d2\" stroke-width=\"1\" /><line x1=\"39.810625\" x2=\"6778.141328124995\" y1=\"175.0\" y2=\"175.0\" stroke=\"#1967d2\" stroke-width=\"1\" /><line x1=\"39.810625\" x2=\"6778.141328124995\" y1=\"225.0\" y2=\"225.0\" stroke=\"#1967d2\" stroke-width=\"1\" /><line x1=\"39.810625\" x2=\"6778.141328124995\" y1=\"275.0\" y2=\"275.0\" stroke=\"#1967d2\" stroke-width=\"1\" /><line x1=\"39.810625\" x2=\"6778.141328124995\" y1=\"325.0\" y2=\"325.0\" stroke=\"#1967d2\" stroke-width=\"1\" /><line x1=\"39.810625\" x2=\"6778.141328124995\" y1=\"375.0\" y2=\"375.0\" stroke=\"#1967d2\" stroke-width=\"1\" /><line x1=\"39.810625\" x2=\"6778.141328124995\" y1=\"425.0\" y2=\"425.0\" stroke=\"#1967d2\" stroke-width=\"1\" /><line x1=\"39.810625\" x2=\"6778.141328124995\" y1=\"475.0\" y2=\"475.0\" stroke=\"#1967d2\" stroke-width=\"1\" /><line x1=\"39.810625\" x2=\"6778.141328124995\" y1=\"525.0\" y2=\"525.0\" stroke=\"#1967d2\" stroke-width=\"1\" /><line x1=\"39.810625\" x2=\"6778.141328124995\" y1=\"575.0\" y2=\"575.0\" stroke=\"#1967d2\" stroke-width=\"1\" /><line x1=\"39.810625\" x2=\"6778.141328124995\" y1=\"625.0\" y2=\"625.0\" stroke=\"#1967d2\" stroke-width=\"1\" /><line x1=\"39.810625\" x2=\"6778.141328124995\" y1=\"675.0\" y2=\"675.0\" stroke=\"#1967d2\" stroke-width=\"1\" /><line x1=\"39.810625\" x2=\"6778.141328124995\" y1=\"725.0\" y2=\"725.0\" stroke=\"#1967d2\" stroke-width=\"1\" /><line x1=\"39.810625\" x2=\"6778.141328124995\" y1=\"775.0\" y2=\"775.0\" stroke=\"#1967d2\" stroke-width=\"1\" /><line x1=\"39.810625\" x2=\"6778.141328124995\" y1=\"825.0\" y2=\"825.0\" stroke=\"#1967d2\" stroke-width=\"1\" /><line x1=\"274.40958984375004\" x2=\"274.40958984375004\" y1=\"25.0\" y2=\"75.0\" stroke=\"black\" stroke-width=\"3\" /><line x1=\"423.98626953125006\" x2=\"423.98626953125006\" y1=\"25.0\" y2=\"125.0\" stroke=\"black\" stroke-width=\"3\" /><line x1=\"573.5629492187501\" x2=\"573.5629492187501\" y1=\"25.0\" y2=\"175.0\" stroke=\"black\" stroke-width=\"3\" /><line x1=\"723.1396289062501\" x2=\"723.1396289062501\" y1=\"25.0\" y2=\"225.0\" stroke=\"black\" stroke-width=\"3\" /><line x1=\"872.7163085937501\" x2=\"872.7163085937501\" y1=\"25.0\" y2=\"275.0\" stroke=\"black\" stroke-width=\"3\" /><line x1=\"1022.2929882812501\" x2=\"1022.2929882812501\" y1=\"25.0\" y2=\"325.0\" stroke=\"black\" stroke-width=\"3\" /><line x1=\"1171.8696679687503\" x2=\"1171.8696679687503\" y1=\"25.0\" y2=\"375.0\" stroke=\"black\" stroke-width=\"3\" /><line x1=\"1321.4463476562503\" x2=\"1321.4463476562503\" y1=\"25.0\" y2=\"425.0\" stroke=\"black\" stroke-width=\"3\" /><line x1=\"1471.0230273437503\" x2=\"1471.0230273437503\" y1=\"25.0\" y2=\"475.0\" stroke=\"black\" stroke-width=\"3\" /><line x1=\"1620.5997070312503\" x2=\"1620.5997070312503\" y1=\"25.0\" y2=\"525.0\" stroke=\"black\" stroke-width=\"3\" /><line x1=\"1774.6300000000003\" x2=\"1774.6300000000003\" y1=\"25.0\" y2=\"575.0\" stroke=\"black\" stroke-width=\"3\" /><line x1=\"1933.1139062500004\" x2=\"1933.1139062500004\" y1=\"25.0\" y2=\"625.0\" stroke=\"black\" stroke-width=\"3\" /><line x1=\"2091.5978125\" x2=\"2091.5978125\" y1=\"25.0\" y2=\"675.0\" stroke=\"black\" stroke-width=\"3\" /><line x1=\"2250.0817187500006\" x2=\"2250.0817187500006\" y1=\"25.0\" y2=\"725.0\" stroke=\"black\" stroke-width=\"3\" /><line x1=\"2408.565625\" x2=\"2408.565625\" y1=\"25.0\" y2=\"775.0\" stroke=\"black\" stroke-width=\"3\" /><line x1=\"2567.0495312500007\" x2=\"2567.0495312500007\" y1=\"25.0\" y2=\"825.0\" stroke=\"black\" stroke-width=\"3\" /><line x1=\"2695.0957421875005\" x2=\"2695.0957421875005\" y1=\"25.0\" y2=\"75.0\" stroke=\"black\" stroke-width=\"3\" /><line x1=\"2792.7042578125006\" x2=\"2792.7042578125006\" y1=\"25.0\" y2=\"125.0\" stroke=\"black\" stroke-width=\"3\" /><line x1=\"2890.3127734375007\" x2=\"2890.3127734375007\" y1=\"25.0\" y2=\"175.0\" stroke=\"black\" stroke-width=\"3\" /><line x1=\"2987.921289062501\" x2=\"2987.921289062501\" y1=\"25.0\" y2=\"225.0\" stroke=\"black\" stroke-width=\"3\" /><line x1=\"3085.529804687501\" x2=\"3085.529804687501\" y1=\"25.0\" y2=\"275.0\" stroke=\"black\" stroke-width=\"3\" /><line x1=\"3183.138320312501\" x2=\"3183.138320312501\" y1=\"25.0\" y2=\"325.0\" stroke=\"black\" stroke-width=\"3\" /><line x1=\"3280.746835937501\" x2=\"3280.746835937501\" y1=\"25.0\" y2=\"375.0\" stroke=\"black\" stroke-width=\"3\" /><line x1=\"3378.3553515625013\" x2=\"3378.3553515625013\" y1=\"25.0\" y2=\"425.0\" stroke=\"black\" stroke-width=\"3\" /><line x1=\"3475.9638671875014\" x2=\"3475.9638671875014\" y1=\"25.0\" y2=\"475.0\" stroke=\"black\" stroke-width=\"3\" /><line x1=\"3573.5723828125015\" x2=\"3573.5723828125015\" y1=\"25.0\" y2=\"525.0\" stroke=\"black\" stroke-width=\"3\" /><line x1=\"3675.6345117187516\" x2=\"3675.6345117187516\" y1=\"25.0\" y2=\"575.0\" stroke=\"black\" stroke-width=\"3\" /><line x1=\"3782.1502539062517\" x2=\"3782.1502539062517\" y1=\"25.0\" y2=\"625.0\" stroke=\"black\" stroke-width=\"3\" /><line x1=\"3888.665996093752\" x2=\"3888.665996093752\" y1=\"25.0\" y2=\"675.0\" stroke=\"black\" stroke-width=\"3\" /><line x1=\"3995.181738281252\" x2=\"3995.181738281252\" y1=\"25.0\" y2=\"725.0\" stroke=\"black\" stroke-width=\"3\" /><line x1=\"4101.697480468752\" x2=\"4101.697480468752\" y1=\"25.0\" y2=\"775.0\" stroke=\"black\" stroke-width=\"3\" /><line x1=\"4208.213222656252\" x2=\"4208.213222656252\" y1=\"25.0\" y2=\"825.0\" stroke=\"black\" stroke-width=\"3\" /><line x1=\"4336.259433593752\" x2=\"4336.259433593752\" y1=\"25.0\" y2=\"75.0\" stroke=\"black\" stroke-width=\"3\" /><line x1=\"4485.8361132812515\" x2=\"4485.8361132812515\" y1=\"25.0\" y2=\"125.0\" stroke=\"black\" stroke-width=\"3\" /><line x1=\"4635.412792968751\" x2=\"4635.412792968751\" y1=\"25.0\" y2=\"175.0\" stroke=\"black\" stroke-width=\"3\" /><line x1=\"4784.989472656251\" x2=\"4784.989472656251\" y1=\"25.0\" y2=\"225.0\" stroke=\"black\" stroke-width=\"3\" /><line x1=\"4934.56615234375\" x2=\"4934.56615234375\" y1=\"25.0\" y2=\"275.0\" stroke=\"black\" stroke-width=\"3\" /><line x1=\"5084.14283203125\" x2=\"5084.14283203125\" y1=\"25.0\" y2=\"325.0\" stroke=\"black\" stroke-width=\"3\" /><line x1=\"5233.719511718749\" x2=\"5233.719511718749\" y1=\"25.0\" y2=\"375.0\" stroke=\"black\" stroke-width=\"3\" /><line x1=\"5383.296191406249\" x2=\"5383.296191406249\" y1=\"25.0\" y2=\"425.0\" stroke=\"black\" stroke-width=\"3\" /><line x1=\"5532.8728710937485\" x2=\"5532.8728710937485\" y1=\"25.0\" y2=\"475.0\" stroke=\"black\" stroke-width=\"3\" /><line x1=\"5682.449550781248\" x2=\"5682.449550781248\" y1=\"25.0\" y2=\"525.0\" stroke=\"black\" stroke-width=\"3\" /><line x1=\"5836.479843749998\" x2=\"5836.479843749998\" y1=\"25.0\" y2=\"575.0\" stroke=\"black\" stroke-width=\"3\" /><line x1=\"5994.963749999997\" x2=\"5994.963749999997\" y1=\"25.0\" y2=\"625.0\" stroke=\"black\" stroke-width=\"3\" /><line x1=\"6153.447656249997\" x2=\"6153.447656249997\" y1=\"25.0\" y2=\"675.0\" stroke=\"black\" stroke-width=\"3\" /><line x1=\"6311.931562499996\" x2=\"6311.931562499996\" y1=\"25.0\" y2=\"725.0\" stroke=\"black\" stroke-width=\"3\" /><line x1=\"6470.415468749996\" x2=\"6470.415468749996\" y1=\"25.0\" y2=\"775.0\" stroke=\"black\" stroke-width=\"3\" /><line x1=\"6628.899374999995\" x2=\"6628.899374999995\" y1=\"25.0\" y2=\"825.0\" stroke=\"black\" stroke-width=\"3\" /><rect x=\"10.0\" y=\"5.0\" width=\"59.62125\" height=\"40\" stroke=\"black\" fill=\"white\" stroke-width=\"0\" /><text x=\"39.810625\" y=\"25.0\" dominant-baseline=\"middle\" text-anchor=\"middle\" font-size=\"14px\" font-family=\"Arial\">(-1, -1): </text><rect x=\"10.0\" y=\"55.0\" width=\"59.62125\" height=\"40\" stroke=\"black\" fill=\"white\" stroke-width=\"0\" /><text x=\"39.810625\" y=\"75.0\" dominant-baseline=\"middle\" text-anchor=\"middle\" font-size=\"14px\" font-family=\"Arial\">(0, 0): </text><rect x=\"10.0\" y=\"105.0\" width=\"59.62125\" height=\"40\" stroke=\"black\" fill=\"white\" stroke-width=\"0\" /><text x=\"39.810625\" y=\"125.0\" dominant-baseline=\"middle\" text-anchor=\"middle\" font-size=\"14px\" font-family=\"Arial\">(0, 1): </text><rect x=\"10.0\" y=\"155.0\" width=\"59.62125\" height=\"40\" stroke=\"black\" fill=\"white\" stroke-width=\"0\" /><text x=\"39.810625\" y=\"175.0\" dominant-baseline=\"middle\" text-anchor=\"middle\" font-size=\"14px\" font-family=\"Arial\">(0, 2): </text><rect x=\"10.0\" y=\"205.0\" width=\"59.62125\" height=\"40\" stroke=\"black\" fill=\"white\" stroke-width=\"0\" /><text x=\"39.810625\" y=\"225.0\" dominant-baseline=\"middle\" text-anchor=\"middle\" font-size=\"14px\" font-family=\"Arial\">(0, 3): </text><rect x=\"10.0\" y=\"255.0\" width=\"59.62125\" height=\"40\" stroke=\"black\" fill=\"white\" stroke-width=\"0\" /><text x=\"39.810625\" y=\"275.0\" dominant-baseline=\"middle\" text-anchor=\"middle\" font-size=\"14px\" font-family=\"Arial\">(1, 0): </text><rect x=\"10.0\" y=\"305.0\" width=\"59.62125\" height=\"40\" stroke=\"black\" fill=\"white\" stroke-width=\"0\" /><text x=\"39.810625\" y=\"325.0\" dominant-baseline=\"middle\" text-anchor=\"middle\" font-size=\"14px\" font-family=\"Arial\">(1, 1): </text><rect x=\"10.0\" y=\"355.0\" width=\"59.62125\" height=\"40\" stroke=\"black\" fill=\"white\" stroke-width=\"0\" /><text x=\"39.810625\" y=\"375.0\" dominant-baseline=\"middle\" text-anchor=\"middle\" font-size=\"14px\" font-family=\"Arial\">(1, 2): </text><rect x=\"10.0\" y=\"405.0\" width=\"59.62125\" height=\"40\" stroke=\"black\" fill=\"white\" stroke-width=\"0\" /><text x=\"39.810625\" y=\"425.0\" dominant-baseline=\"middle\" text-anchor=\"middle\" font-size=\"14px\" font-family=\"Arial\">(1, 3): </text><rect x=\"10.0\" y=\"455.0\" width=\"59.62125\" height=\"40\" stroke=\"black\" fill=\"white\" stroke-width=\"0\" /><text x=\"39.810625\" y=\"475.0\" dominant-baseline=\"middle\" text-anchor=\"middle\" font-size=\"14px\" font-family=\"Arial\">(2, 0): </text><rect x=\"10.0\" y=\"505.0\" width=\"59.62125\" height=\"40\" stroke=\"black\" fill=\"white\" stroke-width=\"0\" /><text x=\"39.810625\" y=\"525.0\" dominant-baseline=\"middle\" text-anchor=\"middle\" font-size=\"14px\" font-family=\"Arial\">(2, 1): </text><rect x=\"10.0\" y=\"555.0\" width=\"59.62125\" height=\"40\" stroke=\"black\" fill=\"white\" stroke-width=\"0\" /><text x=\"39.810625\" y=\"575.0\" dominant-baseline=\"middle\" text-anchor=\"middle\" font-size=\"14px\" font-family=\"Arial\">(2, 2): </text><rect x=\"10.0\" y=\"605.0\" width=\"59.62125\" height=\"40\" stroke=\"black\" fill=\"white\" stroke-width=\"0\" /><text x=\"39.810625\" y=\"625.0\" dominant-baseline=\"middle\" text-anchor=\"middle\" font-size=\"14px\" font-family=\"Arial\">(2, 3): </text><rect x=\"10.0\" y=\"655.0\" width=\"59.62125\" height=\"40\" stroke=\"black\" fill=\"white\" stroke-width=\"0\" /><text x=\"39.810625\" y=\"675.0\" dominant-baseline=\"middle\" text-anchor=\"middle\" font-size=\"14px\" font-family=\"Arial\">(3, 0): </text><rect x=\"10.0\" y=\"705.0\" width=\"59.62125\" height=\"40\" stroke=\"black\" fill=\"white\" stroke-width=\"0\" /><text x=\"39.810625\" y=\"725.0\" dominant-baseline=\"middle\" text-anchor=\"middle\" font-size=\"14px\" font-family=\"Arial\">(3, 1): </text><rect x=\"10.0\" y=\"755.0\" width=\"59.62125\" height=\"40\" stroke=\"black\" fill=\"white\" stroke-width=\"0\" /><text x=\"39.810625\" y=\"775.0\" dominant-baseline=\"middle\" text-anchor=\"middle\" font-size=\"14px\" font-family=\"Arial\">(3, 2): </text><rect x=\"10.0\" y=\"805.0\" width=\"59.62125\" height=\"40\" stroke=\"black\" fill=\"white\" stroke-width=\"0\" /><text x=\"39.810625\" y=\"825.0\" dominant-baseline=\"middle\" text-anchor=\"middle\" font-size=\"14px\" font-family=\"Arial\">(3, 3): </text><rect x=\"89.62125\" y=\"5.0\" width=\"40\" height=\"40\" stroke=\"black\" fill=\"white\" stroke-width=\"1\" /><text x=\"109.62125\" y=\"25.0\" dominant-baseline=\"middle\" text-anchor=\"middle\" font-size=\"18px\" font-family=\"Arial\">X</text><rect x=\"149.62125\" y=\"5.0\" width=\"40\" height=\"40\" stroke=\"black\" fill=\"white\" stroke-width=\"1\" /><text x=\"169.62125\" y=\"25.0\" dominant-baseline=\"middle\" text-anchor=\"middle\" font-size=\"18px\" font-family=\"Arial\">H</text><rect x=\"209.62125000000003\" y=\"55.0\" width=\"129.57667968750002\" height=\"40\" stroke=\"black\" fill=\"white\" stroke-width=\"1\" /><text x=\"274.40958984375004\" y=\"75.0\" dominant-baseline=\"middle\" text-anchor=\"middle\" font-size=\"14px\" font-family=\"Arial\">iSwap^(ISWAP-0)</text><rect x=\"209.62125000000003\" y=\"5.0\" width=\"129.57667968750002\" height=\"40\" stroke=\"black\" fill=\"white\" stroke-width=\"1\" /><text x=\"274.40958984375004\" y=\"25.0\" dominant-baseline=\"middle\" text-anchor=\"middle\" font-size=\"14px\" font-family=\"Arial\">iSwap</text><rect x=\"359.19792968750005\" y=\"105.0\" width=\"129.57667968750002\" height=\"40\" stroke=\"black\" fill=\"white\" stroke-width=\"1\" /><text x=\"423.98626953125006\" y=\"125.0\" dominant-baseline=\"middle\" text-anchor=\"middle\" font-size=\"14px\" font-family=\"Arial\">iSwap^(ISWAP-1)</text><rect x=\"359.19792968750005\" y=\"5.0\" width=\"129.57667968750002\" height=\"40\" stroke=\"black\" fill=\"white\" stroke-width=\"1\" /><text x=\"423.98626953125006\" y=\"25.0\" dominant-baseline=\"middle\" text-anchor=\"middle\" font-size=\"14px\" font-family=\"Arial\">iSwap</text><rect x=\"508.77460937500007\" y=\"155.0\" width=\"129.57667968750002\" height=\"40\" stroke=\"black\" fill=\"white\" stroke-width=\"1\" /><text x=\"573.5629492187501\" y=\"175.0\" dominant-baseline=\"middle\" text-anchor=\"middle\" font-size=\"14px\" font-family=\"Arial\">iSwap^(ISWAP-2)</text><rect x=\"508.77460937500007\" y=\"5.0\" width=\"129.57667968750002\" height=\"40\" stroke=\"black\" fill=\"white\" stroke-width=\"1\" /><text x=\"573.5629492187501\" y=\"25.0\" dominant-baseline=\"middle\" text-anchor=\"middle\" font-size=\"14px\" font-family=\"Arial\">iSwap</text><rect x=\"658.3512890625001\" y=\"205.0\" width=\"129.57667968750002\" height=\"40\" stroke=\"black\" fill=\"white\" stroke-width=\"1\" /><text x=\"723.1396289062501\" y=\"225.0\" dominant-baseline=\"middle\" text-anchor=\"middle\" font-size=\"14px\" font-family=\"Arial\">iSwap^(ISWAP-3)</text><rect x=\"658.3512890625001\" y=\"5.0\" width=\"129.57667968750002\" height=\"40\" stroke=\"black\" fill=\"white\" stroke-width=\"1\" /><text x=\"723.1396289062501\" y=\"25.0\" dominant-baseline=\"middle\" text-anchor=\"middle\" font-size=\"14px\" font-family=\"Arial\">iSwap</text><rect x=\"807.9279687500001\" y=\"255.0\" width=\"129.57667968750002\" height=\"40\" stroke=\"black\" fill=\"white\" stroke-width=\"1\" /><text x=\"872.7163085937501\" y=\"275.0\" dominant-baseline=\"middle\" text-anchor=\"middle\" font-size=\"14px\" font-family=\"Arial\">iSwap^(ISWAP-4)</text><rect x=\"807.9279687500001\" y=\"5.0\" width=\"129.57667968750002\" height=\"40\" stroke=\"black\" fill=\"white\" stroke-width=\"1\" /><text x=\"872.7163085937501\" y=\"25.0\" dominant-baseline=\"middle\" text-anchor=\"middle\" font-size=\"14px\" font-family=\"Arial\">iSwap</text><rect x=\"957.5046484375001\" y=\"305.0\" width=\"129.57667968750002\" height=\"40\" stroke=\"black\" fill=\"white\" stroke-width=\"1\" /><text x=\"1022.2929882812501\" y=\"325.0\" dominant-baseline=\"middle\" text-anchor=\"middle\" font-size=\"14px\" font-family=\"Arial\">iSwap^(ISWAP-5)</text><rect x=\"957.5046484375001\" y=\"5.0\" width=\"129.57667968750002\" height=\"40\" stroke=\"black\" fill=\"white\" stroke-width=\"1\" /><text x=\"1022.2929882812501\" y=\"25.0\" dominant-baseline=\"middle\" text-anchor=\"middle\" font-size=\"14px\" font-family=\"Arial\">iSwap</text><rect x=\"1107.0813281250003\" y=\"355.0\" width=\"129.57667968750002\" height=\"40\" stroke=\"black\" fill=\"white\" stroke-width=\"1\" /><text x=\"1171.8696679687503\" y=\"375.0\" dominant-baseline=\"middle\" text-anchor=\"middle\" font-size=\"14px\" font-family=\"Arial\">iSwap^(ISWAP-6)</text><rect x=\"1107.0813281250003\" y=\"5.0\" width=\"129.57667968750002\" height=\"40\" stroke=\"black\" fill=\"white\" stroke-width=\"1\" /><text x=\"1171.8696679687503\" y=\"25.0\" dominant-baseline=\"middle\" text-anchor=\"middle\" font-size=\"14px\" font-family=\"Arial\">iSwap</text><rect x=\"1256.6580078125003\" y=\"405.0\" width=\"129.57667968750002\" height=\"40\" stroke=\"black\" fill=\"white\" stroke-width=\"1\" /><text x=\"1321.4463476562503\" y=\"425.0\" dominant-baseline=\"middle\" text-anchor=\"middle\" font-size=\"14px\" font-family=\"Arial\">iSwap^(ISWAP-7)</text><rect x=\"1256.6580078125003\" y=\"5.0\" width=\"129.57667968750002\" height=\"40\" stroke=\"black\" fill=\"white\" stroke-width=\"1\" /><text x=\"1321.4463476562503\" y=\"25.0\" dominant-baseline=\"middle\" text-anchor=\"middle\" font-size=\"14px\" font-family=\"Arial\">iSwap</text><rect x=\"1406.2346875000003\" y=\"455.0\" width=\"129.57667968750002\" height=\"40\" stroke=\"black\" fill=\"white\" stroke-width=\"1\" /><text x=\"1471.0230273437503\" y=\"475.0\" dominant-baseline=\"middle\" text-anchor=\"middle\" font-size=\"14px\" font-family=\"Arial\">iSwap^(ISWAP-8)</text><rect x=\"1406.2346875000003\" y=\"5.0\" width=\"129.57667968750002\" height=\"40\" stroke=\"black\" fill=\"white\" stroke-width=\"1\" /><text x=\"1471.0230273437503\" y=\"25.0\" dominant-baseline=\"middle\" text-anchor=\"middle\" font-size=\"14px\" font-family=\"Arial\">iSwap</text><rect x=\"1555.8113671875003\" y=\"505.0\" width=\"129.57667968750002\" height=\"40\" stroke=\"black\" fill=\"white\" stroke-width=\"1\" /><text x=\"1620.5997070312503\" y=\"525.0\" dominant-baseline=\"middle\" text-anchor=\"middle\" font-size=\"14px\" font-family=\"Arial\">iSwap^(ISWAP-9)</text><rect x=\"1555.8113671875003\" y=\"5.0\" width=\"129.57667968750002\" height=\"40\" stroke=\"black\" fill=\"white\" stroke-width=\"1\" /><text x=\"1620.5997070312503\" y=\"25.0\" dominant-baseline=\"middle\" text-anchor=\"middle\" font-size=\"14px\" font-family=\"Arial\">iSwap</text><rect x=\"1705.3880468750003\" y=\"555.0\" width=\"138.48390625000002\" height=\"40\" stroke=\"black\" fill=\"white\" stroke-width=\"1\" /><text x=\"1774.6300000000003\" y=\"575.0\" dominant-baseline=\"middle\" text-anchor=\"middle\" font-size=\"14px\" font-family=\"Arial\">iSwap^(ISWAP-10)</text><rect x=\"1705.3880468750003\" y=\"5.0\" width=\"138.48390625000002\" height=\"40\" stroke=\"black\" fill=\"white\" stroke-width=\"1\" /><text x=\"1774.6300000000003\" y=\"25.0\" dominant-baseline=\"middle\" text-anchor=\"middle\" font-size=\"14px\" font-family=\"Arial\">iSwap</text><rect x=\"1863.8719531250003\" y=\"605.0\" width=\"138.48390625000002\" height=\"40\" stroke=\"black\" fill=\"white\" stroke-width=\"1\" /><text x=\"1933.1139062500004\" y=\"625.0\" dominant-baseline=\"middle\" text-anchor=\"middle\" font-size=\"14px\" font-family=\"Arial\">iSwap^(ISWAP-11)</text><rect x=\"1863.8719531250003\" y=\"5.0\" width=\"138.48390625000002\" height=\"40\" stroke=\"black\" fill=\"white\" stroke-width=\"1\" /><text x=\"1933.1139062500004\" y=\"25.0\" dominant-baseline=\"middle\" text-anchor=\"middle\" font-size=\"14px\" font-family=\"Arial\">iSwap</text><rect x=\"2022.3558593750001\" y=\"655.0\" width=\"138.48390625000002\" height=\"40\" stroke=\"black\" fill=\"white\" stroke-width=\"1\" /><text x=\"2091.5978125\" y=\"675.0\" dominant-baseline=\"middle\" text-anchor=\"middle\" font-size=\"14px\" font-family=\"Arial\">iSwap^(ISWAP-12)</text><rect x=\"2022.3558593750001\" y=\"5.0\" width=\"138.48390625000002\" height=\"40\" stroke=\"black\" fill=\"white\" stroke-width=\"1\" /><text x=\"2091.5978125\" y=\"25.0\" dominant-baseline=\"middle\" text-anchor=\"middle\" font-size=\"14px\" font-family=\"Arial\">iSwap</text><rect x=\"2180.839765625001\" y=\"705.0\" width=\"138.48390625000002\" height=\"40\" stroke=\"black\" fill=\"white\" stroke-width=\"1\" /><text x=\"2250.0817187500006\" y=\"725.0\" dominant-baseline=\"middle\" text-anchor=\"middle\" font-size=\"14px\" font-family=\"Arial\">iSwap^(ISWAP-13)</text><rect x=\"2180.839765625001\" y=\"5.0\" width=\"138.48390625000002\" height=\"40\" stroke=\"black\" fill=\"white\" stroke-width=\"1\" /><text x=\"2250.0817187500006\" y=\"25.0\" dominant-baseline=\"middle\" text-anchor=\"middle\" font-size=\"14px\" font-family=\"Arial\">iSwap</text><rect x=\"2339.3236718750004\" y=\"755.0\" width=\"138.48390625000002\" height=\"40\" stroke=\"black\" fill=\"white\" stroke-width=\"1\" /><text x=\"2408.565625\" y=\"775.0\" dominant-baseline=\"middle\" text-anchor=\"middle\" font-size=\"14px\" font-family=\"Arial\">iSwap^(ISWAP-14)</text><rect x=\"2339.3236718750004\" y=\"5.0\" width=\"138.48390625000002\" height=\"40\" stroke=\"black\" fill=\"white\" stroke-width=\"1\" /><text x=\"2408.565625\" y=\"25.0\" dominant-baseline=\"middle\" text-anchor=\"middle\" font-size=\"14px\" font-family=\"Arial\">iSwap</text><rect x=\"2497.807578125001\" y=\"805.0\" width=\"138.48390625000002\" height=\"40\" stroke=\"black\" fill=\"white\" stroke-width=\"1\" /><text x=\"2567.0495312500007\" y=\"825.0\" dominant-baseline=\"middle\" text-anchor=\"middle\" font-size=\"14px\" font-family=\"Arial\">iSwap^(ISWAP-15)</text><rect x=\"2497.807578125001\" y=\"5.0\" width=\"138.48390625000002\" height=\"40\" stroke=\"black\" fill=\"white\" stroke-width=\"1\" /><text x=\"2567.0495312500007\" y=\"25.0\" dominant-baseline=\"middle\" text-anchor=\"middle\" font-size=\"14px\" font-family=\"Arial\">iSwap</text><rect x=\"2656.2914843750004\" y=\"55.0\" width=\"77.60851562500001\" height=\"40\" stroke=\"black\" fill=\"white\" stroke-width=\"1\" /><text x=\"2695.0957421875005\" y=\"75.0\" dominant-baseline=\"middle\" text-anchor=\"middle\" font-size=\"14px\" font-family=\"Arial\">@^(CZ-0)</text><circle cx=\"2695.0957421875005\" cy=\"25.0\" r=\"10.0\" /><rect x=\"2753.9000000000005\" y=\"105.0\" width=\"77.60851562500001\" height=\"40\" stroke=\"black\" fill=\"white\" stroke-width=\"1\" /><text x=\"2792.7042578125006\" y=\"125.0\" dominant-baseline=\"middle\" text-anchor=\"middle\" font-size=\"14px\" font-family=\"Arial\">@^(CZ-1)</text><circle cx=\"2792.7042578125006\" cy=\"25.0\" r=\"10.0\" /><rect x=\"2851.5085156250007\" y=\"155.0\" width=\"77.60851562500001\" height=\"40\" stroke=\"black\" fill=\"white\" stroke-width=\"1\" /><text x=\"2890.3127734375007\" y=\"175.0\" dominant-baseline=\"middle\" text-anchor=\"middle\" font-size=\"14px\" font-family=\"Arial\">@^(CZ-2)</text><circle cx=\"2890.3127734375007\" cy=\"25.0\" r=\"10.0\" /><rect x=\"2949.1170312500008\" y=\"205.0\" width=\"77.60851562500001\" height=\"40\" stroke=\"black\" fill=\"white\" stroke-width=\"1\" /><text x=\"2987.921289062501\" y=\"225.0\" dominant-baseline=\"middle\" text-anchor=\"middle\" font-size=\"14px\" font-family=\"Arial\">@^(CZ-3)</text><circle cx=\"2987.921289062501\" cy=\"25.0\" r=\"10.0\" /><rect x=\"3046.725546875001\" y=\"255.0\" width=\"77.60851562500001\" height=\"40\" stroke=\"black\" fill=\"white\" stroke-width=\"1\" /><text x=\"3085.529804687501\" y=\"275.0\" dominant-baseline=\"middle\" text-anchor=\"middle\" font-size=\"14px\" font-family=\"Arial\">@^(CZ-4)</text><circle cx=\"3085.529804687501\" cy=\"25.0\" r=\"10.0\" /><rect x=\"3144.334062500001\" y=\"305.0\" width=\"77.60851562500001\" height=\"40\" stroke=\"black\" fill=\"white\" stroke-width=\"1\" /><text x=\"3183.138320312501\" y=\"325.0\" dominant-baseline=\"middle\" text-anchor=\"middle\" font-size=\"14px\" font-family=\"Arial\">@^(CZ-5)</text><circle cx=\"3183.138320312501\" cy=\"25.0\" r=\"10.0\" /><rect x=\"3241.942578125001\" y=\"355.0\" width=\"77.60851562500001\" height=\"40\" stroke=\"black\" fill=\"white\" stroke-width=\"1\" /><text x=\"3280.746835937501\" y=\"375.0\" dominant-baseline=\"middle\" text-anchor=\"middle\" font-size=\"14px\" font-family=\"Arial\">@^(CZ-6)</text><circle cx=\"3280.746835937501\" cy=\"25.0\" r=\"10.0\" /><rect x=\"3339.551093750001\" y=\"405.0\" width=\"77.60851562500001\" height=\"40\" stroke=\"black\" fill=\"white\" stroke-width=\"1\" /><text x=\"3378.3553515625013\" y=\"425.0\" dominant-baseline=\"middle\" text-anchor=\"middle\" font-size=\"14px\" font-family=\"Arial\">@^(CZ-7)</text><circle cx=\"3378.3553515625013\" cy=\"25.0\" r=\"10.0\" /><rect x=\"3437.1596093750013\" y=\"455.0\" width=\"77.60851562500001\" height=\"40\" stroke=\"black\" fill=\"white\" stroke-width=\"1\" /><text x=\"3475.9638671875014\" y=\"475.0\" dominant-baseline=\"middle\" text-anchor=\"middle\" font-size=\"14px\" font-family=\"Arial\">@^(CZ-8)</text><circle cx=\"3475.9638671875014\" cy=\"25.0\" r=\"10.0\" /><rect x=\"3534.7681250000014\" y=\"505.0\" width=\"77.60851562500001\" height=\"40\" stroke=\"black\" fill=\"white\" stroke-width=\"1\" /><text x=\"3573.5723828125015\" y=\"525.0\" dominant-baseline=\"middle\" text-anchor=\"middle\" font-size=\"14px\" font-family=\"Arial\">@^(CZ-9)</text><circle cx=\"3573.5723828125015\" cy=\"25.0\" r=\"10.0\" /><rect x=\"3632.3766406250015\" y=\"555.0\" width=\"86.51574218750001\" height=\"40\" stroke=\"black\" fill=\"white\" stroke-width=\"1\" /><text x=\"3675.6345117187516\" y=\"575.0\" dominant-baseline=\"middle\" text-anchor=\"middle\" font-size=\"14px\" font-family=\"Arial\">@^(CZ-10)</text><circle cx=\"3675.6345117187516\" cy=\"25.0\" r=\"10.0\" /><rect x=\"3738.8923828125016\" y=\"605.0\" width=\"86.51574218750001\" height=\"40\" stroke=\"black\" fill=\"white\" stroke-width=\"1\" /><text x=\"3782.1502539062517\" y=\"625.0\" dominant-baseline=\"middle\" text-anchor=\"middle\" font-size=\"14px\" font-family=\"Arial\">@^(CZ-11)</text><circle cx=\"3782.1502539062517\" cy=\"25.0\" r=\"10.0\" /><rect x=\"3845.4081250000017\" y=\"655.0\" width=\"86.51574218750001\" height=\"40\" stroke=\"black\" fill=\"white\" stroke-width=\"1\" /><text x=\"3888.665996093752\" y=\"675.0\" dominant-baseline=\"middle\" text-anchor=\"middle\" font-size=\"14px\" font-family=\"Arial\">@^(CZ-12)</text><circle cx=\"3888.665996093752\" cy=\"25.0\" r=\"10.0\" /><rect x=\"3951.923867187502\" y=\"705.0\" width=\"86.51574218750001\" height=\"40\" stroke=\"black\" fill=\"white\" stroke-width=\"1\" /><text x=\"3995.181738281252\" y=\"725.0\" dominant-baseline=\"middle\" text-anchor=\"middle\" font-size=\"14px\" font-family=\"Arial\">@^(CZ-13)</text><circle cx=\"3995.181738281252\" cy=\"25.0\" r=\"10.0\" /><rect x=\"4058.4396093750015\" y=\"755.0\" width=\"86.51574218750001\" height=\"40\" stroke=\"black\" fill=\"white\" stroke-width=\"1\" /><text x=\"4101.697480468752\" y=\"775.0\" dominant-baseline=\"middle\" text-anchor=\"middle\" font-size=\"14px\" font-family=\"Arial\">@^(CZ-14)</text><circle cx=\"4101.697480468752\" cy=\"25.0\" r=\"10.0\" /><rect x=\"4164.955351562502\" y=\"805.0\" width=\"86.51574218750001\" height=\"40\" stroke=\"black\" fill=\"white\" stroke-width=\"1\" /><text x=\"4208.213222656252\" y=\"825.0\" dominant-baseline=\"middle\" text-anchor=\"middle\" font-size=\"14px\" font-family=\"Arial\">@^(CZ-15)</text><circle cx=\"4208.213222656252\" cy=\"25.0\" r=\"10.0\" /><rect x=\"4271.471093750002\" y=\"55.0\" width=\"129.57667968750002\" height=\"40\" stroke=\"black\" fill=\"white\" stroke-width=\"1\" /><text x=\"4336.259433593752\" y=\"75.0\" dominant-baseline=\"middle\" text-anchor=\"middle\" font-size=\"14px\" font-family=\"Arial\">iSwap^(ISWAP-0)</text><rect x=\"4271.471093750002\" y=\"5.0\" width=\"129.57667968750002\" height=\"40\" stroke=\"black\" fill=\"white\" stroke-width=\"1\" /><text x=\"4336.259433593752\" y=\"25.0\" dominant-baseline=\"middle\" text-anchor=\"middle\" font-size=\"14px\" font-family=\"Arial\">iSwap</text><rect x=\"4421.047773437502\" y=\"105.0\" width=\"129.57667968750002\" height=\"40\" stroke=\"black\" fill=\"white\" stroke-width=\"1\" /><text x=\"4485.8361132812515\" y=\"125.0\" dominant-baseline=\"middle\" text-anchor=\"middle\" font-size=\"14px\" font-family=\"Arial\">iSwap^(ISWAP-1)</text><rect x=\"4421.047773437502\" y=\"5.0\" width=\"129.57667968750002\" height=\"40\" stroke=\"black\" fill=\"white\" stroke-width=\"1\" /><text x=\"4485.8361132812515\" y=\"25.0\" dominant-baseline=\"middle\" text-anchor=\"middle\" font-size=\"14px\" font-family=\"Arial\">iSwap</text><rect x=\"4570.624453125001\" y=\"155.0\" width=\"129.57667968750002\" height=\"40\" stroke=\"black\" fill=\"white\" stroke-width=\"1\" /><text x=\"4635.412792968751\" y=\"175.0\" dominant-baseline=\"middle\" text-anchor=\"middle\" font-size=\"14px\" font-family=\"Arial\">iSwap^(ISWAP-2)</text><rect x=\"4570.624453125001\" y=\"5.0\" width=\"129.57667968750002\" height=\"40\" stroke=\"black\" fill=\"white\" stroke-width=\"1\" /><text x=\"4635.412792968751\" y=\"25.0\" dominant-baseline=\"middle\" text-anchor=\"middle\" font-size=\"14px\" font-family=\"Arial\">iSwap</text><rect x=\"4720.201132812501\" y=\"205.0\" width=\"129.57667968750002\" height=\"40\" stroke=\"black\" fill=\"white\" stroke-width=\"1\" /><text x=\"4784.989472656251\" y=\"225.0\" dominant-baseline=\"middle\" text-anchor=\"middle\" font-size=\"14px\" font-family=\"Arial\">iSwap^(ISWAP-3)</text><rect x=\"4720.201132812501\" y=\"5.0\" width=\"129.57667968750002\" height=\"40\" stroke=\"black\" fill=\"white\" stroke-width=\"1\" /><text x=\"4784.989472656251\" y=\"25.0\" dominant-baseline=\"middle\" text-anchor=\"middle\" font-size=\"14px\" font-family=\"Arial\">iSwap</text><rect x=\"4869.7778125\" y=\"255.0\" width=\"129.57667968750002\" height=\"40\" stroke=\"black\" fill=\"white\" stroke-width=\"1\" /><text x=\"4934.56615234375\" y=\"275.0\" dominant-baseline=\"middle\" text-anchor=\"middle\" font-size=\"14px\" font-family=\"Arial\">iSwap^(ISWAP-4)</text><rect x=\"4869.7778125\" y=\"5.0\" width=\"129.57667968750002\" height=\"40\" stroke=\"black\" fill=\"white\" stroke-width=\"1\" /><text x=\"4934.56615234375\" y=\"25.0\" dominant-baseline=\"middle\" text-anchor=\"middle\" font-size=\"14px\" font-family=\"Arial\">iSwap</text><rect x=\"5019.3544921875\" y=\"305.0\" width=\"129.57667968750002\" height=\"40\" stroke=\"black\" fill=\"white\" stroke-width=\"1\" /><text x=\"5084.14283203125\" y=\"325.0\" dominant-baseline=\"middle\" text-anchor=\"middle\" font-size=\"14px\" font-family=\"Arial\">iSwap^(ISWAP-5)</text><rect x=\"5019.3544921875\" y=\"5.0\" width=\"129.57667968750002\" height=\"40\" stroke=\"black\" fill=\"white\" stroke-width=\"1\" /><text x=\"5084.14283203125\" y=\"25.0\" dominant-baseline=\"middle\" text-anchor=\"middle\" font-size=\"14px\" font-family=\"Arial\">iSwap</text><rect x=\"5168.931171875\" y=\"355.0\" width=\"129.57667968750002\" height=\"40\" stroke=\"black\" fill=\"white\" stroke-width=\"1\" /><text x=\"5233.719511718749\" y=\"375.0\" dominant-baseline=\"middle\" text-anchor=\"middle\" font-size=\"14px\" font-family=\"Arial\">iSwap^(ISWAP-6)</text><rect x=\"5168.931171875\" y=\"5.0\" width=\"129.57667968750002\" height=\"40\" stroke=\"black\" fill=\"white\" stroke-width=\"1\" /><text x=\"5233.719511718749\" y=\"25.0\" dominant-baseline=\"middle\" text-anchor=\"middle\" font-size=\"14px\" font-family=\"Arial\">iSwap</text><rect x=\"5318.507851562499\" y=\"405.0\" width=\"129.57667968750002\" height=\"40\" stroke=\"black\" fill=\"white\" stroke-width=\"1\" /><text x=\"5383.296191406249\" y=\"425.0\" dominant-baseline=\"middle\" text-anchor=\"middle\" font-size=\"14px\" font-family=\"Arial\">iSwap^(ISWAP-7)</text><rect x=\"5318.507851562499\" y=\"5.0\" width=\"129.57667968750002\" height=\"40\" stroke=\"black\" fill=\"white\" stroke-width=\"1\" /><text x=\"5383.296191406249\" y=\"25.0\" dominant-baseline=\"middle\" text-anchor=\"middle\" font-size=\"14px\" font-family=\"Arial\">iSwap</text><rect x=\"5468.084531249999\" y=\"455.0\" width=\"129.57667968750002\" height=\"40\" stroke=\"black\" fill=\"white\" stroke-width=\"1\" /><text x=\"5532.8728710937485\" y=\"475.0\" dominant-baseline=\"middle\" text-anchor=\"middle\" font-size=\"14px\" font-family=\"Arial\">iSwap^(ISWAP-8)</text><rect x=\"5468.084531249999\" y=\"5.0\" width=\"129.57667968750002\" height=\"40\" stroke=\"black\" fill=\"white\" stroke-width=\"1\" /><text x=\"5532.8728710937485\" y=\"25.0\" dominant-baseline=\"middle\" text-anchor=\"middle\" font-size=\"14px\" font-family=\"Arial\">iSwap</text><rect x=\"5617.661210937498\" y=\"505.0\" width=\"129.57667968750002\" height=\"40\" stroke=\"black\" fill=\"white\" stroke-width=\"1\" /><text x=\"5682.449550781248\" y=\"525.0\" dominant-baseline=\"middle\" text-anchor=\"middle\" font-size=\"14px\" font-family=\"Arial\">iSwap^(ISWAP-9)</text><rect x=\"5617.661210937498\" y=\"5.0\" width=\"129.57667968750002\" height=\"40\" stroke=\"black\" fill=\"white\" stroke-width=\"1\" /><text x=\"5682.449550781248\" y=\"25.0\" dominant-baseline=\"middle\" text-anchor=\"middle\" font-size=\"14px\" font-family=\"Arial\">iSwap</text><rect x=\"5767.237890624998\" y=\"555.0\" width=\"138.48390625000002\" height=\"40\" stroke=\"black\" fill=\"white\" stroke-width=\"1\" /><text x=\"5836.479843749998\" y=\"575.0\" dominant-baseline=\"middle\" text-anchor=\"middle\" font-size=\"14px\" font-family=\"Arial\">iSwap^(ISWAP-10)</text><rect x=\"5767.237890624998\" y=\"5.0\" width=\"138.48390625000002\" height=\"40\" stroke=\"black\" fill=\"white\" stroke-width=\"1\" /><text x=\"5836.479843749998\" y=\"25.0\" dominant-baseline=\"middle\" text-anchor=\"middle\" font-size=\"14px\" font-family=\"Arial\">iSwap</text><rect x=\"5925.721796874997\" y=\"605.0\" width=\"138.48390625000002\" height=\"40\" stroke=\"black\" fill=\"white\" stroke-width=\"1\" /><text x=\"5994.963749999997\" y=\"625.0\" dominant-baseline=\"middle\" text-anchor=\"middle\" font-size=\"14px\" font-family=\"Arial\">iSwap^(ISWAP-11)</text><rect x=\"5925.721796874997\" y=\"5.0\" width=\"138.48390625000002\" height=\"40\" stroke=\"black\" fill=\"white\" stroke-width=\"1\" /><text x=\"5994.963749999997\" y=\"25.0\" dominant-baseline=\"middle\" text-anchor=\"middle\" font-size=\"14px\" font-family=\"Arial\">iSwap</text><rect x=\"6084.205703124997\" y=\"655.0\" width=\"138.48390625000002\" height=\"40\" stroke=\"black\" fill=\"white\" stroke-width=\"1\" /><text x=\"6153.447656249997\" y=\"675.0\" dominant-baseline=\"middle\" text-anchor=\"middle\" font-size=\"14px\" font-family=\"Arial\">iSwap^(ISWAP-12)</text><rect x=\"6084.205703124997\" y=\"5.0\" width=\"138.48390625000002\" height=\"40\" stroke=\"black\" fill=\"white\" stroke-width=\"1\" /><text x=\"6153.447656249997\" y=\"25.0\" dominant-baseline=\"middle\" text-anchor=\"middle\" font-size=\"14px\" font-family=\"Arial\">iSwap</text><rect x=\"6242.6896093749965\" y=\"705.0\" width=\"138.48390625000002\" height=\"40\" stroke=\"black\" fill=\"white\" stroke-width=\"1\" /><text x=\"6311.931562499996\" y=\"725.0\" dominant-baseline=\"middle\" text-anchor=\"middle\" font-size=\"14px\" font-family=\"Arial\">iSwap^(ISWAP-13)</text><rect x=\"6242.6896093749965\" y=\"5.0\" width=\"138.48390625000002\" height=\"40\" stroke=\"black\" fill=\"white\" stroke-width=\"1\" /><text x=\"6311.931562499996\" y=\"25.0\" dominant-baseline=\"middle\" text-anchor=\"middle\" font-size=\"14px\" font-family=\"Arial\">iSwap</text><rect x=\"6401.173515624996\" y=\"755.0\" width=\"138.48390625000002\" height=\"40\" stroke=\"black\" fill=\"white\" stroke-width=\"1\" /><text x=\"6470.415468749996\" y=\"775.0\" dominant-baseline=\"middle\" text-anchor=\"middle\" font-size=\"14px\" font-family=\"Arial\">iSwap^(ISWAP-14)</text><rect x=\"6401.173515624996\" y=\"5.0\" width=\"138.48390625000002\" height=\"40\" stroke=\"black\" fill=\"white\" stroke-width=\"1\" /><text x=\"6470.415468749996\" y=\"25.0\" dominant-baseline=\"middle\" text-anchor=\"middle\" font-size=\"14px\" font-family=\"Arial\">iSwap</text><rect x=\"6559.657421874996\" y=\"805.0\" width=\"138.48390625000002\" height=\"40\" stroke=\"black\" fill=\"white\" stroke-width=\"1\" /><text x=\"6628.899374999995\" y=\"825.0\" dominant-baseline=\"middle\" text-anchor=\"middle\" font-size=\"14px\" font-family=\"Arial\">iSwap^(ISWAP-15)</text><rect x=\"6559.657421874996\" y=\"5.0\" width=\"138.48390625000002\" height=\"40\" stroke=\"black\" fill=\"white\" stroke-width=\"1\" /><text x=\"6628.899374999995\" y=\"25.0\" dominant-baseline=\"middle\" text-anchor=\"middle\" font-size=\"14px\" font-family=\"Arial\">iSwap</text><rect x=\"6718.141328124995\" y=\"5.0\" width=\"40\" height=\"40\" stroke=\"black\" fill=\"white\" stroke-width=\"1\" /><text x=\"6738.141328124995\" y=\"25.0\" dominant-baseline=\"middle\" text-anchor=\"middle\" font-size=\"18px\" font-family=\"Arial\">H</text></svg>"
          },
          "metadata": {},
          "execution_count": 33
        },
        {
          "output_type": "display_data",
          "data": {
            "text/plain": [
              "<Figure size 900x540 with 2 Axes>"
            ],
            "image/png": "[encoded data removed]"
          },
          "metadata": {
            "needs_background": "light"
          }
        }
      ]
    },
    {
      "cell_type": "markdown",
      "source": [
        "##Circuit #3 - design and results"
      ],
      "metadata": {
        "id": "fYv35ZI44aMk"
      }
    },
    {
      "cell_type": "code",
      "source": [
        "SVGCircuit(experiment_reveal(experiment_log, 3))"
      ],
      "metadata": {
        "id": "RbV0WgAU4aMp",
        "colab": {
          "base_uri": "https://localhost:8080/",
          "height": 546
        },
        "outputId": "cbe7c2a1-3743-4dca-9363-676007980621"
      },
      "execution_count": 25,
      "outputs": [
        {
          "output_type": "error",
          "ename": "KeyError",
          "evalue": "ignored",
          "traceback": [
            "\u001b[0;31m---------------------------------------------------------------------------\u001b[0m",
            "\u001b[0;31mKeyError\u001b[0m                                  Traceback (most recent call last)",
            "\u001b[0;32m<ipython-input-25-79ad679b13a5>\u001b[0m in \u001b[0;36m<module>\u001b[0;34m()\u001b[0m\n\u001b[0;32m----> 1\u001b[0;31m \u001b[0mSVGCircuit\u001b[0m\u001b[0;34m(\u001b[0m\u001b[0mexperiment_reveal\u001b[0m\u001b[0;34m(\u001b[0m\u001b[0mexperiment_log\u001b[0m\u001b[0;34m,\u001b[0m \u001b[0;36m3\u001b[0m\u001b[0;34m)\u001b[0m\u001b[0;34m)\u001b[0m\u001b[0;34m\u001b[0m\u001b[0;34m\u001b[0m\u001b[0m\n\u001b[0m",
            "\u001b[0;32m<ipython-input-8-c023ac8235d9>\u001b[0m in \u001b[0;36mexperiment_reveal\u001b[0;34m(log, run)\u001b[0m\n\u001b[1;32m      3\u001b[0m \u001b[0;34m\u001b[0m\u001b[0m\n\u001b[1;32m      4\u001b[0m   \u001b[0mfig\u001b[0m\u001b[0;34m,\u001b[0m \u001b[0;34m(\u001b[0m\u001b[0max1\u001b[0m\u001b[0;34m,\u001b[0m \u001b[0max2\u001b[0m\u001b[0;34m)\u001b[0m \u001b[0;34m=\u001b[0m \u001b[0mpyplot\u001b[0m\u001b[0;34m.\u001b[0m\u001b[0msubplots\u001b[0m\u001b[0;34m(\u001b[0m\u001b[0;36m2\u001b[0m\u001b[0;34m)\u001b[0m\u001b[0;34m\u001b[0m\u001b[0;34m\u001b[0m\u001b[0m\n\u001b[0;32m----> 5\u001b[0;31m   \u001b[0mpyplot\u001b[0m\u001b[0;34m.\u001b[0m\u001b[0mtitle\u001b[0m\u001b[0;34m(\u001b[0m\u001b[0;34m'MSE Loss and Accuracy of %s gated Parametrized Quantum Circuit'\u001b[0m \u001b[0;34m%\u001b[0m \u001b[0;34m(\u001b[0m\u001b[0mlog\u001b[0m\u001b[0;34m[\u001b[0m\u001b[0mrun\u001b[0m\u001b[0;34m]\u001b[0m\u001b[0;34m[\u001b[0m\u001b[0;34m'gates'\u001b[0m\u001b[0;34m]\u001b[0m\u001b[0;34m)\u001b[0m\u001b[0;34m,\u001b[0m \u001b[0mfontdict\u001b[0m \u001b[0;34m=\u001b[0m \u001b[0;34m{\u001b[0m\u001b[0;34m'fontsize'\u001b[0m \u001b[0;34m:\u001b[0m\u001b[0;36m16\u001b[0m\u001b[0;34m}\u001b[0m\u001b[0;34m)\u001b[0m\u001b[0;34m\u001b[0m\u001b[0;34m\u001b[0m\u001b[0m\n\u001b[0m\u001b[1;32m      6\u001b[0m \u001b[0;34m\u001b[0m\u001b[0m\n\u001b[1;32m      7\u001b[0m   \u001b[0max1\u001b[0m\u001b[0;34m.\u001b[0m\u001b[0mplot\u001b[0m\u001b[0;34m(\u001b[0m\u001b[0mlog\u001b[0m\u001b[0;34m[\u001b[0m\u001b[0mrun\u001b[0m\u001b[0;34m]\u001b[0m\u001b[0;34m[\u001b[0m\u001b[0;34m'history'\u001b[0m\u001b[0;34m]\u001b[0m\u001b[0;34m.\u001b[0m\u001b[0mhistory\u001b[0m\u001b[0;34m[\u001b[0m\u001b[0;34m'loss'\u001b[0m\u001b[0;34m]\u001b[0m\u001b[0;34m)\u001b[0m\u001b[0;34m\u001b[0m\u001b[0;34m\u001b[0m\u001b[0m\n",
            "\u001b[0;31mKeyError\u001b[0m: 3"
          ]
        },
        {
          "output_type": "display_data",
          "data": {
            "text/plain": [
              "<Figure size 432x288 with 2 Axes>"
            ],
            "image/png": "[encoded data removed]"
          },
          "metadata": {
            "needs_background": "light"
          }
        }
      ]
    },
    {
      "cell_type": "markdown",
      "source": [
        "##Circuit #4 - design and results"
      ],
      "metadata": {
        "id": "svRcWAjn45ZQ"
      }
    },
    {
      "cell_type": "code",
      "source": [
        "SVGCircuit(experiment_reveal(experiment_log, 4))"
      ],
      "metadata": {
        "id": "7xoCWr3a45ZU"
      },
      "execution_count": null,
      "outputs": []
    },
    {
      "cell_type": "markdown",
      "source": [
        "##Circuit #5 - design and results"
      ],
      "metadata": {
        "id": "sDBay62S5Km9"
      }
    },
    {
      "cell_type": "code",
      "source": [
        "SVGCircuit(experiment_reveal(experiment_log, 5))"
      ],
      "metadata": {
        "id": "D0nACPi55KnC"
      },
      "execution_count": null,
      "outputs": []
    },
    {
      "cell_type": "markdown",
      "source": [
        "##Circuit #6 - design and results"
      ],
      "metadata": {
        "id": "MtyRVZkD5X5O"
      }
    },
    {
      "cell_type": "code",
      "source": [
        "SVGCircuit(experiment_reveal(experiment_log, 6))"
      ],
      "metadata": {
        "id": "OJ7521sc5X5T"
      },
      "execution_count": null,
      "outputs": []
    },
    {
      "cell_type": "markdown",
      "source": [
        "##Circuit #7 - design and results"
      ],
      "metadata": {
        "id": "zvP9Tzd65kec"
      }
    },
    {
      "cell_type": "code",
      "source": [
        "SVGCircuit(experiment_reveal(experiment_log, 7))"
      ],
      "metadata": {
        "id": "Cf-XNQ-G5keh"
      },
      "execution_count": null,
      "outputs": []
    },
    {
      "cell_type": "markdown",
      "source": [
        "##Circuit #8 - design and results"
      ],
      "metadata": {
        "id": "b7iWeAiR53pm"
      }
    },
    {
      "cell_type": "code",
      "source": [
        "SVGCircuit(experiment_reveal(experiment_log, 8))"
      ],
      "metadata": {
        "id": "qtBk5DPx53ps"
      },
      "execution_count": null,
      "outputs": []
    },
    {
      "cell_type": "markdown",
      "source": [
        "##Circuit #9 - design and results"
      ],
      "metadata": {
        "id": "AZHzNo1t6U7C"
      }
    },
    {
      "cell_type": "code",
      "source": [
        "SVGCircuit(experiment_reveal(experiment_log, 9))"
      ],
      "metadata": {
        "id": "DzGdRmRU6U7H"
      },
      "execution_count": null,
      "outputs": []
    },
    {
      "cell_type": "markdown",
      "source": [
        "##Circuit #10 - design and results"
      ],
      "metadata": {
        "id": "8glb7BvI6twm"
      }
    },
    {
      "cell_type": "code",
      "source": [
        "SVGCircuit(experiment_reveal(experiment_log, 10))"
      ],
      "metadata": {
        "id": "MMj9DQoT6tws"
      },
      "execution_count": null,
      "outputs": []
    },
    {
      "cell_type": "markdown",
      "source": [
        "##Circuit #11 - design and results"
      ],
      "metadata": {
        "id": "GqSk7Dq2pdEF"
      }
    },
    {
      "cell_type": "code",
      "source": [
        "SVGCircuit(experiment_reveal(experiment_log, 11))"
      ],
      "metadata": {
        "id": "B6pxCMUZ6Ukh"
      },
      "execution_count": null,
      "outputs": []
    },
    {
      "cell_type": "markdown",
      "source": [
        "##Circuit #12 - design and results"
      ],
      "metadata": {
        "id": "nlrANJYxphU6"
      }
    },
    {
      "cell_type": "code",
      "source": [
        "SVGCircuit(experiment_reveal(experiment_log, 12))"
      ],
      "metadata": {
        "id": "uqB59fR39LZU"
      },
      "execution_count": null,
      "outputs": []
    },
    {
      "cell_type": "markdown",
      "source": [
        "##Circuit #13 - design and results"
      ],
      "metadata": {
        "id": "ViKdyp0ypjUV"
      }
    },
    {
      "cell_type": "code",
      "source": [
        "SVGCircuit(experiment_reveal(experiment_log, 13))"
      ],
      "metadata": {
        "id": "LKHgPV_J9LiP"
      },
      "execution_count": null,
      "outputs": []
    },
    {
      "cell_type": "markdown",
      "source": [
        "##Circuit #14 - design and results"
      ],
      "metadata": {
        "id": "agbzo32vpl8H"
      }
    },
    {
      "cell_type": "code",
      "source": [
        "SVGCircuit(experiment_reveal(experiment_log, 14))"
      ],
      "metadata": {
        "id": "wM_oF6YO9Lr8"
      },
      "execution_count": null,
      "outputs": []
    },
    {
      "cell_type": "markdown",
      "source": [
        "##Circuit #15 - design and results"
      ],
      "metadata": {
        "id": "sM3rsi4DpoOd"
      }
    },
    {
      "cell_type": "code",
      "source": [
        "SVGCircuit(experiment_reveal(experiment_log, 14))"
      ],
      "metadata": {
        "id": "P5Bz--AU9LzH"
      },
      "execution_count": null,
      "outputs": []
    }
  ]
}
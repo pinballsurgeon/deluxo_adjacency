{
  "nbformat": 4,
  "nbformat_minor": 0,
  "metadata": {
    "colab": {
      "name": "auto_circuits_humongous.ipynb",
      "provenance": [],
      "collapsed_sections": [
        "nqPSJ6Izm5GZ",
        "EgOLMHAQwd-S",
        "TJlbByAk3buT"
      ],
      "authorship_tag": "ABX9TyMkxuYeqAmmie0oYo/KetEL",
      "include_colab_link": true
    },
    "kernelspec": {
      "name": "python3",
      "display_name": "Python 3"
    },
    "language_info": {
      "name": "python"
    },
    "accelerator": "GPU",
    "gpuClass": "standard"
  },
  "cells": [
    {
      "cell_type": "markdown",
      "metadata": {
        "id": "view-in-github",
        "colab_type": "text"
      },
      "source": [
        "<a href=\"https://colab.research.google.com/github/pinballsurgeon/deluxo_adjacency/blob/main/auto_circuits_humongous.ipynb\" target=\"_parent\"><img src=\"https://colab.research.google.com/assets/colab-badge.svg\" alt=\"Open In Colab\"/></a>"
      ]
    },
    {
      "cell_type": "markdown",
      "source": [
        "# Auto Quantum Circuits\n",
        "#### dehls - pinballsurgeon@gmail.com"
      ],
      "metadata": {
        "id": "dhwB9OhHwgvh"
      }
    },
    {
      "cell_type": "markdown",
      "source": [
        "###Installs"
      ],
      "metadata": {
        "id": "nqPSJ6Izm5GZ"
      }
    },
    {
      "cell_type": "code",
      "execution_count": 44,
      "metadata": {
        "id": "kL3NaosJFyiz"
      },
      "outputs": [],
      "source": [
        "# tensorflow quantum\n",
        "!pip install --quiet tensorflow_quantum\n",
        "\n",
        "# bloch sphere\n",
        "!pip install --quiet qutip"
      ]
    },
    {
      "cell_type": "markdown",
      "source": [
        "###Imports"
      ],
      "metadata": {
        "id": "EgOLMHAQwd-S"
      }
    },
    {
      "cell_type": "code",
      "source": [
        "### standard dan-dards\n",
        "import cirq\n",
        "import sympy\n",
        "import tensorflow\n",
        "import numpy\n",
        "import gc\n",
        "import random\n",
        "\n",
        "# metric plotting\n",
        "%matplotlib inline\n",
        "from matplotlib import pyplot\n",
        "from matplotlib.pyplot import figure\n",
        "\n",
        "# tf quantum\n",
        "import tensorflow_quantum\n",
        "\n",
        "# circuit/operations visualizers\n",
        "import qutip\n",
        "from cirq.contrib.svg import SVGCircuit"
      ],
      "metadata": {
        "id": "DUlhaeoeGPop"
      },
      "execution_count": 45,
      "outputs": []
    },
    {
      "cell_type": "markdown",
      "source": [
        "###Experiment configuration and hyper-parameters"
      ],
      "metadata": {
        "id": "T3MEaAhvLPiZ"
      }
    },
    {
      "cell_type": "code",
      "source": [
        "### Define your quantum machine learning experiment, the values here are optimized for best 'Colab free-tier' experience\n",
        "\n",
        "# qubit grid sizes - how big do you want your circuit's grid size range to be\n",
        "experiment_grid_sizes = [2, 3, 4]\n",
        "\n",
        "# experiment count - how many arrangements of gates\n",
        "experiment_runs = 5\n",
        "\n",
        "# gate combination range - how many, or few, combination of gates per experiemental run\n",
        "min_gate_cobination = 1\n",
        "max_gate_cobination = 4\n",
        "\n",
        "# cirq gates to hyperparameterize\n",
        "gate_mix = [cirq.CZ\n",
        "           ,cirq.CNOT\n",
        "           ,cirq.XX\n",
        "           ,cirq.ISWAP\n",
        "           ,cirq.ZZ\n",
        "           ,cirq.SWAP\n",
        "           ,cirq.YY]\n",
        "\n",
        "\n",
        "# learning parameters\n",
        "EPOCHS = 8\n",
        "BATCH_SIZE = 25\n",
        "ADAM_OPTIMIZER_LEARNING_RATE = 0.11\n",
        "\n",
        "# for MINST binary classifier, pick a single digit for TARGET and a single digit for JUNK\n",
        "target_mnist_digit = 3\n",
        "junk_mnist_digit = 4\n",
        "\n"
      ],
      "metadata": {
        "id": "3kA2XNoJLOki"
      },
      "execution_count": 46,
      "outputs": []
    },
    {
      "cell_type": "markdown",
      "source": [
        "###Helper Functions"
      ],
      "metadata": {
        "id": "TJlbByAk3buT"
      }
    },
    {
      "cell_type": "code",
      "source": [
        "### Initialize circuit - given a data and out qubit structure, build dynamic circuit\n",
        "class circuit_struct():\n",
        "    def __init__(self, data_qubits, readout):\n",
        "        self.data_qubits = data_qubits\n",
        "        self.readout = readout\n",
        "    \n",
        "    def add_layer(self, circuit, gate, prefix):\n",
        "        for i, qubit in enumerate(self.data_qubits):\n",
        "            symbol = sympy.Symbol(prefix + '-' + str(i))\n",
        "            circuit.append(gate(qubit, self.readout)**symbol)"
      ],
      "metadata": {
        "id": "nvcBT4RIGP3Y"
      },
      "execution_count": 47,
      "outputs": []
    },
    {
      "cell_type": "code",
      "source": [
        "### Populate circuit with gates - given a combination of qubit grid size and gate population, build \n",
        "def create_quantum_model(gridSize, hyperGates):\n",
        "\n",
        "    # cirq\n",
        "    data_qubits = cirq.GridQubit.rect(gridSize, gridSize)\n",
        "    readout = cirq.GridQubit(-1, -1)         \n",
        "    circuit = cirq.Circuit()\n",
        "    \n",
        "    # prepare the readout qubit\n",
        "    circuit.append(cirq.X(readout))\n",
        "    circuit.append(cirq.H(readout))\n",
        "    \n",
        "    # create qubit\n",
        "    builder = circuit_struct(\n",
        "        data_qubits = data_qubits,\n",
        "        readout=readout)\n",
        "\n",
        "    # buid layers\n",
        "    for gate in hyperGates:\n",
        "\n",
        "      # add specified gate and name\n",
        "      builder.add_layer(circuit, gate, str(gate))\n",
        "   \n",
        "    # prepare the readout qubit\n",
        "    circuit.append(cirq.H(readout))\n",
        "\n",
        "    return circuit, cirq.Z(readout)"
      ],
      "metadata": {
        "id": "c_eitDLdGQE5"
      },
      "execution_count": 48,
      "outputs": []
    },
    {
      "cell_type": "code",
      "source": [
        "### image pixels to qubit\n",
        "def convert_to_circuit(image):\n",
        "\n",
        "    # flatten array\n",
        "    values = numpy.ndarray.flatten(image)\n",
        "    \n",
        "    # establish 4x4 circuit\n",
        "    qubits = cirq.GridQubit.rect(4, 4)\n",
        "    circuit = cirq.Circuit()\n",
        "\n",
        "    # \n",
        "    for i, value in enumerate(values):\n",
        "        if value:\n",
        "            circuit.append(cirq.X(qubits[i]))\n",
        "    return circuit"
      ],
      "metadata": {
        "id": "ISAOn5Aa-CXb"
      },
      "execution_count": 49,
      "outputs": []
    },
    {
      "cell_type": "code",
      "source": [
        "### this example is for binary classification, so only keep one MNIST class/digit as target, and then one other as NON-TARGET/JUNK\n",
        "def binary_filter(x, y):\n",
        "\n",
        "    # identify rows that will be kept\n",
        "    keep = (y == target_mnist_digit) | (y == junk_mnist_digit)\n",
        "    \n",
        "    # remove excess\n",
        "    x, y = x[keep], y[keep]\n",
        "\n",
        "    # establish target 1/0\n",
        "    y = y == target_mnist_digit\n",
        " \n",
        "    return x,y"
      ],
      "metadata": {
        "id": "A68jGN3KPo5F"
      },
      "execution_count": 50,
      "outputs": []
    },
    {
      "cell_type": "code",
      "source": [
        "### reveal experiment results per run\n",
        "def experiment_reveal(log, run):\n",
        "\n",
        "  fig, (ax1, ax2) = pyplot.subplots(2)\n",
        "  pyplot.title('MSE Loss and Accuracy of %s gated Parametrized Quantum Circuit' % (log[run]['gates']), fontdict = {'fontsize' :16})\n",
        "\n",
        "  ax1.plot(log[run]['history'].history['loss'])\n",
        "  ax1.plot(log[run]['history'].history['val_loss'])\n",
        "  ax1.set_ylabel('MSE')\n",
        "\n",
        "  ax2.plot(log[run]['history'].history['accuracy'])\n",
        "  ax2.plot(log[run]['history'].history['val_accuracy'])\n",
        "  ax2.set_ylabel('Accuracy')\n",
        "  ax2.set_xlabel('Epochs')\n",
        "  \n",
        "  fig = pyplot.gcf()\n",
        "  fig.set_size_inches(12.5, 7.5)\n",
        "\n",
        "  return log[run]['circuit']\n"
      ],
      "metadata": {
        "id": "oukNDFyXTTec"
      },
      "execution_count": 51,
      "outputs": []
    },
    {
      "cell_type": "markdown",
      "source": [
        "###Build experiment circuits and gates"
      ],
      "metadata": {
        "id": "Yhv6ZWH4mcpf"
      }
    },
    {
      "cell_type": "code",
      "source": [
        "### build experiment\n",
        "\n",
        "experiment_design = []\n",
        "\n",
        "# given experiement design parameters, build experiment(s)\n",
        "for run in range(1, experiment_runs+1):\n",
        "\n",
        "  # gate combination\n",
        "  gate_combination = random.choices(gate_mix, k=random.randrange(min_gate_cobination, max_gate_cobination))\n",
        "\n",
        "  # print random experiment gate participants\n",
        "  print('Experiment %d Gates:' % run); print(gate_combination); print('')\n",
        "\n",
        "  # build experiment\n",
        "  experiment_design.append(gate_combination)\n"
      ],
      "metadata": {
        "colab": {
          "base_uri": "https://localhost:8080/"
        },
        "id": "BVngC51whQjI",
        "outputId": "6d8cc2c1-6a5e-4fe6-d993-1cdecd69cc5c"
      },
      "execution_count": 52,
      "outputs": [
        {
          "output_type": "stream",
          "name": "stdout",
          "text": [
            "Experiment 1 Gates:\n",
            "[cirq.ISWAP, cirq.CNOT, cirq.ZZ]\n",
            "\n",
            "Experiment 2 Gates:\n",
            "[cirq.SWAP, cirq.SWAP]\n",
            "\n",
            "Experiment 3 Gates:\n",
            "[cirq.ISWAP, cirq.XX, cirq.SWAP]\n",
            "\n",
            "Experiment 4 Gates:\n",
            "[cirq.YY, cirq.XX, cirq.CZ]\n",
            "\n",
            "Experiment 5 Gates:\n",
            "[cirq.SWAP]\n",
            "\n"
          ]
        }
      ]
    },
    {
      "cell_type": "markdown",
      "source": [
        "###Load Dataset"
      ],
      "metadata": {
        "id": "muRPuaO3S4EZ"
      }
    },
    {
      "cell_type": "code",
      "source": [
        "from os import listdir\n",
        "import cv2\n",
        "from tensorflow.keras.utils import img_to_array\n",
        "paths = '/content/tele'\n",
        "imagePaths = [paths +'/' + f for f in listdir('/content/tele')]\n",
        "data = []\n",
        "labels = []\n",
        "\n",
        "imagePaths = sorted(list(imagePaths))\n",
        "print(imagePaths)\n",
        "\n",
        "# loop over the input images\n",
        "for imagePath in imagePaths:\n",
        "    # load the image, pre-process it, and store it in the data list\n",
        "    image = cv2.imread(imagePath)\n",
        "    image = cv2.resize(image, (28, 28))\n",
        "    image = img_to_array(image)\n",
        "    data.append(image)\n",
        "\n",
        "    if 'hb_' in imagePath:\n",
        "      labels.append(0)\n",
        "    else:\n",
        "      labels.append(1)\n",
        "\n",
        "data = numpy.array(data, dtype=\"float\") / 255.0\n",
        "print(data)\n",
        "print(data.shape)"
      ],
      "metadata": {
        "colab": {
          "base_uri": "https://localhost:8080/"
        },
        "id": "Ce7ufFJ6IaQ6",
        "outputId": "a05db3d8-41aa-47b6-888c-d9cc74a15b84"
      },
      "execution_count": 53,
      "outputs": [
        {
          "output_type": "stream",
          "name": "stdout",
          "text": [
            "['/content/tele/hb_1.bmp', '/content/tele/hb_10.bmp', '/content/tele/hb_11.bmp', '/content/tele/hb_12.bmp', '/content/tele/hb_13.bmp', '/content/tele/hb_14.bmp', '/content/tele/hb_15.bmp', '/content/tele/hb_16.bmp', '/content/tele/hb_17.bmp', '/content/tele/hb_18.bmp', '/content/tele/hb_19.bmp', '/content/tele/hb_2.bmp', '/content/tele/hb_20.bmp', '/content/tele/hb_3.bmp', '/content/tele/hb_4.bmp', '/content/tele/hb_5.bmp', '/content/tele/hb_6.bmp', '/content/tele/hb_7.bmp', '/content/tele/hb_8.bmp', '/content/tele/hb_9.bmp', '/content/tele/jw_1.bmp', '/content/tele/jw_10.bmp', '/content/tele/jw_11.bmp', '/content/tele/jw_12.bmp', '/content/tele/jw_13.bmp', '/content/tele/jw_14.bmp', '/content/tele/jw_15.bmp', '/content/tele/jw_16.bmp', '/content/tele/jw_17.bmp', '/content/tele/jw_18.bmp', '/content/tele/jw_19.bmp', '/content/tele/jw_2.bmp', '/content/tele/jw_20.bmp', '/content/tele/jw_3.bmp', '/content/tele/jw_4.bmp', '/content/tele/jw_5.bmp', '/content/tele/jw_6.bmp', '/content/tele/jw_7.bmp', '/content/tele/jw_8.bmp', '/content/tele/jw_9.bmp']\n",
            "[[[[0.25098039 0.25098039 0.37647059]\n",
            "   [0.25098039 0.25098039 0.25098039]\n",
            "   [0.25098039 0.25098039 0.25098039]\n",
            "   ...\n",
            "   [0.50196078 0.37647059 0.37647059]\n",
            "   [0.50196078 0.37647059 0.37647059]\n",
            "   [0.50196078 0.37647059 0.50196078]]\n",
            "\n",
            "  [[0.50196078 0.25098039 0.37647059]\n",
            "   [0.50196078 0.25098039 0.37647059]\n",
            "   [0.50196078 0.25098039 0.37647059]\n",
            "   ...\n",
            "   [0.50196078 0.25098039 0.37647059]\n",
            "   [0.50196078 0.37647059 0.37647059]\n",
            "   [0.50196078 0.37647059 0.37647059]]\n",
            "\n",
            "  [[0.50196078 0.25098039 0.37647059]\n",
            "   [0.50196078 0.25098039 0.37647059]\n",
            "   [0.50196078 0.25098039 0.37647059]\n",
            "   ...\n",
            "   [0.50196078 0.25098039 0.37647059]\n",
            "   [0.50196078 0.37647059 0.37647059]\n",
            "   [0.50196078 0.25098039 0.37647059]]\n",
            "\n",
            "  ...\n",
            "\n",
            "  [[0.25098039 0.25098039 0.25098039]\n",
            "   [0.50196078 0.25098039 0.25098039]\n",
            "   [0.50196078 0.25098039 0.37647059]\n",
            "   ...\n",
            "   [0.50196078 0.25098039 0.25098039]\n",
            "   [0.50196078 0.25098039 0.25098039]\n",
            "   [0.50196078 0.25098039 0.25098039]]\n",
            "\n",
            "  [[0.50196078 0.25098039 0.25098039]\n",
            "   [0.50196078 0.25098039 0.37647059]\n",
            "   [0.50196078 0.37647059 0.37647059]\n",
            "   ...\n",
            "   [0.50196078 0.37647059 0.37647059]\n",
            "   [0.50196078 0.37647059 0.37647059]\n",
            "   [0.50196078 0.25098039 0.25098039]]\n",
            "\n",
            "  [[0.50196078 0.25098039 0.37647059]\n",
            "   [0.50196078 0.25098039 0.37647059]\n",
            "   [0.50196078 0.25098039 0.37647059]\n",
            "   ...\n",
            "   [0.50196078 0.37647059 0.37647059]\n",
            "   [0.50196078 0.37647059 0.37647059]\n",
            "   [0.50196078 0.37647059 0.25098039]]]\n",
            "\n",
            "\n",
            " [[[0.75294118 0.50196078 0.25098039]\n",
            "   [0.75294118 0.50196078 0.37647059]\n",
            "   [0.75294118 0.50196078 0.37647059]\n",
            "   ...\n",
            "   [0.25098039 0.25098039 0.50196078]\n",
            "   [0.25098039 0.25098039 0.50196078]\n",
            "   [0.25098039 0.25098039 0.50196078]]\n",
            "\n",
            "  [[0.75294118 0.50196078 0.37647059]\n",
            "   [0.75294118 0.62745098 0.37647059]\n",
            "   [0.75294118 0.62745098 0.37647059]\n",
            "   ...\n",
            "   [0.         0.1254902  0.25098039]\n",
            "   [0.25098039 0.1254902  0.25098039]\n",
            "   [0.25098039 0.1254902  0.37647059]]\n",
            "\n",
            "  [[0.75294118 0.50196078 0.25098039]\n",
            "   [0.75294118 0.62745098 0.37647059]\n",
            "   [0.75294118 0.62745098 0.37647059]\n",
            "   ...\n",
            "   [0.25098039 0.1254902  0.25098039]\n",
            "   [0.25098039 0.1254902  0.25098039]\n",
            "   [0.         0.1254902  0.25098039]]\n",
            "\n",
            "  ...\n",
            "\n",
            "  [[0.75294118 0.50196078 0.37647059]\n",
            "   [0.50196078 0.50196078 0.25098039]\n",
            "   [0.75294118 0.50196078 0.25098039]\n",
            "   ...\n",
            "   [0.         0.1254902  0.25098039]\n",
            "   [0.         0.1254902  0.25098039]\n",
            "   [0.         0.1254902  0.25098039]]\n",
            "\n",
            "  [[0.50196078 0.50196078 0.25098039]\n",
            "   [0.50196078 0.50196078 0.25098039]\n",
            "   [0.75294118 0.50196078 0.25098039]\n",
            "   ...\n",
            "   [0.         0.1254902  0.25098039]\n",
            "   [0.         0.1254902  0.25098039]\n",
            "   [0.         0.1254902  0.25098039]]\n",
            "\n",
            "  [[0.50196078 0.50196078 0.25098039]\n",
            "   [0.50196078 0.50196078 0.25098039]\n",
            "   [0.75294118 0.50196078 0.25098039]\n",
            "   ...\n",
            "   [0.         0.1254902  0.25098039]\n",
            "   [0.         0.1254902  0.25098039]\n",
            "   [0.         0.1254902  0.25098039]]]\n",
            "\n",
            "\n",
            " [[[0.25098039 0.50196078 0.50196078]\n",
            "   [0.25098039 0.37647059 0.50196078]\n",
            "   [0.25098039 0.37647059 0.50196078]\n",
            "   ...\n",
            "   [0.50196078 0.50196078 0.37647059]\n",
            "   [0.50196078 0.50196078 0.37647059]\n",
            "   [0.50196078 0.37647059 0.37647059]]\n",
            "\n",
            "  [[0.25098039 0.50196078 0.62745098]\n",
            "   [0.25098039 0.50196078 0.50196078]\n",
            "   [0.25098039 0.50196078 0.50196078]\n",
            "   ...\n",
            "   [0.50196078 0.50196078 0.37647059]\n",
            "   [0.50196078 0.37647059 0.37647059]\n",
            "   [0.50196078 0.37647059 0.37647059]]\n",
            "\n",
            "  [[0.25098039 0.50196078 0.62745098]\n",
            "   [0.25098039 0.50196078 0.62745098]\n",
            "   [0.25098039 0.50196078 0.62745098]\n",
            "   ...\n",
            "   [0.50196078 0.50196078 0.37647059]\n",
            "   [0.50196078 0.37647059 0.37647059]\n",
            "   [0.50196078 0.37647059 0.37647059]]\n",
            "\n",
            "  ...\n",
            "\n",
            "  [[0.25098039 0.25098039 0.37647059]\n",
            "   [0.25098039 0.25098039 0.37647059]\n",
            "   [0.25098039 0.25098039 0.37647059]\n",
            "   ...\n",
            "   [0.25098039 0.25098039 0.37647059]\n",
            "   [0.25098039 0.25098039 0.37647059]\n",
            "   [0.25098039 0.25098039 0.37647059]]\n",
            "\n",
            "  [[0.25098039 0.25098039 0.37647059]\n",
            "   [0.25098039 0.25098039 0.37647059]\n",
            "   [0.25098039 0.25098039 0.37647059]\n",
            "   ...\n",
            "   [0.25098039 0.25098039 0.37647059]\n",
            "   [0.25098039 0.25098039 0.37647059]\n",
            "   [0.25098039 0.25098039 0.37647059]]\n",
            "\n",
            "  [[0.25098039 0.25098039 0.37647059]\n",
            "   [0.25098039 0.25098039 0.37647059]\n",
            "   [0.25098039 0.25098039 0.37647059]\n",
            "   ...\n",
            "   [0.25098039 0.25098039 0.37647059]\n",
            "   [0.25098039 0.25098039 0.37647059]\n",
            "   [0.25098039 0.25098039 0.37647059]]]\n",
            "\n",
            "\n",
            " ...\n",
            "\n",
            "\n",
            " [[[0.25098039 0.1254902  0.1254902 ]\n",
            "   [0.25098039 0.25098039 0.25098039]\n",
            "   [0.25098039 0.25098039 0.25098039]\n",
            "   ...\n",
            "   [0.25098039 0.37647059 0.37647059]\n",
            "   [0.25098039 0.37647059 0.37647059]\n",
            "   [0.25098039 0.37647059 0.37647059]]\n",
            "\n",
            "  [[0.25098039 0.25098039 0.25098039]\n",
            "   [0.25098039 0.1254902  0.25098039]\n",
            "   [0.25098039 0.25098039 0.25098039]\n",
            "   ...\n",
            "   [0.64313725 0.62745098 0.62745098]\n",
            "   [0.25098039 0.37647059 0.37647059]\n",
            "   [0.25098039 0.37647059 0.37647059]]\n",
            "\n",
            "  [[0.25098039 0.1254902  0.1254902 ]\n",
            "   [0.25098039 0.1254902  0.25098039]\n",
            "   [0.25098039 0.25098039 0.25098039]\n",
            "   ...\n",
            "   [0.75294118 0.75294118 0.75294118]\n",
            "   [0.25098039 0.37647059 0.37647059]\n",
            "   [0.25098039 0.25098039 0.25098039]]\n",
            "\n",
            "  ...\n",
            "\n",
            "  [[0.25098039 0.25098039 0.50196078]\n",
            "   [0.25098039 0.50196078 0.62745098]\n",
            "   [0.25098039 0.62745098 0.75294118]\n",
            "   ...\n",
            "   [0.50196078 0.75294118 0.87843137]\n",
            "   [0.50196078 0.62745098 0.87843137]\n",
            "   [0.25098039 0.50196078 0.75294118]]\n",
            "\n",
            "  [[0.         0.25098039 0.37647059]\n",
            "   [0.25098039 0.37647059 0.62745098]\n",
            "   [0.25098039 0.62745098 0.87843137]\n",
            "   ...\n",
            "   [0.50196078 0.75294118 0.87843137]\n",
            "   [0.50196078 0.75294118 0.87843137]\n",
            "   [0.50196078 0.62745098 0.87843137]]\n",
            "\n",
            "  [[0.25098039 0.25098039 0.50196078]\n",
            "   [0.25098039 0.50196078 0.75294118]\n",
            "   [0.25098039 0.75294118 0.87843137]\n",
            "   ...\n",
            "   [0.50196078 0.75294118 0.87843137]\n",
            "   [0.25098039 0.62745098 0.87843137]\n",
            "   [0.25098039 0.50196078 0.75294118]]]\n",
            "\n",
            "\n",
            " [[[0.25098039 0.25098039 0.37647059]\n",
            "   [0.         0.1254902  0.25098039]\n",
            "   [0.25098039 0.37647059 0.37647059]\n",
            "   ...\n",
            "   [0.25098039 0.25098039 0.25098039]\n",
            "   [0.         0.1254902  0.25098039]\n",
            "   [0.25098039 0.25098039 0.37647059]]\n",
            "\n",
            "  [[0.25098039 0.25098039 0.37647059]\n",
            "   [0.25098039 0.25098039 0.37647059]\n",
            "   [0.25098039 0.37647059 0.37647059]\n",
            "   ...\n",
            "   [0.25098039 0.1254902  0.1254902 ]\n",
            "   [0.25098039 0.25098039 0.25098039]\n",
            "   [0.25098039 0.37647059 0.50196078]]\n",
            "\n",
            "  [[0.25098039 0.25098039 0.25098039]\n",
            "   [0.25098039 0.25098039 0.25098039]\n",
            "   [0.25098039 0.1254902  0.1254902 ]\n",
            "   ...\n",
            "   [0.25098039 0.1254902  0.1254902 ]\n",
            "   [0.25098039 0.25098039 0.25098039]\n",
            "   [0.25098039 0.25098039 0.37647059]]\n",
            "\n",
            "  ...\n",
            "\n",
            "  [[0.         0.         0.        ]\n",
            "   [0.         0.         0.        ]\n",
            "   [0.         0.         0.        ]\n",
            "   ...\n",
            "   [0.25098039 0.1254902  0.25098039]\n",
            "   [0.         0.         0.        ]\n",
            "   [0.         0.         0.        ]]\n",
            "\n",
            "  [[0.25098039 0.1254902  0.1254902 ]\n",
            "   [0.25098039 0.1254902  0.1254902 ]\n",
            "   [0.25098039 0.1254902  0.1254902 ]\n",
            "   ...\n",
            "   [0.         0.1254902  0.25098039]\n",
            "   [0.         0.         0.        ]\n",
            "   [0.         0.         0.        ]]\n",
            "\n",
            "  [[0.25098039 0.25098039 0.25098039]\n",
            "   [0.25098039 0.25098039 0.25098039]\n",
            "   [0.25098039 0.25098039 0.25098039]\n",
            "   ...\n",
            "   [0.25098039 0.1254902  0.1254902 ]\n",
            "   [0.25098039 0.1254902  0.1254902 ]\n",
            "   [0.         0.         0.        ]]]\n",
            "\n",
            "\n",
            " [[[0.25098039 0.25098039 0.1254902 ]\n",
            "   [0.25098039 0.25098039 0.        ]\n",
            "   [0.25098039 0.25098039 0.1254902 ]\n",
            "   ...\n",
            "   [0.50196078 0.37647059 0.1254902 ]\n",
            "   [0.50196078 0.37647059 0.1254902 ]\n",
            "   [0.50196078 0.37647059 0.25098039]]\n",
            "\n",
            "  [[0.25098039 0.25098039 0.1254902 ]\n",
            "   [0.50196078 0.25098039 0.        ]\n",
            "   [0.50196078 0.25098039 0.        ]\n",
            "   ...\n",
            "   [0.50196078 0.37647059 0.1254902 ]\n",
            "   [0.50196078 0.37647059 0.1254902 ]\n",
            "   [0.50196078 0.37647059 0.1254902 ]]\n",
            "\n",
            "  [[0.25098039 0.25098039 0.1254902 ]\n",
            "   [0.50196078 0.25098039 0.        ]\n",
            "   [0.50196078 0.25098039 0.        ]\n",
            "   ...\n",
            "   [0.50196078 0.37647059 0.1254902 ]\n",
            "   [0.50196078 0.50196078 0.25098039]\n",
            "   [0.50196078 0.50196078 0.25098039]]\n",
            "\n",
            "  ...\n",
            "\n",
            "  [[0.25098039 0.25098039 0.25098039]\n",
            "   [0.25098039 0.1254902  0.1254902 ]\n",
            "   [0.25098039 0.25098039 0.25098039]\n",
            "   ...\n",
            "   [0.50196078 0.37647059 0.37647059]\n",
            "   [0.25098039 0.25098039 0.1254902 ]\n",
            "   [0.25098039 0.25098039 0.        ]]\n",
            "\n",
            "  [[0.25098039 0.25098039 0.25098039]\n",
            "   [0.25098039 0.25098039 0.25098039]\n",
            "   [0.25098039 0.25098039 0.25098039]\n",
            "   ...\n",
            "   [0.50196078 0.50196078 0.37647059]\n",
            "   [0.50196078 0.25098039 0.1254902 ]\n",
            "   [0.50196078 0.25098039 0.1254902 ]]\n",
            "\n",
            "  [[0.25098039 0.25098039 0.25098039]\n",
            "   [0.25098039 0.25098039 0.25098039]\n",
            "   [0.25098039 0.25098039 0.25098039]\n",
            "   ...\n",
            "   [0.25098039 0.37647059 0.25098039]\n",
            "   [0.25098039 0.25098039 0.1254902 ]\n",
            "   [0.50196078 0.25098039 0.1254902 ]]]]\n",
            "(40, 28, 28, 3)\n"
          ]
        }
      ]
    },
    {
      "cell_type": "code",
      "source": [
        "### establish dataset, here the MNIST numerical yada-yada\n",
        "\n",
        "# 1. import mnist digits\n",
        "# (x_train, y_train), (x_test, y_test) = tensorflow.keras.datasets.mnist.load_data()\n",
        "\n",
        "# 2. rescale images to [0 - 1]\n",
        "# x_train, x_test = x_train[..., numpy.newaxis]/255.0, x_test[..., numpy.newaxis]/255.0\n",
        "\n",
        "# 3. quantum experiment is binary classification, so only keep two classes/digit examples\n",
        "# x_train, y_train = binary_filter(x_train, y_train)\n",
        "# x_test, y_test = binary_filter(x_test, y_test)\n",
        "\n",
        "x_train = data\n",
        "x_test = data\n",
        "y_train = labels\n",
        "y_test = labels\n",
        "\n",
        "# 4. resize image\n",
        "x_train_small = tensorflow.image.resize(x_train, (4,4)).numpy()\n",
        "x_test_small = tensorflow.image.resize(x_test, (4,4)).numpy()\n",
        "\n",
        "# 5. convert circuit pixels/cells into individual qubits\n",
        "x_train_circ = [convert_to_circuit(x) for x in x_train_small]\n",
        "x_test_circ = [convert_to_circuit(x) for x in x_test_small]\n",
        "\n",
        "# 6. convert to qubit imagery into tensors\n",
        "x_train_tfcirc = tensorflow_quantum.convert_to_tensor(x_train_circ)\n",
        "x_test_tfcirc = tensorflow_quantum.convert_to_tensor(x_test_circ)"
      ],
      "metadata": {
        "id": "vHHqySURQyHH",
        "colab": {
          "base_uri": "https://localhost:8080/",
          "height": 364
        },
        "outputId": "c0c03361-fb3d-432e-b566-4f6a471a0d6c"
      },
      "execution_count": 54,
      "outputs": [
        {
          "output_type": "error",
          "ename": "IndexError",
          "evalue": "ignored",
          "traceback": [
            "\u001b[0;31m---------------------------------------------------------------------------\u001b[0m",
            "\u001b[0;31mIndexError\u001b[0m                                Traceback (most recent call last)",
            "\u001b[0;32m<ipython-input-54-ffb4e83eb126>\u001b[0m in \u001b[0;36m<module>\u001b[0;34m()\u001b[0m\n\u001b[1;32m     21\u001b[0m \u001b[0;34m\u001b[0m\u001b[0m\n\u001b[1;32m     22\u001b[0m \u001b[0;31m# 5. convert circuit pixels/cells into individual qubits\u001b[0m\u001b[0;34m\u001b[0m\u001b[0;34m\u001b[0m\u001b[0;34m\u001b[0m\u001b[0m\n\u001b[0;32m---> 23\u001b[0;31m \u001b[0mx_train_circ\u001b[0m \u001b[0;34m=\u001b[0m \u001b[0;34m[\u001b[0m\u001b[0mconvert_to_circuit\u001b[0m\u001b[0;34m(\u001b[0m\u001b[0mx\u001b[0m\u001b[0;34m)\u001b[0m \u001b[0;32mfor\u001b[0m \u001b[0mx\u001b[0m \u001b[0;32min\u001b[0m \u001b[0mx_train_small\u001b[0m\u001b[0;34m]\u001b[0m\u001b[0;34m\u001b[0m\u001b[0;34m\u001b[0m\u001b[0m\n\u001b[0m\u001b[1;32m     24\u001b[0m \u001b[0mx_test_circ\u001b[0m \u001b[0;34m=\u001b[0m \u001b[0;34m[\u001b[0m\u001b[0mconvert_to_circuit\u001b[0m\u001b[0;34m(\u001b[0m\u001b[0mx\u001b[0m\u001b[0;34m)\u001b[0m \u001b[0;32mfor\u001b[0m \u001b[0mx\u001b[0m \u001b[0;32min\u001b[0m \u001b[0mx_test_small\u001b[0m\u001b[0;34m]\u001b[0m\u001b[0;34m\u001b[0m\u001b[0;34m\u001b[0m\u001b[0m\n\u001b[1;32m     25\u001b[0m \u001b[0;34m\u001b[0m\u001b[0m\n",
            "\u001b[0;32m<ipython-input-54-ffb4e83eb126>\u001b[0m in \u001b[0;36m<listcomp>\u001b[0;34m(.0)\u001b[0m\n\u001b[1;32m     21\u001b[0m \u001b[0;34m\u001b[0m\u001b[0m\n\u001b[1;32m     22\u001b[0m \u001b[0;31m# 5. convert circuit pixels/cells into individual qubits\u001b[0m\u001b[0;34m\u001b[0m\u001b[0;34m\u001b[0m\u001b[0;34m\u001b[0m\u001b[0m\n\u001b[0;32m---> 23\u001b[0;31m \u001b[0mx_train_circ\u001b[0m \u001b[0;34m=\u001b[0m \u001b[0;34m[\u001b[0m\u001b[0mconvert_to_circuit\u001b[0m\u001b[0;34m(\u001b[0m\u001b[0mx\u001b[0m\u001b[0;34m)\u001b[0m \u001b[0;32mfor\u001b[0m \u001b[0mx\u001b[0m \u001b[0;32min\u001b[0m \u001b[0mx_train_small\u001b[0m\u001b[0;34m]\u001b[0m\u001b[0;34m\u001b[0m\u001b[0;34m\u001b[0m\u001b[0m\n\u001b[0m\u001b[1;32m     24\u001b[0m \u001b[0mx_test_circ\u001b[0m \u001b[0;34m=\u001b[0m \u001b[0;34m[\u001b[0m\u001b[0mconvert_to_circuit\u001b[0m\u001b[0;34m(\u001b[0m\u001b[0mx\u001b[0m\u001b[0;34m)\u001b[0m \u001b[0;32mfor\u001b[0m \u001b[0mx\u001b[0m \u001b[0;32min\u001b[0m \u001b[0mx_test_small\u001b[0m\u001b[0;34m]\u001b[0m\u001b[0;34m\u001b[0m\u001b[0;34m\u001b[0m\u001b[0m\n\u001b[1;32m     25\u001b[0m \u001b[0;34m\u001b[0m\u001b[0m\n",
            "\u001b[0;32m<ipython-input-49-38778ea27f30>\u001b[0m in \u001b[0;36mconvert_to_circuit\u001b[0;34m(image)\u001b[0m\n\u001b[1;32m     12\u001b[0m     \u001b[0;32mfor\u001b[0m \u001b[0mi\u001b[0m\u001b[0;34m,\u001b[0m \u001b[0mvalue\u001b[0m \u001b[0;32min\u001b[0m \u001b[0menumerate\u001b[0m\u001b[0;34m(\u001b[0m\u001b[0mvalues\u001b[0m\u001b[0;34m)\u001b[0m\u001b[0;34m:\u001b[0m\u001b[0;34m\u001b[0m\u001b[0;34m\u001b[0m\u001b[0m\n\u001b[1;32m     13\u001b[0m         \u001b[0;32mif\u001b[0m \u001b[0mvalue\u001b[0m\u001b[0;34m:\u001b[0m\u001b[0;34m\u001b[0m\u001b[0;34m\u001b[0m\u001b[0m\n\u001b[0;32m---> 14\u001b[0;31m             \u001b[0mcircuit\u001b[0m\u001b[0;34m.\u001b[0m\u001b[0mappend\u001b[0m\u001b[0;34m(\u001b[0m\u001b[0mcirq\u001b[0m\u001b[0;34m.\u001b[0m\u001b[0mX\u001b[0m\u001b[0;34m(\u001b[0m\u001b[0mqubits\u001b[0m\u001b[0;34m[\u001b[0m\u001b[0mi\u001b[0m\u001b[0;34m]\u001b[0m\u001b[0;34m)\u001b[0m\u001b[0;34m)\u001b[0m\u001b[0;34m\u001b[0m\u001b[0;34m\u001b[0m\u001b[0m\n\u001b[0m\u001b[1;32m     15\u001b[0m     \u001b[0;32mreturn\u001b[0m \u001b[0mcircuit\u001b[0m\u001b[0;34m\u001b[0m\u001b[0;34m\u001b[0m\u001b[0m\n",
            "\u001b[0;31mIndexError\u001b[0m: list index out of range"
          ]
        }
      ]
    },
    {
      "cell_type": "code",
      "source": [
        "x_train[0]"
      ],
      "metadata": {
        "id": "RmscItoGA2Q0"
      },
      "execution_count": null,
      "outputs": []
    },
    {
      "cell_type": "markdown",
      "source": [
        "###Tensorflow quantum network"
      ],
      "metadata": {
        "id": "e672kQ6BTFgn"
      }
    },
    {
      "cell_type": "code",
      "source": [
        "### tensorflow callbacks, here specifically garbage collection as to reduce memory load below colab free tier\n",
        "class mem_release(tensorflow.keras.callbacks.Callback):\n",
        "    def on_epoch_end(self, epoch, logs=None):\n",
        "        gc.collect()"
      ],
      "metadata": {
        "id": "UsvRncZpRsSN"
      },
      "execution_count": null,
      "outputs": []
    },
    {
      "cell_type": "code",
      "source": [
        "### tensorflow quantum experimental gate combinatorial iterator \n",
        "\n",
        "# keep track of experiment conditions and results\n",
        "experiment_count = 0\n",
        "experiment_log = {}\n",
        "\n",
        "\n",
        "for gates in experiment_design:\n",
        "  for gridSize_int in experiment_grid_sizes:\n",
        "\n",
        "\n",
        "    # initialize quantum circuit\n",
        "    model_circuit, model_readout = create_quantum_model(gridSize_int, gates)\n",
        "\n",
        "\n",
        "    # build tf model\n",
        "    model = tensorflow.keras.Sequential([\n",
        "        \n",
        "        # input data circuit as tf.string\n",
        "        tensorflow.keras.layers.Input(shape=(), dtype=tensorflow.string),\n",
        "\n",
        "        # parameterized quantum circuit\n",
        "        tensorflow_quantum.layers.PQC(model_circuit, model_readout),])\n",
        "\n",
        "\n",
        "    # compile model and determine loss / optimizer approach, for this introductory we'll focus on memory\n",
        "    model.compile(\n",
        "\n",
        "        # loss, mean square error\n",
        "        loss=tensorflow.keras.losses.binary_crossentropy,\n",
        "\n",
        "        # optimizer, Adam with specifiable learning rate\n",
        "        optimizer=tensorflow.keras.optimizers.Adam(learning_rate=ADAM_OPTIMIZER_LEARNING_RATE),\n",
        "      \n",
        "        # metrics, accuracy\n",
        "        metrics=[tensorflow.keras.metrics.Accuracy()]\n",
        "      )\n",
        "    \n",
        "    # display model parameters\n",
        "    print(''); print(''.join(str(gates))); print(model.summary())\n",
        "\n",
        "    # train model for experiment, define training and validation populations, callbacks ect.\n",
        "    experiment_history = model.fit(\n",
        "        x_train_tfcirc,\n",
        "        y_train,\n",
        "        batch_size=BATCH_SIZE,\n",
        "        epochs=EPOCHS,\n",
        "        verbose=1,\n",
        "        callbacks=[mem_release()],\n",
        "        validation_data=(x_test_tfcirc, y_test)\n",
        "        )\n",
        "\n",
        "    # after training, evaluate final model representation against test set\n",
        "    experiment_results = model.evaluate(x_test_tfcirc, y_test)\n",
        "\n",
        "    # record experiment\n",
        "    experiment_count += 1\n",
        "    experiment_log[experiment_count] = {'circuit' : model_circuit       \n",
        "                                       ,'gates'   : gates\n",
        "                                       ,'history' : experiment_history\n",
        "                                       ,'results' : experiment_results }\n",
        "    "
      ],
      "metadata": {
        "id": "dPcJoEuGGgoN"
      },
      "execution_count": null,
      "outputs": []
    },
    {
      "cell_type": "markdown",
      "source": [
        "##Circuit #1 - design and results"
      ],
      "metadata": {
        "id": "qqdz8mIe34KG"
      }
    },
    {
      "cell_type": "code",
      "source": [
        "SVGCircuit(experiment_reveal(experiment_log, 1))"
      ],
      "metadata": {
        "id": "Tx7EhD4J2cEg"
      },
      "execution_count": null,
      "outputs": []
    },
    {
      "cell_type": "markdown",
      "source": [
        "##Circuit #2 - design and results"
      ],
      "metadata": {
        "id": "_B8KZu4-4IYN"
      }
    },
    {
      "cell_type": "code",
      "source": [
        "SVGCircuit(experiment_reveal(experiment_log, 2))"
      ],
      "metadata": {
        "id": "m5sbC9cG4IYS"
      },
      "execution_count": null,
      "outputs": []
    },
    {
      "cell_type": "markdown",
      "source": [
        "##Circuit #3 - design and results"
      ],
      "metadata": {
        "id": "fYv35ZI44aMk"
      }
    },
    {
      "cell_type": "code",
      "source": [
        "SVGCircuit(experiment_reveal(experiment_log, 3))"
      ],
      "metadata": {
        "id": "RbV0WgAU4aMp"
      },
      "execution_count": null,
      "outputs": []
    },
    {
      "cell_type": "markdown",
      "source": [
        "##Circuit #4 - design and results"
      ],
      "metadata": {
        "id": "svRcWAjn45ZQ"
      }
    },
    {
      "cell_type": "code",
      "source": [
        "SVGCircuit(experiment_reveal(experiment_log, 4))"
      ],
      "metadata": {
        "id": "7xoCWr3a45ZU"
      },
      "execution_count": null,
      "outputs": []
    },
    {
      "cell_type": "markdown",
      "source": [
        "##Circuit #5 - design and results"
      ],
      "metadata": {
        "id": "sDBay62S5Km9"
      }
    },
    {
      "cell_type": "code",
      "source": [
        "SVGCircuit(experiment_reveal(experiment_log, 5))"
      ],
      "metadata": {
        "id": "D0nACPi55KnC"
      },
      "execution_count": null,
      "outputs": []
    },
    {
      "cell_type": "markdown",
      "source": [
        "##Circuit #6 - design and results"
      ],
      "metadata": {
        "id": "MtyRVZkD5X5O"
      }
    },
    {
      "cell_type": "code",
      "source": [
        "SVGCircuit(experiment_reveal(experiment_log, 6))"
      ],
      "metadata": {
        "id": "OJ7521sc5X5T"
      },
      "execution_count": null,
      "outputs": []
    },
    {
      "cell_type": "markdown",
      "source": [
        "##Circuit #7 - design and results"
      ],
      "metadata": {
        "id": "zvP9Tzd65kec"
      }
    },
    {
      "cell_type": "code",
      "source": [
        "SVGCircuit(experiment_reveal(experiment_log, 7))"
      ],
      "metadata": {
        "id": "Cf-XNQ-G5keh"
      },
      "execution_count": null,
      "outputs": []
    },
    {
      "cell_type": "markdown",
      "source": [
        "##Circuit #8 - design and results"
      ],
      "metadata": {
        "id": "b7iWeAiR53pm"
      }
    },
    {
      "cell_type": "code",
      "source": [
        "SVGCircuit(experiment_reveal(experiment_log, 8))"
      ],
      "metadata": {
        "id": "qtBk5DPx53ps"
      },
      "execution_count": null,
      "outputs": []
    },
    {
      "cell_type": "markdown",
      "source": [
        "##Circuit #9 - design and results"
      ],
      "metadata": {
        "id": "AZHzNo1t6U7C"
      }
    },
    {
      "cell_type": "code",
      "source": [
        "SVGCircuit(experiment_reveal(experiment_log, 9))"
      ],
      "metadata": {
        "id": "DzGdRmRU6U7H"
      },
      "execution_count": null,
      "outputs": []
    },
    {
      "cell_type": "markdown",
      "source": [
        "##Circuit #10 - design and results"
      ],
      "metadata": {
        "id": "8glb7BvI6twm"
      }
    },
    {
      "cell_type": "code",
      "source": [
        "SVGCircuit(experiment_reveal(experiment_log, 10))"
      ],
      "metadata": {
        "id": "MMj9DQoT6tws"
      },
      "execution_count": null,
      "outputs": []
    },
    {
      "cell_type": "markdown",
      "source": [
        "##Circuit #11 - design and results"
      ],
      "metadata": {
        "id": "GqSk7Dq2pdEF"
      }
    },
    {
      "cell_type": "code",
      "source": [
        "SVGCircuit(experiment_reveal(experiment_log, 11))"
      ],
      "metadata": {
        "id": "B6pxCMUZ6Ukh"
      },
      "execution_count": null,
      "outputs": []
    },
    {
      "cell_type": "markdown",
      "source": [
        "##Circuit #12 - design and results"
      ],
      "metadata": {
        "id": "nlrANJYxphU6"
      }
    },
    {
      "cell_type": "code",
      "source": [
        "SVGCircuit(experiment_reveal(experiment_log, 12))"
      ],
      "metadata": {
        "id": "uqB59fR39LZU"
      },
      "execution_count": null,
      "outputs": []
    },
    {
      "cell_type": "markdown",
      "source": [
        "##Circuit #13 - design and results"
      ],
      "metadata": {
        "id": "ViKdyp0ypjUV"
      }
    },
    {
      "cell_type": "code",
      "source": [
        "SVGCircuit(experiment_reveal(experiment_log, 13))"
      ],
      "metadata": {
        "id": "LKHgPV_J9LiP"
      },
      "execution_count": null,
      "outputs": []
    },
    {
      "cell_type": "markdown",
      "source": [
        "##Circuit #14 - design and results"
      ],
      "metadata": {
        "id": "agbzo32vpl8H"
      }
    },
    {
      "cell_type": "code",
      "source": [
        "SVGCircuit(experiment_reveal(experiment_log, 14))"
      ],
      "metadata": {
        "id": "wM_oF6YO9Lr8"
      },
      "execution_count": null,
      "outputs": []
    },
    {
      "cell_type": "markdown",
      "source": [
        "##Circuit #15 - design and results"
      ],
      "metadata": {
        "id": "sM3rsi4DpoOd"
      }
    },
    {
      "cell_type": "code",
      "source": [
        "SVGCircuit(experiment_reveal(experiment_log, 14))"
      ],
      "metadata": {
        "id": "P5Bz--AU9LzH"
      },
      "execution_count": null,
      "outputs": []
    }
  ]
}